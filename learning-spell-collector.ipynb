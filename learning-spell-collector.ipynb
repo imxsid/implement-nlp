{
 "cells": [
  {
   "cell_type": "markdown",
   "id": "11b43856",
   "metadata": {
    "papermill": {
     "duration": 0.023026,
     "end_time": "2022-01-07T07:39:45.596061",
     "exception": false,
     "start_time": "2022-01-07T07:39:45.573035",
     "status": "completed"
    },
    "tags": []
   },
   "source": [
    "* [Importing Libraries](#importing)\n",
    "* [Tokenise Words](#tokenise)"
   ]
  },
  {
   "cell_type": "markdown",
   "id": "e12401a7",
   "metadata": {
    "papermill": {
     "duration": 0.021426,
     "end_time": "2022-01-07T07:39:45.639732",
     "exception": false,
     "start_time": "2022-01-07T07:39:45.618306",
     "status": "completed"
    },
    "tags": []
   },
   "source": [
    "## <font color='#4a8bad'>Importing Libraries</font>\n",
    "***\n",
    "<a id=\"importing\"></a>"
   ]
  },
  {
   "cell_type": "code",
   "execution_count": 1,
   "id": "9d2cbf0e",
   "metadata": {
    "execution": {
     "iopub.execute_input": "2022-01-07T07:39:45.692313Z",
     "iopub.status.busy": "2022-01-07T07:39:45.691686Z",
     "iopub.status.idle": "2022-01-07T07:39:45.699681Z",
     "shell.execute_reply": "2022-01-07T07:39:45.698952Z",
     "shell.execute_reply.started": "2022-01-07T07:24:45.680865Z"
    },
    "papermill": {
     "duration": 0.038407,
     "end_time": "2022-01-07T07:39:45.699836",
     "exception": false,
     "start_time": "2022-01-07T07:39:45.661429",
     "status": "completed"
    },
    "tags": []
   },
   "outputs": [],
   "source": [
    "import re\n",
    "from collections import Counter"
   ]
  },
  {
   "cell_type": "markdown",
   "id": "8e61bed6",
   "metadata": {
    "papermill": {
     "duration": 0.021464,
     "end_time": "2022-01-07T07:39:45.743409",
     "exception": false,
     "start_time": "2022-01-07T07:39:45.721945",
     "status": "completed"
    },
    "tags": []
   },
   "source": [
    "## <font color='#4a8bad'>Tokenise Words</font>\n",
    "***\n",
    "<a id=\"tokenise\"></a>\n",
    "\n",
    "Convert text to lower case and tokenise the document."
   ]
  },
  {
   "cell_type": "code",
   "execution_count": 2,
   "id": "43a1ceef",
   "metadata": {
    "execution": {
     "iopub.execute_input": "2022-01-07T07:39:45.791322Z",
     "iopub.status.busy": "2022-01-07T07:39:45.790353Z",
     "iopub.status.idle": "2022-01-07T07:39:45.793647Z",
     "shell.execute_reply": "2022-01-07T07:39:45.794115Z",
     "shell.execute_reply.started": "2022-01-07T07:24:45.710320Z"
    },
    "papermill": {
     "duration": 0.029073,
     "end_time": "2022-01-07T07:39:45.794278",
     "exception": false,
     "start_time": "2022-01-07T07:39:45.765205",
     "status": "completed"
    },
    "tags": []
   },
   "outputs": [],
   "source": [
    "def words(document):\n",
    "    return re.findall(r'\\w+', document.lower())"
   ]
  },
  {
   "cell_type": "markdown",
   "id": "f06b5434",
   "metadata": {
    "papermill": {
     "duration": 0.021769,
     "end_time": "2022-01-07T07:39:45.837812",
     "exception": false,
     "start_time": "2022-01-07T07:39:45.816043",
     "status": "completed"
    },
    "tags": []
   },
   "source": [
    "#### <font color='#4a8bad'>Example</font>"
   ]
  },
  {
   "cell_type": "code",
   "execution_count": 3,
   "id": "89ffa637",
   "metadata": {
    "execution": {
     "iopub.execute_input": "2022-01-07T07:39:45.890518Z",
     "iopub.status.busy": "2022-01-07T07:39:45.889703Z",
     "iopub.status.idle": "2022-01-07T07:39:45.893419Z",
     "shell.execute_reply": "2022-01-07T07:39:45.893921Z",
     "shell.execute_reply.started": "2022-01-07T07:24:45.722451Z"
    },
    "papermill": {
     "duration": 0.034356,
     "end_time": "2022-01-07T07:39:45.894082",
     "exception": false,
     "start_time": "2022-01-07T07:39:45.859726",
     "status": "completed"
    },
    "tags": []
   },
   "outputs": [
    {
     "data": {
      "text/plain": [
       "['the', 'monkey', 'was', 'notorious']"
      ]
     },
     "execution_count": 3,
     "metadata": {},
     "output_type": "execute_result"
    }
   ],
   "source": [
    "words(\"The monkey was notorious.\")"
   ]
  },
  {
   "cell_type": "markdown",
   "id": "bda66d5d",
   "metadata": {
    "papermill": {
     "duration": 0.021983,
     "end_time": "2022-01-07T07:39:45.938611",
     "exception": false,
     "start_time": "2022-01-07T07:39:45.916628",
     "status": "completed"
    },
    "tags": []
   },
   "source": [
    "## <font color='#4a8bad'>Words Frequency</font>\n",
    "***\n",
    "<a id=\"frequency\"></a>\n",
    "\n",
    "Create a frequency table of all the words of the document"
   ]
  },
  {
   "cell_type": "code",
   "execution_count": 4,
   "id": "a5b4da40",
   "metadata": {
    "execution": {
     "iopub.execute_input": "2022-01-07T07:39:45.986696Z",
     "iopub.status.busy": "2022-01-07T07:39:45.986071Z",
     "iopub.status.idle": "2022-01-07T07:39:46.728538Z",
     "shell.execute_reply": "2022-01-07T07:39:46.729081Z",
     "shell.execute_reply.started": "2022-01-07T07:24:45.739163Z"
    },
    "papermill": {
     "duration": 0.768148,
     "end_time": "2022-01-07T07:39:46.729246",
     "exception": false,
     "start_time": "2022-01-07T07:39:45.961098",
     "status": "completed"
    },
    "tags": []
   },
   "outputs": [],
   "source": [
    "read_document = open(\"../input/big-txt/big.txt\").read()\n",
    "word_list = words(read_document)\n",
    "all_words = Counter(word_list)"
   ]
  },
  {
   "cell_type": "markdown",
   "id": "c2398c9a",
   "metadata": {
    "papermill": {
     "duration": 0.02203,
     "end_time": "2022-01-07T07:39:46.773574",
     "exception": false,
     "start_time": "2022-01-07T07:39:46.751544",
     "status": "completed"
    },
    "tags": []
   },
   "source": [
    "#### <font color='#4a8bad'>Example</font>"
   ]
  },
  {
   "cell_type": "code",
   "execution_count": 5,
   "id": "ec24dfbe",
   "metadata": {
    "execution": {
     "iopub.execute_input": "2022-01-07T07:39:46.821986Z",
     "iopub.status.busy": "2022-01-07T07:39:46.821265Z",
     "iopub.status.idle": "2022-01-07T07:39:46.826632Z",
     "shell.execute_reply": "2022-01-07T07:39:46.826167Z",
     "shell.execute_reply.started": "2022-01-07T07:24:46.500039Z"
    },
    "papermill": {
     "duration": 0.030996,
     "end_time": "2022-01-07T07:39:46.826786",
     "exception": false,
     "start_time": "2022-01-07T07:39:46.795790",
     "status": "completed"
    },
    "tags": []
   },
   "outputs": [
    {
     "data": {
      "text/plain": [
       "135"
      ]
     },
     "execution_count": 5,
     "metadata": {},
     "output_type": "execute_result"
    }
   ],
   "source": [
    "all_words[\"chair\"]"
   ]
  },
  {
   "cell_type": "markdown",
   "id": "accc8993",
   "metadata": {
    "papermill": {
     "duration": 0.022448,
     "end_time": "2022-01-07T07:39:46.872193",
     "exception": false,
     "start_time": "2022-01-07T07:39:46.849745",
     "status": "completed"
    },
    "tags": []
   },
   "source": [
    "#### <font color='#4a8bad'>Top 10</font>\n",
    "\n",
    "Look at top 10 frequent words"
   ]
  },
  {
   "cell_type": "code",
   "execution_count": 6,
   "id": "429301e8",
   "metadata": {
    "execution": {
     "iopub.execute_input": "2022-01-07T07:39:46.932634Z",
     "iopub.status.busy": "2022-01-07T07:39:46.931657Z",
     "iopub.status.idle": "2022-01-07T07:39:46.935858Z",
     "shell.execute_reply": "2022-01-07T07:39:46.935327Z",
     "shell.execute_reply.started": "2022-01-07T07:24:46.507327Z"
    },
    "papermill": {
     "duration": 0.040902,
     "end_time": "2022-01-07T07:39:46.936064",
     "exception": false,
     "start_time": "2022-01-07T07:39:46.895162",
     "status": "completed"
    },
    "tags": []
   },
   "outputs": [
    {
     "data": {
      "text/plain": [
       "[('the', 79809),\n",
       " ('of', 40024),\n",
       " ('and', 38312),\n",
       " ('to', 28765),\n",
       " ('in', 22023),\n",
       " ('a', 21124),\n",
       " ('that', 12512),\n",
       " ('he', 12401),\n",
       " ('was', 11410),\n",
       " ('it', 10681)]"
      ]
     },
     "execution_count": 6,
     "metadata": {},
     "output_type": "execute_result"
    }
   ],
   "source": [
    "all_words.most_common(10)"
   ]
  },
  {
   "cell_type": "markdown",
   "id": "c81fc507",
   "metadata": {
    "papermill": {
     "duration": 0.023045,
     "end_time": "2022-01-07T07:39:46.982396",
     "exception": false,
     "start_time": "2022-01-07T07:39:46.959351",
     "status": "completed"
    },
    "tags": []
   },
   "source": [
    "## <font color='#4a8bad'>Edit Distance Functions</font>\n",
    "***\n",
    "<a id=\"edit-distance\"></a>"
   ]
  },
  {
   "cell_type": "markdown",
   "id": "97ec255f",
   "metadata": {
    "papermill": {
     "duration": 0.023958,
     "end_time": "2022-01-07T07:39:47.029188",
     "exception": false,
     "start_time": "2022-01-07T07:39:47.005230",
     "status": "completed"
    },
    "tags": []
   },
   "source": [
    "Create all edits that are one edit away from `word`."
   ]
  },
  {
   "cell_type": "code",
   "execution_count": 7,
   "id": "6f188e80",
   "metadata": {
    "execution": {
     "iopub.execute_input": "2022-01-07T07:39:47.081148Z",
     "iopub.status.busy": "2022-01-07T07:39:47.080183Z",
     "iopub.status.idle": "2022-01-07T07:39:47.087456Z",
     "shell.execute_reply": "2022-01-07T07:39:47.088029Z",
     "shell.execute_reply.started": "2022-01-07T07:26:33.750059Z"
    },
    "papermill": {
     "duration": 0.035409,
     "end_time": "2022-01-07T07:39:47.088191",
     "exception": false,
     "start_time": "2022-01-07T07:39:47.052782",
     "status": "completed"
    },
    "tags": []
   },
   "outputs": [],
   "source": [
    "def edits_one(word):\n",
    "    alphabets    = 'abcdefghijklmnopqrstuvwxyz'\n",
    "    splits     = [(word[:i], word[i:])                   for i in range(len(word) + 1)]\n",
    "    deletes    = [left + right[1:]                       for left, right in splits if right]\n",
    "    inserts    = [left + c + right                       for left, right in splits for c in alphabets]\n",
    "    replaces   = [left + c + right[1:]                   for left, right in splits if right for c in alphabets]\n",
    "    transposes = [left + right[1] + right[0] + right[2:] for left, right in splits if len(right)>1]\n",
    "    return set(deletes + inserts + replaces + transposes)"
   ]
  },
  {
   "cell_type": "code",
   "execution_count": 8,
   "id": "a13650f6",
   "metadata": {
    "execution": {
     "iopub.execute_input": "2022-01-07T07:39:47.137587Z",
     "iopub.status.busy": "2022-01-07T07:39:47.136984Z",
     "iopub.status.idle": "2022-01-07T07:39:47.142788Z",
     "shell.execute_reply": "2022-01-07T07:39:47.142300Z",
     "shell.execute_reply.started": "2022-01-07T07:30:19.443416Z"
    },
    "papermill": {
     "duration": 0.03175,
     "end_time": "2022-01-07T07:39:47.143006",
     "exception": false,
     "start_time": "2022-01-07T07:39:47.111256",
     "status": "completed"
    },
    "tags": []
   },
   "outputs": [
    {
     "name": "stdout",
     "output_type": "stream",
     "text": [
      "336\n",
      "{'mogney', 'munney', 'mowney', 'monnyey', 'tonney', 'monnezy', 'monneyu', 'monnfy', 'monniy', 'mobnney', 'monaey', 'mkonney', 'monjney', 'msnney', 'monneye', 'montey', 'mnoney', 'lmonney', 'mtnney', 'monneb', 'monqey', 'momney', 'ronney', 'vmonney', 'monxney', 'mznney', 'ymonney', 'mofney', 'mouney', 'nmonney', 'monneyj', 'monnehy', 'monnery', 'montney', 'mbonney', 'mohney', 'monneu', 'monneyy', 'monnec', 'monkey', 'moaney', 'mxonney', 'monnoey', 'mononey', 'monuey', 'dmonney', 'monsey', 'monnny', 'mhnney', 'mjnney', 'monnejy', 'mconney', 'monnhey', 'onney', 'monaney', 'monhey', 'monnkey', 'monneg', 'monpey', 'monnep', 'qonney', 'monmney', 'konney', 'monkney', 'monnefy', 'xmonney', 'moknney', 'lonney', 'mjonney', 'mqonney', 'emonney', 'mondney', 'mvnney', 'minney', 'mownney', 'moenney', 'mojnney', 'muonney', 'moznney', 'monhney', 'monncey', 'mopney', 'monnhy', 'moniey', 'monlney', 'monnvy', 'kmonney', 'mozney', 'monneyo', 'mnnney', 'moiney', 'moinney', 'monneyf', 'mynney', 'mongney', 'monrney', 'monnvey', 'monfney', 'monnely', 'bonney', 'moneney', 'menney', 'hmonney', 'monney', 'monndy', 'monnet', 'monneyr', 'ionney', 'umonney', 'monnpy', 'monnev', 'monneya', 'monnwy', 'mnonney', 'monxey', 'mvonney', 'mfnney', 'monnwey', 'mpnney', 'monneoy', 'monneyk', 'donney', 'moniney', 'mohnney', 'mxnney', 'tmonney', 'monnek', 'monyey', 'mronney', 'monnjy', 'monneyw', 'monnsy', 'monneyb', 'monnei', 'monneyn', 'myonney', 'mopnney', 'monneqy', 'monqney', 'monnxy', 'monnby', 'monnegy', 'moynney', 'mnney', 'monzney', 'monnky', 'mcnney', 'monnevy', 'mojney', 'imonney', 'monnemy', 'monmey', 'monnxey', 'mosnney', 'monnecy', 'monnea', 'monnel', 'bmonney', 'moonney', 'sonney', 'monneyg', 'monneiy', 'monnmy', 'mbnney', 'molnney', 'monneyi', 'meonney', 'motney', 'monny', 'monneq', 'monneay', 'moxnney', 'zonney', 'monneym', 'monnesy', 'monneny', 'msonney', 'monrey', 'monnuey', 'pmonney', 'monnex', 'aonney', 'monnqey', 'monuney', 'amonney', 'monneyc', 'monne', 'mtonney', 'mqnney', 'monbey', 'mgonney', 'monned', 'monnety', 'monneyq', 'mondey', 'uonney', 'monbney', 'monzey', 'monnuy', 'monsney', 'monnef', 'monntey', 'monnes', 'monneyt', 'fonney', 'monfey', 'monnedy', 'gonney', 'monnoy', 'moxney', 'monjey', 'cmonney', 'mognney', 'eonney', 'vonney', 'mocney', 'moneey', 'mocnney', 'mionney', 'monnye', 'monneey', 'monoey', 'monneh', 'qmonney', 'fmonney', 'monnewy', 'mooney', 'monneky', 'moncney', 'moqney', 'monneuy', 'monnee', 'mponney', 'momnney', 'monneo', 'modnney', 'molney', 'monneyh', 'monnew', 'monnen', 'mwnney', 'mongey', 'morney', 'monnfey', 'monnbey', 'manney', 'monngey', 'monnry', 'mhonney', 'motnney', 'monnzy', 'wmonney', 'nonney', 'mlnney', 'monnney', 'monneyd', 'movnney', 'monneyl', 'monnzey', 'monneyz', 'monvey', 'rmonney', 'monnej', 'mgnney', 'mofnney', 'money', 'monniey', 'monnjey', 'mwonney', 'monwney', 'monndey', 'monneyx', 'smonney', 'mknney', 'monnyy', 'monneyp', 'omnney', 'monnem', 'maonney', 'mfonney', 'moneny', 'zmonney', 'monnay', 'mornney', 'monnley', 'monnepy', 'monnez', 'monnqy', 'omonney', 'monnty', 'mmonney', 'mlonney', 'moeney', 'monncy', 'xonney', 'movney', 'mzonney', 'mdonney', 'jmonney', 'monnaey', 'monnsey', 'yonney', 'monwey', 'mmnney', 'monley', 'moqnney', 'monneyv', 'mrnney', 'mokney', 'honney', 'modney', 'jonney', 'monner', 'mdnney', 'mounney', 'monnpey', 'monpney', 'mosney', 'mobney', 'wonney', 'ponney', 'moyney', 'moncey', 'monnly', 'oonney', 'monnrey', 'monyney', 'monneby', 'monvney', 'monnexy', 'gmonney', 'monngy', 'monnmey', 'conney', 'monneys', 'moanney'}\n"
     ]
    }
   ],
   "source": [
    "print(len(set(edits_one(\"monney\"))))\n",
    "print(edits_one(\"monney\"))"
   ]
  },
  {
   "cell_type": "markdown",
   "id": "555afa44",
   "metadata": {
    "papermill": {
     "duration": 0.023177,
     "end_time": "2022-01-07T07:39:47.189903",
     "exception": false,
     "start_time": "2022-01-07T07:39:47.166726",
     "status": "completed"
    },
    "tags": []
   },
   "source": [
    " Create all edits that are two edits away from `word`."
   ]
  },
  {
   "cell_type": "code",
   "execution_count": 9,
   "id": "78b73cf2",
   "metadata": {
    "execution": {
     "iopub.execute_input": "2022-01-07T07:39:47.241950Z",
     "iopub.status.busy": "2022-01-07T07:39:47.241274Z",
     "iopub.status.idle": "2022-01-07T07:39:47.243998Z",
     "shell.execute_reply": "2022-01-07T07:39:47.243447Z",
     "shell.execute_reply.started": "2022-01-07T07:27:44.771231Z"
    },
    "papermill": {
     "duration": 0.030632,
     "end_time": "2022-01-07T07:39:47.244137",
     "exception": false,
     "start_time": "2022-01-07T07:39:47.213505",
     "status": "completed"
    },
    "tags": []
   },
   "outputs": [],
   "source": [
    "def edits_two(word):\n",
    "    return (e2 for e1 in edits_one(word) for e2 in edits_one(e1))"
   ]
  },
  {
   "cell_type": "code",
   "execution_count": 10,
   "id": "26c300b1",
   "metadata": {
    "execution": {
     "iopub.execute_input": "2022-01-07T07:39:47.295566Z",
     "iopub.status.busy": "2022-01-07T07:39:47.294627Z",
     "iopub.status.idle": "2022-01-07T07:39:47.365283Z",
     "shell.execute_reply": "2022-01-07T07:39:47.365882Z",
     "shell.execute_reply.started": "2022-01-07T07:31:37.133834Z"
    },
    "papermill": {
     "duration": 0.097818,
     "end_time": "2022-01-07T07:39:47.366061",
     "exception": false,
     "start_time": "2022-01-07T07:39:47.268243",
     "status": "completed"
    },
    "tags": []
   },
   "outputs": [
    {
     "name": "stdout",
     "output_type": "stream",
     "text": [
      "51013\n",
      "<generator object edits_two.<locals>.<genexpr> at 0x7fb448383c50>\n"
     ]
    }
   ],
   "source": [
    "print(len(set(edits_two(\"monney\"))))\n",
    "print(edits_two(\"monney\"))"
   ]
  },
  {
   "cell_type": "markdown",
   "id": "572ea199",
   "metadata": {
    "papermill": {
     "duration": 0.023381,
     "end_time": "2022-01-07T07:39:47.413009",
     "exception": false,
     "start_time": "2022-01-07T07:39:47.389628",
     "status": "completed"
    },
    "tags": []
   },
   "source": [
    "The subset of `words` that appear in the `all_words`."
   ]
  },
  {
   "cell_type": "code",
   "execution_count": 11,
   "id": "45a8469b",
   "metadata": {
    "execution": {
     "iopub.execute_input": "2022-01-07T07:39:47.464708Z",
     "iopub.status.busy": "2022-01-07T07:39:47.463790Z",
     "iopub.status.idle": "2022-01-07T07:39:47.467545Z",
     "shell.execute_reply": "2022-01-07T07:39:47.468118Z",
     "shell.execute_reply.started": "2022-01-07T07:32:51.918742Z"
    },
    "papermill": {
     "duration": 0.030913,
     "end_time": "2022-01-07T07:39:47.468282",
     "exception": false,
     "start_time": "2022-01-07T07:39:47.437369",
     "status": "completed"
    },
    "tags": []
   },
   "outputs": [],
   "source": [
    "def known(words):\n",
    "    return set(word for word in words if word in all_words)"
   ]
  },
  {
   "cell_type": "code",
   "execution_count": 12,
   "id": "dfb2389b",
   "metadata": {
    "execution": {
     "iopub.execute_input": "2022-01-07T07:39:47.518590Z",
     "iopub.status.busy": "2022-01-07T07:39:47.517648Z",
     "iopub.status.idle": "2022-01-07T07:39:47.593359Z",
     "shell.execute_reply": "2022-01-07T07:39:47.593851Z",
     "shell.execute_reply.started": "2022-01-07T07:34:06.739368Z"
    },
    "papermill": {
     "duration": 0.102461,
     "end_time": "2022-01-07T07:39:47.594044",
     "exception": false,
     "start_time": "2022-01-07T07:39:47.491583",
     "status": "completed"
    },
    "tags": []
   },
   "outputs": [
    {
     "name": "stdout",
     "output_type": "stream",
     "text": [
      "{'money', 'monkey'}\n",
      "{'donkey', 'motley', 'money', 'donned', 'manned', 'bonnet', 'moaned', 'monkeys', 'honey', 'olney', 'convey', 'bonne', 'monday', 'donne', 'manner', 'bonny', 'tonne', 'moines', 'monger', 'morley', 'monkey'}\n"
     ]
    }
   ],
   "source": [
    "print(known(edits_one(\"monney\")))\n",
    "print(known(edits_two(\"monney\")))"
   ]
  },
  {
   "cell_type": "markdown",
   "id": "f217c239",
   "metadata": {
    "papermill": {
     "duration": 0.023841,
     "end_time": "2022-01-07T07:39:47.642012",
     "exception": false,
     "start_time": "2022-01-07T07:39:47.618171",
     "status": "completed"
    },
    "tags": []
   },
   "source": [
    "Generate possible spelling corrections for word."
   ]
  },
  {
   "cell_type": "code",
   "execution_count": 13,
   "id": "ac9890de",
   "metadata": {
    "execution": {
     "iopub.execute_input": "2022-01-07T07:39:47.693703Z",
     "iopub.status.busy": "2022-01-07T07:39:47.692772Z",
     "iopub.status.idle": "2022-01-07T07:39:47.696849Z",
     "shell.execute_reply": "2022-01-07T07:39:47.697375Z",
     "shell.execute_reply.started": "2022-01-07T07:35:12.191171Z"
    },
    "papermill": {
     "duration": 0.031542,
     "end_time": "2022-01-07T07:39:47.697531",
     "exception": false,
     "start_time": "2022-01-07T07:39:47.665989",
     "status": "completed"
    },
    "tags": []
   },
   "outputs": [],
   "source": [
    "def possible_corrections(word):\n",
    "    return (known([word]) or known(edits_one(word)) or known(edits_two(word)) or [word])"
   ]
  },
  {
   "cell_type": "code",
   "execution_count": 14,
   "id": "b7d98ee2",
   "metadata": {
    "execution": {
     "iopub.execute_input": "2022-01-07T07:39:47.750391Z",
     "iopub.status.busy": "2022-01-07T07:39:47.749402Z",
     "iopub.status.idle": "2022-01-07T07:39:47.754672Z",
     "shell.execute_reply": "2022-01-07T07:39:47.754187Z",
     "shell.execute_reply.started": "2022-01-07T07:35:31.816717Z"
    },
    "papermill": {
     "duration": 0.032771,
     "end_time": "2022-01-07T07:39:47.754809",
     "exception": false,
     "start_time": "2022-01-07T07:39:47.722038",
     "status": "completed"
    },
    "tags": []
   },
   "outputs": [
    {
     "name": "stdout",
     "output_type": "stream",
     "text": [
      "{'money', 'monkey'}\n"
     ]
    }
   ],
   "source": [
    "print(possible_corrections(\"monney\"))"
   ]
  },
  {
   "cell_type": "markdown",
   "id": "1466beec",
   "metadata": {
    "papermill": {
     "duration": 0.024383,
     "end_time": "2022-01-07T07:39:47.803732",
     "exception": false,
     "start_time": "2022-01-07T07:39:47.779349",
     "status": "completed"
    },
    "tags": []
   },
   "source": [
    "Probability of `word`: Number of appearances of 'word' / total number of tokens."
   ]
  },
  {
   "cell_type": "code",
   "execution_count": 15,
   "id": "44bcce82",
   "metadata": {
    "execution": {
     "iopub.execute_input": "2022-01-07T07:39:47.857965Z",
     "iopub.status.busy": "2022-01-07T07:39:47.857280Z",
     "iopub.status.idle": "2022-01-07T07:39:47.859008Z",
     "shell.execute_reply": "2022-01-07T07:39:47.859481Z",
     "shell.execute_reply.started": "2022-01-07T07:36:33.449394Z"
    },
    "papermill": {
     "duration": 0.031418,
     "end_time": "2022-01-07T07:39:47.859636",
     "exception": false,
     "start_time": "2022-01-07T07:39:47.828218",
     "status": "completed"
    },
    "tags": []
   },
   "outputs": [],
   "source": [
    "def prob(word, N=sum(all_words.values())): \n",
    "    return all_words[word] / N"
   ]
  },
  {
   "cell_type": "code",
   "execution_count": 16,
   "id": "b4354b92",
   "metadata": {
    "execution": {
     "iopub.execute_input": "2022-01-07T07:39:47.914164Z",
     "iopub.status.busy": "2022-01-07T07:39:47.913383Z",
     "iopub.status.idle": "2022-01-07T07:39:47.916458Z",
     "shell.execute_reply": "2022-01-07T07:39:47.916947Z",
     "shell.execute_reply.started": "2022-01-07T07:37:12.399160Z"
    },
    "papermill": {
     "duration": 0.032943,
     "end_time": "2022-01-07T07:39:47.917102",
     "exception": false,
     "start_time": "2022-01-07T07:39:47.884159",
     "status": "completed"
    },
    "tags": []
   },
   "outputs": [
    {
     "name": "stdout",
     "output_type": "stream",
     "text": [
      "0.0002922233626303688\n",
      "5.378344097491451e-06\n"
     ]
    }
   ],
   "source": [
    "print(prob(\"money\"))\n",
    "print(prob(\"monkey\"))"
   ]
  },
  {
   "cell_type": "markdown",
   "id": "a52c25fb",
   "metadata": {
    "papermill": {
     "duration": 0.0248,
     "end_time": "2022-01-07T07:39:47.967011",
     "exception": false,
     "start_time": "2022-01-07T07:39:47.942211",
     "status": "completed"
    },
    "tags": []
   },
   "source": [
    "Print the most probable spelling correction for `word` out of all the `possible_corrections`"
   ]
  },
  {
   "cell_type": "code",
   "execution_count": 17,
   "id": "e76d922c",
   "metadata": {
    "execution": {
     "iopub.execute_input": "2022-01-07T07:39:48.021812Z",
     "iopub.status.busy": "2022-01-07T07:39:48.021205Z",
     "iopub.status.idle": "2022-01-07T07:39:48.023083Z",
     "shell.execute_reply": "2022-01-07T07:39:48.023611Z",
     "shell.execute_reply.started": "2022-01-07T07:37:55.800970Z"
    },
    "papermill": {
     "duration": 0.03194,
     "end_time": "2022-01-07T07:39:48.023771",
     "exception": false,
     "start_time": "2022-01-07T07:39:47.991831",
     "status": "completed"
    },
    "tags": []
   },
   "outputs": [],
   "source": [
    "def spell_check(word):\n",
    "    correct_word = max(possible_corrections(word), key=prob)\n",
    "    if correct_word != word:\n",
    "        return \"Did you mean \" + correct_word + \"?\"\n",
    "    else:\n",
    "        return \"Correct spelling.\""
   ]
  },
  {
   "cell_type": "code",
   "execution_count": 18,
   "id": "6b1199c2",
   "metadata": {
    "execution": {
     "iopub.execute_input": "2022-01-07T07:39:48.078164Z",
     "iopub.status.busy": "2022-01-07T07:39:48.077517Z",
     "iopub.status.idle": "2022-01-07T07:39:48.082281Z",
     "shell.execute_reply": "2022-01-07T07:39:48.082906Z",
     "shell.execute_reply.started": "2022-01-07T07:38:09.568856Z"
    },
    "papermill": {
     "duration": 0.0337,
     "end_time": "2022-01-07T07:39:48.083073",
     "exception": false,
     "start_time": "2022-01-07T07:39:48.049373",
     "status": "completed"
    },
    "tags": []
   },
   "outputs": [
    {
     "name": "stdout",
     "output_type": "stream",
     "text": [
      "Did you mean money?\n"
     ]
    }
   ],
   "source": [
    "print(spell_check(\"monney\"))"
   ]
  }
 ],
 "metadata": {
  "kernelspec": {
   "display_name": "Python 3",
   "language": "python",
   "name": "python3"
  },
  "language_info": {
   "codemirror_mode": {
    "name": "ipython",
    "version": 3
   },
   "file_extension": ".py",
   "mimetype": "text/x-python",
   "name": "python",
   "nbconvert_exporter": "python",
   "pygments_lexer": "ipython3",
   "version": "3.7.12"
  },
  "papermill": {
   "default_parameters": {},
   "duration": 12.888353,
   "end_time": "2022-01-07T07:39:48.717435",
   "environment_variables": {},
   "exception": null,
   "input_path": "__notebook__.ipynb",
   "output_path": "__notebook__.ipynb",
   "parameters": {},
   "start_time": "2022-01-07T07:39:35.829082",
   "version": "2.3.3"
  }
 },
 "nbformat": 4,
 "nbformat_minor": 5
}
