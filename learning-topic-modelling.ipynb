{
 "cells": [
  {
   "cell_type": "markdown",
   "id": "e1ad7f92",
   "metadata": {
    "papermill": {
     "duration": 0.013016,
     "end_time": "2021-12-29T14:10:18.115755",
     "exception": false,
     "start_time": "2021-12-29T14:10:18.102739",
     "status": "completed"
    },
    "tags": []
   },
   "source": [
    "## Importing Libraries"
   ]
  },
  {
   "cell_type": "code",
   "execution_count": 1,
   "id": "3f8211e6",
   "metadata": {
    "execution": {
     "iopub.execute_input": "2021-12-29T14:10:18.151215Z",
     "iopub.status.busy": "2021-12-29T14:10:18.149183Z",
     "iopub.status.idle": "2021-12-29T14:10:19.434055Z",
     "shell.execute_reply": "2021-12-29T14:10:19.433169Z",
     "shell.execute_reply.started": "2021-12-29T14:08:19.415215Z"
    },
    "papermill": {
     "duration": 1.305192,
     "end_time": "2021-12-29T14:10:19.434224",
     "exception": false,
     "start_time": "2021-12-29T14:10:18.129032",
     "status": "completed"
    },
    "tags": []
   },
   "outputs": [],
   "source": [
    "import os\n",
    "import numpy as np\n",
    "import pandas as pd\n",
    "import matplotlib.pyplot as plt\n",
    "\n",
    "from sklearn.feature_extraction.text import TfidfVectorizer\n",
    "from sklearn.decomposition import NMF"
   ]
  },
  {
   "cell_type": "markdown",
   "id": "c371fc9d",
   "metadata": {
    "papermill": {
     "duration": 0.010728,
     "end_time": "2021-12-29T14:10:19.457335",
     "exception": false,
     "start_time": "2021-12-29T14:10:19.446607",
     "status": "completed"
    },
    "tags": []
   },
   "source": [
    "## Exploring the Dataset"
   ]
  },
  {
   "cell_type": "code",
   "execution_count": 2,
   "id": "7f4c6f43",
   "metadata": {
    "execution": {
     "iopub.execute_input": "2021-12-29T14:10:19.484910Z",
     "iopub.status.busy": "2021-12-29T14:10:19.484198Z",
     "iopub.status.idle": "2021-12-29T14:10:19.487306Z",
     "shell.execute_reply": "2021-12-29T14:10:19.486760Z",
     "shell.execute_reply.started": "2021-12-29T14:08:20.540147Z"
    },
    "papermill": {
     "duration": 0.019001,
     "end_time": "2021-12-29T14:10:19.487454",
     "exception": false,
     "start_time": "2021-12-29T14:10:19.468453",
     "status": "completed"
    },
    "tags": []
   },
   "outputs": [],
   "source": [
    "ROOT = '../input/aclimdb-v1/aclImdb/train/pos'"
   ]
  },
  {
   "cell_type": "code",
   "execution_count": 3,
   "id": "58addc0a",
   "metadata": {
    "execution": {
     "iopub.execute_input": "2021-12-29T14:10:19.516203Z",
     "iopub.status.busy": "2021-12-29T14:10:19.515494Z",
     "iopub.status.idle": "2021-12-29T14:10:59.629407Z",
     "shell.execute_reply": "2021-12-29T14:10:59.628496Z",
     "shell.execute_reply.started": "2021-12-29T14:08:20.545827Z"
    },
    "papermill": {
     "duration": 40.130656,
     "end_time": "2021-12-29T14:10:59.629590",
     "exception": false,
     "start_time": "2021-12-29T14:10:19.498934",
     "status": "completed"
    },
    "tags": []
   },
   "outputs": [],
   "source": [
    "reviews = []\n",
    "\n",
    "for file in os.listdir(ROOT):\n",
    "    path = os.path.join(ROOT, file)\n",
    "    if os.path.isfile(path):\n",
    "        with open(path, 'r') as fin:\n",
    "            reviews.append(fin.read())"
   ]
  },
  {
   "cell_type": "code",
   "execution_count": 4,
   "id": "81c47301",
   "metadata": {
    "execution": {
     "iopub.execute_input": "2021-12-29T14:10:59.660689Z",
     "iopub.status.busy": "2021-12-29T14:10:59.655564Z",
     "iopub.status.idle": "2021-12-29T14:10:59.664205Z",
     "shell.execute_reply": "2021-12-29T14:10:59.664695Z",
     "shell.execute_reply.started": "2021-12-29T14:09:40.157710Z"
    },
    "papermill": {
     "duration": 0.023683,
     "end_time": "2021-12-29T14:10:59.664877",
     "exception": false,
     "start_time": "2021-12-29T14:10:59.641194",
     "status": "completed"
    },
    "tags": []
   },
   "outputs": [
    {
     "data": {
      "text/plain": [
       "12500"
      ]
     },
     "execution_count": 4,
     "metadata": {},
     "output_type": "execute_result"
    }
   ],
   "source": [
    "len(reviews)"
   ]
  },
  {
   "cell_type": "code",
   "execution_count": 5,
   "id": "4131eb1a",
   "metadata": {
    "execution": {
     "iopub.execute_input": "2021-12-29T14:10:59.693598Z",
     "iopub.status.busy": "2021-12-29T14:10:59.692911Z",
     "iopub.status.idle": "2021-12-29T14:10:59.701806Z",
     "shell.execute_reply": "2021-12-29T14:10:59.701269Z",
     "shell.execute_reply.started": "2021-12-29T14:09:40.167915Z"
    },
    "papermill": {
     "duration": 0.025406,
     "end_time": "2021-12-29T14:10:59.701975",
     "exception": false,
     "start_time": "2021-12-29T14:10:59.676569",
     "status": "completed"
    },
    "tags": []
   },
   "outputs": [
    {
     "name": "stdout",
     "output_type": "stream",
     "text": [
      "This was one of those wonderful rare moments in T.V. that I wished I'd captured forever on VHS. Won't it ever air again? <br /><br />It was so creative and I remember it was aired once a week and the wait for the next episode was excruciating. I want to see it all again. I want to buy it. I want what I can't have. Not even on EBAY. <br /><br />So, having ranted enough it was, by far, one of the best series the 80's put out. It should be considered a classic but is lost in space. At least this website and Wikipedia mention it. Sob.<br /><br />It was utterly appealing, funny, flirtatious, and original. Maybe not like Sherlock Holmes original, I actually think Quintin is far more attractive and has a better chance with his leading lady than the stiff and chalky Holmes ever could.\n",
      "======================================================================================================================================================\n",
      "Have you seen The Graduate? It was hailed as the movie of its generation. But A River Runs Through It is the story about all generations. Long before Dustin Hoffman's character got all wrapped up in the traps of modern suburbia, Norman Maclean and his brother Paul were facing the same crushing pressures of growing up as they tried to find their place in the world. But how could a place like post WW1 Montana be a showcase for the American family, at a time when the Wild West still was not completely gone? Just what has Maclean tapped into that strikes so deeply at who we all are and what we have to go through to find ourselves? As the movie opens, Norman is an old man, flyfishing beside a rushing river, trying to understand the course his own life has taken. The movie is literally a journey up through his own stream of consciousness, against time's current and back to when he was a boy. He and his younger brother Paul were the sons of a Presbyterian minister and devoted mother. The parents fit snugly into their roles. Mom takes care of house and home. Dad does the work of the Lord. The boys ponder what they will be when they grow up. Norm has it narrowed down to a boxer or a minister like his dad. Given the choice, little Paul would be the boxer, since he's told his first choice of pro flyfisherman doesn't even exist. The boys grow up and get into trouble with their pranks, fight to see who is tougher and do the things brothers do, all the while attending church and taking part in all other spiritual matters like flyfishing. They are at similar points in their lives before college. But when Norm returns from his six years at Dartmouth, things are very different. Paul is at the top of his game. Master flyfisherman. Grad of a nearby college and newspaper reporter who knows every cop on the beat and every judge on the bench. Norman is stunningly well educated for his day but has little idea what to do with his life, even as his father grills him about what he intends to do. You're left feeling that at least to Pops, God will call you to your life's work. But you have to stay open and ready to receive it -- all your life. Father has always taken his boys to reflect by the side of the river and contemplate God's eternal words. \"Listen,\" their father urges. It's both Zen and Quakerly. Pretty radical for a stoic clergyman. But with all the beauty and contemplation, and even though the Macleans are truly a God-fearing, scripture-heeding household, how is it that Rev. Maclean's family is unraveling? Paul is true perfection as he fishes the river, but he's feeling the pull of gambling and boozing, while his family doesn't know how to keep him from winding up where he seems to be headed. Mom, Dad and Brother all seem to have the same quiet desperation of not knowing what they should be doing and why they can't seem to help. Pauly just waves it all off with a grin and his irresistible charm. But the junior brother is losing his grip. Norman starts getting his life on track, finding love and career, but Paul continues to slide. The family that loves him watches helplessly. Mother, Father, Brother flounder in their own ways trying to help, but none very effectively. How can a family that loves each other so much be so ill-equipped to handle this? How can someone be so artful and full of grace when out in God's nature, yet be somehow unfit or unwilling to fit into the constructs of society that God's peoples have made for themselves? These are all questions Norman will ponder his entire life. The eternal words beneath the smooth stones of the river forever haunt him, yet keep their secrets. The movie is beautiful to watch. This is certainly God's country, and filming it won an Oscar. Director Robert Redford plays with the story from the book and teases the narration a bit to follow the emotional pattern he's presenting, and it works well. But do go back and read the book, too. You'll see Norman made connections with his old man even deeper than the movie can suggest -- and you'll see the places where the storyteller's very words gurgle and sing right off the page with an exuberance of a river running through it, leading into the unknown.\n",
      "======================================================================================================================================================\n",
      "I don't watch a lot of TV, except for The Office, Weeds, Entourage and E!'s Soup. I think I hold this show in good company.<br /><br />I love the scathing review of pop culture that this show gives. Soup also helps me stay on top of what people in the office are referring to when talking about a Sanjaya or Heidi Montag (sp?).<br /><br />The best part is that Soup shows clips of the highlights of these shows, which are usually the funniest or most controversial moments (c'mon, most people get hooked into watching American Idol because of the freak show that are the auditions), which is why most people claim to watch. And that means, I don't have to suffer through the other 98% of these mind numbing talk shows or \"reality\" shows, for one nugget of \"funny\" or \"shock.\" The only reason why Soup doesn't get a 10 in my opinion are sometime the sketches are not that funny, and on an even rarer occasion, the commentary isn't always up to par. But they can't all be home runs either, if so, Soup wouldn't be on E!.<br /><br />Joel's quick wit and Soup's writing team (which includes McHale) make for a great show. I happen to enjoy the laughing and comments from the crew who are off-camera. Even when they're being blatantly obvious by giving occasional courtesy laughs, it's hilarious because it IS forced. They're obviously being ironic. And that's part of what makes this show funny.\n",
      "======================================================================================================================================================\n"
     ]
    }
   ],
   "source": [
    "for i in range(3):\n",
    "    print(reviews[i])\n",
    "    print(\"=\" * 150)"
   ]
  },
  {
   "cell_type": "markdown",
   "id": "97924489",
   "metadata": {
    "papermill": {
     "duration": 0.012094,
     "end_time": "2021-12-29T14:10:59.726790",
     "exception": false,
     "start_time": "2021-12-29T14:10:59.714696",
     "status": "completed"
    },
    "tags": []
   },
   "source": []
  },
  {
   "cell_type": "code",
   "execution_count": null,
   "id": "64cd2186",
   "metadata": {
    "papermill": {
     "duration": 0.011857,
     "end_time": "2021-12-29T14:10:59.750673",
     "exception": false,
     "start_time": "2021-12-29T14:10:59.738816",
     "status": "completed"
    },
    "tags": []
   },
   "outputs": [],
   "source": []
  },
  {
   "cell_type": "code",
   "execution_count": null,
   "id": "f1999ce8",
   "metadata": {
    "papermill": {
     "duration": 0.012296,
     "end_time": "2021-12-29T14:10:59.775696",
     "exception": false,
     "start_time": "2021-12-29T14:10:59.763400",
     "status": "completed"
    },
    "tags": []
   },
   "outputs": [],
   "source": []
  },
  {
   "cell_type": "code",
   "execution_count": null,
   "id": "81a667c4",
   "metadata": {
    "papermill": {
     "duration": 0.011595,
     "end_time": "2021-12-29T14:10:59.800713",
     "exception": false,
     "start_time": "2021-12-29T14:10:59.789118",
     "status": "completed"
    },
    "tags": []
   },
   "outputs": [],
   "source": []
  },
  {
   "cell_type": "code",
   "execution_count": null,
   "id": "e7eb0235",
   "metadata": {
    "papermill": {
     "duration": 0.012119,
     "end_time": "2021-12-29T14:10:59.825251",
     "exception": false,
     "start_time": "2021-12-29T14:10:59.813132",
     "status": "completed"
    },
    "tags": []
   },
   "outputs": [],
   "source": []
  },
  {
   "cell_type": "code",
   "execution_count": null,
   "id": "86c013ae",
   "metadata": {
    "papermill": {
     "duration": 0.012471,
     "end_time": "2021-12-29T14:10:59.850449",
     "exception": false,
     "start_time": "2021-12-29T14:10:59.837978",
     "status": "completed"
    },
    "tags": []
   },
   "outputs": [],
   "source": []
  },
  {
   "cell_type": "code",
   "execution_count": null,
   "id": "d15831d4",
   "metadata": {
    "papermill": {
     "duration": 0.011902,
     "end_time": "2021-12-29T14:10:59.874807",
     "exception": false,
     "start_time": "2021-12-29T14:10:59.862905",
     "status": "completed"
    },
    "tags": []
   },
   "outputs": [],
   "source": []
  },
  {
   "cell_type": "code",
   "execution_count": null,
   "id": "18f48d58",
   "metadata": {
    "papermill": {
     "duration": 0.012199,
     "end_time": "2021-12-29T14:10:59.899273",
     "exception": false,
     "start_time": "2021-12-29T14:10:59.887074",
     "status": "completed"
    },
    "tags": []
   },
   "outputs": [],
   "source": []
  }
 ],
 "metadata": {
  "kernelspec": {
   "display_name": "Python 3",
   "language": "python",
   "name": "python3"
  },
  "language_info": {
   "codemirror_mode": {
    "name": "ipython",
    "version": 3
   },
   "file_extension": ".py",
   "mimetype": "text/x-python",
   "name": "python",
   "nbconvert_exporter": "python",
   "pygments_lexer": "ipython3",
   "version": "3.7.12"
  },
  "papermill": {
   "default_parameters": {},
   "duration": 53.424883,
   "end_time": "2021-12-29T14:11:00.724486",
   "environment_variables": {},
   "exception": null,
   "input_path": "__notebook__.ipynb",
   "output_path": "__notebook__.ipynb",
   "parameters": {},
   "start_time": "2021-12-29T14:10:07.299603",
   "version": "2.3.3"
  }
 },
 "nbformat": 4,
 "nbformat_minor": 5
}
