{
 "cells": [
  {
   "cell_type": "markdown",
   "id": "3d8e49f1",
   "metadata": {
    "id": "rhR-ZUkwJrFn",
    "papermill": {
     "duration": 0.045956,
     "end_time": "2022-01-11T11:41:39.435213",
     "exception": false,
     "start_time": "2022-01-11T11:41:39.389257",
     "status": "completed"
    },
    "tags": []
   },
   "source": [
    "## Problem Statement \n",
    "\n",
    "You need to build a model that is able to classify customer complaints based on the products/services. By doing so, you can segregate these tickets into their relevant categories and, therefore, help in the quick resolution of the issue.\n",
    "\n",
    "You will be doing topic modelling on the <b>.json</b> data provided by the company. Since this data is not labelled, you need to apply NMF to analyse patterns and classify tickets into the following five clusters based on their products/services:\n",
    "\n",
    "* Credit card / Prepaid card\n",
    "\n",
    "* Bank account services\n",
    "\n",
    "* Theft/Dispute reporting\n",
    "\n",
    "* Mortgages/loans\n",
    "\n",
    "* Others \n",
    "\n",
    "\n",
    "With the help of topic modelling, you will be able to map each ticket onto its respective department/category. You can then use this data to train any supervised model such as logistic regression, decision tree or random forest. Using this trained model, you can classify any new customer complaint support ticket into its relevant department."
   ]
  },
  {
   "cell_type": "markdown",
   "id": "dc324ead",
   "metadata": {
    "id": "mcgXVNyaLUFS",
    "papermill": {
     "duration": 0.044425,
     "end_time": "2022-01-11T11:41:39.525135",
     "exception": false,
     "start_time": "2022-01-11T11:41:39.480710",
     "status": "completed"
    },
    "tags": []
   },
   "source": [
    "## Pipelines that needs to be performed:\n",
    "\n",
    "You need to perform the following eight major tasks to complete the assignment:\n",
    "\n",
    "1.  Data loading\n",
    "\n",
    "2. Text preprocessing\n",
    "\n",
    "3. Exploratory data analysis (EDA)\n",
    "\n",
    "4. Feature extraction\n",
    "\n",
    "5. Topic modelling \n",
    "\n",
    "6. Model building using supervised learning\n",
    "\n",
    "7. Model training and evaluation\n",
    "\n",
    "8. Model inference"
   ]
  },
  {
   "cell_type": "markdown",
   "id": "eefde4c3",
   "metadata": {
    "id": "JuLFIymAL58u",
    "papermill": {
     "duration": 0.04587,
     "end_time": "2022-01-11T11:41:39.615601",
     "exception": false,
     "start_time": "2022-01-11T11:41:39.569731",
     "status": "completed"
    },
    "tags": []
   },
   "source": [
    "## Importing the necessary libraries"
   ]
  },
  {
   "cell_type": "code",
   "execution_count": 1,
   "id": "9e80fd2f",
   "metadata": {
    "execution": {
     "iopub.execute_input": "2022-01-11T11:41:39.709537Z",
     "iopub.status.busy": "2022-01-11T11:41:39.708392Z",
     "iopub.status.idle": "2022-01-11T11:41:52.555679Z",
     "shell.execute_reply": "2022-01-11T11:41:52.554948Z",
     "shell.execute_reply.started": "2022-01-11T11:01:29.894650Z"
    },
    "id": "O-Q9pqrcJrFr",
    "papermill": {
     "duration": 12.895806,
     "end_time": "2022-01-11T11:41:52.555841",
     "exception": false,
     "start_time": "2022-01-11T11:41:39.660035",
     "status": "completed"
    },
    "tags": []
   },
   "outputs": [],
   "source": [
    "import json \n",
    "import numpy as np\n",
    "import pandas as pd\n",
    "import re, nltk, spacy, string\n",
    "import en_core_web_sm\n",
    "\n",
    "import seaborn as sns\n",
    "import matplotlib.pyplot as plt\n",
    "\n",
    "from plotly.offline import plot\n",
    "import plotly.graph_objects as go\n",
    "import plotly.express as px\n",
    "\n",
    "from sklearn.feature_extraction.text import CountVectorizer, TfidfVectorizer\n",
    "from pprint import pprint\n",
    "\n",
    "%matplotlib inline\n",
    "\n",
    "nlp = en_core_web_sm.load()"
   ]
  },
  {
   "cell_type": "markdown",
   "id": "19ce1cfa",
   "metadata": {
    "id": "KtRLCsNVJrFt",
    "papermill": {
     "duration": 0.044738,
     "end_time": "2022-01-11T11:41:52.646479",
     "exception": false,
     "start_time": "2022-01-11T11:41:52.601741",
     "status": "completed"
    },
    "tags": []
   },
   "source": [
    "## Loading the data\n",
    "\n",
    "The data is in JSON format and we need to convert it to a dataframe."
   ]
  },
  {
   "cell_type": "code",
   "execution_count": 2,
   "id": "18be3f0d",
   "metadata": {
    "execution": {
     "iopub.execute_input": "2022-01-11T11:41:52.741746Z",
     "iopub.status.busy": "2022-01-11T11:41:52.741076Z",
     "iopub.status.idle": "2022-01-11T11:41:57.945120Z",
     "shell.execute_reply": "2022-01-11T11:41:57.944311Z",
     "shell.execute_reply.started": "2022-01-11T11:01:30.648616Z"
    },
    "id": "puVzIf_iJrFt",
    "papermill": {
     "duration": 5.253938,
     "end_time": "2022-01-11T11:41:57.945266",
     "exception": false,
     "start_time": "2022-01-11T11:41:52.691328",
     "status": "completed"
    },
    "tags": []
   },
   "outputs": [],
   "source": [
    "# Opening JSON file \n",
    "file_path = open('../input/automatic-ticket-classification/complaints-2021-05-14_08_16.json') # Write the path to your data file and load it \n",
    "  \n",
    "# returns JSON object as  \n",
    "# a dictionary \n",
    "data = json.load(file_path)\n",
    "df = pd.json_normalize(data)"
   ]
  },
  {
   "cell_type": "markdown",
   "id": "f3632213",
   "metadata": {
    "id": "_xYpH-sAJrFu",
    "papermill": {
     "duration": 0.044478,
     "end_time": "2022-01-11T11:41:58.035412",
     "exception": false,
     "start_time": "2022-01-11T11:41:57.990934",
     "status": "completed"
    },
    "tags": []
   },
   "source": [
    "## Data preparation"
   ]
  },
  {
   "cell_type": "code",
   "execution_count": 3,
   "id": "c9efa56c",
   "metadata": {
    "execution": {
     "iopub.execute_input": "2022-01-11T11:41:58.134173Z",
     "iopub.status.busy": "2022-01-11T11:41:58.133467Z",
     "iopub.status.idle": "2022-01-11T11:41:58.159536Z",
     "shell.execute_reply": "2022-01-11T11:41:58.160041Z",
     "shell.execute_reply.started": "2022-01-11T11:01:34.323846Z"
    },
    "id": "Lf8ufHH5JrFu",
    "papermill": {
     "duration": 0.079691,
     "end_time": "2022-01-11T11:41:58.160223",
     "exception": false,
     "start_time": "2022-01-11T11:41:58.080532",
     "status": "completed"
    },
    "tags": []
   },
   "outputs": [
    {
     "data": {
      "text/html": [
       "<div>\n",
       "<style scoped>\n",
       "    .dataframe tbody tr th:only-of-type {\n",
       "        vertical-align: middle;\n",
       "    }\n",
       "\n",
       "    .dataframe tbody tr th {\n",
       "        vertical-align: top;\n",
       "    }\n",
       "\n",
       "    .dataframe thead th {\n",
       "        text-align: right;\n",
       "    }\n",
       "</style>\n",
       "<table border=\"1\" class=\"dataframe\">\n",
       "  <thead>\n",
       "    <tr style=\"text-align: right;\">\n",
       "      <th></th>\n",
       "      <th>_index</th>\n",
       "      <th>_type</th>\n",
       "      <th>_id</th>\n",
       "      <th>_score</th>\n",
       "      <th>_source.tags</th>\n",
       "      <th>_source.zip_code</th>\n",
       "      <th>_source.complaint_id</th>\n",
       "      <th>_source.issue</th>\n",
       "      <th>_source.date_received</th>\n",
       "      <th>_source.state</th>\n",
       "      <th>_source.consumer_disputed</th>\n",
       "      <th>_source.product</th>\n",
       "      <th>_source.company_response</th>\n",
       "      <th>_source.company</th>\n",
       "      <th>_source.submitted_via</th>\n",
       "      <th>_source.date_sent_to_company</th>\n",
       "      <th>_source.company_public_response</th>\n",
       "      <th>_source.sub_product</th>\n",
       "      <th>_source.timely</th>\n",
       "      <th>_source.complaint_what_happened</th>\n",
       "      <th>_source.sub_issue</th>\n",
       "      <th>_source.consumer_consent_provided</th>\n",
       "    </tr>\n",
       "  </thead>\n",
       "  <tbody>\n",
       "    <tr>\n",
       "      <th>0</th>\n",
       "      <td>complaint-public-v2</td>\n",
       "      <td>complaint</td>\n",
       "      <td>3211475</td>\n",
       "      <td>0.0</td>\n",
       "      <td>None</td>\n",
       "      <td>90301</td>\n",
       "      <td>3211475</td>\n",
       "      <td>Attempts to collect debt not owed</td>\n",
       "      <td>2019-04-13T12:00:00-05:00</td>\n",
       "      <td>CA</td>\n",
       "      <td>N/A</td>\n",
       "      <td>Debt collection</td>\n",
       "      <td>Closed with explanation</td>\n",
       "      <td>JPMORGAN CHASE &amp; CO.</td>\n",
       "      <td>Web</td>\n",
       "      <td>2019-04-13T12:00:00-05:00</td>\n",
       "      <td>None</td>\n",
       "      <td>Credit card debt</td>\n",
       "      <td>Yes</td>\n",
       "      <td></td>\n",
       "      <td>Debt is not yours</td>\n",
       "      <td>Consent not provided</td>\n",
       "    </tr>\n",
       "    <tr>\n",
       "      <th>1</th>\n",
       "      <td>complaint-public-v2</td>\n",
       "      <td>complaint</td>\n",
       "      <td>3229299</td>\n",
       "      <td>0.0</td>\n",
       "      <td>Servicemember</td>\n",
       "      <td>319XX</td>\n",
       "      <td>3229299</td>\n",
       "      <td>Written notification about debt</td>\n",
       "      <td>2019-05-01T12:00:00-05:00</td>\n",
       "      <td>GA</td>\n",
       "      <td>N/A</td>\n",
       "      <td>Debt collection</td>\n",
       "      <td>Closed with explanation</td>\n",
       "      <td>JPMORGAN CHASE &amp; CO.</td>\n",
       "      <td>Web</td>\n",
       "      <td>2019-05-01T12:00:00-05:00</td>\n",
       "      <td>None</td>\n",
       "      <td>Credit card debt</td>\n",
       "      <td>Yes</td>\n",
       "      <td>Good morning my name is XXXX XXXX and I apprec...</td>\n",
       "      <td>Didn't receive enough information to verify debt</td>\n",
       "      <td>Consent provided</td>\n",
       "    </tr>\n",
       "    <tr>\n",
       "      <th>2</th>\n",
       "      <td>complaint-public-v2</td>\n",
       "      <td>complaint</td>\n",
       "      <td>3199379</td>\n",
       "      <td>0.0</td>\n",
       "      <td>None</td>\n",
       "      <td>77069</td>\n",
       "      <td>3199379</td>\n",
       "      <td>Other features, terms, or problems</td>\n",
       "      <td>2019-04-02T12:00:00-05:00</td>\n",
       "      <td>TX</td>\n",
       "      <td>N/A</td>\n",
       "      <td>Credit card or prepaid card</td>\n",
       "      <td>Closed with explanation</td>\n",
       "      <td>JPMORGAN CHASE &amp; CO.</td>\n",
       "      <td>Web</td>\n",
       "      <td>2019-04-02T12:00:00-05:00</td>\n",
       "      <td>None</td>\n",
       "      <td>General-purpose credit card or charge card</td>\n",
       "      <td>Yes</td>\n",
       "      <td>I upgraded my XXXX XXXX card in XX/XX/2018 and...</td>\n",
       "      <td>Problem with rewards from credit card</td>\n",
       "      <td>Consent provided</td>\n",
       "    </tr>\n",
       "    <tr>\n",
       "      <th>3</th>\n",
       "      <td>complaint-public-v2</td>\n",
       "      <td>complaint</td>\n",
       "      <td>2673060</td>\n",
       "      <td>0.0</td>\n",
       "      <td>None</td>\n",
       "      <td>48066</td>\n",
       "      <td>2673060</td>\n",
       "      <td>Trouble during payment process</td>\n",
       "      <td>2017-09-13T12:00:00-05:00</td>\n",
       "      <td>MI</td>\n",
       "      <td>N/A</td>\n",
       "      <td>Mortgage</td>\n",
       "      <td>Closed with explanation</td>\n",
       "      <td>JPMORGAN CHASE &amp; CO.</td>\n",
       "      <td>Web</td>\n",
       "      <td>2017-09-14T12:00:00-05:00</td>\n",
       "      <td>None</td>\n",
       "      <td>Conventional home mortgage</td>\n",
       "      <td>Yes</td>\n",
       "      <td></td>\n",
       "      <td>None</td>\n",
       "      <td>Consent not provided</td>\n",
       "    </tr>\n",
       "    <tr>\n",
       "      <th>4</th>\n",
       "      <td>complaint-public-v2</td>\n",
       "      <td>complaint</td>\n",
       "      <td>3203545</td>\n",
       "      <td>0.0</td>\n",
       "      <td>None</td>\n",
       "      <td>10473</td>\n",
       "      <td>3203545</td>\n",
       "      <td>Fees or interest</td>\n",
       "      <td>2019-04-05T12:00:00-05:00</td>\n",
       "      <td>NY</td>\n",
       "      <td>N/A</td>\n",
       "      <td>Credit card or prepaid card</td>\n",
       "      <td>Closed with explanation</td>\n",
       "      <td>JPMORGAN CHASE &amp; CO.</td>\n",
       "      <td>Referral</td>\n",
       "      <td>2019-04-05T12:00:00-05:00</td>\n",
       "      <td>None</td>\n",
       "      <td>General-purpose credit card or charge card</td>\n",
       "      <td>Yes</td>\n",
       "      <td></td>\n",
       "      <td>Charged too much interest</td>\n",
       "      <td>N/A</td>\n",
       "    </tr>\n",
       "  </tbody>\n",
       "</table>\n",
       "</div>"
      ],
      "text/plain": [
       "                _index      _type      _id  _score   _source.tags  \\\n",
       "0  complaint-public-v2  complaint  3211475     0.0           None   \n",
       "1  complaint-public-v2  complaint  3229299     0.0  Servicemember   \n",
       "2  complaint-public-v2  complaint  3199379     0.0           None   \n",
       "3  complaint-public-v2  complaint  2673060     0.0           None   \n",
       "4  complaint-public-v2  complaint  3203545     0.0           None   \n",
       "\n",
       "  _source.zip_code _source.complaint_id                       _source.issue  \\\n",
       "0            90301              3211475   Attempts to collect debt not owed   \n",
       "1            319XX              3229299     Written notification about debt   \n",
       "2            77069              3199379  Other features, terms, or problems   \n",
       "3            48066              2673060      Trouble during payment process   \n",
       "4            10473              3203545                    Fees or interest   \n",
       "\n",
       "       _source.date_received _source.state _source.consumer_disputed  \\\n",
       "0  2019-04-13T12:00:00-05:00            CA                       N/A   \n",
       "1  2019-05-01T12:00:00-05:00            GA                       N/A   \n",
       "2  2019-04-02T12:00:00-05:00            TX                       N/A   \n",
       "3  2017-09-13T12:00:00-05:00            MI                       N/A   \n",
       "4  2019-04-05T12:00:00-05:00            NY                       N/A   \n",
       "\n",
       "               _source.product _source.company_response       _source.company  \\\n",
       "0              Debt collection  Closed with explanation  JPMORGAN CHASE & CO.   \n",
       "1              Debt collection  Closed with explanation  JPMORGAN CHASE & CO.   \n",
       "2  Credit card or prepaid card  Closed with explanation  JPMORGAN CHASE & CO.   \n",
       "3                     Mortgage  Closed with explanation  JPMORGAN CHASE & CO.   \n",
       "4  Credit card or prepaid card  Closed with explanation  JPMORGAN CHASE & CO.   \n",
       "\n",
       "  _source.submitted_via _source.date_sent_to_company  \\\n",
       "0                   Web    2019-04-13T12:00:00-05:00   \n",
       "1                   Web    2019-05-01T12:00:00-05:00   \n",
       "2                   Web    2019-04-02T12:00:00-05:00   \n",
       "3                   Web    2017-09-14T12:00:00-05:00   \n",
       "4              Referral    2019-04-05T12:00:00-05:00   \n",
       "\n",
       "  _source.company_public_response                         _source.sub_product  \\\n",
       "0                            None                            Credit card debt   \n",
       "1                            None                            Credit card debt   \n",
       "2                            None  General-purpose credit card or charge card   \n",
       "3                            None                  Conventional home mortgage   \n",
       "4                            None  General-purpose credit card or charge card   \n",
       "\n",
       "  _source.timely                    _source.complaint_what_happened  \\\n",
       "0            Yes                                                      \n",
       "1            Yes  Good morning my name is XXXX XXXX and I apprec...   \n",
       "2            Yes  I upgraded my XXXX XXXX card in XX/XX/2018 and...   \n",
       "3            Yes                                                      \n",
       "4            Yes                                                      \n",
       "\n",
       "                                  _source.sub_issue  \\\n",
       "0                                 Debt is not yours   \n",
       "1  Didn't receive enough information to verify debt   \n",
       "2             Problem with rewards from credit card   \n",
       "3                                              None   \n",
       "4                         Charged too much interest   \n",
       "\n",
       "  _source.consumer_consent_provided  \n",
       "0              Consent not provided  \n",
       "1                  Consent provided  \n",
       "2                  Consent provided  \n",
       "3              Consent not provided  \n",
       "4                               N/A  "
      ]
     },
     "execution_count": 3,
     "metadata": {},
     "output_type": "execute_result"
    }
   ],
   "source": [
    "# Inspect the dataframe to understand the given data.\n",
    "pd.set_option('max_columns', None)\n",
    "df.head()"
   ]
  },
  {
   "cell_type": "code",
   "execution_count": 4,
   "id": "c130cbc6",
   "metadata": {
    "execution": {
     "iopub.execute_input": "2022-01-11T11:41:58.257070Z",
     "iopub.status.busy": "2022-01-11T11:41:58.256051Z",
     "iopub.status.idle": "2022-01-11T11:41:58.507699Z",
     "shell.execute_reply": "2022-01-11T11:41:58.506985Z",
     "shell.execute_reply.started": "2022-01-11T11:01:34.353288Z"
    },
    "papermill": {
     "duration": 0.30158,
     "end_time": "2022-01-11T11:41:58.507901",
     "exception": false,
     "start_time": "2022-01-11T11:41:58.206321",
     "status": "completed"
    },
    "tags": []
   },
   "outputs": [
    {
     "name": "stdout",
     "output_type": "stream",
     "text": [
      "<class 'pandas.core.frame.DataFrame'>\n",
      "RangeIndex: 78313 entries, 0 to 78312\n",
      "Data columns (total 22 columns):\n",
      " #   Column                             Non-Null Count  Dtype  \n",
      "---  ------                             --------------  -----  \n",
      " 0   _index                             78313 non-null  object \n",
      " 1   _type                              78313 non-null  object \n",
      " 2   _id                                78313 non-null  object \n",
      " 3   _score                             78313 non-null  float64\n",
      " 4   _source.tags                       10900 non-null  object \n",
      " 5   _source.zip_code                   71556 non-null  object \n",
      " 6   _source.complaint_id               78313 non-null  object \n",
      " 7   _source.issue                      78313 non-null  object \n",
      " 8   _source.date_received              78313 non-null  object \n",
      " 9   _source.state                      76322 non-null  object \n",
      " 10  _source.consumer_disputed          78313 non-null  object \n",
      " 11  _source.product                    78313 non-null  object \n",
      " 12  _source.company_response           78313 non-null  object \n",
      " 13  _source.company                    78313 non-null  object \n",
      " 14  _source.submitted_via              78313 non-null  object \n",
      " 15  _source.date_sent_to_company       78313 non-null  object \n",
      " 16  _source.company_public_response    4 non-null      object \n",
      " 17  _source.sub_product                67742 non-null  object \n",
      " 18  _source.timely                     78313 non-null  object \n",
      " 19  _source.complaint_what_happened    78313 non-null  object \n",
      " 20  _source.sub_issue                  32016 non-null  object \n",
      " 21  _source.consumer_consent_provided  77305 non-null  object \n",
      "dtypes: float64(1), object(21)\n",
      "memory usage: 13.1+ MB\n"
     ]
    }
   ],
   "source": [
    "df.info()"
   ]
  },
  {
   "cell_type": "code",
   "execution_count": 5,
   "id": "3aaf7d3b",
   "metadata": {
    "execution": {
     "iopub.execute_input": "2022-01-11T11:41:58.605956Z",
     "iopub.status.busy": "2022-01-11T11:41:58.605290Z",
     "iopub.status.idle": "2022-01-11T11:41:58.615682Z",
     "shell.execute_reply": "2022-01-11T11:41:58.616637Z",
     "shell.execute_reply.started": "2022-01-11T11:01:34.616651Z"
    },
    "id": "Dwcty-wmJrFw",
    "papermill": {
     "duration": 0.060812,
     "end_time": "2022-01-11T11:41:58.616944",
     "exception": false,
     "start_time": "2022-01-11T11:41:58.556132",
     "status": "completed"
    },
    "tags": []
   },
   "outputs": [
    {
     "name": "stdout",
     "output_type": "stream",
     "text": [
      "01 Column :  _index\n",
      "02 Column :  _type\n",
      "03 Column :  _id\n",
      "04 Column :  _score\n",
      "05 Column :  _source.tags\n",
      "06 Column :  _source.zip_code\n",
      "07 Column :  _source.complaint_id\n",
      "08 Column :  _source.issue\n",
      "09 Column :  _source.date_received\n",
      "10 Column :  _source.state\n",
      "11 Column :  _source.consumer_disputed\n",
      "12 Column :  _source.product\n",
      "13 Column :  _source.company_response\n",
      "14 Column :  _source.company\n",
      "15 Column :  _source.submitted_via\n",
      "16 Column :  _source.date_sent_to_company\n",
      "17 Column :  _source.company_public_response\n",
      "18 Column :  _source.sub_product\n",
      "19 Column :  _source.timely\n",
      "20 Column :  _source.complaint_what_happened\n",
      "21 Column :  _source.sub_issue\n",
      "22 Column :  _source.consumer_consent_provided\n"
     ]
    }
   ],
   "source": [
    "# Print the column names\n",
    "def print_column_names():\n",
    "    i = 1\n",
    "    for col in df.columns:\n",
    "        print(str(\"{:02d}\".format(i)) +\" Column : \", col)\n",
    "        i += 1\n",
    "        \n",
    "print_column_names()"
   ]
  },
  {
   "cell_type": "code",
   "execution_count": 6,
   "id": "9d987907",
   "metadata": {
    "execution": {
     "iopub.execute_input": "2022-01-11T11:41:58.713282Z",
     "iopub.status.busy": "2022-01-11T11:41:58.712615Z",
     "iopub.status.idle": "2022-01-11T11:41:58.723749Z",
     "shell.execute_reply": "2022-01-11T11:41:58.724401Z",
     "shell.execute_reply.started": "2022-01-11T11:01:34.629030Z"
    },
    "id": "FYCtKXD1JrFw",
    "papermill": {
     "duration": 0.061304,
     "end_time": "2022-01-11T11:41:58.724632",
     "exception": false,
     "start_time": "2022-01-11T11:41:58.663328",
     "status": "completed"
    },
    "tags": []
   },
   "outputs": [
    {
     "name": "stdout",
     "output_type": "stream",
     "text": [
      "01 Column :  index\n",
      "02 Column :  type\n",
      "03 Column :  id\n",
      "04 Column :  score\n",
      "05 Column :  tags\n",
      "06 Column :  zipcode\n",
      "07 Column :  complaintid\n",
      "08 Column :  issue\n",
      "09 Column :  datereceived\n",
      "10 Column :  state\n",
      "11 Column :  consumerdisputed\n",
      "12 Column :  product\n",
      "13 Column :  companyresponse\n",
      "14 Column :  company\n",
      "15 Column :  submittedvia\n",
      "16 Column :  datesenttocompany\n",
      "17 Column :  companypublicresponse\n",
      "18 Column :  subproduct\n",
      "19 Column :  timely\n",
      "20 Column :  complaintwhathappened\n",
      "21 Column :  subissue\n",
      "22 Column :  consumerconsentprovided\n"
     ]
    }
   ],
   "source": [
    "# Assign new column names\n",
    "new_columns = {}\n",
    "for col in df.columns:\n",
    "    new_columns[col] = col.replace(\"_\", \"\").replace(\"source.\", \"\")\n",
    "\n",
    "df.rename(columns = new_columns, inplace = True)\n",
    "\n",
    "print_column_names()"
   ]
  },
  {
   "cell_type": "code",
   "execution_count": 7,
   "id": "4fba4d25",
   "metadata": {
    "execution": {
     "iopub.execute_input": "2022-01-11T11:41:58.824557Z",
     "iopub.status.busy": "2022-01-11T11:41:58.823901Z",
     "iopub.status.idle": "2022-01-11T11:41:58.830122Z",
     "shell.execute_reply": "2022-01-11T11:41:58.829558Z",
     "shell.execute_reply.started": "2022-01-11T11:01:34.644735Z"
    },
    "papermill": {
     "duration": 0.057434,
     "end_time": "2022-01-11T11:41:58.830275",
     "exception": false,
     "start_time": "2022-01-11T11:41:58.772841",
     "status": "completed"
    },
    "tags": []
   },
   "outputs": [
    {
     "name": "stdout",
     "output_type": "stream",
     "text": [
      "No of rows:\u001b[1m 78313 \u001b[0m\n",
      "No of cols:\u001b[1m 22 \u001b[0m\n"
     ]
    }
   ],
   "source": [
    "# Get the shape and size of the dataset\n",
    "print('No of rows:\\033[1m', df.shape[0], '\\033[0m')\n",
    "print('No of cols:\\033[1m', df.shape[1], '\\033[0m')"
   ]
  },
  {
   "cell_type": "code",
   "execution_count": 8,
   "id": "09082ced",
   "metadata": {
    "execution": {
     "iopub.execute_input": "2022-01-11T11:41:58.928068Z",
     "iopub.status.busy": "2022-01-11T11:41:58.927357Z",
     "iopub.status.idle": "2022-01-11T11:41:58.937883Z",
     "shell.execute_reply": "2022-01-11T11:41:58.938376Z",
     "shell.execute_reply.started": "2022-01-11T11:01:34.655396Z"
    },
    "id": "grQUPFL5JrFx",
    "papermill": {
     "duration": 0.061108,
     "end_time": "2022-01-11T11:41:58.938563",
     "exception": false,
     "start_time": "2022-01-11T11:41:58.877455",
     "status": "completed"
    },
    "tags": []
   },
   "outputs": [],
   "source": [
    "# Assign nan in place of blanks in the complaints column\n",
    "df.complaintwhathappened.replace(r'', np.nan, regex=True, inplace=True)"
   ]
  },
  {
   "cell_type": "code",
   "execution_count": 9,
   "id": "3eac1d20",
   "metadata": {
    "execution": {
     "iopub.execute_input": "2022-01-11T11:41:59.037417Z",
     "iopub.status.busy": "2022-01-11T11:41:59.036763Z",
     "iopub.status.idle": "2022-01-11T11:41:59.067221Z",
     "shell.execute_reply": "2022-01-11T11:41:59.066592Z",
     "shell.execute_reply.started": "2022-01-11T11:01:34.677905Z"
    },
    "id": "Jfxd8VSmJrFy",
    "papermill": {
     "duration": 0.081452,
     "end_time": "2022-01-11T11:41:59.067358",
     "exception": false,
     "start_time": "2022-01-11T11:41:58.985906",
     "status": "completed"
    },
    "tags": []
   },
   "outputs": [
    {
     "name": "stdout",
     "output_type": "stream",
     "text": [
      "Remaining Rows :  21072\n"
     ]
    }
   ],
   "source": [
    "# Remove all rows where complaints column is nan\n",
    "df = df[df.complaintwhathappened.notna()]\n",
    "print(\"Remaining Rows : \", len(df))"
   ]
  },
  {
   "cell_type": "markdown",
   "id": "4fd00e2c",
   "metadata": {
    "id": "L944HZpsJrFy",
    "papermill": {
     "duration": 0.046957,
     "end_time": "2022-01-11T11:41:59.163058",
     "exception": false,
     "start_time": "2022-01-11T11:41:59.116101",
     "status": "completed"
    },
    "tags": []
   },
   "source": [
    "## Prepare the text for topic modeling\n",
    "\n",
    "Once you have removed all the blank complaints, you need to:\n",
    "\n",
    "* Make the text lowercase\n",
    "* Remove text in square brackets\n",
    "* Remove punctuation\n",
    "* Remove words containing numbers\n",
    "\n",
    "\n",
    "Once you have done these cleaning operations you need to perform the following:\n",
    "* Lemmatize the texts\n",
    "* Use POS tags to get relevant words from the texts.\n"
   ]
  },
  {
   "cell_type": "code",
   "execution_count": 10,
   "id": "c5e085f1",
   "metadata": {
    "execution": {
     "iopub.execute_input": "2022-01-11T11:41:59.264167Z",
     "iopub.status.busy": "2022-01-11T11:41:59.263490Z",
     "iopub.status.idle": "2022-01-11T11:41:59.266388Z",
     "shell.execute_reply": "2022-01-11T11:41:59.265889Z",
     "shell.execute_reply.started": "2022-01-11T11:01:34.715862Z"
    },
    "id": "qm7SjjSkJrFz",
    "papermill": {
     "duration": 0.056024,
     "end_time": "2022-01-11T11:41:59.266520",
     "exception": false,
     "start_time": "2022-01-11T11:41:59.210496",
     "status": "completed"
    },
    "tags": []
   },
   "outputs": [],
   "source": [
    "# Write your function here to clean the text and remove all the unnecessary elements.\n",
    "def cleaned_text(sentence):\n",
    "    sentence = sentence.lower()\n",
    "    sentence = re.sub(\"[\\[].*?[\\]]\", \"\", sentence)\n",
    "    sentence = re.sub(r'[^\\w\\s]','', sentence) \n",
    "    sentence = re.sub(r'[0-9]', '', sentence, re.I|re.A)\n",
    "    return sentence"
   ]
  },
  {
   "cell_type": "code",
   "execution_count": 11,
   "id": "75fcd31e",
   "metadata": {
    "execution": {
     "iopub.execute_input": "2022-01-11T11:41:59.371103Z",
     "iopub.status.busy": "2022-01-11T11:41:59.369419Z",
     "iopub.status.idle": "2022-01-11T11:41:59.373534Z",
     "shell.execute_reply": "2022-01-11T11:41:59.374077Z",
     "shell.execute_reply.started": "2022-01-11T11:01:34.724107Z"
    },
    "id": "zgOu8t8HJrFz",
    "papermill": {
     "duration": 0.06057,
     "end_time": "2022-01-11T11:41:59.374250",
     "exception": false,
     "start_time": "2022-01-11T11:41:59.313680",
     "status": "completed"
    },
    "tags": []
   },
   "outputs": [],
   "source": [
    "# Write your function to Lemmatize the texts\n",
    "import nltk\n",
    "from nltk.stem import WordNetLemmatizer\n",
    "from nltk.corpus import wordnet\n",
    "\n",
    "lemmatizer = WordNetLemmatizer()\n",
    "\n",
    "# function to convert nltk tag to wordnet tag\n",
    "def nltk_tag_to_wordnet_tag(nltk_tag):\n",
    "    if nltk_tag.startswith('J'):\n",
    "        return wordnet.ADJ\n",
    "    elif nltk_tag.startswith('V'):\n",
    "        return wordnet.VERB\n",
    "    elif nltk_tag.startswith('N'):\n",
    "        return wordnet.NOUN\n",
    "    elif nltk_tag.startswith('R'):\n",
    "        return wordnet.ADV\n",
    "    else:          \n",
    "        return None\n",
    "\n",
    "def lemmatized_text(sentence):\n",
    "    # tokenize the sentence and find the POS tag for each token\n",
    "    nltk_tagged = nltk.pos_tag(nltk.word_tokenize(sentence))\n",
    "    # tuple of (token, wordnet_tag)\n",
    "    wordnet_tagged = map(lambda x: (x[0], nltk_tag_to_wordnet_tag(x[1])), nltk_tagged)\n",
    "    lemmatized_sentence = []\n",
    "    for word, tag in wordnet_tagged:\n",
    "        if tag is None:\n",
    "            # if there is no available tag, append the token as is\n",
    "            lemmatized_sentence.append(word)\n",
    "        else:        \n",
    "            # else use the tag to lemmatize the token\n",
    "            lemmatized_sentence.append(lemmatizer.lemmatize(word, tag))\n",
    "    return \" \".join(lemmatized_sentence)"
   ]
  },
  {
   "cell_type": "code",
   "execution_count": 12,
   "id": "90d91a41",
   "metadata": {
    "execution": {
     "iopub.execute_input": "2022-01-11T11:41:59.472748Z",
     "iopub.status.busy": "2022-01-11T11:41:59.471758Z",
     "iopub.status.idle": "2022-01-11T11:48:46.665520Z",
     "shell.execute_reply": "2022-01-11T11:48:46.666184Z",
     "shell.execute_reply.started": "2022-01-11T11:01:34.735928Z"
    },
    "id": "uXnN7aa_JrF0",
    "papermill": {
     "duration": 407.244695,
     "end_time": "2022-01-11T11:48:46.666447",
     "exception": false,
     "start_time": "2022-01-11T11:41:59.421752",
     "status": "completed"
    },
    "tags": []
   },
   "outputs": [
    {
     "name": "stderr",
     "output_type": "stream",
     "text": [
      "100%|██████████| 21072/21072 [06:47<00:00, 51.75it/s]\n"
     ]
    }
   ],
   "source": [
    "from tqdm import tqdm\n",
    "\n",
    "# Create a dataframe('df_clean') that will have only the complaints and the lemmatized complaints \n",
    "df_clean = pd.DataFrame()\n",
    "\n",
    "for x in tqdm(df.complaintwhathappened):\n",
    "    df_clean = df_clean.append({'raw_complaints':x, 'lemmatized_complaints':lemmatized_text(cleaned_text(x))}, ignore_index=True)"
   ]
  },
  {
   "cell_type": "code",
   "execution_count": 13,
   "id": "e6e6974d",
   "metadata": {
    "execution": {
     "iopub.execute_input": "2022-01-11T11:48:48.755494Z",
     "iopub.status.busy": "2022-01-11T11:48:48.754857Z",
     "iopub.status.idle": "2022-01-11T11:48:48.757856Z",
     "shell.execute_reply": "2022-01-11T11:48:48.758490Z",
     "shell.execute_reply.started": "2022-01-11T11:08:52.775830Z"
    },
    "id": "nOiDVvEIJrF0",
    "papermill": {
     "duration": 1.01013,
     "end_time": "2022-01-11T11:48:48.758679",
     "exception": false,
     "start_time": "2022-01-11T11:48:47.748549",
     "status": "completed"
    },
    "tags": []
   },
   "outputs": [
    {
     "data": {
      "text/html": [
       "<div>\n",
       "<style scoped>\n",
       "    .dataframe tbody tr th:only-of-type {\n",
       "        vertical-align: middle;\n",
       "    }\n",
       "\n",
       "    .dataframe tbody tr th {\n",
       "        vertical-align: top;\n",
       "    }\n",
       "\n",
       "    .dataframe thead th {\n",
       "        text-align: right;\n",
       "    }\n",
       "</style>\n",
       "<table border=\"1\" class=\"dataframe\">\n",
       "  <thead>\n",
       "    <tr style=\"text-align: right;\">\n",
       "      <th></th>\n",
       "      <th>raw_complaints</th>\n",
       "      <th>lemmatized_complaints</th>\n",
       "    </tr>\n",
       "  </thead>\n",
       "  <tbody>\n",
       "    <tr>\n",
       "      <th>0</th>\n",
       "      <td>Good morning my name is XXXX XXXX and I apprec...</td>\n",
       "      <td>good morning my name be xxxx xxxx and i apprec...</td>\n",
       "    </tr>\n",
       "    <tr>\n",
       "      <th>1</th>\n",
       "      <td>I upgraded my XXXX XXXX card in XX/XX/2018 and...</td>\n",
       "      <td>i upgrade my xxxx xxxx card in xxxx and be tel...</td>\n",
       "    </tr>\n",
       "    <tr>\n",
       "      <th>2</th>\n",
       "      <td>Chase Card was reported on XX/XX/2019. However...</td>\n",
       "      <td>chase card be report on xxxx however fraudulen...</td>\n",
       "    </tr>\n",
       "    <tr>\n",
       "      <th>3</th>\n",
       "      <td>On XX/XX/2018, while trying to book a XXXX  XX...</td>\n",
       "      <td>on xxxx while try to book a xxxx xxxx ticket i...</td>\n",
       "    </tr>\n",
       "    <tr>\n",
       "      <th>4</th>\n",
       "      <td>my grand son give me check for {$1600.00} i de...</td>\n",
       "      <td>my grand son give me check for i deposit it in...</td>\n",
       "    </tr>\n",
       "    <tr>\n",
       "      <th>...</th>\n",
       "      <td>...</td>\n",
       "      <td>...</td>\n",
       "    </tr>\n",
       "    <tr>\n",
       "      <th>21067</th>\n",
       "      <td>After being a Chase Card customer for well ove...</td>\n",
       "      <td>after be a chase card customer for well over a...</td>\n",
       "    </tr>\n",
       "    <tr>\n",
       "      <th>21068</th>\n",
       "      <td>On Wednesday, XX/XX/XXXX I called Chas, my XXX...</td>\n",
       "      <td>on wednesday xxxxxxxx i call chas my xxxx xxxx...</td>\n",
       "    </tr>\n",
       "    <tr>\n",
       "      <th>21069</th>\n",
       "      <td>I am not familiar with XXXX pay and did not un...</td>\n",
       "      <td>i be not familiar with xxxx pay and do not und...</td>\n",
       "    </tr>\n",
       "    <tr>\n",
       "      <th>21070</th>\n",
       "      <td>I have had flawless credit for 30 yrs. I've ha...</td>\n",
       "      <td>i have have flawless credit for yrs ive have c...</td>\n",
       "    </tr>\n",
       "    <tr>\n",
       "      <th>21071</th>\n",
       "      <td>Roughly 10+ years ago I closed out my accounts...</td>\n",
       "      <td>roughly year ago i close out my account with j...</td>\n",
       "    </tr>\n",
       "  </tbody>\n",
       "</table>\n",
       "<p>21072 rows × 2 columns</p>\n",
       "</div>"
      ],
      "text/plain": [
       "                                          raw_complaints  \\\n",
       "0      Good morning my name is XXXX XXXX and I apprec...   \n",
       "1      I upgraded my XXXX XXXX card in XX/XX/2018 and...   \n",
       "2      Chase Card was reported on XX/XX/2019. However...   \n",
       "3      On XX/XX/2018, while trying to book a XXXX  XX...   \n",
       "4      my grand son give me check for {$1600.00} i de...   \n",
       "...                                                  ...   \n",
       "21067  After being a Chase Card customer for well ove...   \n",
       "21068  On Wednesday, XX/XX/XXXX I called Chas, my XXX...   \n",
       "21069  I am not familiar with XXXX pay and did not un...   \n",
       "21070  I have had flawless credit for 30 yrs. I've ha...   \n",
       "21071  Roughly 10+ years ago I closed out my accounts...   \n",
       "\n",
       "                                   lemmatized_complaints  \n",
       "0      good morning my name be xxxx xxxx and i apprec...  \n",
       "1      i upgrade my xxxx xxxx card in xxxx and be tel...  \n",
       "2      chase card be report on xxxx however fraudulen...  \n",
       "3      on xxxx while try to book a xxxx xxxx ticket i...  \n",
       "4      my grand son give me check for i deposit it in...  \n",
       "...                                                  ...  \n",
       "21067  after be a chase card customer for well over a...  \n",
       "21068  on wednesday xxxxxxxx i call chas my xxxx xxxx...  \n",
       "21069  i be not familiar with xxxx pay and do not und...  \n",
       "21070  i have have flawless credit for yrs ive have c...  \n",
       "21071  roughly year ago i close out my account with j...  \n",
       "\n",
       "[21072 rows x 2 columns]"
      ]
     },
     "execution_count": 13,
     "metadata": {},
     "output_type": "execute_result"
    }
   ],
   "source": [
    "df_clean"
   ]
  },
  {
   "cell_type": "code",
   "execution_count": 14,
   "id": "9cd32d0f",
   "metadata": {
    "execution": {
     "iopub.execute_input": "2022-01-11T11:48:50.757521Z",
     "iopub.status.busy": "2022-01-11T11:48:50.756874Z",
     "iopub.status.idle": "2022-01-11T11:53:20.851991Z",
     "shell.execute_reply": "2022-01-11T11:53:20.851230Z",
     "shell.execute_reply.started": "2022-01-11T11:24:49.538850Z"
    },
    "id": "Kk7fc4DuJrF1",
    "papermill": {
     "duration": 271.092734,
     "end_time": "2022-01-11T11:53:20.852138",
     "exception": false,
     "start_time": "2022-01-11T11:48:49.759404",
     "status": "completed"
    },
    "tags": []
   },
   "outputs": [
    {
     "name": "stderr",
     "output_type": "stream",
     "text": [
      "21072it [04:27, 78.63it/s]\n"
     ]
    }
   ],
   "source": [
    "from nltk.corpus import stopwords\n",
    "stop = set(stopwords.words('english'))\n",
    "\n",
    "# Write your function to extract the POS tags \n",
    "def extrat_pos_tag(sentence):\n",
    "    # tokenize the sentence and find the POS tag for each token\n",
    "    nltk_tagged = nltk.pos_tag(nltk.word_tokenize(sentence))\n",
    "    return nltk_tagged\n",
    "\n",
    "def remove_stop_words(sentence):\n",
    "    words = [word for word in sentence.split() if word not in stop]\n",
    "    return \" \".join(words)\n",
    "\n",
    "pos_tags = []\n",
    "complaints = []\n",
    "length = []\n",
    "\n",
    "for index, complaint in tqdm(df_clean.iterrows()):\n",
    "    complaint_after_removal = remove_stop_words(complaint.raw_complaints)\n",
    "    pos_tags.append(extrat_pos_tag(complaint_after_removal))\n",
    "    complaints.append(complaint_after_removal)\n",
    "    length.append(len(complaint_after_removal))\n",
    "    \n",
    "df_clean[\"pos_tags\"] = pos_tags\n",
    "df_clean[\"complaints\"] = complaints\n",
    "df_clean[\"length\"] = length"
   ]
  },
  {
   "cell_type": "code",
   "execution_count": 15,
   "id": "905c7797",
   "metadata": {
    "execution": {
     "iopub.execute_input": "2022-01-11T11:53:24.203044Z",
     "iopub.status.busy": "2022-01-11T11:53:24.197844Z",
     "iopub.status.idle": "2022-01-11T11:53:24.421757Z",
     "shell.execute_reply": "2022-01-11T11:53:24.421074Z",
     "shell.execute_reply.started": "2022-01-11T11:29:35.939150Z"
    },
    "id": "AjxfchvFJrF2",
    "papermill": {
     "duration": 1.919942,
     "end_time": "2022-01-11T11:53:24.421921",
     "exception": false,
     "start_time": "2022-01-11T11:53:22.501979",
     "status": "completed"
    },
    "tags": []
   },
   "outputs": [
    {
     "data": {
      "text/html": [
       "<div>\n",
       "<style scoped>\n",
       "    .dataframe tbody tr th:only-of-type {\n",
       "        vertical-align: middle;\n",
       "    }\n",
       "\n",
       "    .dataframe tbody tr th {\n",
       "        vertical-align: top;\n",
       "    }\n",
       "\n",
       "    .dataframe thead th {\n",
       "        text-align: right;\n",
       "    }\n",
       "</style>\n",
       "<table border=\"1\" class=\"dataframe\">\n",
       "  <thead>\n",
       "    <tr style=\"text-align: right;\">\n",
       "      <th></th>\n",
       "      <th>raw_complaints</th>\n",
       "      <th>lemmatized_complaints</th>\n",
       "      <th>pos_tags</th>\n",
       "      <th>complaints</th>\n",
       "      <th>length</th>\n",
       "    </tr>\n",
       "  </thead>\n",
       "  <tbody>\n",
       "    <tr>\n",
       "      <th>0</th>\n",
       "      <td>Good morning my name is XXXX XXXX and I apprec...</td>\n",
       "      <td>good morning my name be xxxx xxxx and i apprec...</td>\n",
       "      <td>[(Good, JJ), (morning, NN), (name, NN), (XXXX,...</td>\n",
       "      <td>Good morning name XXXX XXXX I appreciate could...</td>\n",
       "      <td>349</td>\n",
       "    </tr>\n",
       "    <tr>\n",
       "      <th>1</th>\n",
       "      <td>I upgraded my XXXX XXXX card in XX/XX/2018 and...</td>\n",
       "      <td>i upgrade my xxxx xxxx card in xxxx and be tel...</td>\n",
       "      <td>[(I, PRP), (upgraded, VBD), (XXXX, NNP), (XXXX...</td>\n",
       "      <td>I upgraded XXXX XXXX card XX/XX/2018 told agen...</td>\n",
       "      <td>251</td>\n",
       "    </tr>\n",
       "    <tr>\n",
       "      <th>2</th>\n",
       "      <td>Chase Card was reported on XX/XX/2019. However...</td>\n",
       "      <td>chase card be report on xxxx however fraudulen...</td>\n",
       "      <td>[(Chase, NNP), (Card, NNP), (reported, VBD), (...</td>\n",
       "      <td>Chase Card reported XX/XX/2019. However, fraud...</td>\n",
       "      <td>183</td>\n",
       "    </tr>\n",
       "    <tr>\n",
       "      <th>3</th>\n",
       "      <td>On XX/XX/2018, while trying to book a XXXX  XX...</td>\n",
       "      <td>on xxxx while try to book a xxxx xxxx ticket i...</td>\n",
       "      <td>[(On, IN), (XX/XX/2018, NNP), (,, ,), (trying,...</td>\n",
       "      <td>On XX/XX/2018, trying book XXXX XXXX ticket, I...</td>\n",
       "      <td>1019</td>\n",
       "    </tr>\n",
       "    <tr>\n",
       "      <th>4</th>\n",
       "      <td>my grand son give me check for {$1600.00} i de...</td>\n",
       "      <td>my grand son give me check for i deposit it in...</td>\n",
       "      <td>[(grand, JJ), (son, NN), (give, VB), (check, N...</td>\n",
       "      <td>grand son give check {$1600.00} deposit chase ...</td>\n",
       "      <td>324</td>\n",
       "    </tr>\n",
       "    <tr>\n",
       "      <th>...</th>\n",
       "      <td>...</td>\n",
       "      <td>...</td>\n",
       "      <td>...</td>\n",
       "      <td>...</td>\n",
       "      <td>...</td>\n",
       "    </tr>\n",
       "    <tr>\n",
       "      <th>21067</th>\n",
       "      <td>After being a Chase Card customer for well ove...</td>\n",
       "      <td>after be a chase card customer for well over a...</td>\n",
       "      <td>[(After, IN), (Chase, NNP), (Card, NNP), (cust...</td>\n",
       "      <td>After Chase Card customer well decade, offered...</td>\n",
       "      <td>505</td>\n",
       "    </tr>\n",
       "    <tr>\n",
       "      <th>21068</th>\n",
       "      <td>On Wednesday, XX/XX/XXXX I called Chas, my XXX...</td>\n",
       "      <td>on wednesday xxxxxxxx i call chas my xxxx xxxx...</td>\n",
       "      <td>[(On, IN), (Wednesday, NNP), (,, ,), (XX/XX/XX...</td>\n",
       "      <td>On Wednesday, XX/XX/XXXX I called Chas, XXXX X...</td>\n",
       "      <td>1479</td>\n",
       "    </tr>\n",
       "    <tr>\n",
       "      <th>21069</th>\n",
       "      <td>I am not familiar with XXXX pay and did not un...</td>\n",
       "      <td>i be not familiar with xxxx pay and do not und...</td>\n",
       "      <td>[(I, PRP), (familiar, JJ), (XXXX, JJ), (pay, N...</td>\n",
       "      <td>I familiar XXXX pay understand great risk prov...</td>\n",
       "      <td>1615</td>\n",
       "    </tr>\n",
       "    <tr>\n",
       "      <th>21070</th>\n",
       "      <td>I have had flawless credit for 30 yrs. I've ha...</td>\n",
       "      <td>i have have flawless credit for yrs ive have c...</td>\n",
       "      <td>[(I, PRP), (flawless, VBP), (credit, NN), (30,...</td>\n",
       "      <td>I flawless credit 30 yrs. I've Chase credit ca...</td>\n",
       "      <td>1626</td>\n",
       "    </tr>\n",
       "    <tr>\n",
       "      <th>21071</th>\n",
       "      <td>Roughly 10+ years ago I closed out my accounts...</td>\n",
       "      <td>roughly year ago i close out my account with j...</td>\n",
       "      <td>[(Roughly, RB), (10+, CD), (years, NNS), (ago,...</td>\n",
       "      <td>Roughly 10+ years ago I closed accounts JP Mor...</td>\n",
       "      <td>547</td>\n",
       "    </tr>\n",
       "  </tbody>\n",
       "</table>\n",
       "<p>21072 rows × 5 columns</p>\n",
       "</div>"
      ],
      "text/plain": [
       "                                          raw_complaints  \\\n",
       "0      Good morning my name is XXXX XXXX and I apprec...   \n",
       "1      I upgraded my XXXX XXXX card in XX/XX/2018 and...   \n",
       "2      Chase Card was reported on XX/XX/2019. However...   \n",
       "3      On XX/XX/2018, while trying to book a XXXX  XX...   \n",
       "4      my grand son give me check for {$1600.00} i de...   \n",
       "...                                                  ...   \n",
       "21067  After being a Chase Card customer for well ove...   \n",
       "21068  On Wednesday, XX/XX/XXXX I called Chas, my XXX...   \n",
       "21069  I am not familiar with XXXX pay and did not un...   \n",
       "21070  I have had flawless credit for 30 yrs. I've ha...   \n",
       "21071  Roughly 10+ years ago I closed out my accounts...   \n",
       "\n",
       "                                   lemmatized_complaints  \\\n",
       "0      good morning my name be xxxx xxxx and i apprec...   \n",
       "1      i upgrade my xxxx xxxx card in xxxx and be tel...   \n",
       "2      chase card be report on xxxx however fraudulen...   \n",
       "3      on xxxx while try to book a xxxx xxxx ticket i...   \n",
       "4      my grand son give me check for i deposit it in...   \n",
       "...                                                  ...   \n",
       "21067  after be a chase card customer for well over a...   \n",
       "21068  on wednesday xxxxxxxx i call chas my xxxx xxxx...   \n",
       "21069  i be not familiar with xxxx pay and do not und...   \n",
       "21070  i have have flawless credit for yrs ive have c...   \n",
       "21071  roughly year ago i close out my account with j...   \n",
       "\n",
       "                                                pos_tags  \\\n",
       "0      [(Good, JJ), (morning, NN), (name, NN), (XXXX,...   \n",
       "1      [(I, PRP), (upgraded, VBD), (XXXX, NNP), (XXXX...   \n",
       "2      [(Chase, NNP), (Card, NNP), (reported, VBD), (...   \n",
       "3      [(On, IN), (XX/XX/2018, NNP), (,, ,), (trying,...   \n",
       "4      [(grand, JJ), (son, NN), (give, VB), (check, N...   \n",
       "...                                                  ...   \n",
       "21067  [(After, IN), (Chase, NNP), (Card, NNP), (cust...   \n",
       "21068  [(On, IN), (Wednesday, NNP), (,, ,), (XX/XX/XX...   \n",
       "21069  [(I, PRP), (familiar, JJ), (XXXX, JJ), (pay, N...   \n",
       "21070  [(I, PRP), (flawless, VBP), (credit, NN), (30,...   \n",
       "21071  [(Roughly, RB), (10+, CD), (years, NNS), (ago,...   \n",
       "\n",
       "                                              complaints  length  \n",
       "0      Good morning name XXXX XXXX I appreciate could...     349  \n",
       "1      I upgraded XXXX XXXX card XX/XX/2018 told agen...     251  \n",
       "2      Chase Card reported XX/XX/2019. However, fraud...     183  \n",
       "3      On XX/XX/2018, trying book XXXX XXXX ticket, I...    1019  \n",
       "4      grand son give check {$1600.00} deposit chase ...     324  \n",
       "...                                                  ...     ...  \n",
       "21067  After Chase Card customer well decade, offered...     505  \n",
       "21068  On Wednesday, XX/XX/XXXX I called Chas, XXXX X...    1479  \n",
       "21069  I familiar XXXX pay understand great risk prov...    1615  \n",
       "21070  I flawless credit 30 yrs. I've Chase credit ca...    1626  \n",
       "21071  Roughly 10+ years ago I closed accounts JP Mor...     547  \n",
       "\n",
       "[21072 rows x 5 columns]"
      ]
     },
     "execution_count": 15,
     "metadata": {},
     "output_type": "execute_result"
    }
   ],
   "source": [
    "# The clean dataframe should now contain the raw complaint, lemmatized complaint and the complaint after removing POS tags.\n",
    "df_clean"
   ]
  },
  {
   "cell_type": "markdown",
   "id": "fc754313",
   "metadata": {
    "id": "_7Un1AElJrF2",
    "papermill": {
     "duration": 1.647178,
     "end_time": "2022-01-11T11:53:27.716861",
     "exception": false,
     "start_time": "2022-01-11T11:53:26.069683",
     "status": "completed"
    },
    "tags": []
   },
   "source": [
    "## Exploratory data analysis to get familiar with the data.\n",
    "\n",
    "Write the code in this task to perform the following:\n",
    "\n",
    "*   Visualise the data according to the 'Complaint' character length.\n",
    "*   Using a word cloud find the top 40 words by frequency among all the articles after processing the text.\n",
    "*   Find the top unigrams, bigrams and trigrams by frequency among all the complaints after processing the text."
   ]
  },
  {
   "cell_type": "code",
   "execution_count": 16,
   "id": "f0c8bcdc",
   "metadata": {
    "execution": {
     "iopub.execute_input": "2022-01-11T11:53:31.042763Z",
     "iopub.status.busy": "2022-01-11T11:53:31.042093Z",
     "iopub.status.idle": "2022-01-11T11:53:31.336821Z",
     "shell.execute_reply": "2022-01-11T11:53:31.337307Z",
     "shell.execute_reply.started": "2022-01-11T11:30:19.960005Z"
    },
    "id": "q-zaqJF6JrF2",
    "papermill": {
     "duration": 1.993913,
     "end_time": "2022-01-11T11:53:31.337477",
     "exception": false,
     "start_time": "2022-01-11T11:53:29.343564",
     "status": "completed"
    },
    "tags": []
   },
   "outputs": [
    {
     "data": {
      "image/png": "[encoded data removed]",
      "text/plain": [
       "<Figure size 432x288 with 1 Axes>"
      ]
     },
     "metadata": {
      "needs_background": "light"
     },
     "output_type": "display_data"
    }
   ],
   "source": [
    "# Write your code here to visualise the data according to the 'Complaint' character length\n",
    "%matplotlib inline\n",
    "\n",
    "import matplotlib.pyplot as plt\n",
    "\n",
    "plt.hist(df_clean.length, bins=50)\n",
    "plt.show()"
   ]
  },
  {
   "cell_type": "code",
   "execution_count": 17,
   "id": "b82e045a",
   "metadata": {
    "execution": {
     "iopub.execute_input": "2022-01-11T11:53:34.802696Z",
     "iopub.status.busy": "2022-01-11T11:53:34.802010Z",
     "iopub.status.idle": "2022-01-11T11:53:35.213760Z",
     "shell.execute_reply": "2022-01-11T11:53:35.213121Z",
     "shell.execute_reply.started": "2022-01-11T11:41:06.827528Z"
    },
    "papermill": {
     "duration": 2.091644,
     "end_time": "2022-01-11T11:53:35.213898",
     "exception": false,
     "start_time": "2022-01-11T11:53:33.122254",
     "status": "completed"
    },
    "tags": []
   },
   "outputs": [
    {
     "data": {
      "image/png": "[encoded data removed]",
      "text/plain": [
       "<Figure size 432x288 with 1 Axes>"
      ]
     },
     "metadata": {
      "needs_background": "light"
     },
     "output_type": "display_data"
    }
   ],
   "source": [
    "plt.hist([l for l in df_clean.length if l < 8000], bins=50)\n",
    "plt.show()"
   ]
  },
  {
   "cell_type": "markdown",
   "id": "e0b65057",
   "metadata": {
    "id": "T9jD_6SeJrF3",
    "papermill": {
     "duration": 1.652919,
     "end_time": "2022-01-11T11:53:38.528134",
     "exception": false,
     "start_time": "2022-01-11T11:53:36.875215",
     "status": "completed"
    },
    "tags": []
   },
   "source": [
    "#### Find the top 40 words by frequency among all the articles after processing the text."
   ]
  },
  {
   "cell_type": "code",
   "execution_count": 18,
   "id": "ad6f79da",
   "metadata": {
    "execution": {
     "iopub.execute_input": "2022-01-11T11:53:41.868401Z",
     "iopub.status.busy": "2022-01-11T11:53:41.867680Z",
     "iopub.status.idle": "2022-01-11T11:53:41.869494Z",
     "shell.execute_reply": "2022-01-11T11:53:41.869971Z",
     "shell.execute_reply.started": "2022-01-11T11:14:20.699831Z"
    },
    "id": "QcfdvtfZJrF3",
    "papermill": {
     "duration": 1.645667,
     "end_time": "2022-01-11T11:53:41.870142",
     "exception": false,
     "start_time": "2022-01-11T11:53:40.224475",
     "status": "completed"
    },
    "tags": []
   },
   "outputs": [],
   "source": [
    "#Using a word cloud find the top 40 words by frequency among all the articles after processing the text\n"
   ]
  },
  {
   "cell_type": "code",
   "execution_count": 19,
   "id": "6362d875",
   "metadata": {
    "execution": {
     "iopub.execute_input": "2022-01-11T11:53:45.187459Z",
     "iopub.status.busy": "2022-01-11T11:53:45.186831Z",
     "iopub.status.idle": "2022-01-11T11:53:45.189318Z",
     "shell.execute_reply": "2022-01-11T11:53:45.189846Z",
     "shell.execute_reply.started": "2022-01-11T11:14:20.702296Z"
    },
    "id": "OkSmc3UaJrF4",
    "papermill": {
     "duration": 1.682982,
     "end_time": "2022-01-11T11:53:45.190024",
     "exception": false,
     "start_time": "2022-01-11T11:53:43.507042",
     "status": "completed"
    },
    "tags": []
   },
   "outputs": [],
   "source": [
    "#Removing -PRON- from the text corpus\n",
    "#df_clean['Complaint_clean'] = df_clean['complaint_POS_removed'].str.replace('-PRON-', '')"
   ]
  },
  {
   "cell_type": "markdown",
   "id": "82b9162b",
   "metadata": {
    "id": "5DfCSbbmJrF4",
    "papermill": {
     "duration": 1.69385,
     "end_time": "2022-01-11T11:53:48.534961",
     "exception": false,
     "start_time": "2022-01-11T11:53:46.841111",
     "status": "completed"
    },
    "tags": []
   },
   "source": [
    "#### Find the top unigrams,bigrams and trigrams by frequency among all the complaints after processing the text."
   ]
  },
  {
   "cell_type": "code",
   "execution_count": 20,
   "id": "e70c5c5b",
   "metadata": {
    "execution": {
     "iopub.execute_input": "2022-01-11T11:53:51.813680Z",
     "iopub.status.busy": "2022-01-11T11:53:51.812381Z",
     "iopub.status.idle": "2022-01-11T11:53:51.816397Z",
     "shell.execute_reply": "2022-01-11T11:53:51.815890Z",
     "shell.execute_reply.started": "2022-01-11T11:14:20.703926Z"
    },
    "id": "5mbk5DS5JrF4",
    "papermill": {
     "duration": 1.642775,
     "end_time": "2022-01-11T11:53:51.816538",
     "exception": false,
     "start_time": "2022-01-11T11:53:50.173763",
     "status": "completed"
    },
    "tags": []
   },
   "outputs": [],
   "source": [
    "#Write your code here to find the top 30 unigram frequency among the complaints in the cleaned datafram(df_clean). \n"
   ]
  },
  {
   "cell_type": "code",
   "execution_count": 21,
   "id": "43b84646",
   "metadata": {
    "execution": {
     "iopub.execute_input": "2022-01-11T11:53:55.090201Z",
     "iopub.status.busy": "2022-01-11T11:53:55.089223Z",
     "iopub.status.idle": "2022-01-11T11:53:55.093028Z",
     "shell.execute_reply": "2022-01-11T11:53:55.093576Z",
     "shell.execute_reply.started": "2022-01-11T11:14:20.705901Z"
    },
    "id": "YX7fedm1JrF8",
    "papermill": {
     "duration": 1.642047,
     "end_time": "2022-01-11T11:53:55.093781",
     "exception": false,
     "start_time": "2022-01-11T11:53:53.451734",
     "status": "completed"
    },
    "tags": []
   },
   "outputs": [],
   "source": [
    "#Print the top 10 words in the unigram frequency\n"
   ]
  },
  {
   "cell_type": "code",
   "execution_count": 22,
   "id": "502f00fa",
   "metadata": {
    "execution": {
     "iopub.execute_input": "2022-01-11T11:53:58.460568Z",
     "iopub.status.busy": "2022-01-11T11:53:58.459706Z",
     "iopub.status.idle": "2022-01-11T11:53:58.462817Z",
     "shell.execute_reply": "2022-01-11T11:53:58.462078Z",
     "shell.execute_reply.started": "2022-01-11T11:14:20.707611Z"
    },
    "id": "aV7kD7w8JrF8",
    "papermill": {
     "duration": 1.647752,
     "end_time": "2022-01-11T11:53:58.462967",
     "exception": false,
     "start_time": "2022-01-11T11:53:56.815215",
     "status": "completed"
    },
    "tags": []
   },
   "outputs": [],
   "source": [
    "#Write your code here to find the top 30 bigram frequency among the complaints in the cleaned datafram(df_clean). \n"
   ]
  },
  {
   "cell_type": "code",
   "execution_count": 23,
   "id": "96f7369e",
   "metadata": {
    "execution": {
     "iopub.execute_input": "2022-01-11T11:54:01.726870Z",
     "iopub.status.busy": "2022-01-11T11:54:01.726195Z",
     "iopub.status.idle": "2022-01-11T11:54:01.729307Z",
     "shell.execute_reply": "2022-01-11T11:54:01.729885Z",
     "shell.execute_reply.started": "2022-01-11T11:14:20.709629Z"
    },
    "id": "NPnMNIpyJrF9",
    "papermill": {
     "duration": 1.633313,
     "end_time": "2022-01-11T11:54:01.730046",
     "exception": false,
     "start_time": "2022-01-11T11:54:00.096733",
     "status": "completed"
    },
    "tags": []
   },
   "outputs": [],
   "source": [
    "#Print the top 10 words in the bigram frequency"
   ]
  },
  {
   "cell_type": "code",
   "execution_count": 24,
   "id": "5c96351a",
   "metadata": {
    "execution": {
     "iopub.execute_input": "2022-01-11T11:54:05.143637Z",
     "iopub.status.busy": "2022-01-11T11:54:05.143018Z",
     "iopub.status.idle": "2022-01-11T11:54:05.145792Z",
     "shell.execute_reply": "2022-01-11T11:54:05.145185Z",
     "shell.execute_reply.started": "2022-01-11T11:14:20.711418Z"
    },
    "id": "Xkh7vtbtJrF-",
    "papermill": {
     "duration": 1.780405,
     "end_time": "2022-01-11T11:54:05.145925",
     "exception": false,
     "start_time": "2022-01-11T11:54:03.365520",
     "status": "completed"
    },
    "tags": []
   },
   "outputs": [],
   "source": [
    "#Write your code here to find the top 30 trigram frequency among the complaints in the cleaned datafram(df_clean). \n"
   ]
  },
  {
   "cell_type": "code",
   "execution_count": 25,
   "id": "c93f5205",
   "metadata": {
    "execution": {
     "iopub.execute_input": "2022-01-11T11:54:08.440534Z",
     "iopub.status.busy": "2022-01-11T11:54:08.439927Z",
     "iopub.status.idle": "2022-01-11T11:54:08.443381Z",
     "shell.execute_reply": "2022-01-11T11:54:08.443969Z",
     "shell.execute_reply.started": "2022-01-11T11:14:20.713401Z"
    },
    "id": "REcVxNfvJrF-",
    "papermill": {
     "duration": 1.644382,
     "end_time": "2022-01-11T11:54:08.444137",
     "exception": false,
     "start_time": "2022-01-11T11:54:06.799755",
     "status": "completed"
    },
    "tags": []
   },
   "outputs": [],
   "source": [
    "#Print the top 10 words in the trigram frequency"
   ]
  },
  {
   "cell_type": "markdown",
   "id": "5083dc2b",
   "metadata": {
    "id": "yUXzFji0JrF_",
    "papermill": {
     "duration": 1.624621,
     "end_time": "2022-01-11T11:54:11.712328",
     "exception": false,
     "start_time": "2022-01-11T11:54:10.087707",
     "status": "completed"
    },
    "tags": []
   },
   "source": [
    "## The personal details of customer has been masked in the dataset with xxxx. Let's remove the masked text as this will be of no use for our analysis"
   ]
  },
  {
   "cell_type": "code",
   "execution_count": 26,
   "id": "e6da2811",
   "metadata": {
    "execution": {
     "iopub.execute_input": "2022-01-11T11:54:15.036841Z",
     "iopub.status.busy": "2022-01-11T11:54:15.036110Z",
     "iopub.status.idle": "2022-01-11T11:54:15.038644Z",
     "shell.execute_reply": "2022-01-11T11:54:15.039142Z",
     "shell.execute_reply.started": "2022-01-11T11:14:20.715131Z"
    },
    "id": "wKda-a_IJrF_",
    "papermill": {
     "duration": 1.639514,
     "end_time": "2022-01-11T11:54:15.039311",
     "exception": false,
     "start_time": "2022-01-11T11:54:13.399797",
     "status": "completed"
    },
    "tags": []
   },
   "outputs": [],
   "source": [
    "#df_clean['Complaint_clean'] = df_clean['Complaint_clean'].str.replace('xxxx','')"
   ]
  },
  {
   "cell_type": "code",
   "execution_count": 27,
   "id": "5914ea9a",
   "metadata": {
    "execution": {
     "iopub.execute_input": "2022-01-11T11:54:18.352383Z",
     "iopub.status.busy": "2022-01-11T11:54:18.351764Z",
     "iopub.status.idle": "2022-01-11T11:54:18.353635Z",
     "shell.execute_reply": "2022-01-11T11:54:18.354138Z",
     "shell.execute_reply.started": "2022-01-11T11:14:20.716905Z"
    },
    "id": "9UIFk8fQJrF_",
    "papermill": {
     "duration": 1.665819,
     "end_time": "2022-01-11T11:54:18.354300",
     "exception": false,
     "start_time": "2022-01-11T11:54:16.688481",
     "status": "completed"
    },
    "tags": []
   },
   "outputs": [],
   "source": [
    "#All masked texts has been removed\n",
    "#df_clean"
   ]
  },
  {
   "cell_type": "markdown",
   "id": "30d62210",
   "metadata": {
    "id": "k-I0k0QtJrGA",
    "papermill": {
     "duration": 1.699762,
     "end_time": "2022-01-11T11:54:21.685743",
     "exception": false,
     "start_time": "2022-01-11T11:54:19.985981",
     "status": "completed"
    },
    "tags": []
   },
   "source": [
    "## Feature Extraction\n",
    "Convert the raw texts to a matrix of TF-IDF features\n",
    "\n",
    "**max_df** is used for removing terms that appear too frequently, also known as \"corpus-specific stop words\"\n",
    "max_df = 0.95 means \"ignore terms that appear in more than 95% of the complaints\"\n",
    "\n",
    "**min_df** is used for removing terms that appear too infrequently\n",
    "min_df = 2 means \"ignore terms that appear in less than 2 complaints\""
   ]
  },
  {
   "cell_type": "code",
   "execution_count": 28,
   "id": "b67099cc",
   "metadata": {
    "execution": {
     "iopub.execute_input": "2022-01-11T11:54:24.958741Z",
     "iopub.status.busy": "2022-01-11T11:54:24.958086Z",
     "iopub.status.idle": "2022-01-11T11:54:24.960401Z",
     "shell.execute_reply": "2022-01-11T11:54:24.960940Z",
     "shell.execute_reply.started": "2022-01-11T11:14:20.718646Z"
    },
    "id": "Y8fGwaCPJrGA",
    "papermill": {
     "duration": 1.639777,
     "end_time": "2022-01-11T11:54:24.961107",
     "exception": false,
     "start_time": "2022-01-11T11:54:23.321330",
     "status": "completed"
    },
    "tags": []
   },
   "outputs": [],
   "source": [
    "#Write your code here to initialise the TfidfVectorizer \n",
    "\n"
   ]
  },
  {
   "cell_type": "markdown",
   "id": "c99beb52",
   "metadata": {
    "id": "yYzD85nTJrGA",
    "papermill": {
     "duration": 1.641441,
     "end_time": "2022-01-11T11:54:28.253430",
     "exception": false,
     "start_time": "2022-01-11T11:54:26.611989",
     "status": "completed"
    },
    "tags": []
   },
   "source": [
    "#### Create a document term matrix using fit_transform\n",
    "\n",
    "The contents of a document term matrix are tuples of (complaint_id,token_id) tf-idf score:\n",
    "The tuples that are not there have a tf-idf score of 0"
   ]
  },
  {
   "cell_type": "code",
   "execution_count": 29,
   "id": "d977a6a7",
   "metadata": {
    "execution": {
     "iopub.execute_input": "2022-01-11T11:54:31.612710Z",
     "iopub.status.busy": "2022-01-11T11:54:31.612042Z",
     "iopub.status.idle": "2022-01-11T11:54:31.614629Z",
     "shell.execute_reply": "2022-01-11T11:54:31.615171Z",
     "shell.execute_reply.started": "2022-01-11T11:14:20.721199Z"
    },
    "id": "ffzdDpp_JrGB",
    "papermill": {
     "duration": 1.63822,
     "end_time": "2022-01-11T11:54:31.615342",
     "exception": false,
     "start_time": "2022-01-11T11:54:29.977122",
     "status": "completed"
    },
    "tags": []
   },
   "outputs": [],
   "source": [
    "#Write your code here to create the Document Term Matrix by transforming the complaints column present in df_clean.\n"
   ]
  },
  {
   "cell_type": "markdown",
   "id": "352e6380",
   "metadata": {
    "id": "7Q9lwvNEJrGB",
    "papermill": {
     "duration": 1.633614,
     "end_time": "2022-01-11T11:54:34.881444",
     "exception": false,
     "start_time": "2022-01-11T11:54:33.247830",
     "status": "completed"
    },
    "tags": []
   },
   "source": [
    "## Topic Modelling using NMF\n",
    "\n",
    "Non-Negative Matrix Factorization (NMF) is an unsupervised technique so there are no labeling of topics that the model will be trained on. The way it works is that, NMF decomposes (or factorizes) high-dimensional vectors into a lower-dimensional representation. These lower-dimensional vectors are non-negative which also means their coefficients are non-negative.\n",
    "\n",
    "In this task you have to perform the following:\n",
    "\n",
    "* Find the best number of clusters \n",
    "* Apply the best number to create word clusters\n",
    "* Inspect & validate the correction of each cluster wrt the complaints \n",
    "* Correct the labels if needed \n",
    "* Map the clusters to topics/cluster names"
   ]
  },
  {
   "cell_type": "code",
   "execution_count": 30,
   "id": "ebb2a7fa",
   "metadata": {
    "execution": {
     "iopub.execute_input": "2022-01-11T11:54:38.387081Z",
     "iopub.status.busy": "2022-01-11T11:54:38.386307Z",
     "iopub.status.idle": "2022-01-11T11:54:38.415708Z",
     "shell.execute_reply": "2022-01-11T11:54:38.416307Z",
     "shell.execute_reply.started": "2022-01-11T11:14:20.722832Z"
    },
    "id": "amLT4omWJrGB",
    "papermill": {
     "duration": 1.823522,
     "end_time": "2022-01-11T11:54:38.416485",
     "exception": false,
     "start_time": "2022-01-11T11:54:36.592963",
     "status": "completed"
    },
    "tags": []
   },
   "outputs": [],
   "source": [
    "from sklearn.decomposition import NMF"
   ]
  },
  {
   "cell_type": "markdown",
   "id": "93cb23a5",
   "metadata": {
    "id": "0wYR1xUTJrGD",
    "papermill": {
     "duration": 1.632195,
     "end_time": "2022-01-11T11:54:41.783437",
     "exception": false,
     "start_time": "2022-01-11T11:54:40.151242",
     "status": "completed"
    },
    "tags": []
   },
   "source": [
    "## Manual Topic Modeling\n",
    "You need to do take the trial & error approach to find the best num of topics for your NMF model.\n",
    "\n",
    "The only parameter that is required is the number of components i.e. the number of topics we want. This is the most crucial step in the whole topic modeling process and will greatly affect how good your final topics are."
   ]
  },
  {
   "cell_type": "code",
   "execution_count": 31,
   "id": "954a0cbd",
   "metadata": {
    "execution": {
     "iopub.execute_input": "2022-01-11T11:54:45.054153Z",
     "iopub.status.busy": "2022-01-11T11:54:45.053213Z",
     "iopub.status.idle": "2022-01-11T11:54:45.056179Z",
     "shell.execute_reply": "2022-01-11T11:54:45.056689Z",
     "shell.execute_reply.started": "2022-01-11T11:14:20.724456Z"
    },
    "id": "sgd2A6bhJrGD",
    "papermill": {
     "duration": 1.637869,
     "end_time": "2022-01-11T11:54:45.056851",
     "exception": false,
     "start_time": "2022-01-11T11:54:43.418982",
     "status": "completed"
    },
    "tags": []
   },
   "outputs": [],
   "source": [
    "#Load your nmf_model with the n_components i.e 5\n",
    "#num_topics = #write the value you want to test out\n",
    "\n",
    "#keep the random_state =40\n",
    "#nmf_model = #write your code here"
   ]
  },
  {
   "cell_type": "code",
   "execution_count": 32,
   "id": "ab6c44ab",
   "metadata": {
    "execution": {
     "iopub.execute_input": "2022-01-11T11:54:48.397142Z",
     "iopub.status.busy": "2022-01-11T11:54:48.396500Z",
     "iopub.status.idle": "2022-01-11T11:54:48.398991Z",
     "shell.execute_reply": "2022-01-11T11:54:48.399547Z",
     "shell.execute_reply.started": "2022-01-11T11:14:20.726365Z"
    },
    "id": "VPMDYbt_JrGE",
    "papermill": {
     "duration": 1.643768,
     "end_time": "2022-01-11T11:54:48.399720",
     "exception": false,
     "start_time": "2022-01-11T11:54:46.755952",
     "status": "completed"
    },
    "tags": []
   },
   "outputs": [],
   "source": [
    "#nmf_model.fit(dtm)\n",
    "#len(tfidf.get_feature_names())"
   ]
  },
  {
   "cell_type": "code",
   "execution_count": 33,
   "id": "ecbf56a1",
   "metadata": {
    "execution": {
     "iopub.execute_input": "2022-01-11T11:54:51.700915Z",
     "iopub.status.busy": "2022-01-11T11:54:51.699901Z",
     "iopub.status.idle": "2022-01-11T11:54:51.702181Z",
     "shell.execute_reply": "2022-01-11T11:54:51.702611Z",
     "shell.execute_reply.started": "2022-01-11T11:14:20.727921Z"
    },
    "id": "16kRfat5JrGE",
    "papermill": {
     "duration": 1.66102,
     "end_time": "2022-01-11T11:54:51.702801",
     "exception": false,
     "start_time": "2022-01-11T11:54:50.041781",
     "status": "completed"
    },
    "tags": []
   },
   "outputs": [],
   "source": [
    "#Print the Top15 words for each of the topics\n"
   ]
  },
  {
   "cell_type": "code",
   "execution_count": 34,
   "id": "ea76eb5e",
   "metadata": {
    "execution": {
     "iopub.execute_input": "2022-01-11T11:54:55.024871Z",
     "iopub.status.busy": "2022-01-11T11:54:55.024190Z",
     "iopub.status.idle": "2022-01-11T11:54:55.026423Z",
     "shell.execute_reply": "2022-01-11T11:54:55.026974Z",
     "shell.execute_reply.started": "2022-01-11T11:14:20.729865Z"
    },
    "id": "0OIT7LmFJrGF",
    "papermill": {
     "duration": 1.69571,
     "end_time": "2022-01-11T11:54:55.027143",
     "exception": false,
     "start_time": "2022-01-11T11:54:53.331433",
     "status": "completed"
    },
    "tags": []
   },
   "outputs": [],
   "source": [
    "#Create the best topic for each complaint in terms of integer value 0,1,2,3 & 4\n",
    "\n"
   ]
  },
  {
   "cell_type": "code",
   "execution_count": 35,
   "id": "35c81908",
   "metadata": {
    "execution": {
     "iopub.execute_input": "2022-01-11T11:54:58.308866Z",
     "iopub.status.busy": "2022-01-11T11:54:58.308120Z",
     "iopub.status.idle": "2022-01-11T11:54:58.311113Z",
     "shell.execute_reply": "2022-01-11T11:54:58.311596Z",
     "shell.execute_reply.started": "2022-01-11T11:14:20.731727Z"
    },
    "id": "peyYv-ORJrGF",
    "papermill": {
     "duration": 1.645604,
     "end_time": "2022-01-11T11:54:58.311833",
     "exception": false,
     "start_time": "2022-01-11T11:54:56.666229",
     "status": "completed"
    },
    "tags": []
   },
   "outputs": [],
   "source": [
    "#Assign the best topic to each of the cmplaints in Topic Column\n",
    "\n",
    "#df_clean['Topic'] = #write your code to assign topics to each rows."
   ]
  },
  {
   "cell_type": "code",
   "execution_count": 36,
   "id": "876632dc",
   "metadata": {
    "execution": {
     "iopub.execute_input": "2022-01-11T11:55:01.621857Z",
     "iopub.status.busy": "2022-01-11T11:55:01.620322Z",
     "iopub.status.idle": "2022-01-11T11:55:01.623857Z",
     "shell.execute_reply": "2022-01-11T11:55:01.624429Z",
     "shell.execute_reply.started": "2022-01-11T11:14:20.733454Z"
    },
    "id": "fLh_Gf3nJrGF",
    "papermill": {
     "duration": 1.67438,
     "end_time": "2022-01-11T11:55:01.624592",
     "exception": false,
     "start_time": "2022-01-11T11:54:59.950212",
     "status": "completed"
    },
    "tags": []
   },
   "outputs": [],
   "source": [
    "#df_clean.head()"
   ]
  },
  {
   "cell_type": "code",
   "execution_count": 37,
   "id": "58f34d81",
   "metadata": {
    "execution": {
     "iopub.execute_input": "2022-01-11T11:55:04.953420Z",
     "iopub.status.busy": "2022-01-11T11:55:04.952746Z",
     "iopub.status.idle": "2022-01-11T11:55:04.955151Z",
     "shell.execute_reply": "2022-01-11T11:55:04.954567Z",
     "shell.execute_reply.started": "2022-01-11T11:14:20.735571Z"
    },
    "id": "aQKpufSPJrGG",
    "papermill": {
     "duration": 1.637669,
     "end_time": "2022-01-11T11:55:04.955292",
     "exception": false,
     "start_time": "2022-01-11T11:55:03.317623",
     "status": "completed"
    },
    "tags": []
   },
   "outputs": [],
   "source": [
    "#Print the first 5 Complaint for each of the Topics\n",
    "#df_clean=df_clean.groupby('Topic').head(5)\n",
    "#df_clean.sort_values('Topic')"
   ]
  },
  {
   "cell_type": "markdown",
   "id": "c136761b",
   "metadata": {
    "id": "piyLxzj6v07j",
    "papermill": {
     "duration": 1.675295,
     "end_time": "2022-01-11T11:55:08.266433",
     "exception": false,
     "start_time": "2022-01-11T11:55:06.591138",
     "status": "completed"
    },
    "tags": []
   },
   "source": [
    "#### After evaluating the mapping, if the topics assigned are correct then assign these names to the relevant topic:\n",
    "* Bank Account services\n",
    "* Credit card or prepaid card\n",
    "* Theft/Dispute Reporting\n",
    "* Mortgage/Loan\n",
    "* Others"
   ]
  },
  {
   "cell_type": "code",
   "execution_count": 38,
   "id": "a4956e30",
   "metadata": {
    "execution": {
     "iopub.execute_input": "2022-01-11T11:55:11.626134Z",
     "iopub.status.busy": "2022-01-11T11:55:11.625463Z",
     "iopub.status.idle": "2022-01-11T11:55:11.628440Z",
     "shell.execute_reply": "2022-01-11T11:55:11.629029Z",
     "shell.execute_reply.started": "2022-01-11T11:14:20.737365Z"
    },
    "id": "TWpwDG4RJrGG",
    "papermill": {
     "duration": 1.706915,
     "end_time": "2022-01-11T11:55:11.629211",
     "exception": false,
     "start_time": "2022-01-11T11:55:09.922296",
     "status": "completed"
    },
    "tags": []
   },
   "outputs": [],
   "source": [
    "#Create the dictionary of Topic names and Topics\n",
    "\n",
    "#Topic_names = {   }\n",
    "#Replace Topics with Topic Names\n",
    "#df_clean['Topic'] = df_clean['Topic'].map(Topic_names)"
   ]
  },
  {
   "cell_type": "code",
   "execution_count": 39,
   "id": "b0cc446b",
   "metadata": {
    "execution": {
     "iopub.execute_input": "2022-01-11T11:55:14.940860Z",
     "iopub.status.busy": "2022-01-11T11:55:14.940186Z",
     "iopub.status.idle": "2022-01-11T11:55:14.941869Z",
     "shell.execute_reply": "2022-01-11T11:55:14.942409Z",
     "shell.execute_reply.started": "2022-01-11T11:14:20.739363Z"
    },
    "id": "-2ULY5K6JrGG",
    "papermill": {
     "duration": 1.649859,
     "end_time": "2022-01-11T11:55:14.942582",
     "exception": false,
     "start_time": "2022-01-11T11:55:13.292723",
     "status": "completed"
    },
    "tags": []
   },
   "outputs": [],
   "source": [
    "#df_clean"
   ]
  },
  {
   "cell_type": "markdown",
   "id": "dace7f63",
   "metadata": {
    "id": "7Mu0QBOcJrGH",
    "papermill": {
     "duration": 1.625638,
     "end_time": "2022-01-11T11:55:18.208192",
     "exception": false,
     "start_time": "2022-01-11T11:55:16.582554",
     "status": "completed"
    },
    "tags": []
   },
   "source": [
    "## Supervised model to predict any new complaints to the relevant Topics.\n",
    "\n",
    "You have now build the model to create the topics for each complaints.Now in the below section you will use them to classify any new complaints.\n",
    "\n",
    "Since you will be using supervised learning technique we have to convert the topic names to numbers(numpy arrays only understand numbers)"
   ]
  },
  {
   "cell_type": "code",
   "execution_count": 40,
   "id": "a171bab3",
   "metadata": {
    "execution": {
     "iopub.execute_input": "2022-01-11T11:55:21.532985Z",
     "iopub.status.busy": "2022-01-11T11:55:21.532325Z",
     "iopub.status.idle": "2022-01-11T11:55:21.535243Z",
     "shell.execute_reply": "2022-01-11T11:55:21.535809Z",
     "shell.execute_reply.started": "2022-01-11T11:14:20.741140Z"
    },
    "id": "_U8J3J8wJrGH",
    "papermill": {
     "duration": 1.63945,
     "end_time": "2022-01-11T11:55:21.535981",
     "exception": false,
     "start_time": "2022-01-11T11:55:19.896531",
     "status": "completed"
    },
    "tags": []
   },
   "outputs": [],
   "source": [
    "#Create the dictionary again of Topic names and Topics\n",
    "\n",
    "#Topic_names = {   }\n",
    "#Replace Topics with Topic Names\n",
    "#df_clean['Topic'] = df_clean['Topic'].map(Topic_names)"
   ]
  },
  {
   "cell_type": "code",
   "execution_count": 41,
   "id": "65194d87",
   "metadata": {
    "execution": {
     "iopub.execute_input": "2022-01-11T11:55:24.844050Z",
     "iopub.status.busy": "2022-01-11T11:55:24.843368Z",
     "iopub.status.idle": "2022-01-11T11:55:24.846166Z",
     "shell.execute_reply": "2022-01-11T11:55:24.846756Z",
     "shell.execute_reply.started": "2022-01-11T11:14:20.742765Z"
    },
    "id": "BWIgJUkQJrGH",
    "papermill": {
     "duration": 1.668398,
     "end_time": "2022-01-11T11:55:24.846929",
     "exception": false,
     "start_time": "2022-01-11T11:55:23.178531",
     "status": "completed"
    },
    "tags": []
   },
   "outputs": [],
   "source": [
    "#df_clean"
   ]
  },
  {
   "cell_type": "code",
   "execution_count": 42,
   "id": "902d300e",
   "metadata": {
    "execution": {
     "iopub.execute_input": "2022-01-11T11:55:28.181146Z",
     "iopub.status.busy": "2022-01-11T11:55:28.180510Z",
     "iopub.status.idle": "2022-01-11T11:55:28.183160Z",
     "shell.execute_reply": "2022-01-11T11:55:28.183702Z",
     "shell.execute_reply.started": "2022-01-11T11:14:20.744648Z"
    },
    "id": "Xx-FrbkWJrGH",
    "papermill": {
     "duration": 1.700497,
     "end_time": "2022-01-11T11:55:28.183869",
     "exception": false,
     "start_time": "2022-01-11T11:55:26.483372",
     "status": "completed"
    },
    "tags": []
   },
   "outputs": [],
   "source": [
    "#Keep the columns\"complaint_what_happened\" & \"Topic\" only in the new dataframe --> training_data\n",
    "#training_data="
   ]
  },
  {
   "cell_type": "code",
   "execution_count": 43,
   "id": "8be223f4",
   "metadata": {
    "execution": {
     "iopub.execute_input": "2022-01-11T11:55:31.462389Z",
     "iopub.status.busy": "2022-01-11T11:55:31.461781Z",
     "iopub.status.idle": "2022-01-11T11:55:31.465319Z",
     "shell.execute_reply": "2022-01-11T11:55:31.464846Z",
     "shell.execute_reply.started": "2022-01-11T11:14:20.749390Z"
    },
    "id": "lVg2pa12JrGI",
    "papermill": {
     "duration": 1.639096,
     "end_time": "2022-01-11T11:55:31.465455",
     "exception": false,
     "start_time": "2022-01-11T11:55:29.826359",
     "status": "completed"
    },
    "tags": []
   },
   "outputs": [],
   "source": [
    "#training_data"
   ]
  },
  {
   "cell_type": "markdown",
   "id": "4b647f79",
   "metadata": {
    "id": "280Vbqk-7a8M",
    "papermill": {
     "duration": 1.660512,
     "end_time": "2022-01-11T11:55:34.769181",
     "exception": false,
     "start_time": "2022-01-11T11:55:33.108669",
     "status": "completed"
    },
    "tags": []
   },
   "source": [
    "#### Apply the supervised models on the training data created. In this process, you have to do the following:\n",
    "* Create the vector counts using Count Vectoriser\n",
    "* Transform the word vecotr to tf-idf\n",
    "* Create the train & test data using the train_test_split on the tf-idf & topics\n"
   ]
  },
  {
   "cell_type": "code",
   "execution_count": 44,
   "id": "efe2ad7a",
   "metadata": {
    "execution": {
     "iopub.execute_input": "2022-01-11T11:55:38.102471Z",
     "iopub.status.busy": "2022-01-11T11:55:38.101833Z",
     "iopub.status.idle": "2022-01-11T11:55:38.104191Z",
     "shell.execute_reply": "2022-01-11T11:55:38.104688Z",
     "shell.execute_reply.started": "2022-01-11T11:14:20.750541Z"
    },
    "id": "oUlQpgkzJrGI",
    "papermill": {
     "duration": 1.640965,
     "end_time": "2022-01-11T11:55:38.104858",
     "exception": false,
     "start_time": "2022-01-11T11:55:36.463893",
     "status": "completed"
    },
    "tags": []
   },
   "outputs": [],
   "source": [
    "\n",
    "#Write your code to get the Vector count\n",
    "\n",
    "\n",
    "#Write your code here to transform the word vector to tf-idf"
   ]
  },
  {
   "cell_type": "markdown",
   "id": "2a06cbac",
   "metadata": {
    "id": "uMU3vj6w-wqL",
    "papermill": {
     "duration": 1.672834,
     "end_time": "2022-01-11T11:55:41.407238",
     "exception": false,
     "start_time": "2022-01-11T11:55:39.734404",
     "status": "completed"
    },
    "tags": []
   },
   "source": [
    "You have to try atleast 3 models on the train & test data from these options:\n",
    "* Logistic regression\n",
    "* Decision Tree\n",
    "* Random Forest\n",
    "* Naive Bayes (optional)\n",
    "\n",
    "**Using the required evaluation metrics judge the tried models and select the ones performing the best**"
   ]
  },
  {
   "cell_type": "code",
   "execution_count": 45,
   "id": "7eb09bbe",
   "metadata": {
    "execution": {
     "iopub.execute_input": "2022-01-11T11:55:44.722581Z",
     "iopub.status.busy": "2022-01-11T11:55:44.721943Z",
     "iopub.status.idle": "2022-01-11T11:55:44.724632Z",
     "shell.execute_reply": "2022-01-11T11:55:44.725204Z",
     "shell.execute_reply.started": "2022-01-11T11:14:20.751745Z"
    },
    "id": "udLHpPsZJrGI",
    "papermill": {
     "duration": 1.689138,
     "end_time": "2022-01-11T11:55:44.725360",
     "exception": false,
     "start_time": "2022-01-11T11:55:43.036222",
     "status": "completed"
    },
    "tags": []
   },
   "outputs": [],
   "source": [
    "# Write your code here to build any 3 models and evaluate them using the required metrics\n",
    "\n",
    "\n",
    "\n"
   ]
  },
  {
   "cell_type": "code",
   "execution_count": null,
   "id": "86595981",
   "metadata": {
    "id": "N2OznsObJrGP",
    "papermill": {
     "duration": 1.711237,
     "end_time": "2022-01-11T11:55:48.139188",
     "exception": false,
     "start_time": "2022-01-11T11:55:46.427951",
     "status": "completed"
    },
    "tags": []
   },
   "outputs": [],
   "source": []
  }
 ],
 "metadata": {
  "kernelspec": {
   "display_name": "Python 3",
   "language": "python",
   "name": "python3"
  },
  "language_info": {
   "codemirror_mode": {
    "name": "ipython",
    "version": 3
   },
   "file_extension": ".py",
   "mimetype": "text/x-python",
   "name": "python",
   "nbconvert_exporter": "python",
   "pygments_lexer": "ipython3",
   "version": "3.7.12"
  },
  "papermill": {
   "default_parameters": {},
   "duration": 863.459701,
   "end_time": "2022-01-11T11:55:52.794729",
   "environment_variables": {},
   "exception": null,
   "input_path": "__notebook__.ipynb",
   "output_path": "__notebook__.ipynb",
   "parameters": {},
   "start_time": "2022-01-11T11:41:29.335028",
   "version": "2.3.3"
  }
 },
 "nbformat": 4,
 "nbformat_minor": 5
}
