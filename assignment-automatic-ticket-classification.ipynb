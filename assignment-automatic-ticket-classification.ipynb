{
 "cells": [
  {
   "cell_type": "markdown",
   "id": "0b615657",
   "metadata": {
    "id": "rhR-ZUkwJrFn",
    "papermill": {
     "duration": 0.046435,
     "end_time": "2022-01-12T17:44:32.047804",
     "exception": false,
     "start_time": "2022-01-12T17:44:32.001369",
     "status": "completed"
    },
    "tags": []
   },
   "source": [
    "## Problem Statement \n",
    "\n",
    "You need to build a model that is able to classify customer complaints based on the products/services. By doing so, you can segregate these tickets into their relevant categories and, therefore, help in the quick resolution of the issue.\n",
    "\n",
    "You will be doing topic modelling on the <b>.json</b> data provided by the company. Since this data is not labelled, you need to apply NMF to analyse patterns and classify tickets into the following five clusters based on their products/services:\n",
    "\n",
    "* Credit card / Prepaid card\n",
    "\n",
    "* Bank account services\n",
    "\n",
    "* Theft/Dispute reporting\n",
    "\n",
    "* Mortgages/loans\n",
    "\n",
    "* Others \n",
    "\n",
    "\n",
    "With the help of topic modelling, you will be able to map each ticket onto its respective department/category. You can then use this data to train any supervised model such as logistic regression, decision tree or random forest. Using this trained model, you can classify any new customer complaint support ticket into its relevant department."
   ]
  },
  {
   "cell_type": "markdown",
   "id": "7f49e93d",
   "metadata": {
    "id": "mcgXVNyaLUFS",
    "papermill": {
     "duration": 0.044574,
     "end_time": "2022-01-12T17:44:32.139552",
     "exception": false,
     "start_time": "2022-01-12T17:44:32.094978",
     "status": "completed"
    },
    "tags": []
   },
   "source": [
    "## Pipelines that needs to be performed:\n",
    "\n",
    "You need to perform the following eight major tasks to complete the assignment:\n",
    "\n",
    "1.  Data loading\n",
    "\n",
    "2. Text preprocessing\n",
    "\n",
    "3. Exploratory data analysis (EDA)\n",
    "\n",
    "4. Feature extraction\n",
    "\n",
    "5. Topic modelling \n",
    "\n",
    "6. Model building using supervised learning\n",
    "\n",
    "7. Model training and evaluation\n",
    "\n",
    "8. Model inference"
   ]
  },
  {
   "cell_type": "markdown",
   "id": "bde44384",
   "metadata": {
    "id": "JuLFIymAL58u",
    "papermill": {
     "duration": 0.045769,
     "end_time": "2022-01-12T17:44:32.230113",
     "exception": false,
     "start_time": "2022-01-12T17:44:32.184344",
     "status": "completed"
    },
    "tags": []
   },
   "source": [
    "## Importing the necessary libraries"
   ]
  },
  {
   "cell_type": "code",
   "execution_count": 1,
   "id": "30f5f926",
   "metadata": {
    "execution": {
     "iopub.execute_input": "2022-01-12T17:44:32.326236Z",
     "iopub.status.busy": "2022-01-12T17:44:32.324423Z",
     "iopub.status.idle": "2022-01-12T17:44:45.130124Z",
     "shell.execute_reply": "2022-01-12T17:44:45.130697Z",
     "shell.execute_reply.started": "2022-01-12T17:14:21.237840Z"
    },
    "id": "O-Q9pqrcJrFr",
    "papermill": {
     "duration": 12.856095,
     "end_time": "2022-01-12T17:44:45.131002",
     "exception": false,
     "start_time": "2022-01-12T17:44:32.274907",
     "status": "completed"
    },
    "tags": []
   },
   "outputs": [],
   "source": [
    "import json \n",
    "import numpy as np\n",
    "import pandas as pd\n",
    "import re, nltk, spacy, string\n",
    "import en_core_web_sm\n",
    "\n",
    "import seaborn as sns\n",
    "import matplotlib.pyplot as plt\n",
    "\n",
    "from plotly.offline import plot\n",
    "import plotly.graph_objects as go\n",
    "import plotly.express as px\n",
    "\n",
    "from sklearn.feature_extraction.text import CountVectorizer, TfidfVectorizer\n",
    "from pprint import pprint\n",
    "\n",
    "%matplotlib inline\n",
    "\n",
    "nlp = en_core_web_sm.load()"
   ]
  },
  {
   "cell_type": "markdown",
   "id": "ccaa463d",
   "metadata": {
    "id": "KtRLCsNVJrFt",
    "papermill": {
     "duration": 0.044727,
     "end_time": "2022-01-12T17:44:45.221555",
     "exception": false,
     "start_time": "2022-01-12T17:44:45.176828",
     "status": "completed"
    },
    "tags": []
   },
   "source": [
    "## Loading the data\n",
    "\n",
    "The data is in JSON format and we need to convert it to a dataframe."
   ]
  },
  {
   "cell_type": "code",
   "execution_count": 2,
   "id": "c8645574",
   "metadata": {
    "execution": {
     "iopub.execute_input": "2022-01-12T17:44:45.315712Z",
     "iopub.status.busy": "2022-01-12T17:44:45.314709Z",
     "iopub.status.idle": "2022-01-12T17:44:50.521611Z",
     "shell.execute_reply": "2022-01-12T17:44:50.521054Z",
     "shell.execute_reply.started": "2022-01-12T17:14:32.900998Z"
    },
    "id": "puVzIf_iJrFt",
    "papermill": {
     "duration": 5.255157,
     "end_time": "2022-01-12T17:44:50.521755",
     "exception": false,
     "start_time": "2022-01-12T17:44:45.266598",
     "status": "completed"
    },
    "tags": []
   },
   "outputs": [],
   "source": [
    "# Opening JSON file \n",
    "file_path = open('../input/automatic-ticket-classification/complaints-2021-05-14_08_16.json') # Write the path to your data file and load it \n",
    "  \n",
    "# returns JSON object as  \n",
    "# a dictionary \n",
    "data = json.load(file_path)\n",
    "df = pd.json_normalize(data)"
   ]
  },
  {
   "cell_type": "markdown",
   "id": "992aa4eb",
   "metadata": {
    "id": "_xYpH-sAJrFu",
    "papermill": {
     "duration": 0.044169,
     "end_time": "2022-01-12T17:44:50.610880",
     "exception": false,
     "start_time": "2022-01-12T17:44:50.566711",
     "status": "completed"
    },
    "tags": []
   },
   "source": [
    "## Data preparation"
   ]
  },
  {
   "cell_type": "code",
   "execution_count": 3,
   "id": "2b1bcc30",
   "metadata": {
    "execution": {
     "iopub.execute_input": "2022-01-12T17:44:50.702939Z",
     "iopub.status.busy": "2022-01-12T17:44:50.702336Z",
     "iopub.status.idle": "2022-01-12T17:44:50.733716Z",
     "shell.execute_reply": "2022-01-12T17:44:50.734234Z",
     "shell.execute_reply.started": "2022-01-12T17:14:38.639627Z"
    },
    "id": "Lf8ufHH5JrFu",
    "papermill": {
     "duration": 0.079073,
     "end_time": "2022-01-12T17:44:50.734407",
     "exception": false,
     "start_time": "2022-01-12T17:44:50.655334",
     "status": "completed"
    },
    "tags": []
   },
   "outputs": [
    {
     "data": {
      "text/html": [
       "<div>\n",
       "<style scoped>\n",
       "    .dataframe tbody tr th:only-of-type {\n",
       "        vertical-align: middle;\n",
       "    }\n",
       "\n",
       "    .dataframe tbody tr th {\n",
       "        vertical-align: top;\n",
       "    }\n",
       "\n",
       "    .dataframe thead th {\n",
       "        text-align: right;\n",
       "    }\n",
       "</style>\n",
       "<table border=\"1\" class=\"dataframe\">\n",
       "  <thead>\n",
       "    <tr style=\"text-align: right;\">\n",
       "      <th></th>\n",
       "      <th>_index</th>\n",
       "      <th>_type</th>\n",
       "      <th>_id</th>\n",
       "      <th>_score</th>\n",
       "      <th>_source.tags</th>\n",
       "      <th>_source.zip_code</th>\n",
       "      <th>_source.complaint_id</th>\n",
       "      <th>_source.issue</th>\n",
       "      <th>_source.date_received</th>\n",
       "      <th>_source.state</th>\n",
       "      <th>_source.consumer_disputed</th>\n",
       "      <th>_source.product</th>\n",
       "      <th>_source.company_response</th>\n",
       "      <th>_source.company</th>\n",
       "      <th>_source.submitted_via</th>\n",
       "      <th>_source.date_sent_to_company</th>\n",
       "      <th>_source.company_public_response</th>\n",
       "      <th>_source.sub_product</th>\n",
       "      <th>_source.timely</th>\n",
       "      <th>_source.complaint_what_happened</th>\n",
       "      <th>_source.sub_issue</th>\n",
       "      <th>_source.consumer_consent_provided</th>\n",
       "    </tr>\n",
       "  </thead>\n",
       "  <tbody>\n",
       "    <tr>\n",
       "      <th>0</th>\n",
       "      <td>complaint-public-v2</td>\n",
       "      <td>complaint</td>\n",
       "      <td>3211475</td>\n",
       "      <td>0.0</td>\n",
       "      <td>None</td>\n",
       "      <td>90301</td>\n",
       "      <td>3211475</td>\n",
       "      <td>Attempts to collect debt not owed</td>\n",
       "      <td>2019-04-13T12:00:00-05:00</td>\n",
       "      <td>CA</td>\n",
       "      <td>N/A</td>\n",
       "      <td>Debt collection</td>\n",
       "      <td>Closed with explanation</td>\n",
       "      <td>JPMORGAN CHASE &amp; CO.</td>\n",
       "      <td>Web</td>\n",
       "      <td>2019-04-13T12:00:00-05:00</td>\n",
       "      <td>None</td>\n",
       "      <td>Credit card debt</td>\n",
       "      <td>Yes</td>\n",
       "      <td></td>\n",
       "      <td>Debt is not yours</td>\n",
       "      <td>Consent not provided</td>\n",
       "    </tr>\n",
       "    <tr>\n",
       "      <th>1</th>\n",
       "      <td>complaint-public-v2</td>\n",
       "      <td>complaint</td>\n",
       "      <td>3229299</td>\n",
       "      <td>0.0</td>\n",
       "      <td>Servicemember</td>\n",
       "      <td>319XX</td>\n",
       "      <td>3229299</td>\n",
       "      <td>Written notification about debt</td>\n",
       "      <td>2019-05-01T12:00:00-05:00</td>\n",
       "      <td>GA</td>\n",
       "      <td>N/A</td>\n",
       "      <td>Debt collection</td>\n",
       "      <td>Closed with explanation</td>\n",
       "      <td>JPMORGAN CHASE &amp; CO.</td>\n",
       "      <td>Web</td>\n",
       "      <td>2019-05-01T12:00:00-05:00</td>\n",
       "      <td>None</td>\n",
       "      <td>Credit card debt</td>\n",
       "      <td>Yes</td>\n",
       "      <td>Good morning my name is XXXX XXXX and I apprec...</td>\n",
       "      <td>Didn't receive enough information to verify debt</td>\n",
       "      <td>Consent provided</td>\n",
       "    </tr>\n",
       "    <tr>\n",
       "      <th>2</th>\n",
       "      <td>complaint-public-v2</td>\n",
       "      <td>complaint</td>\n",
       "      <td>3199379</td>\n",
       "      <td>0.0</td>\n",
       "      <td>None</td>\n",
       "      <td>77069</td>\n",
       "      <td>3199379</td>\n",
       "      <td>Other features, terms, or problems</td>\n",
       "      <td>2019-04-02T12:00:00-05:00</td>\n",
       "      <td>TX</td>\n",
       "      <td>N/A</td>\n",
       "      <td>Credit card or prepaid card</td>\n",
       "      <td>Closed with explanation</td>\n",
       "      <td>JPMORGAN CHASE &amp; CO.</td>\n",
       "      <td>Web</td>\n",
       "      <td>2019-04-02T12:00:00-05:00</td>\n",
       "      <td>None</td>\n",
       "      <td>General-purpose credit card or charge card</td>\n",
       "      <td>Yes</td>\n",
       "      <td>I upgraded my XXXX XXXX card in XX/XX/2018 and...</td>\n",
       "      <td>Problem with rewards from credit card</td>\n",
       "      <td>Consent provided</td>\n",
       "    </tr>\n",
       "    <tr>\n",
       "      <th>3</th>\n",
       "      <td>complaint-public-v2</td>\n",
       "      <td>complaint</td>\n",
       "      <td>2673060</td>\n",
       "      <td>0.0</td>\n",
       "      <td>None</td>\n",
       "      <td>48066</td>\n",
       "      <td>2673060</td>\n",
       "      <td>Trouble during payment process</td>\n",
       "      <td>2017-09-13T12:00:00-05:00</td>\n",
       "      <td>MI</td>\n",
       "      <td>N/A</td>\n",
       "      <td>Mortgage</td>\n",
       "      <td>Closed with explanation</td>\n",
       "      <td>JPMORGAN CHASE &amp; CO.</td>\n",
       "      <td>Web</td>\n",
       "      <td>2017-09-14T12:00:00-05:00</td>\n",
       "      <td>None</td>\n",
       "      <td>Conventional home mortgage</td>\n",
       "      <td>Yes</td>\n",
       "      <td></td>\n",
       "      <td>None</td>\n",
       "      <td>Consent not provided</td>\n",
       "    </tr>\n",
       "    <tr>\n",
       "      <th>4</th>\n",
       "      <td>complaint-public-v2</td>\n",
       "      <td>complaint</td>\n",
       "      <td>3203545</td>\n",
       "      <td>0.0</td>\n",
       "      <td>None</td>\n",
       "      <td>10473</td>\n",
       "      <td>3203545</td>\n",
       "      <td>Fees or interest</td>\n",
       "      <td>2019-04-05T12:00:00-05:00</td>\n",
       "      <td>NY</td>\n",
       "      <td>N/A</td>\n",
       "      <td>Credit card or prepaid card</td>\n",
       "      <td>Closed with explanation</td>\n",
       "      <td>JPMORGAN CHASE &amp; CO.</td>\n",
       "      <td>Referral</td>\n",
       "      <td>2019-04-05T12:00:00-05:00</td>\n",
       "      <td>None</td>\n",
       "      <td>General-purpose credit card or charge card</td>\n",
       "      <td>Yes</td>\n",
       "      <td></td>\n",
       "      <td>Charged too much interest</td>\n",
       "      <td>N/A</td>\n",
       "    </tr>\n",
       "  </tbody>\n",
       "</table>\n",
       "</div>"
      ],
      "text/plain": [
       "                _index      _type      _id  _score   _source.tags  \\\n",
       "0  complaint-public-v2  complaint  3211475     0.0           None   \n",
       "1  complaint-public-v2  complaint  3229299     0.0  Servicemember   \n",
       "2  complaint-public-v2  complaint  3199379     0.0           None   \n",
       "3  complaint-public-v2  complaint  2673060     0.0           None   \n",
       "4  complaint-public-v2  complaint  3203545     0.0           None   \n",
       "\n",
       "  _source.zip_code _source.complaint_id                       _source.issue  \\\n",
       "0            90301              3211475   Attempts to collect debt not owed   \n",
       "1            319XX              3229299     Written notification about debt   \n",
       "2            77069              3199379  Other features, terms, or problems   \n",
       "3            48066              2673060      Trouble during payment process   \n",
       "4            10473              3203545                    Fees or interest   \n",
       "\n",
       "       _source.date_received _source.state _source.consumer_disputed  \\\n",
       "0  2019-04-13T12:00:00-05:00            CA                       N/A   \n",
       "1  2019-05-01T12:00:00-05:00            GA                       N/A   \n",
       "2  2019-04-02T12:00:00-05:00            TX                       N/A   \n",
       "3  2017-09-13T12:00:00-05:00            MI                       N/A   \n",
       "4  2019-04-05T12:00:00-05:00            NY                       N/A   \n",
       "\n",
       "               _source.product _source.company_response       _source.company  \\\n",
       "0              Debt collection  Closed with explanation  JPMORGAN CHASE & CO.   \n",
       "1              Debt collection  Closed with explanation  JPMORGAN CHASE & CO.   \n",
       "2  Credit card or prepaid card  Closed with explanation  JPMORGAN CHASE & CO.   \n",
       "3                     Mortgage  Closed with explanation  JPMORGAN CHASE & CO.   \n",
       "4  Credit card or prepaid card  Closed with explanation  JPMORGAN CHASE & CO.   \n",
       "\n",
       "  _source.submitted_via _source.date_sent_to_company  \\\n",
       "0                   Web    2019-04-13T12:00:00-05:00   \n",
       "1                   Web    2019-05-01T12:00:00-05:00   \n",
       "2                   Web    2019-04-02T12:00:00-05:00   \n",
       "3                   Web    2017-09-14T12:00:00-05:00   \n",
       "4              Referral    2019-04-05T12:00:00-05:00   \n",
       "\n",
       "  _source.company_public_response                         _source.sub_product  \\\n",
       "0                            None                            Credit card debt   \n",
       "1                            None                            Credit card debt   \n",
       "2                            None  General-purpose credit card or charge card   \n",
       "3                            None                  Conventional home mortgage   \n",
       "4                            None  General-purpose credit card or charge card   \n",
       "\n",
       "  _source.timely                    _source.complaint_what_happened  \\\n",
       "0            Yes                                                      \n",
       "1            Yes  Good morning my name is XXXX XXXX and I apprec...   \n",
       "2            Yes  I upgraded my XXXX XXXX card in XX/XX/2018 and...   \n",
       "3            Yes                                                      \n",
       "4            Yes                                                      \n",
       "\n",
       "                                  _source.sub_issue  \\\n",
       "0                                 Debt is not yours   \n",
       "1  Didn't receive enough information to verify debt   \n",
       "2             Problem with rewards from credit card   \n",
       "3                                              None   \n",
       "4                         Charged too much interest   \n",
       "\n",
       "  _source.consumer_consent_provided  \n",
       "0              Consent not provided  \n",
       "1                  Consent provided  \n",
       "2                  Consent provided  \n",
       "3              Consent not provided  \n",
       "4                               N/A  "
      ]
     },
     "execution_count": 3,
     "metadata": {},
     "output_type": "execute_result"
    }
   ],
   "source": [
    "# Inspect the dataframe to understand the given data.\n",
    "pd.set_option('max_columns', None)\n",
    "df.head()"
   ]
  },
  {
   "cell_type": "code",
   "execution_count": 4,
   "id": "32606044",
   "metadata": {
    "execution": {
     "iopub.execute_input": "2022-01-12T17:44:50.831345Z",
     "iopub.status.busy": "2022-01-12T17:44:50.830660Z",
     "iopub.status.idle": "2022-01-12T17:44:51.071462Z",
     "shell.execute_reply": "2022-01-12T17:44:51.071950Z",
     "shell.execute_reply.started": "2022-01-12T17:14:38.681298Z"
    },
    "papermill": {
     "duration": 0.290725,
     "end_time": "2022-01-12T17:44:51.072137",
     "exception": false,
     "start_time": "2022-01-12T17:44:50.781412",
     "status": "completed"
    },
    "tags": []
   },
   "outputs": [
    {
     "name": "stdout",
     "output_type": "stream",
     "text": [
      "<class 'pandas.core.frame.DataFrame'>\n",
      "RangeIndex: 78313 entries, 0 to 78312\n",
      "Data columns (total 22 columns):\n",
      " #   Column                             Non-Null Count  Dtype  \n",
      "---  ------                             --------------  -----  \n",
      " 0   _index                             78313 non-null  object \n",
      " 1   _type                              78313 non-null  object \n",
      " 2   _id                                78313 non-null  object \n",
      " 3   _score                             78313 non-null  float64\n",
      " 4   _source.tags                       10900 non-null  object \n",
      " 5   _source.zip_code                   71556 non-null  object \n",
      " 6   _source.complaint_id               78313 non-null  object \n",
      " 7   _source.issue                      78313 non-null  object \n",
      " 8   _source.date_received              78313 non-null  object \n",
      " 9   _source.state                      76322 non-null  object \n",
      " 10  _source.consumer_disputed          78313 non-null  object \n",
      " 11  _source.product                    78313 non-null  object \n",
      " 12  _source.company_response           78313 non-null  object \n",
      " 13  _source.company                    78313 non-null  object \n",
      " 14  _source.submitted_via              78313 non-null  object \n",
      " 15  _source.date_sent_to_company       78313 non-null  object \n",
      " 16  _source.company_public_response    4 non-null      object \n",
      " 17  _source.sub_product                67742 non-null  object \n",
      " 18  _source.timely                     78313 non-null  object \n",
      " 19  _source.complaint_what_happened    78313 non-null  object \n",
      " 20  _source.sub_issue                  32016 non-null  object \n",
      " 21  _source.consumer_consent_provided  77305 non-null  object \n",
      "dtypes: float64(1), object(21)\n",
      "memory usage: 13.1+ MB\n"
     ]
    }
   ],
   "source": [
    "df.info()"
   ]
  },
  {
   "cell_type": "code",
   "execution_count": 5,
   "id": "7b0e2398",
   "metadata": {
    "execution": {
     "iopub.execute_input": "2022-01-12T17:44:51.168737Z",
     "iopub.status.busy": "2022-01-12T17:44:51.167726Z",
     "iopub.status.idle": "2022-01-12T17:44:51.180655Z",
     "shell.execute_reply": "2022-01-12T17:44:51.181280Z",
     "shell.execute_reply.started": "2022-01-12T17:41:52.000603Z"
    },
    "id": "Dwcty-wmJrFw",
    "papermill": {
     "duration": 0.063334,
     "end_time": "2022-01-12T17:44:51.181462",
     "exception": false,
     "start_time": "2022-01-12T17:44:51.118128",
     "status": "completed"
    },
    "tags": []
   },
   "outputs": [
    {
     "name": "stdout",
     "output_type": "stream",
     "text": [
      "01 Column:\u001b[1m _index \u001b[0m\n",
      "02 Column:\u001b[1m _type \u001b[0m\n",
      "03 Column:\u001b[1m _id \u001b[0m\n",
      "04 Column:\u001b[1m _score \u001b[0m\n",
      "05 Column:\u001b[1m _source.tags \u001b[0m\n",
      "06 Column:\u001b[1m _source.zip_code \u001b[0m\n",
      "07 Column:\u001b[1m _source.complaint_id \u001b[0m\n",
      "08 Column:\u001b[1m _source.issue \u001b[0m\n",
      "09 Column:\u001b[1m _source.date_received \u001b[0m\n",
      "10 Column:\u001b[1m _source.state \u001b[0m\n",
      "11 Column:\u001b[1m _source.consumer_disputed \u001b[0m\n",
      "12 Column:\u001b[1m _source.product \u001b[0m\n",
      "13 Column:\u001b[1m _source.company_response \u001b[0m\n",
      "14 Column:\u001b[1m _source.company \u001b[0m\n",
      "15 Column:\u001b[1m _source.submitted_via \u001b[0m\n",
      "16 Column:\u001b[1m _source.date_sent_to_company \u001b[0m\n",
      "17 Column:\u001b[1m _source.company_public_response \u001b[0m\n",
      "18 Column:\u001b[1m _source.sub_product \u001b[0m\n",
      "19 Column:\u001b[1m _source.timely \u001b[0m\n",
      "20 Column:\u001b[1m _source.complaint_what_happened \u001b[0m\n",
      "21 Column:\u001b[1m _source.sub_issue \u001b[0m\n",
      "22 Column:\u001b[1m _source.consumer_consent_provided \u001b[0m\n"
     ]
    }
   ],
   "source": [
    "# Print the column names\n",
    "def print_column_names():\n",
    "    i = 1\n",
    "    for col in df.columns:\n",
    "        print(str(\"{:02d}\".format(i)) +\" Column:\\033[1m\", col, '\\033[0m')\n",
    "        i += 1\n",
    "        \n",
    "print_column_names()"
   ]
  },
  {
   "cell_type": "code",
   "execution_count": 6,
   "id": "75bd2c0e",
   "metadata": {
    "execution": {
     "iopub.execute_input": "2022-01-12T17:44:51.282184Z",
     "iopub.status.busy": "2022-01-12T17:44:51.277730Z",
     "iopub.status.idle": "2022-01-12T17:44:51.294728Z",
     "shell.execute_reply": "2022-01-12T17:44:51.294177Z",
     "shell.execute_reply.started": "2022-01-12T17:41:55.492487Z"
    },
    "id": "FYCtKXD1JrFw",
    "papermill": {
     "duration": 0.066805,
     "end_time": "2022-01-12T17:44:51.294867",
     "exception": false,
     "start_time": "2022-01-12T17:44:51.228062",
     "status": "completed"
    },
    "tags": []
   },
   "outputs": [
    {
     "name": "stdout",
     "output_type": "stream",
     "text": [
      "01 Column:\u001b[1m index \u001b[0m\n",
      "02 Column:\u001b[1m type \u001b[0m\n",
      "03 Column:\u001b[1m id \u001b[0m\n",
      "04 Column:\u001b[1m score \u001b[0m\n",
      "05 Column:\u001b[1m tags \u001b[0m\n",
      "06 Column:\u001b[1m zip_code \u001b[0m\n",
      "07 Column:\u001b[1m complaint_id \u001b[0m\n",
      "08 Column:\u001b[1m issue \u001b[0m\n",
      "09 Column:\u001b[1m date_received \u001b[0m\n",
      "10 Column:\u001b[1m state \u001b[0m\n",
      "11 Column:\u001b[1m consumer_disputed \u001b[0m\n",
      "12 Column:\u001b[1m product \u001b[0m\n",
      "13 Column:\u001b[1m company_response \u001b[0m\n",
      "14 Column:\u001b[1m company \u001b[0m\n",
      "15 Column:\u001b[1m submitted_via \u001b[0m\n",
      "16 Column:\u001b[1m date_sent_to_company \u001b[0m\n",
      "17 Column:\u001b[1m company_public_response \u001b[0m\n",
      "18 Column:\u001b[1m sub_product \u001b[0m\n",
      "19 Column:\u001b[1m timely \u001b[0m\n",
      "20 Column:\u001b[1m complaint_what_happened \u001b[0m\n",
      "21 Column:\u001b[1m sub_issue \u001b[0m\n",
      "22 Column:\u001b[1m consumer_consent_provided \u001b[0m\n"
     ]
    }
   ],
   "source": [
    "# Assign new column names\n",
    "new_columns = {}\n",
    "for col in df.columns:\n",
    "    new_columns[col] = re.sub(\"^_\", \"\", col).replace(\"source.\", \"\")\n",
    "\n",
    "df.rename(columns = new_columns, inplace = True)\n",
    "\n",
    "print_column_names()"
   ]
  },
  {
   "cell_type": "code",
   "execution_count": 7,
   "id": "49b4e966",
   "metadata": {
    "execution": {
     "iopub.execute_input": "2022-01-12T17:44:51.395679Z",
     "iopub.status.busy": "2022-01-12T17:44:51.394764Z",
     "iopub.status.idle": "2022-01-12T17:44:51.397809Z",
     "shell.execute_reply": "2022-01-12T17:44:51.398327Z",
     "shell.execute_reply.started": "2022-01-12T17:14:38.962276Z"
    },
    "papermill": {
     "duration": 0.056219,
     "end_time": "2022-01-12T17:44:51.398498",
     "exception": false,
     "start_time": "2022-01-12T17:44:51.342279",
     "status": "completed"
    },
    "tags": []
   },
   "outputs": [
    {
     "name": "stdout",
     "output_type": "stream",
     "text": [
      "No of rows:\u001b[1m 78313 \u001b[0m\n",
      "No of cols:\u001b[1m 22 \u001b[0m\n"
     ]
    }
   ],
   "source": [
    "# Get the shape and size of the dataset\n",
    "print('No of rows:\\033[1m', df.shape[0], '\\033[0m')\n",
    "print('No of cols:\\033[1m', df.shape[1], '\\033[0m')"
   ]
  },
  {
   "cell_type": "code",
   "execution_count": 8,
   "id": "b14d3dc8",
   "metadata": {
    "execution": {
     "iopub.execute_input": "2022-01-12T17:44:51.504541Z",
     "iopub.status.busy": "2022-01-12T17:44:51.501695Z",
     "iopub.status.idle": "2022-01-12T17:44:51.507344Z",
     "shell.execute_reply": "2022-01-12T17:44:51.506797Z",
     "shell.execute_reply.started": "2022-01-12T17:14:38.972889Z"
    },
    "id": "grQUPFL5JrFx",
    "papermill": {
     "duration": 0.061785,
     "end_time": "2022-01-12T17:44:51.507493",
     "exception": false,
     "start_time": "2022-01-12T17:44:51.445708",
     "status": "completed"
    },
    "tags": []
   },
   "outputs": [],
   "source": [
    "# Assign nan in place of blanks in the complaints column\n",
    "df.complaint_what_happened.replace(r'', np.nan, regex=True, inplace=True)"
   ]
  },
  {
   "cell_type": "code",
   "execution_count": 9,
   "id": "9ee27bc8",
   "metadata": {
    "execution": {
     "iopub.execute_input": "2022-01-12T17:44:51.615230Z",
     "iopub.status.busy": "2022-01-12T17:44:51.614322Z",
     "iopub.status.idle": "2022-01-12T17:44:51.634828Z",
     "shell.execute_reply": "2022-01-12T17:44:51.634275Z",
     "shell.execute_reply.started": "2022-01-12T17:40:32.596726Z"
    },
    "id": "Jfxd8VSmJrFy",
    "papermill": {
     "duration": 0.080248,
     "end_time": "2022-01-12T17:44:51.634966",
     "exception": false,
     "start_time": "2022-01-12T17:44:51.554718",
     "status": "completed"
    },
    "tags": []
   },
   "outputs": [
    {
     "name": "stdout",
     "output_type": "stream",
     "text": [
      "Remaining Rows:\u001b[1m 21072 \u001b[0m\n"
     ]
    }
   ],
   "source": [
    "# Remove all rows where complaints column is nan\n",
    "df = df[df.complaint_what_happened.notna()]\n",
    "print('Remaining Rows:\\033[1m', len(df), '\\033[0m')"
   ]
  },
  {
   "cell_type": "markdown",
   "id": "e9ba895c",
   "metadata": {
    "id": "L944HZpsJrFy",
    "papermill": {
     "duration": 0.047028,
     "end_time": "2022-01-12T17:44:51.729306",
     "exception": false,
     "start_time": "2022-01-12T17:44:51.682278",
     "status": "completed"
    },
    "tags": []
   },
   "source": [
    "## Prepare the text for topic modeling\n",
    "\n",
    "Once you have removed all the blank complaints, you need to:\n",
    "\n",
    "* Make the text lowercase\n",
    "* Remove text in square brackets\n",
    "* Remove punctuation\n",
    "* Remove words containing numbers\n",
    "\n",
    "\n",
    "Once you have done these cleaning operations you need to perform the following:\n",
    "* Lemmatize the texts\n",
    "* Use POS tags to get relevant words from the texts.\n"
   ]
  },
  {
   "cell_type": "code",
   "execution_count": 10,
   "id": "6a1774c4",
   "metadata": {
    "execution": {
     "iopub.execute_input": "2022-01-12T17:44:51.831529Z",
     "iopub.status.busy": "2022-01-12T17:44:51.830886Z",
     "iopub.status.idle": "2022-01-12T17:44:51.833182Z",
     "shell.execute_reply": "2022-01-12T17:44:51.833682Z",
     "shell.execute_reply.started": "2022-01-12T17:14:39.030772Z"
    },
    "id": "qm7SjjSkJrFz",
    "papermill": {
     "duration": 0.057276,
     "end_time": "2022-01-12T17:44:51.833845",
     "exception": false,
     "start_time": "2022-01-12T17:44:51.776569",
     "status": "completed"
    },
    "tags": []
   },
   "outputs": [],
   "source": [
    "# Write your function here to clean the text and remove all the unnecessary elements.\n",
    "def cleaned_text(sentence):\n",
    "    sentence = sentence.lower()\n",
    "    sentence = re.sub(\"[\\[].*?[\\]]\", \"\", sentence)\n",
    "    sentence = re.sub(r'[^\\w\\s]','', sentence) \n",
    "    sentence = re.sub(r'[0-9]', '', sentence, re.I|re.A)\n",
    "    return sentence"
   ]
  },
  {
   "cell_type": "code",
   "execution_count": 11,
   "id": "961951ca",
   "metadata": {
    "execution": {
     "iopub.execute_input": "2022-01-12T17:44:51.940879Z",
     "iopub.status.busy": "2022-01-12T17:44:51.937650Z",
     "iopub.status.idle": "2022-01-12T17:44:51.947877Z",
     "shell.execute_reply": "2022-01-12T17:44:51.948448Z",
     "shell.execute_reply.started": "2022-01-12T17:14:39.038689Z"
    },
    "id": "zgOu8t8HJrFz",
    "papermill": {
     "duration": 0.067404,
     "end_time": "2022-01-12T17:44:51.948628",
     "exception": false,
     "start_time": "2022-01-12T17:44:51.881224",
     "status": "completed"
    },
    "tags": []
   },
   "outputs": [],
   "source": [
    "# Write your function to Lemmatize the texts\n",
    "import nltk\n",
    "from nltk.stem import WordNetLemmatizer\n",
    "from nltk.corpus import wordnet, stopwords\n",
    "from nltk.corpus import stopwords\n",
    "\n",
    "stop = set(stopwords.words('english'))\n",
    "lemmatizer = WordNetLemmatizer()\n",
    "\n",
    "# function to convert nltk tag to wordnet tag\n",
    "def nltk_tag_to_wordnet_tag(nltk_tag):\n",
    "    if nltk_tag.startswith('J'):\n",
    "        return wordnet.ADJ\n",
    "    elif nltk_tag.startswith('V'):\n",
    "        return wordnet.VERB\n",
    "    elif nltk_tag.startswith('N'):\n",
    "        return wordnet.NOUN\n",
    "    elif nltk_tag.startswith('R'):\n",
    "        return wordnet.ADV\n",
    "    else:          \n",
    "        return None\n",
    "\n",
    "def lemmatized_text(sentence):\n",
    "    # tokenize into words\n",
    "    words = nltk.word_tokenize(sentence)\n",
    "    \n",
    "    # remove stop words (this is optional but generally done)\n",
    "    words = [word for word in words if word not in stopwords.words(\"english\")]\n",
    "    \n",
    "    # tokenize the sentence and find the POS tag for each token\n",
    "    nltk_tagged = nltk.pos_tag(words)\n",
    "    \n",
    "    # tuple of (token, wordnet_tag)\n",
    "    wordnet_tagged = map(lambda x: (x[0], nltk_tag_to_wordnet_tag(x[1])), nltk_tagged)\n",
    "    lemmatized_sentence = []\n",
    "    for word, tag in wordnet_tagged:\n",
    "        if tag is None:\n",
    "            # if there is no available tag, append the token as is\n",
    "            lemmatized_sentence.append(word)\n",
    "        else:        \n",
    "            # else use the tag to lemmatize the token\n",
    "            lemmatized_sentence.append(lemmatizer.lemmatize(word, tag))\n",
    "    return \" \".join(lemmatized_sentence)"
   ]
  },
  {
   "cell_type": "code",
   "execution_count": 12,
   "id": "46dfa51f",
   "metadata": {
    "execution": {
     "iopub.execute_input": "2022-01-12T17:44:52.048173Z",
     "iopub.status.busy": "2022-01-12T17:44:52.047540Z",
     "iopub.status.idle": "2022-01-12T18:01:52.391095Z",
     "shell.execute_reply": "2022-01-12T18:01:52.390330Z",
     "shell.execute_reply.started": "2022-01-12T17:14:39.061652Z"
    },
    "id": "uXnN7aa_JrF0",
    "papermill": {
     "duration": 1020.395363,
     "end_time": "2022-01-12T18:01:52.391367",
     "exception": false,
     "start_time": "2022-01-12T17:44:51.996004",
     "status": "completed"
    },
    "tags": []
   },
   "outputs": [
    {
     "name": "stderr",
     "output_type": "stream",
     "text": [
      "100%|██████████| 21072/21072 [17:00<00:00, 20.65it/s]\n"
     ]
    }
   ],
   "source": [
    "from tqdm import tqdm\n",
    "\n",
    "# Create a dataframe('df_clean') that will have only the complaints and the lemmatized complaints \n",
    "df_clean = pd.DataFrame()\n",
    "\n",
    "for x in tqdm(df.complaint_what_happened):\n",
    "    df_clean = df_clean.append({'raw_complaints':x, 'lemmatized_complaints':lemmatized_text(cleaned_text(x))}, ignore_index=True)"
   ]
  },
  {
   "cell_type": "code",
   "execution_count": 13,
   "id": "b82decc1",
   "metadata": {
    "execution": {
     "iopub.execute_input": "2022-01-12T18:01:56.422401Z",
     "iopub.status.busy": "2022-01-12T18:01:56.421707Z",
     "iopub.status.idle": "2022-01-12T18:01:56.424397Z",
     "shell.execute_reply": "2022-01-12T18:01:56.424866Z",
     "shell.execute_reply.started": "2022-01-12T17:34:44.360977Z"
    },
    "id": "nOiDVvEIJrF0",
    "papermill": {
     "duration": 2.010882,
     "end_time": "2022-01-12T18:01:56.425040",
     "exception": false,
     "start_time": "2022-01-12T18:01:54.414158",
     "status": "completed"
    },
    "tags": []
   },
   "outputs": [
    {
     "data": {
      "text/html": [
       "<div>\n",
       "<style scoped>\n",
       "    .dataframe tbody tr th:only-of-type {\n",
       "        vertical-align: middle;\n",
       "    }\n",
       "\n",
       "    .dataframe tbody tr th {\n",
       "        vertical-align: top;\n",
       "    }\n",
       "\n",
       "    .dataframe thead th {\n",
       "        text-align: right;\n",
       "    }\n",
       "</style>\n",
       "<table border=\"1\" class=\"dataframe\">\n",
       "  <thead>\n",
       "    <tr style=\"text-align: right;\">\n",
       "      <th></th>\n",
       "      <th>raw_complaints</th>\n",
       "      <th>lemmatized_complaints</th>\n",
       "    </tr>\n",
       "  </thead>\n",
       "  <tbody>\n",
       "    <tr>\n",
       "      <th>0</th>\n",
       "      <td>Good morning my name is XXXX XXXX and I apprec...</td>\n",
       "      <td>good morning name xxxx xxxx appreciate could h...</td>\n",
       "    </tr>\n",
       "    <tr>\n",
       "      <th>1</th>\n",
       "      <td>I upgraded my XXXX XXXX card in XX/XX/2018 and...</td>\n",
       "      <td>upgraded xxxx xxxx card xxxx tell agent upgrad...</td>\n",
       "    </tr>\n",
       "    <tr>\n",
       "      <th>2</th>\n",
       "      <td>Chase Card was reported on XX/XX/2019. However...</td>\n",
       "      <td>chase card report xxxx however fraudulent appl...</td>\n",
       "    </tr>\n",
       "    <tr>\n",
       "      <th>3</th>\n",
       "      <td>On XX/XX/2018, while trying to book a XXXX  XX...</td>\n",
       "      <td>xxxx try book xxxx xxxx ticket come across off...</td>\n",
       "    </tr>\n",
       "    <tr>\n",
       "      <th>4</th>\n",
       "      <td>my grand son give me check for {$1600.00} i de...</td>\n",
       "      <td>grand son give check deposit chase account fun...</td>\n",
       "    </tr>\n",
       "    <tr>\n",
       "      <th>...</th>\n",
       "      <td>...</td>\n",
       "      <td>...</td>\n",
       "    </tr>\n",
       "    <tr>\n",
       "      <th>21067</th>\n",
       "      <td>After being a Chase Card customer for well ove...</td>\n",
       "      <td>chase card customer well decade offer multiple...</td>\n",
       "    </tr>\n",
       "    <tr>\n",
       "      <th>21068</th>\n",
       "      <td>On Wednesday, XX/XX/XXXX I called Chas, my XXX...</td>\n",
       "      <td>wednesday xxxxxxxx call chas xxxx xxxx visa cr...</td>\n",
       "    </tr>\n",
       "    <tr>\n",
       "      <th>21069</th>\n",
       "      <td>I am not familiar with XXXX pay and did not un...</td>\n",
       "      <td>familiar xxxx pay understand great risk provid...</td>\n",
       "    </tr>\n",
       "    <tr>\n",
       "      <th>21070</th>\n",
       "      <td>I have had flawless credit for 30 yrs. I've ha...</td>\n",
       "      <td>flawless credit yrs ive chase credit card chas...</td>\n",
       "    </tr>\n",
       "    <tr>\n",
       "      <th>21071</th>\n",
       "      <td>Roughly 10+ years ago I closed out my accounts...</td>\n",
       "      <td>roughly year ago close account jp morgan chase...</td>\n",
       "    </tr>\n",
       "  </tbody>\n",
       "</table>\n",
       "<p>21072 rows × 2 columns</p>\n",
       "</div>"
      ],
      "text/plain": [
       "                                          raw_complaints  \\\n",
       "0      Good morning my name is XXXX XXXX and I apprec...   \n",
       "1      I upgraded my XXXX XXXX card in XX/XX/2018 and...   \n",
       "2      Chase Card was reported on XX/XX/2019. However...   \n",
       "3      On XX/XX/2018, while trying to book a XXXX  XX...   \n",
       "4      my grand son give me check for {$1600.00} i de...   \n",
       "...                                                  ...   \n",
       "21067  After being a Chase Card customer for well ove...   \n",
       "21068  On Wednesday, XX/XX/XXXX I called Chas, my XXX...   \n",
       "21069  I am not familiar with XXXX pay and did not un...   \n",
       "21070  I have had flawless credit for 30 yrs. I've ha...   \n",
       "21071  Roughly 10+ years ago I closed out my accounts...   \n",
       "\n",
       "                                   lemmatized_complaints  \n",
       "0      good morning name xxxx xxxx appreciate could h...  \n",
       "1      upgraded xxxx xxxx card xxxx tell agent upgrad...  \n",
       "2      chase card report xxxx however fraudulent appl...  \n",
       "3      xxxx try book xxxx xxxx ticket come across off...  \n",
       "4      grand son give check deposit chase account fun...  \n",
       "...                                                  ...  \n",
       "21067  chase card customer well decade offer multiple...  \n",
       "21068  wednesday xxxxxxxx call chas xxxx xxxx visa cr...  \n",
       "21069  familiar xxxx pay understand great risk provid...  \n",
       "21070  flawless credit yrs ive chase credit card chas...  \n",
       "21071  roughly year ago close account jp morgan chase...  \n",
       "\n",
       "[21072 rows x 2 columns]"
      ]
     },
     "execution_count": 13,
     "metadata": {},
     "output_type": "execute_result"
    }
   ],
   "source": [
    "df_clean"
   ]
  },
  {
   "cell_type": "code",
   "execution_count": 14,
   "id": "2c61bbb0",
   "metadata": {
    "execution": {
     "iopub.execute_input": "2022-01-12T18:02:00.293620Z",
     "iopub.status.busy": "2022-01-12T18:02:00.292934Z",
     "iopub.status.idle": "2022-01-12T18:05:58.431258Z",
     "shell.execute_reply": "2022-01-12T18:05:58.430397Z"
    },
    "id": "Kk7fc4DuJrF1",
    "papermill": {
     "duration": 240.061986,
     "end_time": "2022-01-12T18:05:58.431460",
     "exception": false,
     "start_time": "2022-01-12T18:01:58.369474",
     "status": "completed"
    },
    "tags": []
   },
   "outputs": [
    {
     "name": "stderr",
     "output_type": "stream",
     "text": [
      "100%|██████████| 21072/21072 [03:57<00:00, 88.67it/s]\n",
      "100%|██████████| 21072/21072 [00:00<00:00, 47522.49it/s]\n"
     ]
    }
   ],
   "source": [
    "from textblob import TextBlob\n",
    "\n",
    "tqdm.pandas()\n",
    "\n",
    "# Write your function to extract the POS tags \n",
    "def extract_pos_tag(sentence):\n",
    "    # Create a textblob object\n",
    "    blob = TextBlob(sentence)\n",
    "    \n",
    "    # extract words with tags 'NN', join them and return\n",
    "    return ' '.join([ word for (word,tag) in blob.tags if tag == \"NN\"])\n",
    "    \n",
    "df_clean[\"complaint_POS_removed\"] = df_clean.progress_apply(lambda x: extract_pos_tag(x.lemmatized_complaints), axis=1)\n",
    "df_clean[\"length\"] = df_clean.progress_apply(lambda x: len(x.complaint_POS_removed), axis=1)"
   ]
  },
  {
   "cell_type": "code",
   "execution_count": 15,
   "id": "eb395100",
   "metadata": {
    "execution": {
     "iopub.execute_input": "2022-01-12T18:06:03.656664Z",
     "iopub.status.busy": "2022-01-12T18:06:03.655955Z",
     "iopub.status.idle": "2022-01-12T18:06:03.659326Z",
     "shell.execute_reply": "2022-01-12T18:06:03.659867Z",
     "shell.execute_reply.started": "2022-01-12T17:38:36.149197Z"
    },
    "id": "AjxfchvFJrF2",
    "papermill": {
     "duration": 2.574258,
     "end_time": "2022-01-12T18:06:03.660033",
     "exception": false,
     "start_time": "2022-01-12T18:06:01.085775",
     "status": "completed"
    },
    "tags": []
   },
   "outputs": [
    {
     "data": {
      "text/html": [
       "<div>\n",
       "<style scoped>\n",
       "    .dataframe tbody tr th:only-of-type {\n",
       "        vertical-align: middle;\n",
       "    }\n",
       "\n",
       "    .dataframe tbody tr th {\n",
       "        vertical-align: top;\n",
       "    }\n",
       "\n",
       "    .dataframe thead th {\n",
       "        text-align: right;\n",
       "    }\n",
       "</style>\n",
       "<table border=\"1\" class=\"dataframe\">\n",
       "  <thead>\n",
       "    <tr style=\"text-align: right;\">\n",
       "      <th></th>\n",
       "      <th>raw_complaints</th>\n",
       "      <th>lemmatized_complaints</th>\n",
       "      <th>complaint_POS_removed</th>\n",
       "      <th>length</th>\n",
       "    </tr>\n",
       "  </thead>\n",
       "  <tbody>\n",
       "    <tr>\n",
       "      <th>0</th>\n",
       "      <td>Good morning my name is XXXX XXXX and I apprec...</td>\n",
       "      <td>good morning name xxxx xxxx appreciate could h...</td>\n",
       "      <td>morning name appreciate chase bank cardmember ...</td>\n",
       "      <td>175</td>\n",
       "    </tr>\n",
       "    <tr>\n",
       "      <th>1</th>\n",
       "      <td>I upgraded my XXXX XXXX card in XX/XX/2018 and...</td>\n",
       "      <td>upgraded xxxx xxxx card xxxx tell agent upgrad...</td>\n",
       "      <td>xxxx card tell agent date information order up...</td>\n",
       "      <td>117</td>\n",
       "    </tr>\n",
       "    <tr>\n",
       "      <th>2</th>\n",
       "      <td>Chase Card was reported on XX/XX/2019. However...</td>\n",
       "      <td>chase card report xxxx however fraudulent appl...</td>\n",
       "      <td>card report application submit identity consen...</td>\n",
       "      <td>81</td>\n",
       "    </tr>\n",
       "    <tr>\n",
       "      <th>3</th>\n",
       "      <td>On XX/XX/2018, while trying to book a XXXX  XX...</td>\n",
       "      <td>xxxx try book xxxx xxxx ticket come across off...</td>\n",
       "      <td>try book ticket come offer apply ticket card i...</td>\n",
       "      <td>429</td>\n",
       "    </tr>\n",
       "    <tr>\n",
       "      <th>4</th>\n",
       "      <td>my grand son give me check for {$1600.00} i de...</td>\n",
       "      <td>grand son give check deposit chase account fun...</td>\n",
       "      <td>son check deposit chase account fund bank acco...</td>\n",
       "      <td>163</td>\n",
       "    </tr>\n",
       "    <tr>\n",
       "      <th>...</th>\n",
       "      <td>...</td>\n",
       "      <td>...</td>\n",
       "      <td>...</td>\n",
       "      <td>...</td>\n",
       "    </tr>\n",
       "    <tr>\n",
       "      <th>21067</th>\n",
       "      <td>After being a Chase Card customer for well ove...</td>\n",
       "      <td>chase card customer well decade offer multiple...</td>\n",
       "      <td>chase card customer decade offer solicitation ...</td>\n",
       "      <td>232</td>\n",
       "    </tr>\n",
       "    <tr>\n",
       "      <th>21068</th>\n",
       "      <td>On Wednesday, XX/XX/XXXX I called Chas, my XXX...</td>\n",
       "      <td>wednesday xxxxxxxx call chas xxxx xxxx visa cr...</td>\n",
       "      <td>call chas xxxx credit card provider claim purc...</td>\n",
       "      <td>702</td>\n",
       "    </tr>\n",
       "    <tr>\n",
       "      <th>21069</th>\n",
       "      <td>I am not familiar with XXXX pay and did not un...</td>\n",
       "      <td>familiar xxxx pay understand great risk provid...</td>\n",
       "      <td>pay risk consumer chase bank chase year trust ...</td>\n",
       "      <td>695</td>\n",
       "    </tr>\n",
       "    <tr>\n",
       "      <th>21070</th>\n",
       "      <td>I have had flawless credit for 30 yrs. I've ha...</td>\n",
       "      <td>flawless credit yrs ive chase credit card chas...</td>\n",
       "      <td>flawless credit chase credit card chase freedo...</td>\n",
       "      <td>563</td>\n",
       "    </tr>\n",
       "    <tr>\n",
       "      <th>21071</th>\n",
       "      <td>Roughly 10+ years ago I closed out my accounts...</td>\n",
       "      <td>roughly year ago close account jp morgan chase...</td>\n",
       "      <td>year account jp bank order line credit pay acc...</td>\n",
       "      <td>252</td>\n",
       "    </tr>\n",
       "  </tbody>\n",
       "</table>\n",
       "<p>21072 rows × 4 columns</p>\n",
       "</div>"
      ],
      "text/plain": [
       "                                          raw_complaints  \\\n",
       "0      Good morning my name is XXXX XXXX and I apprec...   \n",
       "1      I upgraded my XXXX XXXX card in XX/XX/2018 and...   \n",
       "2      Chase Card was reported on XX/XX/2019. However...   \n",
       "3      On XX/XX/2018, while trying to book a XXXX  XX...   \n",
       "4      my grand son give me check for {$1600.00} i de...   \n",
       "...                                                  ...   \n",
       "21067  After being a Chase Card customer for well ove...   \n",
       "21068  On Wednesday, XX/XX/XXXX I called Chas, my XXX...   \n",
       "21069  I am not familiar with XXXX pay and did not un...   \n",
       "21070  I have had flawless credit for 30 yrs. I've ha...   \n",
       "21071  Roughly 10+ years ago I closed out my accounts...   \n",
       "\n",
       "                                   lemmatized_complaints  \\\n",
       "0      good morning name xxxx xxxx appreciate could h...   \n",
       "1      upgraded xxxx xxxx card xxxx tell agent upgrad...   \n",
       "2      chase card report xxxx however fraudulent appl...   \n",
       "3      xxxx try book xxxx xxxx ticket come across off...   \n",
       "4      grand son give check deposit chase account fun...   \n",
       "...                                                  ...   \n",
       "21067  chase card customer well decade offer multiple...   \n",
       "21068  wednesday xxxxxxxx call chas xxxx xxxx visa cr...   \n",
       "21069  familiar xxxx pay understand great risk provid...   \n",
       "21070  flawless credit yrs ive chase credit card chas...   \n",
       "21071  roughly year ago close account jp morgan chase...   \n",
       "\n",
       "                                   complaint_POS_removed  length  \n",
       "0      morning name appreciate chase bank cardmember ...     175  \n",
       "1      xxxx card tell agent date information order up...     117  \n",
       "2      card report application submit identity consen...      81  \n",
       "3      try book ticket come offer apply ticket card i...     429  \n",
       "4      son check deposit chase account fund bank acco...     163  \n",
       "...                                                  ...     ...  \n",
       "21067  chase card customer decade offer solicitation ...     232  \n",
       "21068  call chas xxxx credit card provider claim purc...     702  \n",
       "21069  pay risk consumer chase bank chase year trust ...     695  \n",
       "21070  flawless credit chase credit card chase freedo...     563  \n",
       "21071  year account jp bank order line credit pay acc...     252  \n",
       "\n",
       "[21072 rows x 4 columns]"
      ]
     },
     "execution_count": 15,
     "metadata": {},
     "output_type": "execute_result"
    }
   ],
   "source": [
    "# The clean dataframe should now contain the raw complaint, lemmatized complaint and the complaint after removing POS tags.\n",
    "df_clean"
   ]
  },
  {
   "cell_type": "markdown",
   "id": "38818326",
   "metadata": {
    "id": "_7Un1AElJrF2",
    "papermill": {
     "duration": 2.515289,
     "end_time": "2022-01-12T18:06:08.741553",
     "exception": false,
     "start_time": "2022-01-12T18:06:06.226264",
     "status": "completed"
    },
    "tags": []
   },
   "source": [
    "## Exploratory data analysis to get familiar with the data.\n",
    "\n",
    "Write the code in this task to perform the following:\n",
    "\n",
    "*   Visualise the data according to the 'Complaint' character length.\n",
    "*   Using a word cloud find the top 40 words by frequency among all the articles after processing the text.\n",
    "*   Find the top unigrams, bigrams and trigrams by frequency among all the complaints after processing the text."
   ]
  },
  {
   "cell_type": "code",
   "execution_count": 16,
   "id": "34996c7f",
   "metadata": {
    "execution": {
     "iopub.execute_input": "2022-01-12T18:06:13.961750Z",
     "iopub.status.busy": "2022-01-12T18:06:13.960941Z",
     "iopub.status.idle": "2022-01-12T18:06:14.250622Z",
     "shell.execute_reply": "2022-01-12T18:06:14.249948Z",
     "shell.execute_reply.started": "2022-01-12T17:38:36.166322Z"
    },
    "id": "q-zaqJF6JrF2",
    "papermill": {
     "duration": 2.959093,
     "end_time": "2022-01-12T18:06:14.250766",
     "exception": false,
     "start_time": "2022-01-12T18:06:11.291673",
     "status": "completed"
    },
    "tags": []
   },
   "outputs": [
    {
     "data": {
      "image/png": "[encoded data removed]",
      "text/plain": [
       "<Figure size 432x288 with 1 Axes>"
      ]
     },
     "metadata": {
      "needs_background": "light"
     },
     "output_type": "display_data"
    }
   ],
   "source": [
    "# Write your code here to visualise the data according to the 'Complaint' character length\n",
    "%matplotlib inline\n",
    "\n",
    "import matplotlib.pyplot as plt\n",
    "\n",
    "plt.hist(df_clean.length, bins=50)\n",
    "plt.show()"
   ]
  },
  {
   "cell_type": "code",
   "execution_count": 17,
   "id": "2363df7e",
   "metadata": {
    "execution": {
     "iopub.execute_input": "2022-01-12T18:06:19.336959Z",
     "iopub.status.busy": "2022-01-12T18:06:19.300715Z",
     "iopub.status.idle": "2022-01-12T18:06:19.665773Z",
     "shell.execute_reply": "2022-01-12T18:06:19.665051Z",
     "shell.execute_reply.started": "2022-01-12T17:40:07.067236Z"
    },
    "papermill": {
     "duration": 2.914257,
     "end_time": "2022-01-12T18:06:19.665919",
     "exception": false,
     "start_time": "2022-01-12T18:06:16.751662",
     "status": "completed"
    },
    "tags": []
   },
   "outputs": [
    {
     "data": {
      "image/png": "[encoded data removed]",
      "text/plain": [
       "<Figure size 432x288 with 1 Axes>"
      ]
     },
     "metadata": {
      "needs_background": "light"
     },
     "output_type": "display_data"
    }
   ],
   "source": [
    "plt.hist([l for l in df_clean.length if l < 4000], bins=50)\n",
    "plt.show()"
   ]
  },
  {
   "cell_type": "markdown",
   "id": "d41d14b1",
   "metadata": {
    "id": "T9jD_6SeJrF3",
    "papermill": {
     "duration": 2.498685,
     "end_time": "2022-01-12T18:06:24.750099",
     "exception": false,
     "start_time": "2022-01-12T18:06:22.251414",
     "status": "completed"
    },
    "tags": []
   },
   "source": [
    "#### Find the top 40 words by frequency among all the articles after processing the text."
   ]
  },
  {
   "cell_type": "code",
   "execution_count": 18,
   "id": "c5712b78",
   "metadata": {
    "execution": {
     "iopub.execute_input": "2022-01-12T18:06:29.802882Z",
     "iopub.status.busy": "2022-01-12T18:06:29.802222Z",
     "iopub.status.idle": "2022-01-12T18:06:29.805133Z",
     "shell.execute_reply": "2022-01-12T18:06:29.805755Z",
     "shell.execute_reply.started": "2022-01-12T17:38:36.965620Z"
    },
    "id": "QcfdvtfZJrF3",
    "papermill": {
     "duration": 2.56467,
     "end_time": "2022-01-12T18:06:29.805922",
     "exception": false,
     "start_time": "2022-01-12T18:06:27.241252",
     "status": "completed"
    },
    "tags": []
   },
   "outputs": [],
   "source": [
    "# Using a word cloud find the top 40 words by frequency among all the articles after processing the text\n"
   ]
  },
  {
   "cell_type": "code",
   "execution_count": 19,
   "id": "ffdfcdc7",
   "metadata": {
    "execution": {
     "iopub.execute_input": "2022-01-12T18:06:34.859836Z",
     "iopub.status.busy": "2022-01-12T18:06:34.858025Z",
     "iopub.status.idle": "2022-01-12T18:06:34.887797Z",
     "shell.execute_reply": "2022-01-12T18:06:34.887263Z",
     "shell.execute_reply.started": "2022-01-12T17:38:36.972461Z"
    },
    "id": "OkSmc3UaJrF4",
    "papermill": {
     "duration": 2.529343,
     "end_time": "2022-01-12T18:06:34.887941",
     "exception": false,
     "start_time": "2022-01-12T18:06:32.358598",
     "status": "completed"
    },
    "tags": []
   },
   "outputs": [],
   "source": [
    "# Removing -PRON- from the text corpus\n",
    "df_clean['Complaint_clean'] = df_clean['complaint_POS_removed'].str.replace('-PRON-', '')"
   ]
  },
  {
   "cell_type": "markdown",
   "id": "01c029aa",
   "metadata": {
    "id": "5DfCSbbmJrF4",
    "papermill": {
     "duration": 2.503454,
     "end_time": "2022-01-12T18:06:39.955604",
     "exception": false,
     "start_time": "2022-01-12T18:06:37.452150",
     "status": "completed"
    },
    "tags": []
   },
   "source": [
    "#### Find the top unigrams,bigrams and trigrams by frequency among all the complaints after processing the text."
   ]
  },
  {
   "cell_type": "code",
   "execution_count": 20,
   "id": "73c305e3",
   "metadata": {
    "execution": {
     "iopub.execute_input": "2022-01-12T18:06:45.078975Z",
     "iopub.status.busy": "2022-01-12T18:06:45.078330Z",
     "iopub.status.idle": "2022-01-12T18:06:45.080337Z",
     "shell.execute_reply": "2022-01-12T18:06:45.079736Z",
     "shell.execute_reply.started": "2022-01-12T17:38:37.009941Z"
    },
    "id": "5mbk5DS5JrF4",
    "papermill": {
     "duration": 2.637977,
     "end_time": "2022-01-12T18:06:45.080477",
     "exception": false,
     "start_time": "2022-01-12T18:06:42.442500",
     "status": "completed"
    },
    "tags": []
   },
   "outputs": [],
   "source": [
    "#Write your code here to find the top 30 unigram frequency among the complaints in the cleaned datafram(df_clean). \n"
   ]
  },
  {
   "cell_type": "code",
   "execution_count": 21,
   "id": "0c384b8b",
   "metadata": {
    "execution": {
     "iopub.execute_input": "2022-01-12T18:06:50.080207Z",
     "iopub.status.busy": "2022-01-12T18:06:50.079495Z",
     "iopub.status.idle": "2022-01-12T18:06:50.081627Z",
     "shell.execute_reply": "2022-01-12T18:06:50.082197Z",
     "shell.execute_reply.started": "2022-01-12T17:38:37.015491Z"
    },
    "id": "YX7fedm1JrF8",
    "papermill": {
     "duration": 2.508691,
     "end_time": "2022-01-12T18:06:50.082380",
     "exception": false,
     "start_time": "2022-01-12T18:06:47.573689",
     "status": "completed"
    },
    "tags": []
   },
   "outputs": [],
   "source": [
    "#Print the top 10 words in the unigram frequency\n"
   ]
  },
  {
   "cell_type": "code",
   "execution_count": 22,
   "id": "e81958c1",
   "metadata": {
    "execution": {
     "iopub.execute_input": "2022-01-12T18:06:55.180344Z",
     "iopub.status.busy": "2022-01-12T18:06:55.179652Z",
     "iopub.status.idle": "2022-01-12T18:06:55.182075Z",
     "shell.execute_reply": "2022-01-12T18:06:55.182600Z",
     "shell.execute_reply.started": "2022-01-12T17:38:37.027464Z"
    },
    "id": "aV7kD7w8JrF8",
    "papermill": {
     "duration": 2.530238,
     "end_time": "2022-01-12T18:06:55.182783",
     "exception": false,
     "start_time": "2022-01-12T18:06:52.652545",
     "status": "completed"
    },
    "tags": []
   },
   "outputs": [],
   "source": [
    "#Write your code here to find the top 30 bigram frequency among the complaints in the cleaned datafram(df_clean). \n"
   ]
  },
  {
   "cell_type": "code",
   "execution_count": 23,
   "id": "a8254e44",
   "metadata": {
    "execution": {
     "iopub.execute_input": "2022-01-12T18:07:00.252610Z",
     "iopub.status.busy": "2022-01-12T18:07:00.251885Z",
     "iopub.status.idle": "2022-01-12T18:07:00.253589Z",
     "shell.execute_reply": "2022-01-12T18:07:00.254122Z",
     "shell.execute_reply.started": "2022-01-12T17:38:37.036355Z"
    },
    "id": "NPnMNIpyJrF9",
    "papermill": {
     "duration": 2.581698,
     "end_time": "2022-01-12T18:07:00.254329",
     "exception": false,
     "start_time": "2022-01-12T18:06:57.672631",
     "status": "completed"
    },
    "tags": []
   },
   "outputs": [],
   "source": [
    "#Print the top 10 words in the bigram frequency"
   ]
  },
  {
   "cell_type": "code",
   "execution_count": 24,
   "id": "438be7cb",
   "metadata": {
    "execution": {
     "iopub.execute_input": "2022-01-12T18:07:05.318977Z",
     "iopub.status.busy": "2022-01-12T18:07:05.318336Z",
     "iopub.status.idle": "2022-01-12T18:07:05.320612Z",
     "shell.execute_reply": "2022-01-12T18:07:05.321219Z",
     "shell.execute_reply.started": "2022-01-12T17:38:37.047781Z"
    },
    "id": "Xkh7vtbtJrF-",
    "papermill": {
     "duration": 2.546371,
     "end_time": "2022-01-12T18:07:05.321393",
     "exception": false,
     "start_time": "2022-01-12T18:07:02.775022",
     "status": "completed"
    },
    "tags": []
   },
   "outputs": [],
   "source": [
    "#Write your code here to find the top 30 trigram frequency among the complaints in the cleaned datafram(df_clean). \n"
   ]
  },
  {
   "cell_type": "code",
   "execution_count": 25,
   "id": "40ab030c",
   "metadata": {
    "execution": {
     "iopub.execute_input": "2022-01-12T18:07:10.412522Z",
     "iopub.status.busy": "2022-01-12T18:07:10.411813Z",
     "iopub.status.idle": "2022-01-12T18:07:10.415973Z",
     "shell.execute_reply": "2022-01-12T18:07:10.415434Z",
     "shell.execute_reply.started": "2022-01-12T17:38:37.057070Z"
    },
    "id": "REcVxNfvJrF-",
    "papermill": {
     "duration": 2.534134,
     "end_time": "2022-01-12T18:07:10.416222",
     "exception": false,
     "start_time": "2022-01-12T18:07:07.882088",
     "status": "completed"
    },
    "tags": []
   },
   "outputs": [],
   "source": [
    "#Print the top 10 words in the trigram frequency"
   ]
  },
  {
   "cell_type": "markdown",
   "id": "212071ce",
   "metadata": {
    "id": "yUXzFji0JrF_",
    "papermill": {
     "duration": 2.487923,
     "end_time": "2022-01-12T18:07:15.395572",
     "exception": false,
     "start_time": "2022-01-12T18:07:12.907649",
     "status": "completed"
    },
    "tags": []
   },
   "source": [
    "## The personal details of customer has been masked in the dataset with xxxx. Let's remove the masked text as this will be of no use for our analysis"
   ]
  },
  {
   "cell_type": "code",
   "execution_count": 26,
   "id": "fecefaed",
   "metadata": {
    "execution": {
     "iopub.execute_input": "2022-01-12T18:07:20.539090Z",
     "iopub.status.busy": "2022-01-12T18:07:20.538451Z",
     "iopub.status.idle": "2022-01-12T18:07:20.540989Z",
     "shell.execute_reply": "2022-01-12T18:07:20.540461Z",
     "shell.execute_reply.started": "2022-01-12T17:38:37.067323Z"
    },
    "id": "wKda-a_IJrF_",
    "papermill": {
     "duration": 2.490412,
     "end_time": "2022-01-12T18:07:20.541119",
     "exception": false,
     "start_time": "2022-01-12T18:07:18.050707",
     "status": "completed"
    },
    "tags": []
   },
   "outputs": [],
   "source": [
    "#df_clean['Complaint_clean'] = df_clean['Complaint_clean'].str.replace('xxxx','')"
   ]
  },
  {
   "cell_type": "code",
   "execution_count": 27,
   "id": "cafd5ec5",
   "metadata": {
    "execution": {
     "iopub.execute_input": "2022-01-12T18:07:25.604296Z",
     "iopub.status.busy": "2022-01-12T18:07:25.603674Z",
     "iopub.status.idle": "2022-01-12T18:07:25.605303Z",
     "shell.execute_reply": "2022-01-12T18:07:25.605848Z",
     "shell.execute_reply.started": "2022-01-12T17:38:37.080353Z"
    },
    "id": "9UIFk8fQJrF_",
    "papermill": {
     "duration": 2.577034,
     "end_time": "2022-01-12T18:07:25.606001",
     "exception": false,
     "start_time": "2022-01-12T18:07:23.028967",
     "status": "completed"
    },
    "tags": []
   },
   "outputs": [],
   "source": [
    "#All masked texts has been removed\n",
    "#df_clean"
   ]
  },
  {
   "cell_type": "markdown",
   "id": "04ec9f96",
   "metadata": {
    "id": "k-I0k0QtJrGA",
    "papermill": {
     "duration": 2.497952,
     "end_time": "2022-01-12T18:07:30.632390",
     "exception": false,
     "start_time": "2022-01-12T18:07:28.134438",
     "status": "completed"
    },
    "tags": []
   },
   "source": [
    "## Feature Extraction\n",
    "Convert the raw texts to a matrix of TF-IDF features\n",
    "\n",
    "**max_df** is used for removing terms that appear too frequently, also known as \"corpus-specific stop words\"\n",
    "max_df = 0.95 means \"ignore terms that appear in more than 95% of the complaints\"\n",
    "\n",
    "**min_df** is used for removing terms that appear too infrequently\n",
    "min_df = 2 means \"ignore terms that appear in less than 2 complaints\""
   ]
  },
  {
   "cell_type": "code",
   "execution_count": 28,
   "id": "e9b042c4",
   "metadata": {
    "execution": {
     "iopub.execute_input": "2022-01-12T18:07:35.685711Z",
     "iopub.status.busy": "2022-01-12T18:07:35.685070Z",
     "iopub.status.idle": "2022-01-12T18:07:35.687783Z",
     "shell.execute_reply": "2022-01-12T18:07:35.688408Z",
     "shell.execute_reply.started": "2022-01-12T17:38:37.093323Z"
    },
    "id": "Y8fGwaCPJrGA",
    "papermill": {
     "duration": 2.497769,
     "end_time": "2022-01-12T18:07:35.688579",
     "exception": false,
     "start_time": "2022-01-12T18:07:33.190810",
     "status": "completed"
    },
    "tags": []
   },
   "outputs": [],
   "source": [
    "#Write your code here to initialise the TfidfVectorizer \n",
    "\n"
   ]
  },
  {
   "cell_type": "markdown",
   "id": "71e65110",
   "metadata": {
    "id": "yYzD85nTJrGA",
    "papermill": {
     "duration": 2.562693,
     "end_time": "2022-01-12T18:07:40.787205",
     "exception": false,
     "start_time": "2022-01-12T18:07:38.224512",
     "status": "completed"
    },
    "tags": []
   },
   "source": [
    "#### Create a document term matrix using fit_transform\n",
    "\n",
    "The contents of a document term matrix are tuples of (complaint_id,token_id) tf-idf score:\n",
    "The tuples that are not there have a tf-idf score of 0"
   ]
  },
  {
   "cell_type": "code",
   "execution_count": 29,
   "id": "665de3b4",
   "metadata": {
    "execution": {
     "iopub.execute_input": "2022-01-12T18:07:45.792220Z",
     "iopub.status.busy": "2022-01-12T18:07:45.791223Z",
     "iopub.status.idle": "2022-01-12T18:07:45.793390Z",
     "shell.execute_reply": "2022-01-12T18:07:45.794355Z",
     "shell.execute_reply.started": "2022-01-12T17:38:37.100675Z"
    },
    "id": "ffzdDpp_JrGB",
    "papermill": {
     "duration": 2.514839,
     "end_time": "2022-01-12T18:07:45.794622",
     "exception": false,
     "start_time": "2022-01-12T18:07:43.279783",
     "status": "completed"
    },
    "tags": []
   },
   "outputs": [],
   "source": [
    "#Write your code here to create the Document Term Matrix by transforming the complaints column present in df_clean.\n"
   ]
  },
  {
   "cell_type": "markdown",
   "id": "0ece0100",
   "metadata": {
    "id": "7Q9lwvNEJrGB",
    "papermill": {
     "duration": 2.651522,
     "end_time": "2022-01-12T18:07:51.003495",
     "exception": false,
     "start_time": "2022-01-12T18:07:48.351973",
     "status": "completed"
    },
    "tags": []
   },
   "source": [
    "## Topic Modelling using NMF\n",
    "\n",
    "Non-Negative Matrix Factorization (NMF) is an unsupervised technique so there are no labeling of topics that the model will be trained on. The way it works is that, NMF decomposes (or factorizes) high-dimensional vectors into a lower-dimensional representation. These lower-dimensional vectors are non-negative which also means their coefficients are non-negative.\n",
    "\n",
    "In this task you have to perform the following:\n",
    "\n",
    "* Find the best number of clusters \n",
    "* Apply the best number to create word clusters\n",
    "* Inspect & validate the correction of each cluster wrt the complaints \n",
    "* Correct the labels if needed \n",
    "* Map the clusters to topics/cluster names"
   ]
  },
  {
   "cell_type": "code",
   "execution_count": 30,
   "id": "58efbe6b",
   "metadata": {
    "execution": {
     "iopub.execute_input": "2022-01-12T18:07:56.115788Z",
     "iopub.status.busy": "2022-01-12T18:07:56.115054Z",
     "iopub.status.idle": "2022-01-12T18:07:56.145678Z",
     "shell.execute_reply": "2022-01-12T18:07:56.146225Z",
     "shell.execute_reply.started": "2022-01-12T17:38:37.110684Z"
    },
    "id": "amLT4omWJrGB",
    "papermill": {
     "duration": 2.584688,
     "end_time": "2022-01-12T18:07:56.146401",
     "exception": false,
     "start_time": "2022-01-12T18:07:53.561713",
     "status": "completed"
    },
    "tags": []
   },
   "outputs": [],
   "source": [
    "from sklearn.decomposition import NMF"
   ]
  },
  {
   "cell_type": "markdown",
   "id": "8db462b7",
   "metadata": {
    "id": "0wYR1xUTJrGD",
    "papermill": {
     "duration": 2.537996,
     "end_time": "2022-01-12T18:08:01.177368",
     "exception": false,
     "start_time": "2022-01-12T18:07:58.639372",
     "status": "completed"
    },
    "tags": []
   },
   "source": [
    "## Manual Topic Modeling\n",
    "You need to do take the trial & error approach to find the best num of topics for your NMF model.\n",
    "\n",
    "The only parameter that is required is the number of components i.e. the number of topics we want. This is the most crucial step in the whole topic modeling process and will greatly affect how good your final topics are."
   ]
  },
  {
   "cell_type": "code",
   "execution_count": 31,
   "id": "3ad33f71",
   "metadata": {
    "execution": {
     "iopub.execute_input": "2022-01-12T18:08:06.253909Z",
     "iopub.status.busy": "2022-01-12T18:08:06.253197Z",
     "iopub.status.idle": "2022-01-12T18:08:06.255170Z",
     "shell.execute_reply": "2022-01-12T18:08:06.254662Z",
     "shell.execute_reply.started": "2022-01-12T17:38:37.145426Z"
    },
    "id": "sgd2A6bhJrGD",
    "papermill": {
     "duration": 2.522061,
     "end_time": "2022-01-12T18:08:06.255321",
     "exception": false,
     "start_time": "2022-01-12T18:08:03.733260",
     "status": "completed"
    },
    "tags": []
   },
   "outputs": [],
   "source": [
    "#Load your nmf_model with the n_components i.e 5\n",
    "#num_topics = #write the value you want to test out\n",
    "\n",
    "#keep the random_state =40\n",
    "#nmf_model = #write your code here"
   ]
  },
  {
   "cell_type": "code",
   "execution_count": 32,
   "id": "f76eda56",
   "metadata": {
    "execution": {
     "iopub.execute_input": "2022-01-12T18:08:11.370484Z",
     "iopub.status.busy": "2022-01-12T18:08:11.369747Z",
     "iopub.status.idle": "2022-01-12T18:08:11.372975Z",
     "shell.execute_reply": "2022-01-12T18:08:11.373494Z",
     "shell.execute_reply.started": "2022-01-12T17:38:37.151926Z"
    },
    "id": "VPMDYbt_JrGE",
    "papermill": {
     "duration": 2.628806,
     "end_time": "2022-01-12T18:08:11.373681",
     "exception": false,
     "start_time": "2022-01-12T18:08:08.744875",
     "status": "completed"
    },
    "tags": []
   },
   "outputs": [],
   "source": [
    "#nmf_model.fit(dtm)\n",
    "#len(tfidf.get_feature_names())"
   ]
  },
  {
   "cell_type": "code",
   "execution_count": 33,
   "id": "d433f671",
   "metadata": {
    "execution": {
     "iopub.execute_input": "2022-01-12T18:08:16.399807Z",
     "iopub.status.busy": "2022-01-12T18:08:16.399175Z",
     "iopub.status.idle": "2022-01-12T18:08:16.400929Z",
     "shell.execute_reply": "2022-01-12T18:08:16.401471Z",
     "shell.execute_reply.started": "2022-01-12T17:38:37.161257Z"
    },
    "id": "16kRfat5JrGE",
    "papermill": {
     "duration": 2.521767,
     "end_time": "2022-01-12T18:08:16.401644",
     "exception": false,
     "start_time": "2022-01-12T18:08:13.879877",
     "status": "completed"
    },
    "tags": []
   },
   "outputs": [],
   "source": [
    "#Print the Top15 words for each of the topics\n"
   ]
  },
  {
   "cell_type": "code",
   "execution_count": 34,
   "id": "46178c45",
   "metadata": {
    "execution": {
     "iopub.execute_input": "2022-01-12T18:08:21.513786Z",
     "iopub.status.busy": "2022-01-12T18:08:21.513049Z",
     "iopub.status.idle": "2022-01-12T18:08:21.515310Z",
     "shell.execute_reply": "2022-01-12T18:08:21.514624Z",
     "shell.execute_reply.started": "2022-01-12T17:38:37.170796Z"
    },
    "id": "0OIT7LmFJrGF",
    "papermill": {
     "duration": 2.55222,
     "end_time": "2022-01-12T18:08:21.515458",
     "exception": false,
     "start_time": "2022-01-12T18:08:18.963238",
     "status": "completed"
    },
    "tags": []
   },
   "outputs": [],
   "source": [
    "#Create the best topic for each complaint in terms of integer value 0,1,2,3 & 4\n",
    "\n"
   ]
  },
  {
   "cell_type": "code",
   "execution_count": 35,
   "id": "ffc5aaf3",
   "metadata": {
    "execution": {
     "iopub.execute_input": "2022-01-12T18:08:26.650398Z",
     "iopub.status.busy": "2022-01-12T18:08:26.649707Z",
     "iopub.status.idle": "2022-01-12T18:08:26.651850Z",
     "shell.execute_reply": "2022-01-12T18:08:26.651239Z",
     "shell.execute_reply.started": "2022-01-12T17:38:37.181513Z"
    },
    "id": "peyYv-ORJrGF",
    "papermill": {
     "duration": 2.571676,
     "end_time": "2022-01-12T18:08:26.651987",
     "exception": false,
     "start_time": "2022-01-12T18:08:24.080311",
     "status": "completed"
    },
    "tags": []
   },
   "outputs": [],
   "source": [
    "#Assign the best topic to each of the cmplaints in Topic Column\n",
    "\n",
    "#df_clean['Topic'] = #write your code to assign topics to each rows."
   ]
  },
  {
   "cell_type": "code",
   "execution_count": 36,
   "id": "aabd066f",
   "metadata": {
    "execution": {
     "iopub.execute_input": "2022-01-12T18:08:31.664394Z",
     "iopub.status.busy": "2022-01-12T18:08:31.662437Z",
     "iopub.status.idle": "2022-01-12T18:08:31.666650Z",
     "shell.execute_reply": "2022-01-12T18:08:31.666005Z",
     "shell.execute_reply.started": "2022-01-12T17:38:37.195262Z"
    },
    "id": "fLh_Gf3nJrGF",
    "papermill": {
     "duration": 2.511445,
     "end_time": "2022-01-12T18:08:31.666789",
     "exception": false,
     "start_time": "2022-01-12T18:08:29.155344",
     "status": "completed"
    },
    "tags": []
   },
   "outputs": [],
   "source": [
    "#df_clean.head()"
   ]
  },
  {
   "cell_type": "code",
   "execution_count": 37,
   "id": "1e759701",
   "metadata": {
    "execution": {
     "iopub.execute_input": "2022-01-12T18:08:36.744401Z",
     "iopub.status.busy": "2022-01-12T18:08:36.743735Z",
     "iopub.status.idle": "2022-01-12T18:08:36.746468Z",
     "shell.execute_reply": "2022-01-12T18:08:36.746985Z",
     "shell.execute_reply.started": "2022-01-12T17:38:37.204294Z"
    },
    "id": "aQKpufSPJrGG",
    "papermill": {
     "duration": 2.500605,
     "end_time": "2022-01-12T18:08:36.747176",
     "exception": false,
     "start_time": "2022-01-12T18:08:34.246571",
     "status": "completed"
    },
    "tags": []
   },
   "outputs": [],
   "source": [
    "#Print the first 5 Complaint for each of the Topics\n",
    "#df_clean=df_clean.groupby('Topic').head(5)\n",
    "#df_clean.sort_values('Topic')"
   ]
  },
  {
   "cell_type": "markdown",
   "id": "2b6c4452",
   "metadata": {
    "id": "piyLxzj6v07j",
    "papermill": {
     "duration": 2.499905,
     "end_time": "2022-01-12T18:08:41.736238",
     "exception": false,
     "start_time": "2022-01-12T18:08:39.236333",
     "status": "completed"
    },
    "tags": []
   },
   "source": [
    "#### After evaluating the mapping, if the topics assigned are correct then assign these names to the relevant topic:\n",
    "* Bank Account services\n",
    "* Credit card or prepaid card\n",
    "* Theft/Dispute Reporting\n",
    "* Mortgage/Loan\n",
    "* Others"
   ]
  },
  {
   "cell_type": "code",
   "execution_count": 38,
   "id": "ee6f8e33",
   "metadata": {
    "execution": {
     "iopub.execute_input": "2022-01-12T18:08:46.832222Z",
     "iopub.status.busy": "2022-01-12T18:08:46.831474Z",
     "iopub.status.idle": "2022-01-12T18:08:46.834804Z",
     "shell.execute_reply": "2022-01-12T18:08:46.835315Z",
     "shell.execute_reply.started": "2022-01-12T17:38:37.214242Z"
    },
    "id": "TWpwDG4RJrGG",
    "papermill": {
     "duration": 2.501067,
     "end_time": "2022-01-12T18:08:46.835483",
     "exception": false,
     "start_time": "2022-01-12T18:08:44.334416",
     "status": "completed"
    },
    "tags": []
   },
   "outputs": [],
   "source": [
    "#Create the dictionary of Topic names and Topics\n",
    "\n",
    "#Topic_names = {   }\n",
    "#Replace Topics with Topic Names\n",
    "#df_clean['Topic'] = df_clean['Topic'].map(Topic_names)"
   ]
  },
  {
   "cell_type": "code",
   "execution_count": 39,
   "id": "3171ecea",
   "metadata": {
    "execution": {
     "iopub.execute_input": "2022-01-12T18:08:51.906054Z",
     "iopub.status.busy": "2022-01-12T18:08:51.905408Z",
     "iopub.status.idle": "2022-01-12T18:08:51.908833Z",
     "shell.execute_reply": "2022-01-12T18:08:51.909371Z",
     "shell.execute_reply.started": "2022-01-12T17:38:37.224468Z"
    },
    "id": "-2ULY5K6JrGG",
    "papermill": {
     "duration": 2.56948,
     "end_time": "2022-01-12T18:08:51.909540",
     "exception": false,
     "start_time": "2022-01-12T18:08:49.340060",
     "status": "completed"
    },
    "tags": []
   },
   "outputs": [],
   "source": [
    "#df_clean"
   ]
  },
  {
   "cell_type": "markdown",
   "id": "8dda0a87",
   "metadata": {
    "id": "7Mu0QBOcJrGH",
    "papermill": {
     "duration": 2.522998,
     "end_time": "2022-01-12T18:08:57.027120",
     "exception": false,
     "start_time": "2022-01-12T18:08:54.504122",
     "status": "completed"
    },
    "tags": []
   },
   "source": [
    "## Supervised model to predict any new complaints to the relevant Topics.\n",
    "\n",
    "You have now build the model to create the topics for each complaints.Now in the below section you will use them to classify any new complaints.\n",
    "\n",
    "Since you will be using supervised learning technique we have to convert the topic names to numbers(numpy arrays only understand numbers)"
   ]
  },
  {
   "cell_type": "code",
   "execution_count": 40,
   "id": "6478756b",
   "metadata": {
    "execution": {
     "iopub.execute_input": "2022-01-12T18:09:02.081328Z",
     "iopub.status.busy": "2022-01-12T18:09:02.080592Z",
     "iopub.status.idle": "2022-01-12T18:09:02.082665Z",
     "shell.execute_reply": "2022-01-12T18:09:02.082068Z",
     "shell.execute_reply.started": "2022-01-12T17:38:37.233708Z"
    },
    "id": "_U8J3J8wJrGH",
    "papermill": {
     "duration": 2.565944,
     "end_time": "2022-01-12T18:09:02.082812",
     "exception": false,
     "start_time": "2022-01-12T18:08:59.516868",
     "status": "completed"
    },
    "tags": []
   },
   "outputs": [],
   "source": [
    "#Create the dictionary again of Topic names and Topics\n",
    "\n",
    "#Topic_names = {   }\n",
    "#Replace Topics with Topic Names\n",
    "#df_clean['Topic'] = df_clean['Topic'].map(Topic_names)"
   ]
  },
  {
   "cell_type": "code",
   "execution_count": 41,
   "id": "c187d454",
   "metadata": {
    "execution": {
     "iopub.execute_input": "2022-01-12T18:09:07.149915Z",
     "iopub.status.busy": "2022-01-12T18:09:07.149297Z",
     "iopub.status.idle": "2022-01-12T18:09:07.153698Z",
     "shell.execute_reply": "2022-01-12T18:09:07.153059Z",
     "shell.execute_reply.started": "2022-01-12T17:38:37.242920Z"
    },
    "id": "BWIgJUkQJrGH",
    "papermill": {
     "duration": 2.577283,
     "end_time": "2022-01-12T18:09:07.153835",
     "exception": false,
     "start_time": "2022-01-12T18:09:04.576552",
     "status": "completed"
    },
    "tags": []
   },
   "outputs": [],
   "source": [
    "#df_clean"
   ]
  },
  {
   "cell_type": "code",
   "execution_count": 42,
   "id": "c8dfee60",
   "metadata": {
    "execution": {
     "iopub.execute_input": "2022-01-12T18:09:12.162961Z",
     "iopub.status.busy": "2022-01-12T18:09:12.162249Z",
     "iopub.status.idle": "2022-01-12T18:09:12.165103Z",
     "shell.execute_reply": "2022-01-12T18:09:12.165651Z",
     "shell.execute_reply.started": "2022-01-12T17:38:37.253180Z"
    },
    "id": "Xx-FrbkWJrGH",
    "papermill": {
     "duration": 2.506731,
     "end_time": "2022-01-12T18:09:12.165832",
     "exception": false,
     "start_time": "2022-01-12T18:09:09.659101",
     "status": "completed"
    },
    "tags": []
   },
   "outputs": [],
   "source": [
    "#Keep the columns\"complaint_what_happened\" & \"Topic\" only in the new dataframe --> training_data\n",
    "#training_data="
   ]
  },
  {
   "cell_type": "code",
   "execution_count": 43,
   "id": "de44ac58",
   "metadata": {
    "execution": {
     "iopub.execute_input": "2022-01-12T18:09:17.259180Z",
     "iopub.status.busy": "2022-01-12T18:09:17.258528Z",
     "iopub.status.idle": "2022-01-12T18:09:17.260802Z",
     "shell.execute_reply": "2022-01-12T18:09:17.261389Z",
     "shell.execute_reply.started": "2022-01-12T17:38:37.263448Z"
    },
    "id": "lVg2pa12JrGI",
    "papermill": {
     "duration": 2.532901,
     "end_time": "2022-01-12T18:09:17.261562",
     "exception": false,
     "start_time": "2022-01-12T18:09:14.728661",
     "status": "completed"
    },
    "tags": []
   },
   "outputs": [],
   "source": [
    "#training_data"
   ]
  },
  {
   "cell_type": "markdown",
   "id": "f8a81248",
   "metadata": {
    "id": "280Vbqk-7a8M",
    "papermill": {
     "duration": 2.540825,
     "end_time": "2022-01-12T18:09:22.291044",
     "exception": false,
     "start_time": "2022-01-12T18:09:19.750219",
     "status": "completed"
    },
    "tags": []
   },
   "source": [
    "#### Apply the supervised models on the training data created. In this process, you have to do the following:\n",
    "* Create the vector counts using Count Vectoriser\n",
    "* Transform the word vecotr to tf-idf\n",
    "* Create the train & test data using the train_test_split on the tf-idf & topics\n"
   ]
  },
  {
   "cell_type": "code",
   "execution_count": 44,
   "id": "0e7c37dd",
   "metadata": {
    "execution": {
     "iopub.execute_input": "2022-01-12T18:09:27.359075Z",
     "iopub.status.busy": "2022-01-12T18:09:27.358075Z",
     "iopub.status.idle": "2022-01-12T18:09:27.362016Z",
     "shell.execute_reply": "2022-01-12T18:09:27.361515Z",
     "shell.execute_reply.started": "2022-01-12T17:38:37.273525Z"
    },
    "id": "oUlQpgkzJrGI",
    "papermill": {
     "duration": 2.573817,
     "end_time": "2022-01-12T18:09:27.362194",
     "exception": false,
     "start_time": "2022-01-12T18:09:24.788377",
     "status": "completed"
    },
    "tags": []
   },
   "outputs": [],
   "source": [
    "\n",
    "#Write your code to get the Vector count\n",
    "\n",
    "\n",
    "#Write your code here to transform the word vector to tf-idf"
   ]
  },
  {
   "cell_type": "markdown",
   "id": "1ce74b10",
   "metadata": {
    "id": "uMU3vj6w-wqL",
    "papermill": {
     "duration": 2.496779,
     "end_time": "2022-01-12T18:09:32.446154",
     "exception": false,
     "start_time": "2022-01-12T18:09:29.949375",
     "status": "completed"
    },
    "tags": []
   },
   "source": [
    "You have to try atleast 3 models on the train & test data from these options:\n",
    "* Logistic regression\n",
    "* Decision Tree\n",
    "* Random Forest\n",
    "* Naive Bayes (optional)\n",
    "\n",
    "**Using the required evaluation metrics judge the tried models and select the ones performing the best**"
   ]
  },
  {
   "cell_type": "code",
   "execution_count": 45,
   "id": "121a96fd",
   "metadata": {
    "execution": {
     "iopub.execute_input": "2022-01-12T18:09:37.495647Z",
     "iopub.status.busy": "2022-01-12T18:09:37.494974Z",
     "iopub.status.idle": "2022-01-12T18:09:37.497292Z",
     "shell.execute_reply": "2022-01-12T18:09:37.496798Z",
     "shell.execute_reply.started": "2022-01-12T17:38:37.284060Z"
    },
    "id": "udLHpPsZJrGI",
    "papermill": {
     "duration": 2.565802,
     "end_time": "2022-01-12T18:09:37.497432",
     "exception": false,
     "start_time": "2022-01-12T18:09:34.931630",
     "status": "completed"
    },
    "tags": []
   },
   "outputs": [],
   "source": [
    "# Write your code here to build any 3 models and evaluate them using the required metrics\n",
    "\n",
    "\n",
    "\n"
   ]
  },
  {
   "cell_type": "code",
   "execution_count": null,
   "id": "71cf8367",
   "metadata": {
    "id": "N2OznsObJrGP",
    "papermill": {
     "duration": 2.504126,
     "end_time": "2022-01-12T18:09:42.527306",
     "exception": false,
     "start_time": "2022-01-12T18:09:40.023180",
     "status": "completed"
    },
    "tags": []
   },
   "outputs": [],
   "source": []
  }
 ],
 "metadata": {
  "kernelspec": {
   "display_name": "Python 3",
   "language": "python",
   "name": "python3"
  },
  "language_info": {
   "codemirror_mode": {
    "name": "ipython",
    "version": 3
   },
   "file_extension": ".py",
   "mimetype": "text/x-python",
   "name": "python",
   "nbconvert_exporter": "python",
   "pygments_lexer": "ipython3",
   "version": "3.7.12"
  },
  "papermill": {
   "default_parameters": {},
   "duration": 1526.279414,
   "end_time": "2022-01-12T18:09:48.434784",
   "environment_variables": {},
   "exception": null,
   "input_path": "__notebook__.ipynb",
   "output_path": "__notebook__.ipynb",
   "parameters": {},
   "start_time": "2022-01-12T17:44:22.155370",
   "version": "2.3.3"
  }
 },
 "nbformat": 4,
 "nbformat_minor": 5
}
