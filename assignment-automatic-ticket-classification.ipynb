{
 "cells": [
  {
   "cell_type": "markdown",
   "id": "48d8ee8d",
   "metadata": {
    "id": "rhR-ZUkwJrFn",
    "papermill": {
     "duration": 0.045782,
     "end_time": "2022-01-09T13:45:26.932495",
     "exception": false,
     "start_time": "2022-01-09T13:45:26.886713",
     "status": "completed"
    },
    "tags": []
   },
   "source": [
    "## Problem Statement \n",
    "\n",
    "You need to build a model that is able to classify customer complaints based on the products/services. By doing so, you can segregate these tickets into their relevant categories and, therefore, help in the quick resolution of the issue.\n",
    "\n",
    "You will be doing topic modelling on the <b>.json</b> data provided by the company. Since this data is not labelled, you need to apply NMF to analyse patterns and classify tickets into the following five clusters based on their products/services:\n",
    "\n",
    "* Credit card / Prepaid card\n",
    "\n",
    "* Bank account services\n",
    "\n",
    "* Theft/Dispute reporting\n",
    "\n",
    "* Mortgages/loans\n",
    "\n",
    "* Others \n",
    "\n",
    "\n",
    "With the help of topic modelling, you will be able to map each ticket onto its respective department/category. You can then use this data to train any supervised model such as logistic regression, decision tree or random forest. Using this trained model, you can classify any new customer complaint support ticket into its relevant department."
   ]
  },
  {
   "cell_type": "markdown",
   "id": "f8eb1e28",
   "metadata": {
    "id": "mcgXVNyaLUFS",
    "papermill": {
     "duration": 0.044423,
     "end_time": "2022-01-09T13:45:27.022367",
     "exception": false,
     "start_time": "2022-01-09T13:45:26.977944",
     "status": "completed"
    },
    "tags": []
   },
   "source": [
    "## Pipelines that needs to be performed:\n",
    "\n",
    "You need to perform the following eight major tasks to complete the assignment:\n",
    "\n",
    "1.  Data loading\n",
    "\n",
    "2. Text preprocessing\n",
    "\n",
    "3. Exploratory data analysis (EDA)\n",
    "\n",
    "4. Feature extraction\n",
    "\n",
    "5. Topic modelling \n",
    "\n",
    "6. Model building using supervised learning\n",
    "\n",
    "7. Model training and evaluation\n",
    "\n",
    "8. Model inference"
   ]
  },
  {
   "cell_type": "markdown",
   "id": "4d17d683",
   "metadata": {
    "id": "JuLFIymAL58u",
    "papermill": {
     "duration": 0.048368,
     "end_time": "2022-01-09T13:45:27.115999",
     "exception": false,
     "start_time": "2022-01-09T13:45:27.067631",
     "status": "completed"
    },
    "tags": []
   },
   "source": [
    "## Importing the necessary libraries"
   ]
  },
  {
   "cell_type": "code",
   "execution_count": 1,
   "id": "a45b0a9c",
   "metadata": {
    "execution": {
     "iopub.execute_input": "2022-01-09T13:45:27.223911Z",
     "iopub.status.busy": "2022-01-09T13:45:27.223128Z",
     "iopub.status.idle": "2022-01-09T13:45:40.852893Z",
     "shell.execute_reply": "2022-01-09T13:45:40.852162Z",
     "shell.execute_reply.started": "2022-01-09T13:09:44.063946Z"
    },
    "id": "O-Q9pqrcJrFr",
    "papermill": {
     "duration": 13.692232,
     "end_time": "2022-01-09T13:45:40.853075",
     "exception": false,
     "start_time": "2022-01-09T13:45:27.160843",
     "status": "completed"
    },
    "tags": []
   },
   "outputs": [],
   "source": [
    "import json \n",
    "import numpy as np\n",
    "import pandas as pd\n",
    "import re, nltk, spacy, string\n",
    "import en_core_web_sm\n",
    "\n",
    "import seaborn as sns\n",
    "import matplotlib.pyplot as plt\n",
    "\n",
    "\n",
    "from plotly.offline import plot\n",
    "import plotly.graph_objects as go\n",
    "import plotly.express as px\n",
    "\n",
    "from sklearn.feature_extraction.text import CountVectorizer, TfidfVectorizer\n",
    "from pprint import pprint\n",
    "\n",
    "%matplotlib inline\n",
    "\n",
    "nlp = en_core_web_sm.load()"
   ]
  },
  {
   "cell_type": "markdown",
   "id": "b3c343f2",
   "metadata": {
    "id": "KtRLCsNVJrFt",
    "papermill": {
     "duration": 0.045402,
     "end_time": "2022-01-09T13:45:40.942689",
     "exception": false,
     "start_time": "2022-01-09T13:45:40.897287",
     "status": "completed"
    },
    "tags": []
   },
   "source": [
    "## Loading the data\n",
    "\n",
    "The data is in JSON format and we need to convert it to a dataframe."
   ]
  },
  {
   "cell_type": "code",
   "execution_count": 2,
   "id": "b3833c7d",
   "metadata": {
    "execution": {
     "iopub.execute_input": "2022-01-09T13:45:41.039914Z",
     "iopub.status.busy": "2022-01-09T13:45:41.039185Z",
     "iopub.status.idle": "2022-01-09T13:45:46.318221Z",
     "shell.execute_reply": "2022-01-09T13:45:46.318756Z",
     "shell.execute_reply.started": "2022-01-09T13:09:44.743513Z"
    },
    "id": "puVzIf_iJrFt",
    "papermill": {
     "duration": 5.33155,
     "end_time": "2022-01-09T13:45:46.318946",
     "exception": false,
     "start_time": "2022-01-09T13:45:40.987396",
     "status": "completed"
    },
    "tags": []
   },
   "outputs": [],
   "source": [
    "# Opening JSON file \n",
    "file_path = open('../input/automatic-ticket-classification/complaints-2021-05-14_08_16.json') # Write the path to your data file and load it \n",
    "  \n",
    "# returns JSON object as  \n",
    "# a dictionary \n",
    "data = json.load(file_path)\n",
    "df = pd.json_normalize(data)"
   ]
  },
  {
   "cell_type": "markdown",
   "id": "cf301ac6",
   "metadata": {
    "id": "_xYpH-sAJrFu",
    "papermill": {
     "duration": 0.04638,
     "end_time": "2022-01-09T13:45:46.411233",
     "exception": false,
     "start_time": "2022-01-09T13:45:46.364853",
     "status": "completed"
    },
    "tags": []
   },
   "source": [
    "## Data preparation"
   ]
  },
  {
   "cell_type": "code",
   "execution_count": 3,
   "id": "381d83ef",
   "metadata": {
    "execution": {
     "iopub.execute_input": "2022-01-09T13:45:46.511278Z",
     "iopub.status.busy": "2022-01-09T13:45:46.510167Z",
     "iopub.status.idle": "2022-01-09T13:45:46.536888Z",
     "shell.execute_reply": "2022-01-09T13:45:46.537433Z",
     "shell.execute_reply.started": "2022-01-09T13:09:48.209402Z"
    },
    "id": "Lf8ufHH5JrFu",
    "papermill": {
     "duration": 0.08158,
     "end_time": "2022-01-09T13:45:46.537610",
     "exception": false,
     "start_time": "2022-01-09T13:45:46.456030",
     "status": "completed"
    },
    "tags": []
   },
   "outputs": [
    {
     "data": {
      "text/html": [
       "<div>\n",
       "<style scoped>\n",
       "    .dataframe tbody tr th:only-of-type {\n",
       "        vertical-align: middle;\n",
       "    }\n",
       "\n",
       "    .dataframe tbody tr th {\n",
       "        vertical-align: top;\n",
       "    }\n",
       "\n",
       "    .dataframe thead th {\n",
       "        text-align: right;\n",
       "    }\n",
       "</style>\n",
       "<table border=\"1\" class=\"dataframe\">\n",
       "  <thead>\n",
       "    <tr style=\"text-align: right;\">\n",
       "      <th></th>\n",
       "      <th>_index</th>\n",
       "      <th>_type</th>\n",
       "      <th>_id</th>\n",
       "      <th>_score</th>\n",
       "      <th>_source.tags</th>\n",
       "      <th>_source.zip_code</th>\n",
       "      <th>_source.complaint_id</th>\n",
       "      <th>_source.issue</th>\n",
       "      <th>_source.date_received</th>\n",
       "      <th>_source.state</th>\n",
       "      <th>_source.consumer_disputed</th>\n",
       "      <th>_source.product</th>\n",
       "      <th>_source.company_response</th>\n",
       "      <th>_source.company</th>\n",
       "      <th>_source.submitted_via</th>\n",
       "      <th>_source.date_sent_to_company</th>\n",
       "      <th>_source.company_public_response</th>\n",
       "      <th>_source.sub_product</th>\n",
       "      <th>_source.timely</th>\n",
       "      <th>_source.complaint_what_happened</th>\n",
       "      <th>_source.sub_issue</th>\n",
       "      <th>_source.consumer_consent_provided</th>\n",
       "    </tr>\n",
       "  </thead>\n",
       "  <tbody>\n",
       "    <tr>\n",
       "      <th>0</th>\n",
       "      <td>complaint-public-v2</td>\n",
       "      <td>complaint</td>\n",
       "      <td>3211475</td>\n",
       "      <td>0.0</td>\n",
       "      <td>None</td>\n",
       "      <td>90301</td>\n",
       "      <td>3211475</td>\n",
       "      <td>Attempts to collect debt not owed</td>\n",
       "      <td>2019-04-13T12:00:00-05:00</td>\n",
       "      <td>CA</td>\n",
       "      <td>N/A</td>\n",
       "      <td>Debt collection</td>\n",
       "      <td>Closed with explanation</td>\n",
       "      <td>JPMORGAN CHASE &amp; CO.</td>\n",
       "      <td>Web</td>\n",
       "      <td>2019-04-13T12:00:00-05:00</td>\n",
       "      <td>None</td>\n",
       "      <td>Credit card debt</td>\n",
       "      <td>Yes</td>\n",
       "      <td></td>\n",
       "      <td>Debt is not yours</td>\n",
       "      <td>Consent not provided</td>\n",
       "    </tr>\n",
       "    <tr>\n",
       "      <th>1</th>\n",
       "      <td>complaint-public-v2</td>\n",
       "      <td>complaint</td>\n",
       "      <td>3229299</td>\n",
       "      <td>0.0</td>\n",
       "      <td>Servicemember</td>\n",
       "      <td>319XX</td>\n",
       "      <td>3229299</td>\n",
       "      <td>Written notification about debt</td>\n",
       "      <td>2019-05-01T12:00:00-05:00</td>\n",
       "      <td>GA</td>\n",
       "      <td>N/A</td>\n",
       "      <td>Debt collection</td>\n",
       "      <td>Closed with explanation</td>\n",
       "      <td>JPMORGAN CHASE &amp; CO.</td>\n",
       "      <td>Web</td>\n",
       "      <td>2019-05-01T12:00:00-05:00</td>\n",
       "      <td>None</td>\n",
       "      <td>Credit card debt</td>\n",
       "      <td>Yes</td>\n",
       "      <td>Good morning my name is XXXX XXXX and I apprec...</td>\n",
       "      <td>Didn't receive enough information to verify debt</td>\n",
       "      <td>Consent provided</td>\n",
       "    </tr>\n",
       "    <tr>\n",
       "      <th>2</th>\n",
       "      <td>complaint-public-v2</td>\n",
       "      <td>complaint</td>\n",
       "      <td>3199379</td>\n",
       "      <td>0.0</td>\n",
       "      <td>None</td>\n",
       "      <td>77069</td>\n",
       "      <td>3199379</td>\n",
       "      <td>Other features, terms, or problems</td>\n",
       "      <td>2019-04-02T12:00:00-05:00</td>\n",
       "      <td>TX</td>\n",
       "      <td>N/A</td>\n",
       "      <td>Credit card or prepaid card</td>\n",
       "      <td>Closed with explanation</td>\n",
       "      <td>JPMORGAN CHASE &amp; CO.</td>\n",
       "      <td>Web</td>\n",
       "      <td>2019-04-02T12:00:00-05:00</td>\n",
       "      <td>None</td>\n",
       "      <td>General-purpose credit card or charge card</td>\n",
       "      <td>Yes</td>\n",
       "      <td>I upgraded my XXXX XXXX card in XX/XX/2018 and...</td>\n",
       "      <td>Problem with rewards from credit card</td>\n",
       "      <td>Consent provided</td>\n",
       "    </tr>\n",
       "    <tr>\n",
       "      <th>3</th>\n",
       "      <td>complaint-public-v2</td>\n",
       "      <td>complaint</td>\n",
       "      <td>2673060</td>\n",
       "      <td>0.0</td>\n",
       "      <td>None</td>\n",
       "      <td>48066</td>\n",
       "      <td>2673060</td>\n",
       "      <td>Trouble during payment process</td>\n",
       "      <td>2017-09-13T12:00:00-05:00</td>\n",
       "      <td>MI</td>\n",
       "      <td>N/A</td>\n",
       "      <td>Mortgage</td>\n",
       "      <td>Closed with explanation</td>\n",
       "      <td>JPMORGAN CHASE &amp; CO.</td>\n",
       "      <td>Web</td>\n",
       "      <td>2017-09-14T12:00:00-05:00</td>\n",
       "      <td>None</td>\n",
       "      <td>Conventional home mortgage</td>\n",
       "      <td>Yes</td>\n",
       "      <td></td>\n",
       "      <td>None</td>\n",
       "      <td>Consent not provided</td>\n",
       "    </tr>\n",
       "    <tr>\n",
       "      <th>4</th>\n",
       "      <td>complaint-public-v2</td>\n",
       "      <td>complaint</td>\n",
       "      <td>3203545</td>\n",
       "      <td>0.0</td>\n",
       "      <td>None</td>\n",
       "      <td>10473</td>\n",
       "      <td>3203545</td>\n",
       "      <td>Fees or interest</td>\n",
       "      <td>2019-04-05T12:00:00-05:00</td>\n",
       "      <td>NY</td>\n",
       "      <td>N/A</td>\n",
       "      <td>Credit card or prepaid card</td>\n",
       "      <td>Closed with explanation</td>\n",
       "      <td>JPMORGAN CHASE &amp; CO.</td>\n",
       "      <td>Referral</td>\n",
       "      <td>2019-04-05T12:00:00-05:00</td>\n",
       "      <td>None</td>\n",
       "      <td>General-purpose credit card or charge card</td>\n",
       "      <td>Yes</td>\n",
       "      <td></td>\n",
       "      <td>Charged too much interest</td>\n",
       "      <td>N/A</td>\n",
       "    </tr>\n",
       "  </tbody>\n",
       "</table>\n",
       "</div>"
      ],
      "text/plain": [
       "                _index      _type      _id  _score   _source.tags  \\\n",
       "0  complaint-public-v2  complaint  3211475     0.0           None   \n",
       "1  complaint-public-v2  complaint  3229299     0.0  Servicemember   \n",
       "2  complaint-public-v2  complaint  3199379     0.0           None   \n",
       "3  complaint-public-v2  complaint  2673060     0.0           None   \n",
       "4  complaint-public-v2  complaint  3203545     0.0           None   \n",
       "\n",
       "  _source.zip_code _source.complaint_id                       _source.issue  \\\n",
       "0            90301              3211475   Attempts to collect debt not owed   \n",
       "1            319XX              3229299     Written notification about debt   \n",
       "2            77069              3199379  Other features, terms, or problems   \n",
       "3            48066              2673060      Trouble during payment process   \n",
       "4            10473              3203545                    Fees or interest   \n",
       "\n",
       "       _source.date_received _source.state _source.consumer_disputed  \\\n",
       "0  2019-04-13T12:00:00-05:00            CA                       N/A   \n",
       "1  2019-05-01T12:00:00-05:00            GA                       N/A   \n",
       "2  2019-04-02T12:00:00-05:00            TX                       N/A   \n",
       "3  2017-09-13T12:00:00-05:00            MI                       N/A   \n",
       "4  2019-04-05T12:00:00-05:00            NY                       N/A   \n",
       "\n",
       "               _source.product _source.company_response       _source.company  \\\n",
       "0              Debt collection  Closed with explanation  JPMORGAN CHASE & CO.   \n",
       "1              Debt collection  Closed with explanation  JPMORGAN CHASE & CO.   \n",
       "2  Credit card or prepaid card  Closed with explanation  JPMORGAN CHASE & CO.   \n",
       "3                     Mortgage  Closed with explanation  JPMORGAN CHASE & CO.   \n",
       "4  Credit card or prepaid card  Closed with explanation  JPMORGAN CHASE & CO.   \n",
       "\n",
       "  _source.submitted_via _source.date_sent_to_company  \\\n",
       "0                   Web    2019-04-13T12:00:00-05:00   \n",
       "1                   Web    2019-05-01T12:00:00-05:00   \n",
       "2                   Web    2019-04-02T12:00:00-05:00   \n",
       "3                   Web    2017-09-14T12:00:00-05:00   \n",
       "4              Referral    2019-04-05T12:00:00-05:00   \n",
       "\n",
       "  _source.company_public_response                         _source.sub_product  \\\n",
       "0                            None                            Credit card debt   \n",
       "1                            None                            Credit card debt   \n",
       "2                            None  General-purpose credit card or charge card   \n",
       "3                            None                  Conventional home mortgage   \n",
       "4                            None  General-purpose credit card or charge card   \n",
       "\n",
       "  _source.timely                    _source.complaint_what_happened  \\\n",
       "0            Yes                                                      \n",
       "1            Yes  Good morning my name is XXXX XXXX and I apprec...   \n",
       "2            Yes  I upgraded my XXXX XXXX card in XX/XX/2018 and...   \n",
       "3            Yes                                                      \n",
       "4            Yes                                                      \n",
       "\n",
       "                                  _source.sub_issue  \\\n",
       "0                                 Debt is not yours   \n",
       "1  Didn't receive enough information to verify debt   \n",
       "2             Problem with rewards from credit card   \n",
       "3                                              None   \n",
       "4                         Charged too much interest   \n",
       "\n",
       "  _source.consumer_consent_provided  \n",
       "0              Consent not provided  \n",
       "1                  Consent provided  \n",
       "2                  Consent provided  \n",
       "3              Consent not provided  \n",
       "4                               N/A  "
      ]
     },
     "execution_count": 3,
     "metadata": {},
     "output_type": "execute_result"
    }
   ],
   "source": [
    "# Inspect the dataframe to understand the given data.\n",
    "pd.set_option('max_columns', None)\n",
    "df.head()"
   ]
  },
  {
   "cell_type": "code",
   "execution_count": 4,
   "id": "8c97163a",
   "metadata": {
    "execution": {
     "iopub.execute_input": "2022-01-09T13:45:46.633246Z",
     "iopub.status.busy": "2022-01-09T13:45:46.632595Z",
     "iopub.status.idle": "2022-01-09T13:45:46.877795Z",
     "shell.execute_reply": "2022-01-09T13:45:46.877121Z",
     "shell.execute_reply.started": "2022-01-09T13:09:48.241294Z"
    },
    "papermill": {
     "duration": 0.294198,
     "end_time": "2022-01-09T13:45:46.877938",
     "exception": false,
     "start_time": "2022-01-09T13:45:46.583740",
     "status": "completed"
    },
    "tags": []
   },
   "outputs": [
    {
     "name": "stdout",
     "output_type": "stream",
     "text": [
      "<class 'pandas.core.frame.DataFrame'>\n",
      "RangeIndex: 78313 entries, 0 to 78312\n",
      "Data columns (total 22 columns):\n",
      " #   Column                             Non-Null Count  Dtype  \n",
      "---  ------                             --------------  -----  \n",
      " 0   _index                             78313 non-null  object \n",
      " 1   _type                              78313 non-null  object \n",
      " 2   _id                                78313 non-null  object \n",
      " 3   _score                             78313 non-null  float64\n",
      " 4   _source.tags                       10900 non-null  object \n",
      " 5   _source.zip_code                   71556 non-null  object \n",
      " 6   _source.complaint_id               78313 non-null  object \n",
      " 7   _source.issue                      78313 non-null  object \n",
      " 8   _source.date_received              78313 non-null  object \n",
      " 9   _source.state                      76322 non-null  object \n",
      " 10  _source.consumer_disputed          78313 non-null  object \n",
      " 11  _source.product                    78313 non-null  object \n",
      " 12  _source.company_response           78313 non-null  object \n",
      " 13  _source.company                    78313 non-null  object \n",
      " 14  _source.submitted_via              78313 non-null  object \n",
      " 15  _source.date_sent_to_company       78313 non-null  object \n",
      " 16  _source.company_public_response    4 non-null      object \n",
      " 17  _source.sub_product                67742 non-null  object \n",
      " 18  _source.timely                     78313 non-null  object \n",
      " 19  _source.complaint_what_happened    78313 non-null  object \n",
      " 20  _source.sub_issue                  32016 non-null  object \n",
      " 21  _source.consumer_consent_provided  77305 non-null  object \n",
      "dtypes: float64(1), object(21)\n",
      "memory usage: 13.1+ MB\n"
     ]
    }
   ],
   "source": [
    "df.info()"
   ]
  },
  {
   "cell_type": "code",
   "execution_count": 5,
   "id": "a1b974e5",
   "metadata": {
    "execution": {
     "iopub.execute_input": "2022-01-09T13:45:46.977478Z",
     "iopub.status.busy": "2022-01-09T13:45:46.976788Z",
     "iopub.status.idle": "2022-01-09T13:45:46.982921Z",
     "shell.execute_reply": "2022-01-09T13:45:46.983686Z",
     "shell.execute_reply.started": "2022-01-09T13:09:48.504166Z"
    },
    "id": "Dwcty-wmJrFw",
    "papermill": {
     "duration": 0.060338,
     "end_time": "2022-01-09T13:45:46.983874",
     "exception": false,
     "start_time": "2022-01-09T13:45:46.923536",
     "status": "completed"
    },
    "tags": []
   },
   "outputs": [
    {
     "name": "stdout",
     "output_type": "stream",
     "text": [
      "01 Column :  _index\n",
      "02 Column :  _type\n",
      "03 Column :  _id\n",
      "04 Column :  _score\n",
      "05 Column :  _source.tags\n",
      "06 Column :  _source.zip_code\n",
      "07 Column :  _source.complaint_id\n",
      "08 Column :  _source.issue\n",
      "09 Column :  _source.date_received\n",
      "10 Column :  _source.state\n",
      "11 Column :  _source.consumer_disputed\n",
      "12 Column :  _source.product\n",
      "13 Column :  _source.company_response\n",
      "14 Column :  _source.company\n",
      "15 Column :  _source.submitted_via\n",
      "16 Column :  _source.date_sent_to_company\n",
      "17 Column :  _source.company_public_response\n",
      "18 Column :  _source.sub_product\n",
      "19 Column :  _source.timely\n",
      "20 Column :  _source.complaint_what_happened\n",
      "21 Column :  _source.sub_issue\n",
      "22 Column :  _source.consumer_consent_provided\n"
     ]
    }
   ],
   "source": [
    "# Print the column names\n",
    "def print_column_names():\n",
    "    i = 1\n",
    "    for col in df.columns:\n",
    "        print(str(\"{:02d}\".format(i)) +\" Column : \", col)\n",
    "        i += 1\n",
    "        \n",
    "print_column_names()"
   ]
  },
  {
   "cell_type": "code",
   "execution_count": 6,
   "id": "01cad862",
   "metadata": {
    "execution": {
     "iopub.execute_input": "2022-01-09T13:45:47.080427Z",
     "iopub.status.busy": "2022-01-09T13:45:47.079761Z",
     "iopub.status.idle": "2022-01-09T13:45:47.093388Z",
     "shell.execute_reply": "2022-01-09T13:45:47.093966Z",
     "shell.execute_reply.started": "2022-01-09T13:09:48.518293Z"
    },
    "id": "FYCtKXD1JrFw",
    "papermill": {
     "duration": 0.064018,
     "end_time": "2022-01-09T13:45:47.094176",
     "exception": false,
     "start_time": "2022-01-09T13:45:47.030158",
     "status": "completed"
    },
    "tags": []
   },
   "outputs": [
    {
     "name": "stdout",
     "output_type": "stream",
     "text": [
      "01 Column :  index\n",
      "02 Column :  type\n",
      "03 Column :  id\n",
      "04 Column :  score\n",
      "05 Column :  tags\n",
      "06 Column :  zipcode\n",
      "07 Column :  complaintid\n",
      "08 Column :  issue\n",
      "09 Column :  datereceived\n",
      "10 Column :  state\n",
      "11 Column :  consumerdisputed\n",
      "12 Column :  product\n",
      "13 Column :  companyresponse\n",
      "14 Column :  company\n",
      "15 Column :  submittedvia\n",
      "16 Column :  datesenttocompany\n",
      "17 Column :  companypublicresponse\n",
      "18 Column :  subproduct\n",
      "19 Column :  timely\n",
      "20 Column :  complaintwhathappened\n",
      "21 Column :  subissue\n",
      "22 Column :  consumerconsentprovided\n"
     ]
    }
   ],
   "source": [
    "# Assign new column names\n",
    "new_columns = {}\n",
    "for col in df.columns:\n",
    "    new_columns[col] = col.replace(\"_\", \"\").replace(\"source.\", \"\")\n",
    "\n",
    "df.rename(columns = new_columns, inplace = True)\n",
    "\n",
    "print_column_names()"
   ]
  },
  {
   "cell_type": "code",
   "execution_count": 7,
   "id": "d4233b2a",
   "metadata": {
    "execution": {
     "iopub.execute_input": "2022-01-09T13:45:47.192694Z",
     "iopub.status.busy": "2022-01-09T13:45:47.192036Z",
     "iopub.status.idle": "2022-01-09T13:45:47.198258Z",
     "shell.execute_reply": "2022-01-09T13:45:47.199039Z",
     "shell.execute_reply.started": "2022-01-09T13:09:48.537494Z"
    },
    "papermill": {
     "duration": 0.057808,
     "end_time": "2022-01-09T13:45:47.199301",
     "exception": false,
     "start_time": "2022-01-09T13:45:47.141493",
     "status": "completed"
    },
    "tags": []
   },
   "outputs": [
    {
     "name": "stdout",
     "output_type": "stream",
     "text": [
      "No of rows:\u001b[1m 78313 \u001b[0m\n",
      "No of cols:\u001b[1m 22 \u001b[0m\n"
     ]
    }
   ],
   "source": [
    "# Get the shape and size of the dataset\n",
    "print('No of rows:\\033[1m', df.shape[0], '\\033[0m')\n",
    "print('No of cols:\\033[1m', df.shape[1], '\\033[0m')"
   ]
  },
  {
   "cell_type": "code",
   "execution_count": 8,
   "id": "e9a74e89",
   "metadata": {
    "execution": {
     "iopub.execute_input": "2022-01-09T13:45:47.298322Z",
     "iopub.status.busy": "2022-01-09T13:45:47.297640Z",
     "iopub.status.idle": "2022-01-09T13:45:47.308508Z",
     "shell.execute_reply": "2022-01-09T13:45:47.309027Z",
     "shell.execute_reply.started": "2022-01-09T13:09:48.560583Z"
    },
    "id": "grQUPFL5JrFx",
    "papermill": {
     "duration": 0.06214,
     "end_time": "2022-01-09T13:45:47.309217",
     "exception": false,
     "start_time": "2022-01-09T13:45:47.247077",
     "status": "completed"
    },
    "tags": []
   },
   "outputs": [],
   "source": [
    "# Assign nan in place of blanks in the complaints column\n",
    "df.complaintwhathappened.replace(r'', np.nan, regex=True, inplace=True)"
   ]
  },
  {
   "cell_type": "code",
   "execution_count": 9,
   "id": "efd59f58",
   "metadata": {
    "execution": {
     "iopub.execute_input": "2022-01-09T13:45:47.426480Z",
     "iopub.status.busy": "2022-01-09T13:45:47.425325Z",
     "iopub.status.idle": "2022-01-09T13:45:47.450211Z",
     "shell.execute_reply": "2022-01-09T13:45:47.450970Z",
     "shell.execute_reply.started": "2022-01-09T13:09:48.582331Z"
    },
    "id": "Jfxd8VSmJrFy",
    "papermill": {
     "duration": 0.094671,
     "end_time": "2022-01-09T13:45:47.451219",
     "exception": false,
     "start_time": "2022-01-09T13:45:47.356548",
     "status": "completed"
    },
    "tags": []
   },
   "outputs": [
    {
     "name": "stdout",
     "output_type": "stream",
     "text": [
      "Remaining Rows :  21072\n"
     ]
    }
   ],
   "source": [
    "# Remove all rows where complaints column is nan\n",
    "df = df[df.complaintwhathappened.notna()]\n",
    "print(\"Remaining Rows : \", len(df))"
   ]
  },
  {
   "cell_type": "markdown",
   "id": "4df80fc9",
   "metadata": {
    "id": "L944HZpsJrFy",
    "papermill": {
     "duration": 0.046983,
     "end_time": "2022-01-09T13:45:47.556955",
     "exception": false,
     "start_time": "2022-01-09T13:45:47.509972",
     "status": "completed"
    },
    "tags": []
   },
   "source": [
    "## Prepare the text for topic modeling\n",
    "\n",
    "Once you have removed all the blank complaints, you need to:\n",
    "\n",
    "* Make the text lowercase\n",
    "* Remove text in square brackets\n",
    "* Remove punctuation\n",
    "* Remove words containing numbers\n",
    "\n",
    "\n",
    "Once you have done these cleaning operations you need to perform the following:\n",
    "* Lemmatize the texts\n",
    "* Use POS tags to get relevant words from the texts.\n"
   ]
  },
  {
   "cell_type": "code",
   "execution_count": 10,
   "id": "50fced1f",
   "metadata": {
    "execution": {
     "iopub.execute_input": "2022-01-09T13:45:47.655372Z",
     "iopub.status.busy": "2022-01-09T13:45:47.654671Z",
     "iopub.status.idle": "2022-01-09T13:45:47.659398Z",
     "shell.execute_reply": "2022-01-09T13:45:47.659929Z",
     "shell.execute_reply.started": "2022-01-09T13:43:54.893556Z"
    },
    "id": "qm7SjjSkJrFz",
    "papermill": {
     "duration": 0.05592,
     "end_time": "2022-01-09T13:45:47.660114",
     "exception": false,
     "start_time": "2022-01-09T13:45:47.604194",
     "status": "completed"
    },
    "tags": []
   },
   "outputs": [],
   "source": [
    "# Write your function here to clean the text and remove all the unnecessary elements.\n",
    "def clean_the_text(sentence):\n",
    "    sentence = sentence.lower()\n",
    "    sentence = re.sub(\"[\\[].*?[\\]]\", \"\", sentence)\n",
    "    sentence = re.sub(r'[^\\w\\s]','', sentence) \n",
    "    sentence = re.sub(r'[0-9]', '', sentence, re.I|re.A)\n",
    "    return sentence"
   ]
  },
  {
   "cell_type": "code",
   "execution_count": 11,
   "id": "ea596c65",
   "metadata": {
    "execution": {
     "iopub.execute_input": "2022-01-09T13:45:47.759696Z",
     "iopub.status.busy": "2022-01-09T13:45:47.758770Z",
     "iopub.status.idle": "2022-01-09T13:45:47.761764Z",
     "shell.execute_reply": "2022-01-09T13:45:47.761195Z",
     "shell.execute_reply.started": "2022-01-09T13:09:48.623157Z"
    },
    "id": "zgOu8t8HJrFz",
    "papermill": {
     "duration": 0.054535,
     "end_time": "2022-01-09T13:45:47.761908",
     "exception": false,
     "start_time": "2022-01-09T13:45:47.707373",
     "status": "completed"
    },
    "tags": []
   },
   "outputs": [],
   "source": [
    "# Write your function to Lemmatize the texts\n"
   ]
  },
  {
   "cell_type": "code",
   "execution_count": 12,
   "id": "18c8c99b",
   "metadata": {
    "execution": {
     "iopub.execute_input": "2022-01-09T13:45:47.861578Z",
     "iopub.status.busy": "2022-01-09T13:45:47.860121Z",
     "iopub.status.idle": "2022-01-09T13:45:47.863489Z",
     "shell.execute_reply": "2022-01-09T13:45:47.864071Z",
     "shell.execute_reply.started": "2022-01-09T13:09:48.637769Z"
    },
    "id": "uXnN7aa_JrF0",
    "papermill": {
     "duration": 0.055569,
     "end_time": "2022-01-09T13:45:47.864239",
     "exception": false,
     "start_time": "2022-01-09T13:45:47.808670",
     "status": "completed"
    },
    "tags": []
   },
   "outputs": [],
   "source": [
    "# Create a dataframe('df_clean') that will have only the complaints and the lemmatized complaints \n"
   ]
  },
  {
   "cell_type": "code",
   "execution_count": 13,
   "id": "d57c0cd6",
   "metadata": {
    "execution": {
     "iopub.execute_input": "2022-01-09T13:45:47.961893Z",
     "iopub.status.busy": "2022-01-09T13:45:47.960909Z",
     "iopub.status.idle": "2022-01-09T13:45:47.964229Z",
     "shell.execute_reply": "2022-01-09T13:45:47.964839Z",
     "shell.execute_reply.started": "2022-01-09T13:09:48.650881Z"
    },
    "id": "nOiDVvEIJrF0",
    "papermill": {
     "duration": 0.053809,
     "end_time": "2022-01-09T13:45:47.965016",
     "exception": false,
     "start_time": "2022-01-09T13:45:47.911207",
     "status": "completed"
    },
    "tags": []
   },
   "outputs": [],
   "source": [
    "# Uncomment df_clean"
   ]
  },
  {
   "cell_type": "code",
   "execution_count": 14,
   "id": "6fa7cbea",
   "metadata": {
    "execution": {
     "iopub.execute_input": "2022-01-09T13:45:48.064510Z",
     "iopub.status.busy": "2022-01-09T13:45:48.063520Z",
     "iopub.status.idle": "2022-01-09T13:45:48.065833Z",
     "shell.execute_reply": "2022-01-09T13:45:48.066357Z",
     "shell.execute_reply.started": "2022-01-09T13:09:48.668643Z"
    },
    "id": "Kk7fc4DuJrF1",
    "papermill": {
     "duration": 0.053626,
     "end_time": "2022-01-09T13:45:48.066524",
     "exception": false,
     "start_time": "2022-01-09T13:45:48.012898",
     "status": "completed"
    },
    "tags": []
   },
   "outputs": [],
   "source": [
    "# Write your function to extract the POS tags \n",
    "\n"
   ]
  },
  {
   "cell_type": "code",
   "execution_count": 15,
   "id": "9dad42eb",
   "metadata": {
    "execution": {
     "iopub.execute_input": "2022-01-09T13:45:48.165035Z",
     "iopub.status.busy": "2022-01-09T13:45:48.164005Z",
     "iopub.status.idle": "2022-01-09T13:45:48.167289Z",
     "shell.execute_reply": "2022-01-09T13:45:48.167840Z",
     "shell.execute_reply.started": "2022-01-09T13:09:48.677693Z"
    },
    "id": "AjxfchvFJrF2",
    "papermill": {
     "duration": 0.054435,
     "end_time": "2022-01-09T13:45:48.168013",
     "exception": false,
     "start_time": "2022-01-09T13:45:48.113578",
     "status": "completed"
    },
    "tags": []
   },
   "outputs": [],
   "source": [
    "#The clean dataframe should now contain the raw complaint, lemmatized complaint and the complaint after removing POS tags.\n",
    "# Uncomment df_clean"
   ]
  },
  {
   "cell_type": "markdown",
   "id": "018a9243",
   "metadata": {
    "id": "_7Un1AElJrF2",
    "papermill": {
     "duration": 0.047191,
     "end_time": "2022-01-09T13:45:48.263367",
     "exception": false,
     "start_time": "2022-01-09T13:45:48.216176",
     "status": "completed"
    },
    "tags": []
   },
   "source": [
    "## Exploratory data analysis to get familiar with the data.\n",
    "\n",
    "Write the code in this task to perform the following:\n",
    "\n",
    "*   Visualise the data according to the 'Complaint' character length\n",
    "*   Using a word cloud find the top 40 words by frequency among all the articles after processing the text\n",
    "*   Find the top unigrams,bigrams and trigrams by frequency among all the complaints after processing the text. ‘\n",
    "\n",
    "\n"
   ]
  },
  {
   "cell_type": "code",
   "execution_count": 16,
   "id": "b3f0ab68",
   "metadata": {
    "execution": {
     "iopub.execute_input": "2022-01-09T13:45:48.362183Z",
     "iopub.status.busy": "2022-01-09T13:45:48.361175Z",
     "iopub.status.idle": "2022-01-09T13:45:48.364069Z",
     "shell.execute_reply": "2022-01-09T13:45:48.363573Z",
     "shell.execute_reply.started": "2022-01-09T13:09:48.692302Z"
    },
    "id": "q-zaqJF6JrF2",
    "papermill": {
     "duration": 0.054198,
     "end_time": "2022-01-09T13:45:48.364211",
     "exception": false,
     "start_time": "2022-01-09T13:45:48.310013",
     "status": "completed"
    },
    "tags": []
   },
   "outputs": [],
   "source": [
    "# Write your code here to visualise the data according to the 'Complaint' character length"
   ]
  },
  {
   "cell_type": "markdown",
   "id": "2f3e6c27",
   "metadata": {
    "id": "T9jD_6SeJrF3",
    "papermill": {
     "duration": 0.046394,
     "end_time": "2022-01-09T13:45:48.457774",
     "exception": false,
     "start_time": "2022-01-09T13:45:48.411380",
     "status": "completed"
    },
    "tags": []
   },
   "source": [
    "#### Find the top 40 words by frequency among all the articles after processing the text."
   ]
  },
  {
   "cell_type": "code",
   "execution_count": 17,
   "id": "c8ce3ef9",
   "metadata": {
    "execution": {
     "iopub.execute_input": "2022-01-09T13:45:48.555519Z",
     "iopub.status.busy": "2022-01-09T13:45:48.554558Z",
     "iopub.status.idle": "2022-01-09T13:45:48.557935Z",
     "shell.execute_reply": "2022-01-09T13:45:48.558578Z",
     "shell.execute_reply.started": "2022-01-09T13:09:48.705344Z"
    },
    "id": "QcfdvtfZJrF3",
    "papermill": {
     "duration": 0.053802,
     "end_time": "2022-01-09T13:45:48.558750",
     "exception": false,
     "start_time": "2022-01-09T13:45:48.504948",
     "status": "completed"
    },
    "tags": []
   },
   "outputs": [],
   "source": [
    "#Using a word cloud find the top 40 words by frequency among all the articles after processing the text\n"
   ]
  },
  {
   "cell_type": "code",
   "execution_count": 18,
   "id": "4b8af0dc",
   "metadata": {
    "execution": {
     "iopub.execute_input": "2022-01-09T13:45:48.656237Z",
     "iopub.status.busy": "2022-01-09T13:45:48.655276Z",
     "iopub.status.idle": "2022-01-09T13:45:48.658432Z",
     "shell.execute_reply": "2022-01-09T13:45:48.659186Z",
     "shell.execute_reply.started": "2022-01-09T13:09:48.718819Z"
    },
    "id": "OkSmc3UaJrF4",
    "papermill": {
     "duration": 0.053853,
     "end_time": "2022-01-09T13:45:48.659373",
     "exception": false,
     "start_time": "2022-01-09T13:45:48.605520",
     "status": "completed"
    },
    "tags": []
   },
   "outputs": [],
   "source": [
    "#Removing -PRON- from the text corpus\n",
    "#df_clean['Complaint_clean'] = df_clean['complaint_POS_removed'].str.replace('-PRON-', '')"
   ]
  },
  {
   "cell_type": "markdown",
   "id": "340eef88",
   "metadata": {
    "id": "5DfCSbbmJrF4",
    "papermill": {
     "duration": 0.046506,
     "end_time": "2022-01-09T13:45:48.753077",
     "exception": false,
     "start_time": "2022-01-09T13:45:48.706571",
     "status": "completed"
    },
    "tags": []
   },
   "source": [
    "#### Find the top unigrams,bigrams and trigrams by frequency among all the complaints after processing the text."
   ]
  },
  {
   "cell_type": "code",
   "execution_count": 19,
   "id": "b56c17b3",
   "metadata": {
    "execution": {
     "iopub.execute_input": "2022-01-09T13:45:48.851568Z",
     "iopub.status.busy": "2022-01-09T13:45:48.850571Z",
     "iopub.status.idle": "2022-01-09T13:45:48.853899Z",
     "shell.execute_reply": "2022-01-09T13:45:48.854502Z",
     "shell.execute_reply.started": "2022-01-09T13:09:48.733814Z"
    },
    "id": "5mbk5DS5JrF4",
    "papermill": {
     "duration": 0.053929,
     "end_time": "2022-01-09T13:45:48.854677",
     "exception": false,
     "start_time": "2022-01-09T13:45:48.800748",
     "status": "completed"
    },
    "tags": []
   },
   "outputs": [],
   "source": [
    "#Write your code here to find the top 30 unigram frequency among the complaints in the cleaned datafram(df_clean). \n"
   ]
  },
  {
   "cell_type": "code",
   "execution_count": 20,
   "id": "fc49b0c7",
   "metadata": {
    "execution": {
     "iopub.execute_input": "2022-01-09T13:45:48.954444Z",
     "iopub.status.busy": "2022-01-09T13:45:48.953361Z",
     "iopub.status.idle": "2022-01-09T13:45:48.956876Z",
     "shell.execute_reply": "2022-01-09T13:45:48.957470Z",
     "shell.execute_reply.started": "2022-01-09T13:09:48.744783Z"
    },
    "id": "YX7fedm1JrF8",
    "papermill": {
     "duration": 0.054465,
     "end_time": "2022-01-09T13:45:48.957647",
     "exception": false,
     "start_time": "2022-01-09T13:45:48.903182",
     "status": "completed"
    },
    "tags": []
   },
   "outputs": [],
   "source": [
    "#Print the top 10 words in the unigram frequency\n"
   ]
  },
  {
   "cell_type": "code",
   "execution_count": 21,
   "id": "248effb0",
   "metadata": {
    "execution": {
     "iopub.execute_input": "2022-01-09T13:45:49.056444Z",
     "iopub.status.busy": "2022-01-09T13:45:49.055483Z",
     "iopub.status.idle": "2022-01-09T13:45:49.058955Z",
     "shell.execute_reply": "2022-01-09T13:45:49.059543Z",
     "shell.execute_reply.started": "2022-01-09T13:09:48.757810Z"
    },
    "id": "aV7kD7w8JrF8",
    "papermill": {
     "duration": 0.055476,
     "end_time": "2022-01-09T13:45:49.059708",
     "exception": false,
     "start_time": "2022-01-09T13:45:49.004232",
     "status": "completed"
    },
    "tags": []
   },
   "outputs": [],
   "source": [
    "#Write your code here to find the top 30 bigram frequency among the complaints in the cleaned datafram(df_clean). \n"
   ]
  },
  {
   "cell_type": "code",
   "execution_count": 22,
   "id": "372d6ab9",
   "metadata": {
    "execution": {
     "iopub.execute_input": "2022-01-09T13:45:49.158552Z",
     "iopub.status.busy": "2022-01-09T13:45:49.157618Z",
     "iopub.status.idle": "2022-01-09T13:45:49.161254Z",
     "shell.execute_reply": "2022-01-09T13:45:49.161842Z",
     "shell.execute_reply.started": "2022-01-09T13:09:48.771921Z"
    },
    "id": "NPnMNIpyJrF9",
    "papermill": {
     "duration": 0.054425,
     "end_time": "2022-01-09T13:45:49.162014",
     "exception": false,
     "start_time": "2022-01-09T13:45:49.107589",
     "status": "completed"
    },
    "tags": []
   },
   "outputs": [],
   "source": [
    "#Print the top 10 words in the bigram frequency"
   ]
  },
  {
   "cell_type": "code",
   "execution_count": 23,
   "id": "b7bdb0f8",
   "metadata": {
    "execution": {
     "iopub.execute_input": "2022-01-09T13:45:49.260641Z",
     "iopub.status.busy": "2022-01-09T13:45:49.259600Z",
     "iopub.status.idle": "2022-01-09T13:45:49.262950Z",
     "shell.execute_reply": "2022-01-09T13:45:49.263535Z",
     "shell.execute_reply.started": "2022-01-09T13:09:48.783900Z"
    },
    "id": "Xkh7vtbtJrF-",
    "papermill": {
     "duration": 0.054155,
     "end_time": "2022-01-09T13:45:49.263705",
     "exception": false,
     "start_time": "2022-01-09T13:45:49.209550",
     "status": "completed"
    },
    "tags": []
   },
   "outputs": [],
   "source": [
    "#Write your code here to find the top 30 trigram frequency among the complaints in the cleaned datafram(df_clean). \n"
   ]
  },
  {
   "cell_type": "code",
   "execution_count": 24,
   "id": "9c40c667",
   "metadata": {
    "execution": {
     "iopub.execute_input": "2022-01-09T13:45:49.361906Z",
     "iopub.status.busy": "2022-01-09T13:45:49.360868Z",
     "iopub.status.idle": "2022-01-09T13:45:49.364039Z",
     "shell.execute_reply": "2022-01-09T13:45:49.364716Z",
     "shell.execute_reply.started": "2022-01-09T13:09:48.796500Z"
    },
    "id": "REcVxNfvJrF-",
    "papermill": {
     "duration": 0.054071,
     "end_time": "2022-01-09T13:45:49.364889",
     "exception": false,
     "start_time": "2022-01-09T13:45:49.310818",
     "status": "completed"
    },
    "tags": []
   },
   "outputs": [],
   "source": [
    "#Print the top 10 words in the trigram frequency"
   ]
  },
  {
   "cell_type": "markdown",
   "id": "b327bc7a",
   "metadata": {
    "id": "yUXzFji0JrF_",
    "papermill": {
     "duration": 0.047838,
     "end_time": "2022-01-09T13:45:49.459432",
     "exception": false,
     "start_time": "2022-01-09T13:45:49.411594",
     "status": "completed"
    },
    "tags": []
   },
   "source": [
    "## The personal details of customer has been masked in the dataset with xxxx. Let's remove the masked text as this will be of no use for our analysis"
   ]
  },
  {
   "cell_type": "code",
   "execution_count": 25,
   "id": "8006192b",
   "metadata": {
    "execution": {
     "iopub.execute_input": "2022-01-09T13:45:49.558682Z",
     "iopub.status.busy": "2022-01-09T13:45:49.557599Z",
     "iopub.status.idle": "2022-01-09T13:45:49.560422Z",
     "shell.execute_reply": "2022-01-09T13:45:49.560993Z",
     "shell.execute_reply.started": "2022-01-09T13:09:48.808206Z"
    },
    "id": "wKda-a_IJrF_",
    "papermill": {
     "duration": 0.054659,
     "end_time": "2022-01-09T13:45:49.561189",
     "exception": false,
     "start_time": "2022-01-09T13:45:49.506530",
     "status": "completed"
    },
    "tags": []
   },
   "outputs": [],
   "source": [
    "#df_clean['Complaint_clean'] = df_clean['Complaint_clean'].str.replace('xxxx','')"
   ]
  },
  {
   "cell_type": "code",
   "execution_count": 26,
   "id": "8fff8d37",
   "metadata": {
    "execution": {
     "iopub.execute_input": "2022-01-09T13:45:49.662373Z",
     "iopub.status.busy": "2022-01-09T13:45:49.661261Z",
     "iopub.status.idle": "2022-01-09T13:45:49.664005Z",
     "shell.execute_reply": "2022-01-09T13:45:49.663322Z",
     "shell.execute_reply.started": "2022-01-09T13:09:48.819732Z"
    },
    "id": "9UIFk8fQJrF_",
    "papermill": {
     "duration": 0.054475,
     "end_time": "2022-01-09T13:45:49.664148",
     "exception": false,
     "start_time": "2022-01-09T13:45:49.609673",
     "status": "completed"
    },
    "tags": []
   },
   "outputs": [],
   "source": [
    "#All masked texts has been removed\n",
    "#df_clean"
   ]
  },
  {
   "cell_type": "markdown",
   "id": "88bf3618",
   "metadata": {
    "id": "k-I0k0QtJrGA",
    "papermill": {
     "duration": 0.048307,
     "end_time": "2022-01-09T13:45:49.760180",
     "exception": false,
     "start_time": "2022-01-09T13:45:49.711873",
     "status": "completed"
    },
    "tags": []
   },
   "source": [
    "## Feature Extraction\n",
    "Convert the raw texts to a matrix of TF-IDF features\n",
    "\n",
    "**max_df** is used for removing terms that appear too frequently, also known as \"corpus-specific stop words\"\n",
    "max_df = 0.95 means \"ignore terms that appear in more than 95% of the complaints\"\n",
    "\n",
    "**min_df** is used for removing terms that appear too infrequently\n",
    "min_df = 2 means \"ignore terms that appear in less than 2 complaints\""
   ]
  },
  {
   "cell_type": "code",
   "execution_count": 27,
   "id": "99affb77",
   "metadata": {
    "execution": {
     "iopub.execute_input": "2022-01-09T13:45:49.862228Z",
     "iopub.status.busy": "2022-01-09T13:45:49.861247Z",
     "iopub.status.idle": "2022-01-09T13:45:49.864455Z",
     "shell.execute_reply": "2022-01-09T13:45:49.865029Z",
     "shell.execute_reply.started": "2022-01-09T13:09:48.834426Z"
    },
    "id": "Y8fGwaCPJrGA",
    "papermill": {
     "duration": 0.0557,
     "end_time": "2022-01-09T13:45:49.865206",
     "exception": false,
     "start_time": "2022-01-09T13:45:49.809506",
     "status": "completed"
    },
    "tags": []
   },
   "outputs": [],
   "source": [
    "#Write your code here to initialise the TfidfVectorizer \n",
    "\n"
   ]
  },
  {
   "cell_type": "markdown",
   "id": "680060fd",
   "metadata": {
    "id": "yYzD85nTJrGA",
    "papermill": {
     "duration": 0.048183,
     "end_time": "2022-01-09T13:45:49.961351",
     "exception": false,
     "start_time": "2022-01-09T13:45:49.913168",
     "status": "completed"
    },
    "tags": []
   },
   "source": [
    "#### Create a document term matrix using fit_transform\n",
    "\n",
    "The contents of a document term matrix are tuples of (complaint_id,token_id) tf-idf score:\n",
    "The tuples that are not there have a tf-idf score of 0"
   ]
  },
  {
   "cell_type": "code",
   "execution_count": 28,
   "id": "6c63bb27",
   "metadata": {
    "execution": {
     "iopub.execute_input": "2022-01-09T13:45:50.062808Z",
     "iopub.status.busy": "2022-01-09T13:45:50.061770Z",
     "iopub.status.idle": "2022-01-09T13:45:50.066164Z",
     "shell.execute_reply": "2022-01-09T13:45:50.066784Z",
     "shell.execute_reply.started": "2022-01-09T13:09:48.846362Z"
    },
    "id": "ffzdDpp_JrGB",
    "papermill": {
     "duration": 0.058664,
     "end_time": "2022-01-09T13:45:50.066961",
     "exception": false,
     "start_time": "2022-01-09T13:45:50.008297",
     "status": "completed"
    },
    "tags": []
   },
   "outputs": [],
   "source": [
    "#Write your code here to create the Document Term Matrix by transforming the complaints column present in df_clean.\n"
   ]
  },
  {
   "cell_type": "markdown",
   "id": "6cb30993",
   "metadata": {
    "id": "7Q9lwvNEJrGB",
    "papermill": {
     "duration": 0.046602,
     "end_time": "2022-01-09T13:45:50.163082",
     "exception": false,
     "start_time": "2022-01-09T13:45:50.116480",
     "status": "completed"
    },
    "tags": []
   },
   "source": [
    "## Topic Modelling using NMF\n",
    "\n",
    "Non-Negative Matrix Factorization (NMF) is an unsupervised technique so there are no labeling of topics that the model will be trained on. The way it works is that, NMF decomposes (or factorizes) high-dimensional vectors into a lower-dimensional representation. These lower-dimensional vectors are non-negative which also means their coefficients are non-negative.\n",
    "\n",
    "In this task you have to perform the following:\n",
    "\n",
    "* Find the best number of clusters \n",
    "* Apply the best number to create word clusters\n",
    "* Inspect & validate the correction of each cluster wrt the complaints \n",
    "* Correct the labels if needed \n",
    "* Map the clusters to topics/cluster names"
   ]
  },
  {
   "cell_type": "code",
   "execution_count": 29,
   "id": "15658396",
   "metadata": {
    "execution": {
     "iopub.execute_input": "2022-01-09T13:45:50.265236Z",
     "iopub.status.busy": "2022-01-09T13:45:50.264141Z",
     "iopub.status.idle": "2022-01-09T13:45:50.298597Z",
     "shell.execute_reply": "2022-01-09T13:45:50.299115Z",
     "shell.execute_reply.started": "2022-01-09T13:09:48.858346Z"
    },
    "id": "amLT4omWJrGB",
    "papermill": {
     "duration": 0.088728,
     "end_time": "2022-01-09T13:45:50.299292",
     "exception": false,
     "start_time": "2022-01-09T13:45:50.210564",
     "status": "completed"
    },
    "tags": []
   },
   "outputs": [],
   "source": [
    "from sklearn.decomposition import NMF"
   ]
  },
  {
   "cell_type": "markdown",
   "id": "58ffe7d5",
   "metadata": {
    "id": "0wYR1xUTJrGD",
    "papermill": {
     "duration": 0.047399,
     "end_time": "2022-01-09T13:45:50.394112",
     "exception": false,
     "start_time": "2022-01-09T13:45:50.346713",
     "status": "completed"
    },
    "tags": []
   },
   "source": [
    "## Manual Topic Modeling\n",
    "You need to do take the trial & error approach to find the best num of topics for your NMF model.\n",
    "\n",
    "The only parameter that is required is the number of components i.e. the number of topics we want. This is the most crucial step in the whole topic modeling process and will greatly affect how good your final topics are."
   ]
  },
  {
   "cell_type": "code",
   "execution_count": 30,
   "id": "99dc96af",
   "metadata": {
    "execution": {
     "iopub.execute_input": "2022-01-09T13:45:50.494103Z",
     "iopub.status.busy": "2022-01-09T13:45:50.493110Z",
     "iopub.status.idle": "2022-01-09T13:45:50.496411Z",
     "shell.execute_reply": "2022-01-09T13:45:50.496985Z",
     "shell.execute_reply.started": "2022-01-09T13:09:48.869207Z"
    },
    "id": "sgd2A6bhJrGD",
    "papermill": {
     "duration": 0.054496,
     "end_time": "2022-01-09T13:45:50.497161",
     "exception": false,
     "start_time": "2022-01-09T13:45:50.442665",
     "status": "completed"
    },
    "tags": []
   },
   "outputs": [],
   "source": [
    "#Load your nmf_model with the n_components i.e 5\n",
    "#num_topics = #write the value you want to test out\n",
    "\n",
    "#keep the random_state =40\n",
    "#nmf_model = #write your code here"
   ]
  },
  {
   "cell_type": "code",
   "execution_count": 31,
   "id": "3efe6952",
   "metadata": {
    "execution": {
     "iopub.execute_input": "2022-01-09T13:45:50.596677Z",
     "iopub.status.busy": "2022-01-09T13:45:50.595729Z",
     "iopub.status.idle": "2022-01-09T13:45:50.598821Z",
     "shell.execute_reply": "2022-01-09T13:45:50.599404Z",
     "shell.execute_reply.started": "2022-01-09T13:09:48.881217Z"
    },
    "id": "VPMDYbt_JrGE",
    "papermill": {
     "duration": 0.053894,
     "end_time": "2022-01-09T13:45:50.599569",
     "exception": false,
     "start_time": "2022-01-09T13:45:50.545675",
     "status": "completed"
    },
    "tags": []
   },
   "outputs": [],
   "source": [
    "#nmf_model.fit(dtm)\n",
    "#len(tfidf.get_feature_names())"
   ]
  },
  {
   "cell_type": "code",
   "execution_count": 32,
   "id": "6566a9b9",
   "metadata": {
    "execution": {
     "iopub.execute_input": "2022-01-09T13:45:50.696970Z",
     "iopub.status.busy": "2022-01-09T13:45:50.695975Z",
     "iopub.status.idle": "2022-01-09T13:45:50.699385Z",
     "shell.execute_reply": "2022-01-09T13:45:50.699923Z",
     "shell.execute_reply.started": "2022-01-09T13:09:48.893035Z"
    },
    "id": "16kRfat5JrGE",
    "papermill": {
     "duration": 0.053791,
     "end_time": "2022-01-09T13:45:50.700099",
     "exception": false,
     "start_time": "2022-01-09T13:45:50.646308",
     "status": "completed"
    },
    "tags": []
   },
   "outputs": [],
   "source": [
    "#Print the Top15 words for each of the topics\n"
   ]
  },
  {
   "cell_type": "code",
   "execution_count": 33,
   "id": "2f841827",
   "metadata": {
    "execution": {
     "iopub.execute_input": "2022-01-09T13:45:50.798133Z",
     "iopub.status.busy": "2022-01-09T13:45:50.797132Z",
     "iopub.status.idle": "2022-01-09T13:45:50.800538Z",
     "shell.execute_reply": "2022-01-09T13:45:50.801119Z",
     "shell.execute_reply.started": "2022-01-09T13:09:48.905381Z"
    },
    "id": "0OIT7LmFJrGF",
    "papermill": {
     "duration": 0.054135,
     "end_time": "2022-01-09T13:45:50.801286",
     "exception": false,
     "start_time": "2022-01-09T13:45:50.747151",
     "status": "completed"
    },
    "tags": []
   },
   "outputs": [],
   "source": [
    "#Create the best topic for each complaint in terms of integer value 0,1,2,3 & 4\n",
    "\n"
   ]
  },
  {
   "cell_type": "code",
   "execution_count": 34,
   "id": "f9cd9a54",
   "metadata": {
    "execution": {
     "iopub.execute_input": "2022-01-09T13:45:50.901019Z",
     "iopub.status.busy": "2022-01-09T13:45:50.900000Z",
     "iopub.status.idle": "2022-01-09T13:45:50.902050Z",
     "shell.execute_reply": "2022-01-09T13:45:50.902602Z",
     "shell.execute_reply.started": "2022-01-09T13:09:48.918252Z"
    },
    "id": "peyYv-ORJrGF",
    "papermill": {
     "duration": 0.054447,
     "end_time": "2022-01-09T13:45:50.902766",
     "exception": false,
     "start_time": "2022-01-09T13:45:50.848319",
     "status": "completed"
    },
    "tags": []
   },
   "outputs": [],
   "source": [
    "#Assign the best topic to each of the cmplaints in Topic Column\n",
    "\n",
    "#df_clean['Topic'] = #write your code to assign topics to each rows."
   ]
  },
  {
   "cell_type": "code",
   "execution_count": 35,
   "id": "82f14573",
   "metadata": {
    "execution": {
     "iopub.execute_input": "2022-01-09T13:45:51.000884Z",
     "iopub.status.busy": "2022-01-09T13:45:50.999954Z",
     "iopub.status.idle": "2022-01-09T13:45:51.003440Z",
     "shell.execute_reply": "2022-01-09T13:45:51.004089Z",
     "shell.execute_reply.started": "2022-01-09T13:09:48.930697Z"
    },
    "id": "fLh_Gf3nJrGF",
    "papermill": {
     "duration": 0.054731,
     "end_time": "2022-01-09T13:45:51.004277",
     "exception": false,
     "start_time": "2022-01-09T13:45:50.949546",
     "status": "completed"
    },
    "tags": []
   },
   "outputs": [],
   "source": [
    "#df_clean.head()"
   ]
  },
  {
   "cell_type": "code",
   "execution_count": 36,
   "id": "70321eeb",
   "metadata": {
    "execution": {
     "iopub.execute_input": "2022-01-09T13:45:51.104696Z",
     "iopub.status.busy": "2022-01-09T13:45:51.104003Z",
     "iopub.status.idle": "2022-01-09T13:45:51.108173Z",
     "shell.execute_reply": "2022-01-09T13:45:51.107644Z",
     "shell.execute_reply.started": "2022-01-09T13:09:48.943627Z"
    },
    "id": "aQKpufSPJrGG",
    "papermill": {
     "duration": 0.056002,
     "end_time": "2022-01-09T13:45:51.108308",
     "exception": false,
     "start_time": "2022-01-09T13:45:51.052306",
     "status": "completed"
    },
    "tags": []
   },
   "outputs": [],
   "source": [
    "#Print the first 5 Complaint for each of the Topics\n",
    "#df_clean=df_clean.groupby('Topic').head(5)\n",
    "#df_clean.sort_values('Topic')"
   ]
  },
  {
   "cell_type": "markdown",
   "id": "975ce4e7",
   "metadata": {
    "id": "piyLxzj6v07j",
    "papermill": {
     "duration": 0.048781,
     "end_time": "2022-01-09T13:45:51.205476",
     "exception": false,
     "start_time": "2022-01-09T13:45:51.156695",
     "status": "completed"
    },
    "tags": []
   },
   "source": [
    "#### After evaluating the mapping, if the topics assigned are correct then assign these names to the relevant topic:\n",
    "* Bank Account services\n",
    "* Credit card or prepaid card\n",
    "* Theft/Dispute Reporting\n",
    "* Mortgage/Loan\n",
    "* Others"
   ]
  },
  {
   "cell_type": "code",
   "execution_count": 37,
   "id": "1245c31e",
   "metadata": {
    "execution": {
     "iopub.execute_input": "2022-01-09T13:45:51.306578Z",
     "iopub.status.busy": "2022-01-09T13:45:51.305592Z",
     "iopub.status.idle": "2022-01-09T13:45:51.308478Z",
     "shell.execute_reply": "2022-01-09T13:45:51.307928Z",
     "shell.execute_reply.started": "2022-01-09T13:09:48.959653Z"
    },
    "id": "TWpwDG4RJrGG",
    "papermill": {
     "duration": 0.055464,
     "end_time": "2022-01-09T13:45:51.308624",
     "exception": false,
     "start_time": "2022-01-09T13:45:51.253160",
     "status": "completed"
    },
    "tags": []
   },
   "outputs": [],
   "source": [
    "#Create the dictionary of Topic names and Topics\n",
    "\n",
    "#Topic_names = {   }\n",
    "#Replace Topics with Topic Names\n",
    "#df_clean['Topic'] = df_clean['Topic'].map(Topic_names)"
   ]
  },
  {
   "cell_type": "code",
   "execution_count": 38,
   "id": "1388b711",
   "metadata": {
    "execution": {
     "iopub.execute_input": "2022-01-09T13:45:51.410181Z",
     "iopub.status.busy": "2022-01-09T13:45:51.409371Z",
     "iopub.status.idle": "2022-01-09T13:45:51.413298Z",
     "shell.execute_reply": "2022-01-09T13:45:51.412682Z",
     "shell.execute_reply.started": "2022-01-09T13:09:48.972044Z"
    },
    "id": "-2ULY5K6JrGG",
    "papermill": {
     "duration": 0.056338,
     "end_time": "2022-01-09T13:45:51.413455",
     "exception": false,
     "start_time": "2022-01-09T13:45:51.357117",
     "status": "completed"
    },
    "tags": []
   },
   "outputs": [],
   "source": [
    "#df_clean"
   ]
  },
  {
   "cell_type": "markdown",
   "id": "ece26fa2",
   "metadata": {
    "id": "7Mu0QBOcJrGH",
    "papermill": {
     "duration": 0.048062,
     "end_time": "2022-01-09T13:45:51.509507",
     "exception": false,
     "start_time": "2022-01-09T13:45:51.461445",
     "status": "completed"
    },
    "tags": []
   },
   "source": [
    "## Supervised model to predict any new complaints to the relevant Topics.\n",
    "\n",
    "You have now build the model to create the topics for each complaints.Now in the below section you will use them to classify any new complaints.\n",
    "\n",
    "Since you will be using supervised learning technique we have to convert the topic names to numbers(numpy arrays only understand numbers)"
   ]
  },
  {
   "cell_type": "code",
   "execution_count": 39,
   "id": "6a6ba4bf",
   "metadata": {
    "execution": {
     "iopub.execute_input": "2022-01-09T13:45:51.610454Z",
     "iopub.status.busy": "2022-01-09T13:45:51.609734Z",
     "iopub.status.idle": "2022-01-09T13:45:51.614259Z",
     "shell.execute_reply": "2022-01-09T13:45:51.613723Z",
     "shell.execute_reply.started": "2022-01-09T13:09:48.987610Z"
    },
    "id": "_U8J3J8wJrGH",
    "papermill": {
     "duration": 0.056561,
     "end_time": "2022-01-09T13:45:51.614429",
     "exception": false,
     "start_time": "2022-01-09T13:45:51.557868",
     "status": "completed"
    },
    "tags": []
   },
   "outputs": [],
   "source": [
    "#Create the dictionary again of Topic names and Topics\n",
    "\n",
    "#Topic_names = {   }\n",
    "#Replace Topics with Topic Names\n",
    "#df_clean['Topic'] = df_clean['Topic'].map(Topic_names)"
   ]
  },
  {
   "cell_type": "code",
   "execution_count": 40,
   "id": "968433c5",
   "metadata": {
    "execution": {
     "iopub.execute_input": "2022-01-09T13:45:51.717049Z",
     "iopub.status.busy": "2022-01-09T13:45:51.716182Z",
     "iopub.status.idle": "2022-01-09T13:45:51.719191Z",
     "shell.execute_reply": "2022-01-09T13:45:51.718663Z",
     "shell.execute_reply.started": "2022-01-09T13:09:49.001059Z"
    },
    "id": "BWIgJUkQJrGH",
    "papermill": {
     "duration": 0.055645,
     "end_time": "2022-01-09T13:45:51.719367",
     "exception": false,
     "start_time": "2022-01-09T13:45:51.663722",
     "status": "completed"
    },
    "tags": []
   },
   "outputs": [],
   "source": [
    "#df_clean"
   ]
  },
  {
   "cell_type": "code",
   "execution_count": 41,
   "id": "51cc84a7",
   "metadata": {
    "execution": {
     "iopub.execute_input": "2022-01-09T13:45:51.817721Z",
     "iopub.status.busy": "2022-01-09T13:45:51.816898Z",
     "iopub.status.idle": "2022-01-09T13:45:51.819236Z",
     "shell.execute_reply": "2022-01-09T13:45:51.819733Z",
     "shell.execute_reply.started": "2022-01-09T13:09:49.017077Z"
    },
    "id": "Xx-FrbkWJrGH",
    "papermill": {
     "duration": 0.053433,
     "end_time": "2022-01-09T13:45:51.819906",
     "exception": false,
     "start_time": "2022-01-09T13:45:51.766473",
     "status": "completed"
    },
    "tags": []
   },
   "outputs": [],
   "source": [
    "#Keep the columns\"complaint_what_happened\" & \"Topic\" only in the new dataframe --> training_data\n",
    "#training_data="
   ]
  },
  {
   "cell_type": "code",
   "execution_count": 42,
   "id": "d45a26bc",
   "metadata": {
    "execution": {
     "iopub.execute_input": "2022-01-09T13:45:51.919572Z",
     "iopub.status.busy": "2022-01-09T13:45:51.918851Z",
     "iopub.status.idle": "2022-01-09T13:45:51.921539Z",
     "shell.execute_reply": "2022-01-09T13:45:51.921991Z",
     "shell.execute_reply.started": "2022-01-09T13:09:49.026982Z"
    },
    "id": "lVg2pa12JrGI",
    "papermill": {
     "duration": 0.053344,
     "end_time": "2022-01-09T13:45:51.922165",
     "exception": false,
     "start_time": "2022-01-09T13:45:51.868821",
     "status": "completed"
    },
    "tags": []
   },
   "outputs": [],
   "source": [
    "#training_data"
   ]
  },
  {
   "cell_type": "markdown",
   "id": "8ac9c7eb",
   "metadata": {
    "id": "280Vbqk-7a8M",
    "papermill": {
     "duration": 0.047583,
     "end_time": "2022-01-09T13:45:52.019582",
     "exception": false,
     "start_time": "2022-01-09T13:45:51.971999",
     "status": "completed"
    },
    "tags": []
   },
   "source": [
    "#### Apply the supervised models on the training data created. In this process, you have to do the following:\n",
    "* Create the vector counts using Count Vectoriser\n",
    "* Transform the word vecotr to tf-idf\n",
    "* Create the train & test data using the train_test_split on the tf-idf & topics\n"
   ]
  },
  {
   "cell_type": "code",
   "execution_count": 43,
   "id": "6071070d",
   "metadata": {
    "execution": {
     "iopub.execute_input": "2022-01-09T13:45:52.119473Z",
     "iopub.status.busy": "2022-01-09T13:45:52.118809Z",
     "iopub.status.idle": "2022-01-09T13:45:52.121215Z",
     "shell.execute_reply": "2022-01-09T13:45:52.121720Z",
     "shell.execute_reply.started": "2022-01-09T13:09:49.040863Z"
    },
    "id": "oUlQpgkzJrGI",
    "papermill": {
     "duration": 0.052892,
     "end_time": "2022-01-09T13:45:52.121881",
     "exception": false,
     "start_time": "2022-01-09T13:45:52.068989",
     "status": "completed"
    },
    "tags": []
   },
   "outputs": [],
   "source": [
    "\n",
    "#Write your code to get the Vector count\n",
    "\n",
    "\n",
    "#Write your code here to transform the word vector to tf-idf"
   ]
  },
  {
   "cell_type": "markdown",
   "id": "6e0fe462",
   "metadata": {
    "id": "uMU3vj6w-wqL",
    "papermill": {
     "duration": 0.046589,
     "end_time": "2022-01-09T13:45:52.216488",
     "exception": false,
     "start_time": "2022-01-09T13:45:52.169899",
     "status": "completed"
    },
    "tags": []
   },
   "source": [
    "You have to try atleast 3 models on the train & test data from these options:\n",
    "* Logistic regression\n",
    "* Decision Tree\n",
    "* Random Forest\n",
    "* Naive Bayes (optional)\n",
    "\n",
    "**Using the required evaluation metrics judge the tried models and select the ones performing the best**"
   ]
  },
  {
   "cell_type": "code",
   "execution_count": 44,
   "id": "6bff252a",
   "metadata": {
    "execution": {
     "iopub.execute_input": "2022-01-09T13:45:52.315763Z",
     "iopub.status.busy": "2022-01-09T13:45:52.314910Z",
     "iopub.status.idle": "2022-01-09T13:45:52.316730Z",
     "shell.execute_reply": "2022-01-09T13:45:52.317379Z",
     "shell.execute_reply.started": "2022-01-09T13:09:49.056025Z"
    },
    "id": "udLHpPsZJrGI",
    "papermill": {
     "duration": 0.054396,
     "end_time": "2022-01-09T13:45:52.317548",
     "exception": false,
     "start_time": "2022-01-09T13:45:52.263152",
     "status": "completed"
    },
    "tags": []
   },
   "outputs": [],
   "source": [
    "# Write your code here to build any 3 models and evaluate them using the required metrics\n",
    "\n",
    "\n",
    "\n"
   ]
  },
  {
   "cell_type": "code",
   "execution_count": null,
   "id": "ff20d5e8",
   "metadata": {
    "id": "N2OznsObJrGP",
    "papermill": {
     "duration": 0.046838,
     "end_time": "2022-01-09T13:45:52.411636",
     "exception": false,
     "start_time": "2022-01-09T13:45:52.364798",
     "status": "completed"
    },
    "tags": []
   },
   "outputs": [],
   "source": []
  }
 ],
 "metadata": {
  "kernelspec": {
   "display_name": "Python 3",
   "language": "python",
   "name": "python3"
  },
  "language_info": {
   "codemirror_mode": {
    "name": "ipython",
    "version": 3
   },
   "file_extension": ".py",
   "mimetype": "text/x-python",
   "name": "python",
   "nbconvert_exporter": "python",
   "pygments_lexer": "ipython3",
   "version": "3.7.12"
  },
  "papermill": {
   "default_parameters": {},
   "duration": 38.728575,
   "end_time": "2022-01-09T13:45:55.294087",
   "environment_variables": {},
   "exception": null,
   "input_path": "__notebook__.ipynb",
   "output_path": "__notebook__.ipynb",
   "parameters": {},
   "start_time": "2022-01-09T13:45:16.565512",
   "version": "2.3.3"
  }
 },
 "nbformat": 4,
 "nbformat_minor": 5
}
