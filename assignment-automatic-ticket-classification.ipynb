{
 "cells": [
  {
   "cell_type": "markdown",
   "id": "6058fd56",
   "metadata": {
    "id": "rhR-ZUkwJrFn",
    "papermill": {
     "duration": 0.033704,
     "end_time": "2022-01-09T14:50:45.024234",
     "exception": false,
     "start_time": "2022-01-09T14:50:44.990530",
     "status": "completed"
    },
    "tags": []
   },
   "source": [
    "## Problem Statement \n",
    "\n",
    "You need to build a model that is able to classify customer complaints based on the products/services. By doing so, you can segregate these tickets into their relevant categories and, therefore, help in the quick resolution of the issue.\n",
    "\n",
    "You will be doing topic modelling on the <b>.json</b> data provided by the company. Since this data is not labelled, you need to apply NMF to analyse patterns and classify tickets into the following five clusters based on their products/services:\n",
    "\n",
    "* Credit card / Prepaid card\n",
    "\n",
    "* Bank account services\n",
    "\n",
    "* Theft/Dispute reporting\n",
    "\n",
    "* Mortgages/loans\n",
    "\n",
    "* Others \n",
    "\n",
    "\n",
    "With the help of topic modelling, you will be able to map each ticket onto its respective department/category. You can then use this data to train any supervised model such as logistic regression, decision tree or random forest. Using this trained model, you can classify any new customer complaint support ticket into its relevant department."
   ]
  },
  {
   "cell_type": "markdown",
   "id": "09ca1651",
   "metadata": {
    "id": "mcgXVNyaLUFS",
    "papermill": {
     "duration": 0.032484,
     "end_time": "2022-01-09T14:50:45.090300",
     "exception": false,
     "start_time": "2022-01-09T14:50:45.057816",
     "status": "completed"
    },
    "tags": []
   },
   "source": [
    "## Pipelines that needs to be performed:\n",
    "\n",
    "You need to perform the following eight major tasks to complete the assignment:\n",
    "\n",
    "1.  Data loading\n",
    "\n",
    "2. Text preprocessing\n",
    "\n",
    "3. Exploratory data analysis (EDA)\n",
    "\n",
    "4. Feature extraction\n",
    "\n",
    "5. Topic modelling \n",
    "\n",
    "6. Model building using supervised learning\n",
    "\n",
    "7. Model training and evaluation\n",
    "\n",
    "8. Model inference"
   ]
  },
  {
   "cell_type": "markdown",
   "id": "4da58c61",
   "metadata": {
    "id": "JuLFIymAL58u",
    "papermill": {
     "duration": 0.03426,
     "end_time": "2022-01-09T14:50:45.156952",
     "exception": false,
     "start_time": "2022-01-09T14:50:45.122692",
     "status": "completed"
    },
    "tags": []
   },
   "source": [
    "## Importing the necessary libraries"
   ]
  },
  {
   "cell_type": "code",
   "execution_count": 1,
   "id": "fd5c0dc5",
   "metadata": {
    "execution": {
     "iopub.execute_input": "2022-01-09T14:50:45.235851Z",
     "iopub.status.busy": "2022-01-09T14:50:45.234950Z",
     "iopub.status.idle": "2022-01-09T14:50:56.912581Z",
     "shell.execute_reply": "2022-01-09T14:50:56.911906Z",
     "shell.execute_reply.started": "2022-01-09T14:16:44.603662Z"
    },
    "id": "O-Q9pqrcJrFr",
    "papermill": {
     "duration": 11.723119,
     "end_time": "2022-01-09T14:50:56.912750",
     "exception": false,
     "start_time": "2022-01-09T14:50:45.189631",
     "status": "completed"
    },
    "tags": []
   },
   "outputs": [],
   "source": [
    "import json \n",
    "import numpy as np\n",
    "import pandas as pd\n",
    "import re, nltk, spacy, string\n",
    "import en_core_web_sm\n",
    "\n",
    "import seaborn as sns\n",
    "import matplotlib.pyplot as plt\n",
    "\n",
    "from plotly.offline import plot\n",
    "import plotly.graph_objects as go\n",
    "import plotly.express as px\n",
    "\n",
    "from sklearn.feature_extraction.text import CountVectorizer, TfidfVectorizer\n",
    "from pprint import pprint\n",
    "\n",
    "%matplotlib inline\n",
    "\n",
    "nlp = en_core_web_sm.load()"
   ]
  },
  {
   "cell_type": "markdown",
   "id": "c8d60a46",
   "metadata": {
    "id": "KtRLCsNVJrFt",
    "papermill": {
     "duration": 0.033455,
     "end_time": "2022-01-09T14:50:56.979054",
     "exception": false,
     "start_time": "2022-01-09T14:50:56.945599",
     "status": "completed"
    },
    "tags": []
   },
   "source": [
    "## Loading the data\n",
    "\n",
    "The data is in JSON format and we need to convert it to a dataframe."
   ]
  },
  {
   "cell_type": "code",
   "execution_count": 2,
   "id": "5002f175",
   "metadata": {
    "execution": {
     "iopub.execute_input": "2022-01-09T14:50:57.050016Z",
     "iopub.status.busy": "2022-01-09T14:50:57.049400Z",
     "iopub.status.idle": "2022-01-09T14:51:01.905798Z",
     "shell.execute_reply": "2022-01-09T14:51:01.905130Z",
     "shell.execute_reply.started": "2022-01-09T14:16:45.299655Z"
    },
    "id": "puVzIf_iJrFt",
    "papermill": {
     "duration": 4.893147,
     "end_time": "2022-01-09T14:51:01.905932",
     "exception": false,
     "start_time": "2022-01-09T14:50:57.012785",
     "status": "completed"
    },
    "tags": []
   },
   "outputs": [],
   "source": [
    "# Opening JSON file \n",
    "file_path = open('../input/automatic-ticket-classification/complaints-2021-05-14_08_16.json') # Write the path to your data file and load it \n",
    "  \n",
    "# returns JSON object as  \n",
    "# a dictionary \n",
    "data = json.load(file_path)\n",
    "df = pd.json_normalize(data)"
   ]
  },
  {
   "cell_type": "markdown",
   "id": "574261c3",
   "metadata": {
    "id": "_xYpH-sAJrFu",
    "papermill": {
     "duration": 0.03318,
     "end_time": "2022-01-09T14:51:01.971860",
     "exception": false,
     "start_time": "2022-01-09T14:51:01.938680",
     "status": "completed"
    },
    "tags": []
   },
   "source": [
    "## Data preparation"
   ]
  },
  {
   "cell_type": "code",
   "execution_count": 3,
   "id": "07e06c54",
   "metadata": {
    "execution": {
     "iopub.execute_input": "2022-01-09T14:51:02.045948Z",
     "iopub.status.busy": "2022-01-09T14:51:02.045340Z",
     "iopub.status.idle": "2022-01-09T14:51:02.068993Z",
     "shell.execute_reply": "2022-01-09T14:51:02.069447Z",
     "shell.execute_reply.started": "2022-01-09T14:16:49.503007Z"
    },
    "id": "Lf8ufHH5JrFu",
    "papermill": {
     "duration": 0.064733,
     "end_time": "2022-01-09T14:51:02.069630",
     "exception": false,
     "start_time": "2022-01-09T14:51:02.004897",
     "status": "completed"
    },
    "tags": []
   },
   "outputs": [
    {
     "data": {
      "text/html": [
       "<div>\n",
       "<style scoped>\n",
       "    .dataframe tbody tr th:only-of-type {\n",
       "        vertical-align: middle;\n",
       "    }\n",
       "\n",
       "    .dataframe tbody tr th {\n",
       "        vertical-align: top;\n",
       "    }\n",
       "\n",
       "    .dataframe thead th {\n",
       "        text-align: right;\n",
       "    }\n",
       "</style>\n",
       "<table border=\"1\" class=\"dataframe\">\n",
       "  <thead>\n",
       "    <tr style=\"text-align: right;\">\n",
       "      <th></th>\n",
       "      <th>_index</th>\n",
       "      <th>_type</th>\n",
       "      <th>_id</th>\n",
       "      <th>_score</th>\n",
       "      <th>_source.tags</th>\n",
       "      <th>_source.zip_code</th>\n",
       "      <th>_source.complaint_id</th>\n",
       "      <th>_source.issue</th>\n",
       "      <th>_source.date_received</th>\n",
       "      <th>_source.state</th>\n",
       "      <th>_source.consumer_disputed</th>\n",
       "      <th>_source.product</th>\n",
       "      <th>_source.company_response</th>\n",
       "      <th>_source.company</th>\n",
       "      <th>_source.submitted_via</th>\n",
       "      <th>_source.date_sent_to_company</th>\n",
       "      <th>_source.company_public_response</th>\n",
       "      <th>_source.sub_product</th>\n",
       "      <th>_source.timely</th>\n",
       "      <th>_source.complaint_what_happened</th>\n",
       "      <th>_source.sub_issue</th>\n",
       "      <th>_source.consumer_consent_provided</th>\n",
       "    </tr>\n",
       "  </thead>\n",
       "  <tbody>\n",
       "    <tr>\n",
       "      <th>0</th>\n",
       "      <td>complaint-public-v2</td>\n",
       "      <td>complaint</td>\n",
       "      <td>3211475</td>\n",
       "      <td>0.0</td>\n",
       "      <td>None</td>\n",
       "      <td>90301</td>\n",
       "      <td>3211475</td>\n",
       "      <td>Attempts to collect debt not owed</td>\n",
       "      <td>2019-04-13T12:00:00-05:00</td>\n",
       "      <td>CA</td>\n",
       "      <td>N/A</td>\n",
       "      <td>Debt collection</td>\n",
       "      <td>Closed with explanation</td>\n",
       "      <td>JPMORGAN CHASE &amp; CO.</td>\n",
       "      <td>Web</td>\n",
       "      <td>2019-04-13T12:00:00-05:00</td>\n",
       "      <td>None</td>\n",
       "      <td>Credit card debt</td>\n",
       "      <td>Yes</td>\n",
       "      <td></td>\n",
       "      <td>Debt is not yours</td>\n",
       "      <td>Consent not provided</td>\n",
       "    </tr>\n",
       "    <tr>\n",
       "      <th>1</th>\n",
       "      <td>complaint-public-v2</td>\n",
       "      <td>complaint</td>\n",
       "      <td>3229299</td>\n",
       "      <td>0.0</td>\n",
       "      <td>Servicemember</td>\n",
       "      <td>319XX</td>\n",
       "      <td>3229299</td>\n",
       "      <td>Written notification about debt</td>\n",
       "      <td>2019-05-01T12:00:00-05:00</td>\n",
       "      <td>GA</td>\n",
       "      <td>N/A</td>\n",
       "      <td>Debt collection</td>\n",
       "      <td>Closed with explanation</td>\n",
       "      <td>JPMORGAN CHASE &amp; CO.</td>\n",
       "      <td>Web</td>\n",
       "      <td>2019-05-01T12:00:00-05:00</td>\n",
       "      <td>None</td>\n",
       "      <td>Credit card debt</td>\n",
       "      <td>Yes</td>\n",
       "      <td>Good morning my name is XXXX XXXX and I apprec...</td>\n",
       "      <td>Didn't receive enough information to verify debt</td>\n",
       "      <td>Consent provided</td>\n",
       "    </tr>\n",
       "    <tr>\n",
       "      <th>2</th>\n",
       "      <td>complaint-public-v2</td>\n",
       "      <td>complaint</td>\n",
       "      <td>3199379</td>\n",
       "      <td>0.0</td>\n",
       "      <td>None</td>\n",
       "      <td>77069</td>\n",
       "      <td>3199379</td>\n",
       "      <td>Other features, terms, or problems</td>\n",
       "      <td>2019-04-02T12:00:00-05:00</td>\n",
       "      <td>TX</td>\n",
       "      <td>N/A</td>\n",
       "      <td>Credit card or prepaid card</td>\n",
       "      <td>Closed with explanation</td>\n",
       "      <td>JPMORGAN CHASE &amp; CO.</td>\n",
       "      <td>Web</td>\n",
       "      <td>2019-04-02T12:00:00-05:00</td>\n",
       "      <td>None</td>\n",
       "      <td>General-purpose credit card or charge card</td>\n",
       "      <td>Yes</td>\n",
       "      <td>I upgraded my XXXX XXXX card in XX/XX/2018 and...</td>\n",
       "      <td>Problem with rewards from credit card</td>\n",
       "      <td>Consent provided</td>\n",
       "    </tr>\n",
       "    <tr>\n",
       "      <th>3</th>\n",
       "      <td>complaint-public-v2</td>\n",
       "      <td>complaint</td>\n",
       "      <td>2673060</td>\n",
       "      <td>0.0</td>\n",
       "      <td>None</td>\n",
       "      <td>48066</td>\n",
       "      <td>2673060</td>\n",
       "      <td>Trouble during payment process</td>\n",
       "      <td>2017-09-13T12:00:00-05:00</td>\n",
       "      <td>MI</td>\n",
       "      <td>N/A</td>\n",
       "      <td>Mortgage</td>\n",
       "      <td>Closed with explanation</td>\n",
       "      <td>JPMORGAN CHASE &amp; CO.</td>\n",
       "      <td>Web</td>\n",
       "      <td>2017-09-14T12:00:00-05:00</td>\n",
       "      <td>None</td>\n",
       "      <td>Conventional home mortgage</td>\n",
       "      <td>Yes</td>\n",
       "      <td></td>\n",
       "      <td>None</td>\n",
       "      <td>Consent not provided</td>\n",
       "    </tr>\n",
       "    <tr>\n",
       "      <th>4</th>\n",
       "      <td>complaint-public-v2</td>\n",
       "      <td>complaint</td>\n",
       "      <td>3203545</td>\n",
       "      <td>0.0</td>\n",
       "      <td>None</td>\n",
       "      <td>10473</td>\n",
       "      <td>3203545</td>\n",
       "      <td>Fees or interest</td>\n",
       "      <td>2019-04-05T12:00:00-05:00</td>\n",
       "      <td>NY</td>\n",
       "      <td>N/A</td>\n",
       "      <td>Credit card or prepaid card</td>\n",
       "      <td>Closed with explanation</td>\n",
       "      <td>JPMORGAN CHASE &amp; CO.</td>\n",
       "      <td>Referral</td>\n",
       "      <td>2019-04-05T12:00:00-05:00</td>\n",
       "      <td>None</td>\n",
       "      <td>General-purpose credit card or charge card</td>\n",
       "      <td>Yes</td>\n",
       "      <td></td>\n",
       "      <td>Charged too much interest</td>\n",
       "      <td>N/A</td>\n",
       "    </tr>\n",
       "  </tbody>\n",
       "</table>\n",
       "</div>"
      ],
      "text/plain": [
       "                _index      _type      _id  _score   _source.tags  \\\n",
       "0  complaint-public-v2  complaint  3211475     0.0           None   \n",
       "1  complaint-public-v2  complaint  3229299     0.0  Servicemember   \n",
       "2  complaint-public-v2  complaint  3199379     0.0           None   \n",
       "3  complaint-public-v2  complaint  2673060     0.0           None   \n",
       "4  complaint-public-v2  complaint  3203545     0.0           None   \n",
       "\n",
       "  _source.zip_code _source.complaint_id                       _source.issue  \\\n",
       "0            90301              3211475   Attempts to collect debt not owed   \n",
       "1            319XX              3229299     Written notification about debt   \n",
       "2            77069              3199379  Other features, terms, or problems   \n",
       "3            48066              2673060      Trouble during payment process   \n",
       "4            10473              3203545                    Fees or interest   \n",
       "\n",
       "       _source.date_received _source.state _source.consumer_disputed  \\\n",
       "0  2019-04-13T12:00:00-05:00            CA                       N/A   \n",
       "1  2019-05-01T12:00:00-05:00            GA                       N/A   \n",
       "2  2019-04-02T12:00:00-05:00            TX                       N/A   \n",
       "3  2017-09-13T12:00:00-05:00            MI                       N/A   \n",
       "4  2019-04-05T12:00:00-05:00            NY                       N/A   \n",
       "\n",
       "               _source.product _source.company_response       _source.company  \\\n",
       "0              Debt collection  Closed with explanation  JPMORGAN CHASE & CO.   \n",
       "1              Debt collection  Closed with explanation  JPMORGAN CHASE & CO.   \n",
       "2  Credit card or prepaid card  Closed with explanation  JPMORGAN CHASE & CO.   \n",
       "3                     Mortgage  Closed with explanation  JPMORGAN CHASE & CO.   \n",
       "4  Credit card or prepaid card  Closed with explanation  JPMORGAN CHASE & CO.   \n",
       "\n",
       "  _source.submitted_via _source.date_sent_to_company  \\\n",
       "0                   Web    2019-04-13T12:00:00-05:00   \n",
       "1                   Web    2019-05-01T12:00:00-05:00   \n",
       "2                   Web    2019-04-02T12:00:00-05:00   \n",
       "3                   Web    2017-09-14T12:00:00-05:00   \n",
       "4              Referral    2019-04-05T12:00:00-05:00   \n",
       "\n",
       "  _source.company_public_response                         _source.sub_product  \\\n",
       "0                            None                            Credit card debt   \n",
       "1                            None                            Credit card debt   \n",
       "2                            None  General-purpose credit card or charge card   \n",
       "3                            None                  Conventional home mortgage   \n",
       "4                            None  General-purpose credit card or charge card   \n",
       "\n",
       "  _source.timely                    _source.complaint_what_happened  \\\n",
       "0            Yes                                                      \n",
       "1            Yes  Good morning my name is XXXX XXXX and I apprec...   \n",
       "2            Yes  I upgraded my XXXX XXXX card in XX/XX/2018 and...   \n",
       "3            Yes                                                      \n",
       "4            Yes                                                      \n",
       "\n",
       "                                  _source.sub_issue  \\\n",
       "0                                 Debt is not yours   \n",
       "1  Didn't receive enough information to verify debt   \n",
       "2             Problem with rewards from credit card   \n",
       "3                                              None   \n",
       "4                         Charged too much interest   \n",
       "\n",
       "  _source.consumer_consent_provided  \n",
       "0              Consent not provided  \n",
       "1                  Consent provided  \n",
       "2                  Consent provided  \n",
       "3              Consent not provided  \n",
       "4                               N/A  "
      ]
     },
     "execution_count": 3,
     "metadata": {},
     "output_type": "execute_result"
    }
   ],
   "source": [
    "# Inspect the dataframe to understand the given data.\n",
    "pd.set_option('max_columns', None)\n",
    "df.head()"
   ]
  },
  {
   "cell_type": "code",
   "execution_count": 4,
   "id": "1a202f9e",
   "metadata": {
    "execution": {
     "iopub.execute_input": "2022-01-09T14:51:02.141185Z",
     "iopub.status.busy": "2022-01-09T14:51:02.140273Z",
     "iopub.status.idle": "2022-01-09T14:51:02.343496Z",
     "shell.execute_reply": "2022-01-09T14:51:02.344187Z",
     "shell.execute_reply.started": "2022-01-09T14:16:49.531667Z"
    },
    "papermill": {
     "duration": 0.241298,
     "end_time": "2022-01-09T14:51:02.344449",
     "exception": false,
     "start_time": "2022-01-09T14:51:02.103151",
     "status": "completed"
    },
    "tags": []
   },
   "outputs": [
    {
     "name": "stdout",
     "output_type": "stream",
     "text": [
      "<class 'pandas.core.frame.DataFrame'>\n",
      "RangeIndex: 78313 entries, 0 to 78312\n",
      "Data columns (total 22 columns):\n",
      " #   Column                             Non-Null Count  Dtype  \n",
      "---  ------                             --------------  -----  \n",
      " 0   _index                             78313 non-null  object \n",
      " 1   _type                              78313 non-null  object \n",
      " 2   _id                                78313 non-null  object \n",
      " 3   _score                             78313 non-null  float64\n",
      " 4   _source.tags                       10900 non-null  object \n",
      " 5   _source.zip_code                   71556 non-null  object \n",
      " 6   _source.complaint_id               78313 non-null  object \n",
      " 7   _source.issue                      78313 non-null  object \n",
      " 8   _source.date_received              78313 non-null  object \n",
      " 9   _source.state                      76322 non-null  object \n",
      " 10  _source.consumer_disputed          78313 non-null  object \n",
      " 11  _source.product                    78313 non-null  object \n",
      " 12  _source.company_response           78313 non-null  object \n",
      " 13  _source.company                    78313 non-null  object \n",
      " 14  _source.submitted_via              78313 non-null  object \n",
      " 15  _source.date_sent_to_company       78313 non-null  object \n",
      " 16  _source.company_public_response    4 non-null      object \n",
      " 17  _source.sub_product                67742 non-null  object \n",
      " 18  _source.timely                     78313 non-null  object \n",
      " 19  _source.complaint_what_happened    78313 non-null  object \n",
      " 20  _source.sub_issue                  32016 non-null  object \n",
      " 21  _source.consumer_consent_provided  77305 non-null  object \n",
      "dtypes: float64(1), object(21)\n",
      "memory usage: 13.1+ MB\n"
     ]
    }
   ],
   "source": [
    "df.info()"
   ]
  },
  {
   "cell_type": "code",
   "execution_count": 5,
   "id": "a58e47a5",
   "metadata": {
    "execution": {
     "iopub.execute_input": "2022-01-09T14:51:02.418473Z",
     "iopub.status.busy": "2022-01-09T14:51:02.417869Z",
     "iopub.status.idle": "2022-01-09T14:51:02.424360Z",
     "shell.execute_reply": "2022-01-09T14:51:02.423820Z",
     "shell.execute_reply.started": "2022-01-09T14:16:49.811249Z"
    },
    "id": "Dwcty-wmJrFw",
    "papermill": {
     "duration": 0.04594,
     "end_time": "2022-01-09T14:51:02.424494",
     "exception": false,
     "start_time": "2022-01-09T14:51:02.378554",
     "status": "completed"
    },
    "tags": []
   },
   "outputs": [
    {
     "name": "stdout",
     "output_type": "stream",
     "text": [
      "01 Column :  _index\n",
      "02 Column :  _type\n",
      "03 Column :  _id\n",
      "04 Column :  _score\n",
      "05 Column :  _source.tags\n",
      "06 Column :  _source.zip_code\n",
      "07 Column :  _source.complaint_id\n",
      "08 Column :  _source.issue\n",
      "09 Column :  _source.date_received\n",
      "10 Column :  _source.state\n",
      "11 Column :  _source.consumer_disputed\n",
      "12 Column :  _source.product\n",
      "13 Column :  _source.company_response\n",
      "14 Column :  _source.company\n",
      "15 Column :  _source.submitted_via\n",
      "16 Column :  _source.date_sent_to_company\n",
      "17 Column :  _source.company_public_response\n",
      "18 Column :  _source.sub_product\n",
      "19 Column :  _source.timely\n",
      "20 Column :  _source.complaint_what_happened\n",
      "21 Column :  _source.sub_issue\n",
      "22 Column :  _source.consumer_consent_provided\n"
     ]
    }
   ],
   "source": [
    "# Print the column names\n",
    "def print_column_names():\n",
    "    i = 1\n",
    "    for col in df.columns:\n",
    "        print(str(\"{:02d}\".format(i)) +\" Column : \", col)\n",
    "        i += 1\n",
    "        \n",
    "print_column_names()"
   ]
  },
  {
   "cell_type": "code",
   "execution_count": 6,
   "id": "225c9036",
   "metadata": {
    "execution": {
     "iopub.execute_input": "2022-01-09T14:51:02.495943Z",
     "iopub.status.busy": "2022-01-09T14:51:02.495392Z",
     "iopub.status.idle": "2022-01-09T14:51:02.509606Z",
     "shell.execute_reply": "2022-01-09T14:51:02.509100Z",
     "shell.execute_reply.started": "2022-01-09T14:16:49.826541Z"
    },
    "id": "FYCtKXD1JrFw",
    "papermill": {
     "duration": 0.051343,
     "end_time": "2022-01-09T14:51:02.509794",
     "exception": false,
     "start_time": "2022-01-09T14:51:02.458451",
     "status": "completed"
    },
    "tags": []
   },
   "outputs": [
    {
     "name": "stdout",
     "output_type": "stream",
     "text": [
      "01 Column :  index\n",
      "02 Column :  type\n",
      "03 Column :  id\n",
      "04 Column :  score\n",
      "05 Column :  tags\n",
      "06 Column :  zipcode\n",
      "07 Column :  complaintid\n",
      "08 Column :  issue\n",
      "09 Column :  datereceived\n",
      "10 Column :  state\n",
      "11 Column :  consumerdisputed\n",
      "12 Column :  product\n",
      "13 Column :  companyresponse\n",
      "14 Column :  company\n",
      "15 Column :  submittedvia\n",
      "16 Column :  datesenttocompany\n",
      "17 Column :  companypublicresponse\n",
      "18 Column :  subproduct\n",
      "19 Column :  timely\n",
      "20 Column :  complaintwhathappened\n",
      "21 Column :  subissue\n",
      "22 Column :  consumerconsentprovided\n"
     ]
    }
   ],
   "source": [
    "# Assign new column names\n",
    "new_columns = {}\n",
    "for col in df.columns:\n",
    "    new_columns[col] = col.replace(\"_\", \"\").replace(\"source.\", \"\")\n",
    "\n",
    "df.rename(columns = new_columns, inplace = True)\n",
    "\n",
    "print_column_names()"
   ]
  },
  {
   "cell_type": "code",
   "execution_count": 7,
   "id": "a76dd7a4",
   "metadata": {
    "execution": {
     "iopub.execute_input": "2022-01-09T14:51:02.583300Z",
     "iopub.status.busy": "2022-01-09T14:51:02.582616Z",
     "iopub.status.idle": "2022-01-09T14:51:02.586593Z",
     "shell.execute_reply": "2022-01-09T14:51:02.585583Z",
     "shell.execute_reply.started": "2022-01-09T14:16:49.840919Z"
    },
    "papermill": {
     "duration": 0.042727,
     "end_time": "2022-01-09T14:51:02.586838",
     "exception": false,
     "start_time": "2022-01-09T14:51:02.544111",
     "status": "completed"
    },
    "tags": []
   },
   "outputs": [
    {
     "name": "stdout",
     "output_type": "stream",
     "text": [
      "No of rows:\u001b[1m 78313 \u001b[0m\n",
      "No of cols:\u001b[1m 22 \u001b[0m\n"
     ]
    }
   ],
   "source": [
    "# Get the shape and size of the dataset\n",
    "print('No of rows:\\033[1m', df.shape[0], '\\033[0m')\n",
    "print('No of cols:\\033[1m', df.shape[1], '\\033[0m')"
   ]
  },
  {
   "cell_type": "code",
   "execution_count": 8,
   "id": "1dcbde73",
   "metadata": {
    "execution": {
     "iopub.execute_input": "2022-01-09T14:51:02.666938Z",
     "iopub.status.busy": "2022-01-09T14:51:02.666322Z",
     "iopub.status.idle": "2022-01-09T14:51:02.667776Z",
     "shell.execute_reply": "2022-01-09T14:51:02.668204Z",
     "shell.execute_reply.started": "2022-01-09T14:16:49.848533Z"
    },
    "id": "grQUPFL5JrFx",
    "papermill": {
     "duration": 0.045793,
     "end_time": "2022-01-09T14:51:02.668373",
     "exception": false,
     "start_time": "2022-01-09T14:51:02.622580",
     "status": "completed"
    },
    "tags": []
   },
   "outputs": [],
   "source": [
    "# Assign nan in place of blanks in the complaints column\n",
    "df.complaintwhathappened.replace(r'', np.nan, regex=True, inplace=True)"
   ]
  },
  {
   "cell_type": "code",
   "execution_count": 9,
   "id": "51f4ef1d",
   "metadata": {
    "execution": {
     "iopub.execute_input": "2022-01-09T14:51:02.746999Z",
     "iopub.status.busy": "2022-01-09T14:51:02.746432Z",
     "iopub.status.idle": "2022-01-09T14:51:02.765416Z",
     "shell.execute_reply": "2022-01-09T14:51:02.765849Z",
     "shell.execute_reply.started": "2022-01-09T14:16:49.868943Z"
    },
    "id": "Jfxd8VSmJrFy",
    "papermill": {
     "duration": 0.063617,
     "end_time": "2022-01-09T14:51:02.766037",
     "exception": false,
     "start_time": "2022-01-09T14:51:02.702420",
     "status": "completed"
    },
    "tags": []
   },
   "outputs": [
    {
     "name": "stdout",
     "output_type": "stream",
     "text": [
      "Remaining Rows :  21072\n"
     ]
    }
   ],
   "source": [
    "# Remove all rows where complaints column is nan\n",
    "df = df[df.complaintwhathappened.notna()]\n",
    "print(\"Remaining Rows : \", len(df))"
   ]
  },
  {
   "cell_type": "markdown",
   "id": "7a68dc16",
   "metadata": {
    "id": "L944HZpsJrFy",
    "papermill": {
     "duration": 0.033978,
     "end_time": "2022-01-09T14:51:02.834483",
     "exception": false,
     "start_time": "2022-01-09T14:51:02.800505",
     "status": "completed"
    },
    "tags": []
   },
   "source": [
    "## Prepare the text for topic modeling\n",
    "\n",
    "Once you have removed all the blank complaints, you need to:\n",
    "\n",
    "* Make the text lowercase\n",
    "* Remove text in square brackets\n",
    "* Remove punctuation\n",
    "* Remove words containing numbers\n",
    "\n",
    "\n",
    "Once you have done these cleaning operations you need to perform the following:\n",
    "* Lemmatize the texts\n",
    "* Use POS tags to get relevant words from the texts.\n"
   ]
  },
  {
   "cell_type": "code",
   "execution_count": 10,
   "id": "a7de38ca",
   "metadata": {
    "execution": {
     "iopub.execute_input": "2022-01-09T14:51:02.910284Z",
     "iopub.status.busy": "2022-01-09T14:51:02.909638Z",
     "iopub.status.idle": "2022-01-09T14:51:02.912468Z",
     "shell.execute_reply": "2022-01-09T14:51:02.911880Z",
     "shell.execute_reply.started": "2022-01-09T14:16:49.903659Z"
    },
    "id": "qm7SjjSkJrFz",
    "papermill": {
     "duration": 0.043454,
     "end_time": "2022-01-09T14:51:02.912602",
     "exception": false,
     "start_time": "2022-01-09T14:51:02.869148",
     "status": "completed"
    },
    "tags": []
   },
   "outputs": [],
   "source": [
    "# Write your function here to clean the text and remove all the unnecessary elements.\n",
    "def cleaned_text(sentence):\n",
    "    sentence = sentence.lower()\n",
    "    sentence = re.sub(\"[\\[].*?[\\]]\", \"\", sentence)\n",
    "    sentence = re.sub(r'[^\\w\\s]','', sentence) \n",
    "    sentence = re.sub(r'[0-9]', '', sentence, re.I|re.A)\n",
    "    return sentence"
   ]
  },
  {
   "cell_type": "code",
   "execution_count": 11,
   "id": "30bb6845",
   "metadata": {
    "execution": {
     "iopub.execute_input": "2022-01-09T14:51:02.989960Z",
     "iopub.status.busy": "2022-01-09T14:51:02.984403Z",
     "iopub.status.idle": "2022-01-09T14:51:02.992244Z",
     "shell.execute_reply": "2022-01-09T14:51:02.991678Z",
     "shell.execute_reply.started": "2022-01-09T14:16:49.910859Z"
    },
    "id": "zgOu8t8HJrFz",
    "papermill": {
     "duration": 0.04518,
     "end_time": "2022-01-09T14:51:02.992384",
     "exception": false,
     "start_time": "2022-01-09T14:51:02.947204",
     "status": "completed"
    },
    "tags": []
   },
   "outputs": [],
   "source": [
    "# Write your function to Lemmatize the texts\n",
    "import nltk\n",
    "from nltk.stem import WordNetLemmatizer\n",
    "from nltk.corpus import wordnet\n",
    "\n",
    "lemmatizer = WordNetLemmatizer()\n",
    "\n",
    "# function to convert nltk tag to wordnet tag\n",
    "def nltk_tag_to_wordnet_tag(nltk_tag):\n",
    "    if nltk_tag.startswith('J'):\n",
    "        return wordnet.ADJ\n",
    "    elif nltk_tag.startswith('V'):\n",
    "        return wordnet.VERB\n",
    "    elif nltk_tag.startswith('N'):\n",
    "        return wordnet.NOUN\n",
    "    elif nltk_tag.startswith('R'):\n",
    "        return wordnet.ADV\n",
    "    else:          \n",
    "        return None\n",
    "\n",
    "def lemmatized_text(sentence):\n",
    "    # tokenize the sentence and find the POS tag for each token\n",
    "    nltk_tagged = nltk.pos_tag(nltk.word_tokenize(sentence))\n",
    "    # tuple of (token, wordnet_tag)\n",
    "    wordnet_tagged = map(lambda x: (x[0], nltk_tag_to_wordnet_tag(x[1])), nltk_tagged)\n",
    "    lemmatized_sentence = []\n",
    "    for word, tag in wordnet_tagged:\n",
    "        if tag is None:\n",
    "            # if there is no available tag, append the token as is\n",
    "            lemmatized_sentence.append(word)\n",
    "        else:        \n",
    "            # else use the tag to lemmatize the token\n",
    "            lemmatized_sentence.append(lemmatizer.lemmatize(word, tag))\n",
    "    return \" \".join(lemmatized_sentence)"
   ]
  },
  {
   "cell_type": "code",
   "execution_count": 12,
   "id": "b71f985c",
   "metadata": {
    "execution": {
     "iopub.execute_input": "2022-01-09T14:51:03.065100Z",
     "iopub.status.busy": "2022-01-09T14:51:03.064563Z",
     "iopub.status.idle": "2022-01-09T14:56:25.129532Z",
     "shell.execute_reply": "2022-01-09T14:56:25.129933Z",
     "shell.execute_reply.started": "2022-01-09T14:35:19.575798Z"
    },
    "id": "uXnN7aa_JrF0",
    "papermill": {
     "duration": 322.102203,
     "end_time": "2022-01-09T14:56:25.130108",
     "exception": false,
     "start_time": "2022-01-09T14:51:03.027905",
     "status": "completed"
    },
    "tags": []
   },
   "outputs": [
    {
     "name": "stderr",
     "output_type": "stream",
     "text": [
      "100%|██████████| 21072/21072 [05:22<00:00, 65.43it/s]\n"
     ]
    },
    {
     "data": {
      "text/html": [
       "<div>\n",
       "<style scoped>\n",
       "    .dataframe tbody tr th:only-of-type {\n",
       "        vertical-align: middle;\n",
       "    }\n",
       "\n",
       "    .dataframe tbody tr th {\n",
       "        vertical-align: top;\n",
       "    }\n",
       "\n",
       "    .dataframe thead th {\n",
       "        text-align: right;\n",
       "    }\n",
       "</style>\n",
       "<table border=\"1\" class=\"dataframe\">\n",
       "  <thead>\n",
       "    <tr style=\"text-align: right;\">\n",
       "      <th></th>\n",
       "      <th>complaints</th>\n",
       "      <th>lemmatized_complaints</th>\n",
       "    </tr>\n",
       "  </thead>\n",
       "  <tbody>\n",
       "    <tr>\n",
       "      <th>0</th>\n",
       "      <td>Good morning my name is XXXX XXXX and I apprec...</td>\n",
       "      <td>good morning my name be xxxx xxxx and i apprec...</td>\n",
       "    </tr>\n",
       "    <tr>\n",
       "      <th>1</th>\n",
       "      <td>I upgraded my XXXX XXXX card in XX/XX/2018 and...</td>\n",
       "      <td>i upgrade my xxxx xxxx card in xxxx and be tel...</td>\n",
       "    </tr>\n",
       "    <tr>\n",
       "      <th>2</th>\n",
       "      <td>Chase Card was reported on XX/XX/2019. However...</td>\n",
       "      <td>chase card be report on xxxx however fraudulen...</td>\n",
       "    </tr>\n",
       "    <tr>\n",
       "      <th>3</th>\n",
       "      <td>On XX/XX/2018, while trying to book a XXXX  XX...</td>\n",
       "      <td>on xxxx while try to book a xxxx xxxx ticket i...</td>\n",
       "    </tr>\n",
       "    <tr>\n",
       "      <th>4</th>\n",
       "      <td>my grand son give me check for {$1600.00} i de...</td>\n",
       "      <td>my grand son give me check for i deposit it in...</td>\n",
       "    </tr>\n",
       "  </tbody>\n",
       "</table>\n",
       "</div>"
      ],
      "text/plain": [
       "                                          complaints  \\\n",
       "0  Good morning my name is XXXX XXXX and I apprec...   \n",
       "1  I upgraded my XXXX XXXX card in XX/XX/2018 and...   \n",
       "2  Chase Card was reported on XX/XX/2019. However...   \n",
       "3  On XX/XX/2018, while trying to book a XXXX  XX...   \n",
       "4  my grand son give me check for {$1600.00} i de...   \n",
       "\n",
       "                               lemmatized_complaints  \n",
       "0  good morning my name be xxxx xxxx and i apprec...  \n",
       "1  i upgrade my xxxx xxxx card in xxxx and be tel...  \n",
       "2  chase card be report on xxxx however fraudulen...  \n",
       "3  on xxxx while try to book a xxxx xxxx ticket i...  \n",
       "4  my grand son give me check for i deposit it in...  "
      ]
     },
     "execution_count": 12,
     "metadata": {},
     "output_type": "execute_result"
    }
   ],
   "source": [
    "from tqdm import tqdm\n",
    "\n",
    "# Create a dataframe('df_clean') that will have only the complaints and the lemmatized complaints \n",
    "df_clean = pd.DataFrame()\n",
    "\n",
    "for x in tqdm(df.complaintwhathappened):\n",
    "    df_clean = df_clean.append({'complaints':x, 'lemmatized_complaints':lemmatized_text(cleaned_text(x))}, ignore_index=True)\n",
    "    \n",
    "df_clean.head()"
   ]
  },
  {
   "cell_type": "code",
   "execution_count": 13,
   "id": "37913261",
   "metadata": {
    "execution": {
     "iopub.execute_input": "2022-01-09T14:56:26.404771Z",
     "iopub.status.busy": "2022-01-09T14:56:26.403912Z",
     "iopub.status.idle": "2022-01-09T14:56:26.407720Z",
     "shell.execute_reply": "2022-01-09T14:56:26.407130Z",
     "shell.execute_reply.started": "2022-01-09T14:43:45.144230Z"
    },
    "id": "nOiDVvEIJrF0",
    "papermill": {
     "duration": 0.639315,
     "end_time": "2022-01-09T14:56:26.407853",
     "exception": false,
     "start_time": "2022-01-09T14:56:25.768538",
     "status": "completed"
    },
    "tags": []
   },
   "outputs": [
    {
     "data": {
      "text/html": [
       "<div>\n",
       "<style scoped>\n",
       "    .dataframe tbody tr th:only-of-type {\n",
       "        vertical-align: middle;\n",
       "    }\n",
       "\n",
       "    .dataframe tbody tr th {\n",
       "        vertical-align: top;\n",
       "    }\n",
       "\n",
       "    .dataframe thead th {\n",
       "        text-align: right;\n",
       "    }\n",
       "</style>\n",
       "<table border=\"1\" class=\"dataframe\">\n",
       "  <thead>\n",
       "    <tr style=\"text-align: right;\">\n",
       "      <th></th>\n",
       "      <th>complaints</th>\n",
       "      <th>lemmatized_complaints</th>\n",
       "    </tr>\n",
       "  </thead>\n",
       "  <tbody>\n",
       "    <tr>\n",
       "      <th>0</th>\n",
       "      <td>Good morning my name is XXXX XXXX and I apprec...</td>\n",
       "      <td>good morning my name be xxxx xxxx and i apprec...</td>\n",
       "    </tr>\n",
       "    <tr>\n",
       "      <th>1</th>\n",
       "      <td>I upgraded my XXXX XXXX card in XX/XX/2018 and...</td>\n",
       "      <td>i upgrade my xxxx xxxx card in xxxx and be tel...</td>\n",
       "    </tr>\n",
       "    <tr>\n",
       "      <th>2</th>\n",
       "      <td>Chase Card was reported on XX/XX/2019. However...</td>\n",
       "      <td>chase card be report on xxxx however fraudulen...</td>\n",
       "    </tr>\n",
       "    <tr>\n",
       "      <th>3</th>\n",
       "      <td>On XX/XX/2018, while trying to book a XXXX  XX...</td>\n",
       "      <td>on xxxx while try to book a xxxx xxxx ticket i...</td>\n",
       "    </tr>\n",
       "    <tr>\n",
       "      <th>4</th>\n",
       "      <td>my grand son give me check for {$1600.00} i de...</td>\n",
       "      <td>my grand son give me check for i deposit it in...</td>\n",
       "    </tr>\n",
       "    <tr>\n",
       "      <th>...</th>\n",
       "      <td>...</td>\n",
       "      <td>...</td>\n",
       "    </tr>\n",
       "    <tr>\n",
       "      <th>21067</th>\n",
       "      <td>After being a Chase Card customer for well ove...</td>\n",
       "      <td>after be a chase card customer for well over a...</td>\n",
       "    </tr>\n",
       "    <tr>\n",
       "      <th>21068</th>\n",
       "      <td>On Wednesday, XX/XX/XXXX I called Chas, my XXX...</td>\n",
       "      <td>on wednesday xxxxxxxx i call chas my xxxx xxxx...</td>\n",
       "    </tr>\n",
       "    <tr>\n",
       "      <th>21069</th>\n",
       "      <td>I am not familiar with XXXX pay and did not un...</td>\n",
       "      <td>i be not familiar with xxxx pay and do not und...</td>\n",
       "    </tr>\n",
       "    <tr>\n",
       "      <th>21070</th>\n",
       "      <td>I have had flawless credit for 30 yrs. I've ha...</td>\n",
       "      <td>i have have flawless credit for yrs ive have c...</td>\n",
       "    </tr>\n",
       "    <tr>\n",
       "      <th>21071</th>\n",
       "      <td>Roughly 10+ years ago I closed out my accounts...</td>\n",
       "      <td>roughly year ago i close out my account with j...</td>\n",
       "    </tr>\n",
       "  </tbody>\n",
       "</table>\n",
       "<p>21072 rows × 2 columns</p>\n",
       "</div>"
      ],
      "text/plain": [
       "                                              complaints  \\\n",
       "0      Good morning my name is XXXX XXXX and I apprec...   \n",
       "1      I upgraded my XXXX XXXX card in XX/XX/2018 and...   \n",
       "2      Chase Card was reported on XX/XX/2019. However...   \n",
       "3      On XX/XX/2018, while trying to book a XXXX  XX...   \n",
       "4      my grand son give me check for {$1600.00} i de...   \n",
       "...                                                  ...   \n",
       "21067  After being a Chase Card customer for well ove...   \n",
       "21068  On Wednesday, XX/XX/XXXX I called Chas, my XXX...   \n",
       "21069  I am not familiar with XXXX pay and did not un...   \n",
       "21070  I have had flawless credit for 30 yrs. I've ha...   \n",
       "21071  Roughly 10+ years ago I closed out my accounts...   \n",
       "\n",
       "                                   lemmatized_complaints  \n",
       "0      good morning my name be xxxx xxxx and i apprec...  \n",
       "1      i upgrade my xxxx xxxx card in xxxx and be tel...  \n",
       "2      chase card be report on xxxx however fraudulen...  \n",
       "3      on xxxx while try to book a xxxx xxxx ticket i...  \n",
       "4      my grand son give me check for i deposit it in...  \n",
       "...                                                  ...  \n",
       "21067  after be a chase card customer for well over a...  \n",
       "21068  on wednesday xxxxxxxx i call chas my xxxx xxxx...  \n",
       "21069  i be not familiar with xxxx pay and do not und...  \n",
       "21070  i have have flawless credit for yrs ive have c...  \n",
       "21071  roughly year ago i close out my account with j...  \n",
       "\n",
       "[21072 rows x 2 columns]"
      ]
     },
     "execution_count": 13,
     "metadata": {},
     "output_type": "execute_result"
    }
   ],
   "source": [
    "df_clean"
   ]
  },
  {
   "cell_type": "code",
   "execution_count": 14,
   "id": "11b2d5d6",
   "metadata": {
    "execution": {
     "iopub.execute_input": "2022-01-09T14:56:27.683076Z",
     "iopub.status.busy": "2022-01-09T14:56:27.682441Z",
     "iopub.status.idle": "2022-01-09T14:56:27.685255Z",
     "shell.execute_reply": "2022-01-09T14:56:27.684758Z",
     "shell.execute_reply.started": "2022-01-09T14:16:50.051002Z"
    },
    "id": "Kk7fc4DuJrF1",
    "papermill": {
     "duration": 0.628536,
     "end_time": "2022-01-09T14:56:27.685403",
     "exception": false,
     "start_time": "2022-01-09T14:56:27.056867",
     "status": "completed"
    },
    "tags": []
   },
   "outputs": [],
   "source": [
    "# Write your function to extract the POS tags \n"
   ]
  },
  {
   "cell_type": "code",
   "execution_count": 15,
   "id": "2d76b367",
   "metadata": {
    "execution": {
     "iopub.execute_input": "2022-01-09T14:56:29.002063Z",
     "iopub.status.busy": "2022-01-09T14:56:29.001312Z",
     "iopub.status.idle": "2022-01-09T14:56:29.004271Z",
     "shell.execute_reply": "2022-01-09T14:56:29.003616Z",
     "shell.execute_reply.started": "2022-01-09T14:16:50.056835Z"
    },
    "id": "AjxfchvFJrF2",
    "papermill": {
     "duration": 0.63825,
     "end_time": "2022-01-09T14:56:29.004424",
     "exception": false,
     "start_time": "2022-01-09T14:56:28.366174",
     "status": "completed"
    },
    "tags": []
   },
   "outputs": [],
   "source": [
    "#The clean dataframe should now contain the raw complaint, lemmatized complaint and the complaint after removing POS tags.\n",
    "# Uncomment df_clean"
   ]
  },
  {
   "cell_type": "markdown",
   "id": "cbd1b508",
   "metadata": {
    "id": "_7Un1AElJrF2",
    "papermill": {
     "duration": 0.621322,
     "end_time": "2022-01-09T14:56:30.244758",
     "exception": false,
     "start_time": "2022-01-09T14:56:29.623436",
     "status": "completed"
    },
    "tags": []
   },
   "source": [
    "## Exploratory data analysis to get familiar with the data.\n",
    "\n",
    "Write the code in this task to perform the following:\n",
    "\n",
    "*   Visualise the data according to the 'Complaint' character length\n",
    "*   Using a word cloud find the top 40 words by frequency among all the articles after processing the text\n",
    "*   Find the top unigrams,bigrams and trigrams by frequency among all the complaints after processing the text. ‘\n",
    "\n",
    "\n"
   ]
  },
  {
   "cell_type": "code",
   "execution_count": 16,
   "id": "152b1b0c",
   "metadata": {
    "execution": {
     "iopub.execute_input": "2022-01-09T14:56:31.495549Z",
     "iopub.status.busy": "2022-01-09T14:56:31.494577Z",
     "iopub.status.idle": "2022-01-09T14:56:31.497016Z",
     "shell.execute_reply": "2022-01-09T14:56:31.496468Z",
     "shell.execute_reply.started": "2022-01-09T14:16:50.059031Z"
    },
    "id": "q-zaqJF6JrF2",
    "papermill": {
     "duration": 0.630198,
     "end_time": "2022-01-09T14:56:31.497148",
     "exception": false,
     "start_time": "2022-01-09T14:56:30.866950",
     "status": "completed"
    },
    "tags": []
   },
   "outputs": [],
   "source": [
    "# Write your code here to visualise the data according to the 'Complaint' character length"
   ]
  },
  {
   "cell_type": "markdown",
   "id": "3ce6376c",
   "metadata": {
    "id": "T9jD_6SeJrF3",
    "papermill": {
     "duration": 0.625754,
     "end_time": "2022-01-09T14:56:32.745123",
     "exception": false,
     "start_time": "2022-01-09T14:56:32.119369",
     "status": "completed"
    },
    "tags": []
   },
   "source": [
    "#### Find the top 40 words by frequency among all the articles after processing the text."
   ]
  },
  {
   "cell_type": "code",
   "execution_count": 17,
   "id": "d70b238d",
   "metadata": {
    "execution": {
     "iopub.execute_input": "2022-01-09T14:56:34.009536Z",
     "iopub.status.busy": "2022-01-09T14:56:34.008463Z",
     "iopub.status.idle": "2022-01-09T14:56:34.011317Z",
     "shell.execute_reply": "2022-01-09T14:56:34.010739Z",
     "shell.execute_reply.started": "2022-01-09T14:16:50.061149Z"
    },
    "id": "QcfdvtfZJrF3",
    "papermill": {
     "duration": 0.640806,
     "end_time": "2022-01-09T14:56:34.011449",
     "exception": false,
     "start_time": "2022-01-09T14:56:33.370643",
     "status": "completed"
    },
    "tags": []
   },
   "outputs": [],
   "source": [
    "#Using a word cloud find the top 40 words by frequency among all the articles after processing the text\n"
   ]
  },
  {
   "cell_type": "code",
   "execution_count": 18,
   "id": "df3cd1e8",
   "metadata": {
    "execution": {
     "iopub.execute_input": "2022-01-09T14:56:35.264245Z",
     "iopub.status.busy": "2022-01-09T14:56:35.263421Z",
     "iopub.status.idle": "2022-01-09T14:56:35.266088Z",
     "shell.execute_reply": "2022-01-09T14:56:35.265595Z",
     "shell.execute_reply.started": "2022-01-09T14:16:50.064323Z"
    },
    "id": "OkSmc3UaJrF4",
    "papermill": {
     "duration": 0.633313,
     "end_time": "2022-01-09T14:56:35.266248",
     "exception": false,
     "start_time": "2022-01-09T14:56:34.632935",
     "status": "completed"
    },
    "tags": []
   },
   "outputs": [],
   "source": [
    "#Removing -PRON- from the text corpus\n",
    "#df_clean['Complaint_clean'] = df_clean['complaint_POS_removed'].str.replace('-PRON-', '')"
   ]
  },
  {
   "cell_type": "markdown",
   "id": "fbf45432",
   "metadata": {
    "id": "5DfCSbbmJrF4",
    "papermill": {
     "duration": 0.628295,
     "end_time": "2022-01-09T14:56:36.518280",
     "exception": false,
     "start_time": "2022-01-09T14:56:35.889985",
     "status": "completed"
    },
    "tags": []
   },
   "source": [
    "#### Find the top unigrams,bigrams and trigrams by frequency among all the complaints after processing the text."
   ]
  },
  {
   "cell_type": "code",
   "execution_count": 19,
   "id": "3bab6f2e",
   "metadata": {
    "execution": {
     "iopub.execute_input": "2022-01-09T14:56:37.874022Z",
     "iopub.status.busy": "2022-01-09T14:56:37.873091Z",
     "iopub.status.idle": "2022-01-09T14:56:37.875363Z",
     "shell.execute_reply": "2022-01-09T14:56:37.874798Z",
     "shell.execute_reply.started": "2022-01-09T14:16:50.066152Z"
    },
    "id": "5mbk5DS5JrF4",
    "papermill": {
     "duration": 0.672823,
     "end_time": "2022-01-09T14:56:37.875507",
     "exception": false,
     "start_time": "2022-01-09T14:56:37.202684",
     "status": "completed"
    },
    "tags": []
   },
   "outputs": [],
   "source": [
    "#Write your code here to find the top 30 unigram frequency among the complaints in the cleaned datafram(df_clean). \n"
   ]
  },
  {
   "cell_type": "code",
   "execution_count": 20,
   "id": "713f7ee3",
   "metadata": {
    "execution": {
     "iopub.execute_input": "2022-01-09T14:56:39.194589Z",
     "iopub.status.busy": "2022-01-09T14:56:39.193723Z",
     "iopub.status.idle": "2022-01-09T14:56:39.196379Z",
     "shell.execute_reply": "2022-01-09T14:56:39.196870Z",
     "shell.execute_reply.started": "2022-01-09T14:16:50.068776Z"
    },
    "id": "YX7fedm1JrF8",
    "papermill": {
     "duration": 0.695293,
     "end_time": "2022-01-09T14:56:39.197045",
     "exception": false,
     "start_time": "2022-01-09T14:56:38.501752",
     "status": "completed"
    },
    "tags": []
   },
   "outputs": [],
   "source": [
    "#Print the top 10 words in the unigram frequency\n"
   ]
  },
  {
   "cell_type": "code",
   "execution_count": 21,
   "id": "5092a3a4",
   "metadata": {
    "execution": {
     "iopub.execute_input": "2022-01-09T14:56:40.540474Z",
     "iopub.status.busy": "2022-01-09T14:56:40.539551Z",
     "iopub.status.idle": "2022-01-09T14:56:40.542283Z",
     "shell.execute_reply": "2022-01-09T14:56:40.541678Z",
     "shell.execute_reply.started": "2022-01-09T14:16:50.070769Z"
    },
    "id": "aV7kD7w8JrF8",
    "papermill": {
     "duration": 0.667825,
     "end_time": "2022-01-09T14:56:40.542420",
     "exception": false,
     "start_time": "2022-01-09T14:56:39.874595",
     "status": "completed"
    },
    "tags": []
   },
   "outputs": [],
   "source": [
    "#Write your code here to find the top 30 bigram frequency among the complaints in the cleaned datafram(df_clean). \n"
   ]
  },
  {
   "cell_type": "code",
   "execution_count": 22,
   "id": "e9129542",
   "metadata": {
    "execution": {
     "iopub.execute_input": "2022-01-09T14:56:41.821445Z",
     "iopub.status.busy": "2022-01-09T14:56:41.820411Z",
     "iopub.status.idle": "2022-01-09T14:56:41.823356Z",
     "shell.execute_reply": "2022-01-09T14:56:41.822765Z",
     "shell.execute_reply.started": "2022-01-09T14:16:50.072303Z"
    },
    "id": "NPnMNIpyJrF9",
    "papermill": {
     "duration": 0.651647,
     "end_time": "2022-01-09T14:56:41.823507",
     "exception": false,
     "start_time": "2022-01-09T14:56:41.171860",
     "status": "completed"
    },
    "tags": []
   },
   "outputs": [],
   "source": [
    "#Print the top 10 words in the bigram frequency"
   ]
  },
  {
   "cell_type": "code",
   "execution_count": 23,
   "id": "c4df3399",
   "metadata": {
    "execution": {
     "iopub.execute_input": "2022-01-09T14:56:43.146631Z",
     "iopub.status.busy": "2022-01-09T14:56:43.145997Z",
     "iopub.status.idle": "2022-01-09T14:56:43.148775Z",
     "shell.execute_reply": "2022-01-09T14:56:43.148193Z",
     "shell.execute_reply.started": "2022-01-09T14:16:50.073859Z"
    },
    "id": "Xkh7vtbtJrF-",
    "papermill": {
     "duration": 0.657362,
     "end_time": "2022-01-09T14:56:43.148922",
     "exception": false,
     "start_time": "2022-01-09T14:56:42.491560",
     "status": "completed"
    },
    "tags": []
   },
   "outputs": [],
   "source": [
    "#Write your code here to find the top 30 trigram frequency among the complaints in the cleaned datafram(df_clean). \n"
   ]
  },
  {
   "cell_type": "code",
   "execution_count": 24,
   "id": "749570f2",
   "metadata": {
    "execution": {
     "iopub.execute_input": "2022-01-09T14:56:44.470879Z",
     "iopub.status.busy": "2022-01-09T14:56:44.470153Z",
     "iopub.status.idle": "2022-01-09T14:56:44.472929Z",
     "shell.execute_reply": "2022-01-09T14:56:44.472479Z",
     "shell.execute_reply.started": "2022-01-09T14:16:50.075179Z"
    },
    "id": "REcVxNfvJrF-",
    "papermill": {
     "duration": 0.633305,
     "end_time": "2022-01-09T14:56:44.473065",
     "exception": false,
     "start_time": "2022-01-09T14:56:43.839760",
     "status": "completed"
    },
    "tags": []
   },
   "outputs": [],
   "source": [
    "#Print the top 10 words in the trigram frequency"
   ]
  },
  {
   "cell_type": "markdown",
   "id": "e4b48e84",
   "metadata": {
    "id": "yUXzFji0JrF_",
    "papermill": {
     "duration": 0.620683,
     "end_time": "2022-01-09T14:56:45.711052",
     "exception": false,
     "start_time": "2022-01-09T14:56:45.090369",
     "status": "completed"
    },
    "tags": []
   },
   "source": [
    "## The personal details of customer has been masked in the dataset with xxxx. Let's remove the masked text as this will be of no use for our analysis"
   ]
  },
  {
   "cell_type": "code",
   "execution_count": 25,
   "id": "75136d30",
   "metadata": {
    "execution": {
     "iopub.execute_input": "2022-01-09T14:56:46.968200Z",
     "iopub.status.busy": "2022-01-09T14:56:46.967463Z",
     "iopub.status.idle": "2022-01-09T14:56:46.969880Z",
     "shell.execute_reply": "2022-01-09T14:56:46.970298Z",
     "shell.execute_reply.started": "2022-01-09T14:16:50.076555Z"
    },
    "id": "wKda-a_IJrF_",
    "papermill": {
     "duration": 0.634804,
     "end_time": "2022-01-09T14:56:46.970473",
     "exception": false,
     "start_time": "2022-01-09T14:56:46.335669",
     "status": "completed"
    },
    "tags": []
   },
   "outputs": [],
   "source": [
    "#df_clean['Complaint_clean'] = df_clean['Complaint_clean'].str.replace('xxxx','')"
   ]
  },
  {
   "cell_type": "code",
   "execution_count": 26,
   "id": "c29fd273",
   "metadata": {
    "execution": {
     "iopub.execute_input": "2022-01-09T14:56:48.248701Z",
     "iopub.status.busy": "2022-01-09T14:56:48.247804Z",
     "iopub.status.idle": "2022-01-09T14:56:48.250722Z",
     "shell.execute_reply": "2022-01-09T14:56:48.250098Z",
     "shell.execute_reply.started": "2022-01-09T14:16:50.078111Z"
    },
    "id": "9UIFk8fQJrF_",
    "papermill": {
     "duration": 0.638506,
     "end_time": "2022-01-09T14:56:48.250855",
     "exception": false,
     "start_time": "2022-01-09T14:56:47.612349",
     "status": "completed"
    },
    "tags": []
   },
   "outputs": [],
   "source": [
    "#All masked texts has been removed\n",
    "#df_clean"
   ]
  },
  {
   "cell_type": "markdown",
   "id": "48156870",
   "metadata": {
    "id": "k-I0k0QtJrGA",
    "papermill": {
     "duration": 0.624764,
     "end_time": "2022-01-09T14:56:49.535558",
     "exception": false,
     "start_time": "2022-01-09T14:56:48.910794",
     "status": "completed"
    },
    "tags": []
   },
   "source": [
    "## Feature Extraction\n",
    "Convert the raw texts to a matrix of TF-IDF features\n",
    "\n",
    "**max_df** is used for removing terms that appear too frequently, also known as \"corpus-specific stop words\"\n",
    "max_df = 0.95 means \"ignore terms that appear in more than 95% of the complaints\"\n",
    "\n",
    "**min_df** is used for removing terms that appear too infrequently\n",
    "min_df = 2 means \"ignore terms that appear in less than 2 complaints\""
   ]
  },
  {
   "cell_type": "code",
   "execution_count": 27,
   "id": "eb3f04e9",
   "metadata": {
    "execution": {
     "iopub.execute_input": "2022-01-09T14:56:50.797838Z",
     "iopub.status.busy": "2022-01-09T14:56:50.797246Z",
     "iopub.status.idle": "2022-01-09T14:56:50.799387Z",
     "shell.execute_reply": "2022-01-09T14:56:50.798785Z",
     "shell.execute_reply.started": "2022-01-09T14:16:50.079558Z"
    },
    "id": "Y8fGwaCPJrGA",
    "papermill": {
     "duration": 0.634843,
     "end_time": "2022-01-09T14:56:50.799524",
     "exception": false,
     "start_time": "2022-01-09T14:56:50.164681",
     "status": "completed"
    },
    "tags": []
   },
   "outputs": [],
   "source": [
    "#Write your code here to initialise the TfidfVectorizer \n",
    "\n"
   ]
  },
  {
   "cell_type": "markdown",
   "id": "634778da",
   "metadata": {
    "id": "yYzD85nTJrGA",
    "papermill": {
     "duration": 0.627478,
     "end_time": "2022-01-09T14:56:52.055970",
     "exception": false,
     "start_time": "2022-01-09T14:56:51.428492",
     "status": "completed"
    },
    "tags": []
   },
   "source": [
    "#### Create a document term matrix using fit_transform\n",
    "\n",
    "The contents of a document term matrix are tuples of (complaint_id,token_id) tf-idf score:\n",
    "The tuples that are not there have a tf-idf score of 0"
   ]
  },
  {
   "cell_type": "code",
   "execution_count": 28,
   "id": "677d3d33",
   "metadata": {
    "execution": {
     "iopub.execute_input": "2022-01-09T14:56:53.372249Z",
     "iopub.status.busy": "2022-01-09T14:56:53.371576Z",
     "iopub.status.idle": "2022-01-09T14:56:53.374038Z",
     "shell.execute_reply": "2022-01-09T14:56:53.373483Z",
     "shell.execute_reply.started": "2022-01-09T14:16:50.081009Z"
    },
    "id": "ffzdDpp_JrGB",
    "papermill": {
     "duration": 0.63845,
     "end_time": "2022-01-09T14:56:53.374184",
     "exception": false,
     "start_time": "2022-01-09T14:56:52.735734",
     "status": "completed"
    },
    "tags": []
   },
   "outputs": [],
   "source": [
    "#Write your code here to create the Document Term Matrix by transforming the complaints column present in df_clean.\n"
   ]
  },
  {
   "cell_type": "markdown",
   "id": "995f226b",
   "metadata": {
    "id": "7Q9lwvNEJrGB",
    "papermill": {
     "duration": 0.619622,
     "end_time": "2022-01-09T14:56:54.626402",
     "exception": false,
     "start_time": "2022-01-09T14:56:54.006780",
     "status": "completed"
    },
    "tags": []
   },
   "source": [
    "## Topic Modelling using NMF\n",
    "\n",
    "Non-Negative Matrix Factorization (NMF) is an unsupervised technique so there are no labeling of topics that the model will be trained on. The way it works is that, NMF decomposes (or factorizes) high-dimensional vectors into a lower-dimensional representation. These lower-dimensional vectors are non-negative which also means their coefficients are non-negative.\n",
    "\n",
    "In this task you have to perform the following:\n",
    "\n",
    "* Find the best number of clusters \n",
    "* Apply the best number to create word clusters\n",
    "* Inspect & validate the correction of each cluster wrt the complaints \n",
    "* Correct the labels if needed \n",
    "* Map the clusters to topics/cluster names"
   ]
  },
  {
   "cell_type": "code",
   "execution_count": 29,
   "id": "af1b192e",
   "metadata": {
    "execution": {
     "iopub.execute_input": "2022-01-09T14:56:55.869373Z",
     "iopub.status.busy": "2022-01-09T14:56:55.868758Z",
     "iopub.status.idle": "2022-01-09T14:56:55.896494Z",
     "shell.execute_reply": "2022-01-09T14:56:55.895961Z",
     "shell.execute_reply.started": "2022-01-09T14:16:50.082718Z"
    },
    "id": "amLT4omWJrGB",
    "papermill": {
     "duration": 0.651179,
     "end_time": "2022-01-09T14:56:55.896627",
     "exception": false,
     "start_time": "2022-01-09T14:56:55.245448",
     "status": "completed"
    },
    "tags": []
   },
   "outputs": [],
   "source": [
    "from sklearn.decomposition import NMF"
   ]
  },
  {
   "cell_type": "markdown",
   "id": "051275b9",
   "metadata": {
    "id": "0wYR1xUTJrGD",
    "papermill": {
     "duration": 0.617642,
     "end_time": "2022-01-09T14:56:57.129965",
     "exception": false,
     "start_time": "2022-01-09T14:56:56.512323",
     "status": "completed"
    },
    "tags": []
   },
   "source": [
    "## Manual Topic Modeling\n",
    "You need to do take the trial & error approach to find the best num of topics for your NMF model.\n",
    "\n",
    "The only parameter that is required is the number of components i.e. the number of topics we want. This is the most crucial step in the whole topic modeling process and will greatly affect how good your final topics are."
   ]
  },
  {
   "cell_type": "code",
   "execution_count": 30,
   "id": "cbc8bc1b",
   "metadata": {
    "execution": {
     "iopub.execute_input": "2022-01-09T14:56:58.389547Z",
     "iopub.status.busy": "2022-01-09T14:56:58.388853Z",
     "iopub.status.idle": "2022-01-09T14:56:58.391067Z",
     "shell.execute_reply": "2022-01-09T14:56:58.390527Z",
     "shell.execute_reply.started": "2022-01-09T14:16:50.085670Z"
    },
    "id": "sgd2A6bhJrGD",
    "papermill": {
     "duration": 0.630529,
     "end_time": "2022-01-09T14:56:58.391213",
     "exception": false,
     "start_time": "2022-01-09T14:56:57.760684",
     "status": "completed"
    },
    "tags": []
   },
   "outputs": [],
   "source": [
    "#Load your nmf_model with the n_components i.e 5\n",
    "#num_topics = #write the value you want to test out\n",
    "\n",
    "#keep the random_state =40\n",
    "#nmf_model = #write your code here"
   ]
  },
  {
   "cell_type": "code",
   "execution_count": 31,
   "id": "0fb3912b",
   "metadata": {
    "execution": {
     "iopub.execute_input": "2022-01-09T14:56:59.674343Z",
     "iopub.status.busy": "2022-01-09T14:56:59.673661Z",
     "iopub.status.idle": "2022-01-09T14:56:59.675308Z",
     "shell.execute_reply": "2022-01-09T14:56:59.675832Z",
     "shell.execute_reply.started": "2022-01-09T14:16:50.087476Z"
    },
    "id": "VPMDYbt_JrGE",
    "papermill": {
     "duration": 0.656787,
     "end_time": "2022-01-09T14:56:59.675993",
     "exception": false,
     "start_time": "2022-01-09T14:56:59.019206",
     "status": "completed"
    },
    "tags": []
   },
   "outputs": [],
   "source": [
    "#nmf_model.fit(dtm)\n",
    "#len(tfidf.get_feature_names())"
   ]
  },
  {
   "cell_type": "code",
   "execution_count": 32,
   "id": "8322935f",
   "metadata": {
    "execution": {
     "iopub.execute_input": "2022-01-09T14:57:00.976596Z",
     "iopub.status.busy": "2022-01-09T14:57:00.975993Z",
     "iopub.status.idle": "2022-01-09T14:57:00.978616Z",
     "shell.execute_reply": "2022-01-09T14:57:00.979146Z",
     "shell.execute_reply.started": "2022-01-09T14:16:50.089132Z"
    },
    "id": "16kRfat5JrGE",
    "papermill": {
     "duration": 0.682049,
     "end_time": "2022-01-09T14:57:00.979320",
     "exception": false,
     "start_time": "2022-01-09T14:57:00.297271",
     "status": "completed"
    },
    "tags": []
   },
   "outputs": [],
   "source": [
    "#Print the Top15 words for each of the topics\n"
   ]
  },
  {
   "cell_type": "code",
   "execution_count": 33,
   "id": "c1c5299b",
   "metadata": {
    "execution": {
     "iopub.execute_input": "2022-01-09T14:57:02.228073Z",
     "iopub.status.busy": "2022-01-09T14:57:02.227417Z",
     "iopub.status.idle": "2022-01-09T14:57:02.229983Z",
     "shell.execute_reply": "2022-01-09T14:57:02.230474Z",
     "shell.execute_reply.started": "2022-01-09T14:16:50.090860Z"
    },
    "id": "0OIT7LmFJrGF",
    "papermill": {
     "duration": 0.633338,
     "end_time": "2022-01-09T14:57:02.230647",
     "exception": false,
     "start_time": "2022-01-09T14:57:01.597309",
     "status": "completed"
    },
    "tags": []
   },
   "outputs": [],
   "source": [
    "#Create the best topic for each complaint in terms of integer value 0,1,2,3 & 4\n",
    "\n"
   ]
  },
  {
   "cell_type": "code",
   "execution_count": 34,
   "id": "d39b1927",
   "metadata": {
    "execution": {
     "iopub.execute_input": "2022-01-09T14:57:03.496568Z",
     "iopub.status.busy": "2022-01-09T14:57:03.495809Z",
     "iopub.status.idle": "2022-01-09T14:57:03.498820Z",
     "shell.execute_reply": "2022-01-09T14:57:03.499285Z",
     "shell.execute_reply.started": "2022-01-09T14:16:50.092627Z"
    },
    "id": "peyYv-ORJrGF",
    "papermill": {
     "duration": 0.645413,
     "end_time": "2022-01-09T14:57:03.499458",
     "exception": false,
     "start_time": "2022-01-09T14:57:02.854045",
     "status": "completed"
    },
    "tags": []
   },
   "outputs": [],
   "source": [
    "#Assign the best topic to each of the cmplaints in Topic Column\n",
    "\n",
    "#df_clean['Topic'] = #write your code to assign topics to each rows."
   ]
  },
  {
   "cell_type": "code",
   "execution_count": 35,
   "id": "d1ef3503",
   "metadata": {
    "execution": {
     "iopub.execute_input": "2022-01-09T14:57:04.758453Z",
     "iopub.status.busy": "2022-01-09T14:57:04.757723Z",
     "iopub.status.idle": "2022-01-09T14:57:04.760233Z",
     "shell.execute_reply": "2022-01-09T14:57:04.759768Z",
     "shell.execute_reply.started": "2022-01-09T14:16:50.094125Z"
    },
    "id": "fLh_Gf3nJrGF",
    "papermill": {
     "duration": 0.6314,
     "end_time": "2022-01-09T14:57:04.760374",
     "exception": false,
     "start_time": "2022-01-09T14:57:04.128974",
     "status": "completed"
    },
    "tags": []
   },
   "outputs": [],
   "source": [
    "#df_clean.head()"
   ]
  },
  {
   "cell_type": "code",
   "execution_count": 36,
   "id": "7b59b086",
   "metadata": {
    "execution": {
     "iopub.execute_input": "2022-01-09T14:57:06.003286Z",
     "iopub.status.busy": "2022-01-09T14:57:06.002629Z",
     "iopub.status.idle": "2022-01-09T14:57:06.005134Z",
     "shell.execute_reply": "2022-01-09T14:57:06.005680Z",
     "shell.execute_reply.started": "2022-01-09T14:16:50.095749Z"
    },
    "id": "aQKpufSPJrGG",
    "papermill": {
     "duration": 0.626591,
     "end_time": "2022-01-09T14:57:06.005852",
     "exception": false,
     "start_time": "2022-01-09T14:57:05.379261",
     "status": "completed"
    },
    "tags": []
   },
   "outputs": [],
   "source": [
    "#Print the first 5 Complaint for each of the Topics\n",
    "#df_clean=df_clean.groupby('Topic').head(5)\n",
    "#df_clean.sort_values('Topic')"
   ]
  },
  {
   "cell_type": "markdown",
   "id": "b20067b3",
   "metadata": {
    "id": "piyLxzj6v07j",
    "papermill": {
     "duration": 0.686417,
     "end_time": "2022-01-09T14:57:07.308633",
     "exception": false,
     "start_time": "2022-01-09T14:57:06.622216",
     "status": "completed"
    },
    "tags": []
   },
   "source": [
    "#### After evaluating the mapping, if the topics assigned are correct then assign these names to the relevant topic:\n",
    "* Bank Account services\n",
    "* Credit card or prepaid card\n",
    "* Theft/Dispute Reporting\n",
    "* Mortgage/Loan\n",
    "* Others"
   ]
  },
  {
   "cell_type": "code",
   "execution_count": 37,
   "id": "b5b7bbea",
   "metadata": {
    "execution": {
     "iopub.execute_input": "2022-01-09T14:57:08.579003Z",
     "iopub.status.busy": "2022-01-09T14:57:08.578361Z",
     "iopub.status.idle": "2022-01-09T14:57:08.581184Z",
     "shell.execute_reply": "2022-01-09T14:57:08.581652Z",
     "shell.execute_reply.started": "2022-01-09T14:16:50.097285Z"
    },
    "id": "TWpwDG4RJrGG",
    "papermill": {
     "duration": 0.631498,
     "end_time": "2022-01-09T14:57:08.581823",
     "exception": false,
     "start_time": "2022-01-09T14:57:07.950325",
     "status": "completed"
    },
    "tags": []
   },
   "outputs": [],
   "source": [
    "#Create the dictionary of Topic names and Topics\n",
    "\n",
    "#Topic_names = {   }\n",
    "#Replace Topics with Topic Names\n",
    "#df_clean['Topic'] = df_clean['Topic'].map(Topic_names)"
   ]
  },
  {
   "cell_type": "code",
   "execution_count": 38,
   "id": "0b37e14c",
   "metadata": {
    "execution": {
     "iopub.execute_input": "2022-01-09T14:57:09.839564Z",
     "iopub.status.busy": "2022-01-09T14:57:09.838588Z",
     "iopub.status.idle": "2022-01-09T14:57:09.842900Z",
     "shell.execute_reply": "2022-01-09T14:57:09.843497Z",
     "shell.execute_reply.started": "2022-01-09T14:16:50.098848Z"
    },
    "id": "-2ULY5K6JrGG",
    "papermill": {
     "duration": 0.636817,
     "end_time": "2022-01-09T14:57:09.843678",
     "exception": false,
     "start_time": "2022-01-09T14:57:09.206861",
     "status": "completed"
    },
    "tags": []
   },
   "outputs": [],
   "source": [
    "#df_clean"
   ]
  },
  {
   "cell_type": "markdown",
   "id": "7738e1f6",
   "metadata": {
    "id": "7Mu0QBOcJrGH",
    "papermill": {
     "duration": 0.630156,
     "end_time": "2022-01-09T14:57:11.186615",
     "exception": false,
     "start_time": "2022-01-09T14:57:10.556459",
     "status": "completed"
    },
    "tags": []
   },
   "source": [
    "## Supervised model to predict any new complaints to the relevant Topics.\n",
    "\n",
    "You have now build the model to create the topics for each complaints.Now in the below section you will use them to classify any new complaints.\n",
    "\n",
    "Since you will be using supervised learning technique we have to convert the topic names to numbers(numpy arrays only understand numbers)"
   ]
  },
  {
   "cell_type": "code",
   "execution_count": 39,
   "id": "2a301f52",
   "metadata": {
    "execution": {
     "iopub.execute_input": "2022-01-09T14:57:12.428660Z",
     "iopub.status.busy": "2022-01-09T14:57:12.428048Z",
     "iopub.status.idle": "2022-01-09T14:57:12.430918Z",
     "shell.execute_reply": "2022-01-09T14:57:12.431429Z",
     "shell.execute_reply.started": "2022-01-09T14:16:50.100614Z"
    },
    "id": "_U8J3J8wJrGH",
    "papermill": {
     "duration": 0.629122,
     "end_time": "2022-01-09T14:57:12.431595",
     "exception": false,
     "start_time": "2022-01-09T14:57:11.802473",
     "status": "completed"
    },
    "tags": []
   },
   "outputs": [],
   "source": [
    "#Create the dictionary again of Topic names and Topics\n",
    "\n",
    "#Topic_names = {   }\n",
    "#Replace Topics with Topic Names\n",
    "#df_clean['Topic'] = df_clean['Topic'].map(Topic_names)"
   ]
  },
  {
   "cell_type": "code",
   "execution_count": 40,
   "id": "c67c20de",
   "metadata": {
    "execution": {
     "iopub.execute_input": "2022-01-09T14:57:13.674323Z",
     "iopub.status.busy": "2022-01-09T14:57:13.673619Z",
     "iopub.status.idle": "2022-01-09T14:57:13.676148Z",
     "shell.execute_reply": "2022-01-09T14:57:13.676650Z",
     "shell.execute_reply.started": "2022-01-09T14:16:50.102536Z"
    },
    "id": "BWIgJUkQJrGH",
    "papermill": {
     "duration": 0.62604,
     "end_time": "2022-01-09T14:57:13.676813",
     "exception": false,
     "start_time": "2022-01-09T14:57:13.050773",
     "status": "completed"
    },
    "tags": []
   },
   "outputs": [],
   "source": [
    "#df_clean"
   ]
  },
  {
   "cell_type": "code",
   "execution_count": 41,
   "id": "90670818",
   "metadata": {
    "execution": {
     "iopub.execute_input": "2022-01-09T14:57:14.924254Z",
     "iopub.status.busy": "2022-01-09T14:57:14.923638Z",
     "iopub.status.idle": "2022-01-09T14:57:14.925459Z",
     "shell.execute_reply": "2022-01-09T14:57:14.925914Z",
     "shell.execute_reply.started": "2022-01-09T14:16:50.104069Z"
    },
    "id": "Xx-FrbkWJrGH",
    "papermill": {
     "duration": 0.624535,
     "end_time": "2022-01-09T14:57:14.926076",
     "exception": false,
     "start_time": "2022-01-09T14:57:14.301541",
     "status": "completed"
    },
    "tags": []
   },
   "outputs": [],
   "source": [
    "#Keep the columns\"complaint_what_happened\" & \"Topic\" only in the new dataframe --> training_data\n",
    "#training_data="
   ]
  },
  {
   "cell_type": "code",
   "execution_count": 42,
   "id": "cd6152a8",
   "metadata": {
    "execution": {
     "iopub.execute_input": "2022-01-09T14:57:16.166979Z",
     "iopub.status.busy": "2022-01-09T14:57:16.166367Z",
     "iopub.status.idle": "2022-01-09T14:57:16.169254Z",
     "shell.execute_reply": "2022-01-09T14:57:16.169722Z",
     "shell.execute_reply.started": "2022-01-09T14:16:50.105782Z"
    },
    "id": "lVg2pa12JrGI",
    "papermill": {
     "duration": 0.627366,
     "end_time": "2022-01-09T14:57:16.169901",
     "exception": false,
     "start_time": "2022-01-09T14:57:15.542535",
     "status": "completed"
    },
    "tags": []
   },
   "outputs": [],
   "source": [
    "#training_data"
   ]
  },
  {
   "cell_type": "markdown",
   "id": "955c2933",
   "metadata": {
    "id": "280Vbqk-7a8M",
    "papermill": {
     "duration": 0.628605,
     "end_time": "2022-01-09T14:57:17.473308",
     "exception": false,
     "start_time": "2022-01-09T14:57:16.844703",
     "status": "completed"
    },
    "tags": []
   },
   "source": [
    "#### Apply the supervised models on the training data created. In this process, you have to do the following:\n",
    "* Create the vector counts using Count Vectoriser\n",
    "* Transform the word vecotr to tf-idf\n",
    "* Create the train & test data using the train_test_split on the tf-idf & topics\n"
   ]
  },
  {
   "cell_type": "code",
   "execution_count": 43,
   "id": "6fc34f44",
   "metadata": {
    "execution": {
     "iopub.execute_input": "2022-01-09T14:57:18.715207Z",
     "iopub.status.busy": "2022-01-09T14:57:18.714627Z",
     "iopub.status.idle": "2022-01-09T14:57:18.717440Z",
     "shell.execute_reply": "2022-01-09T14:57:18.717855Z",
     "shell.execute_reply.started": "2022-01-09T14:16:50.107544Z"
    },
    "id": "oUlQpgkzJrGI",
    "papermill": {
     "duration": 0.619042,
     "end_time": "2022-01-09T14:57:18.718019",
     "exception": false,
     "start_time": "2022-01-09T14:57:18.098977",
     "status": "completed"
    },
    "tags": []
   },
   "outputs": [],
   "source": [
    "\n",
    "#Write your code to get the Vector count\n",
    "\n",
    "\n",
    "#Write your code here to transform the word vector to tf-idf"
   ]
  },
  {
   "cell_type": "markdown",
   "id": "9e407905",
   "metadata": {
    "id": "uMU3vj6w-wqL",
    "papermill": {
     "duration": 0.626861,
     "end_time": "2022-01-09T14:57:19.965244",
     "exception": false,
     "start_time": "2022-01-09T14:57:19.338383",
     "status": "completed"
    },
    "tags": []
   },
   "source": [
    "You have to try atleast 3 models on the train & test data from these options:\n",
    "* Logistic regression\n",
    "* Decision Tree\n",
    "* Random Forest\n",
    "* Naive Bayes (optional)\n",
    "\n",
    "**Using the required evaluation metrics judge the tried models and select the ones performing the best**"
   ]
  },
  {
   "cell_type": "code",
   "execution_count": 44,
   "id": "1cc55f32",
   "metadata": {
    "execution": {
     "iopub.execute_input": "2022-01-09T14:57:21.215744Z",
     "iopub.status.busy": "2022-01-09T14:57:21.215118Z",
     "iopub.status.idle": "2022-01-09T14:57:21.218852Z",
     "shell.execute_reply": "2022-01-09T14:57:21.218365Z",
     "shell.execute_reply.started": "2022-01-09T14:16:50.108735Z"
    },
    "id": "udLHpPsZJrGI",
    "papermill": {
     "duration": 0.631455,
     "end_time": "2022-01-09T14:57:21.218992",
     "exception": false,
     "start_time": "2022-01-09T14:57:20.587537",
     "status": "completed"
    },
    "tags": []
   },
   "outputs": [],
   "source": [
    "# Write your code here to build any 3 models and evaluate them using the required metrics\n",
    "\n",
    "\n",
    "\n"
   ]
  },
  {
   "cell_type": "code",
   "execution_count": null,
   "id": "70bdaa22",
   "metadata": {
    "id": "N2OznsObJrGP",
    "papermill": {
     "duration": 0.621375,
     "end_time": "2022-01-09T14:57:22.495193",
     "exception": false,
     "start_time": "2022-01-09T14:57:21.873818",
     "status": "completed"
    },
    "tags": []
   },
   "outputs": [],
   "source": []
  }
 ],
 "metadata": {
  "kernelspec": {
   "display_name": "Python 3",
   "language": "python",
   "name": "python3"
  },
  "language_info": {
   "codemirror_mode": {
    "name": "ipython",
    "version": 3
   },
   "file_extension": ".py",
   "mimetype": "text/x-python",
   "name": "python",
   "nbconvert_exporter": "python",
   "pygments_lexer": "ipython3",
   "version": "3.7.12"
  },
  "papermill": {
   "default_parameters": {},
   "duration": 409.512481,
   "end_time": "2022-01-09T14:57:25.831400",
   "environment_variables": {},
   "exception": null,
   "input_path": "__notebook__.ipynb",
   "output_path": "__notebook__.ipynb",
   "parameters": {},
   "start_time": "2022-01-09T14:50:36.318919",
   "version": "2.3.3"
  }
 },
 "nbformat": 4,
 "nbformat_minor": 5
}
