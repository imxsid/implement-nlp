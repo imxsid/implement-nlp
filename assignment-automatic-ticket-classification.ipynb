{
 "cells": [
  {
   "cell_type": "markdown",
   "id": "57d9bbc2",
   "metadata": {
    "id": "rhR-ZUkwJrFn",
    "papermill": {
     "duration": 0.03347,
     "end_time": "2021-12-31T06:04:03.991700",
     "exception": false,
     "start_time": "2021-12-31T06:04:03.958230",
     "status": "completed"
    },
    "tags": []
   },
   "source": [
    "## Problem Statement \n",
    "\n",
    "You need to build a model that is able to classify customer complaints based on the products/services. By doing so, you can segregate these tickets into their relevant categories and, therefore, help in the quick resolution of the issue.\n",
    "\n",
    "You will be doing topic modelling on the <b>.json</b> data provided by the company. Since this data is not labelled, you need to apply NMF to analyse patterns and classify tickets into the following five clusters based on their products/services:\n",
    "\n",
    "* Credit card / Prepaid card\n",
    "\n",
    "* Bank account services\n",
    "\n",
    "* Theft/Dispute reporting\n",
    "\n",
    "* Mortgages/loans\n",
    "\n",
    "* Others \n",
    "\n",
    "\n",
    "With the help of topic modelling, you will be able to map each ticket onto its respective department/category. You can then use this data to train any supervised model such as logistic regression, decision tree or random forest. Using this trained model, you can classify any new customer complaint support ticket into its relevant department."
   ]
  },
  {
   "cell_type": "markdown",
   "id": "2e62a8d5",
   "metadata": {
    "id": "mcgXVNyaLUFS",
    "papermill": {
     "duration": 0.031251,
     "end_time": "2021-12-31T06:04:04.054685",
     "exception": false,
     "start_time": "2021-12-31T06:04:04.023434",
     "status": "completed"
    },
    "tags": []
   },
   "source": [
    "## Pipelines that needs to be performed:\n",
    "\n",
    "You need to perform the following eight major tasks to complete the assignment:\n",
    "\n",
    "1.  Data loading\n",
    "\n",
    "2. Text preprocessing\n",
    "\n",
    "3. Exploratory data analysis (EDA)\n",
    "\n",
    "4. Feature extraction\n",
    "\n",
    "5. Topic modelling \n",
    "\n",
    "6. Model building using supervised learning\n",
    "\n",
    "7. Model training and evaluation\n",
    "\n",
    "8. Model inference"
   ]
  },
  {
   "cell_type": "markdown",
   "id": "c6335d3b",
   "metadata": {
    "id": "JuLFIymAL58u",
    "papermill": {
     "duration": 0.032494,
     "end_time": "2021-12-31T06:04:04.118226",
     "exception": false,
     "start_time": "2021-12-31T06:04:04.085732",
     "status": "completed"
    },
    "tags": []
   },
   "source": [
    "## Importing the necessary libraries"
   ]
  },
  {
   "cell_type": "code",
   "execution_count": 1,
   "id": "7c1b6dfa",
   "metadata": {
    "execution": {
     "iopub.execute_input": "2021-12-31T06:04:04.195890Z",
     "iopub.status.busy": "2021-12-31T06:04:04.195062Z",
     "iopub.status.idle": "2021-12-31T06:04:15.683073Z",
     "shell.execute_reply": "2021-12-31T06:04:15.682394Z",
     "shell.execute_reply.started": "2021-12-31T06:03:22.515886Z"
    },
    "id": "O-Q9pqrcJrFr",
    "papermill": {
     "duration": 11.532638,
     "end_time": "2021-12-31T06:04:15.683280",
     "exception": false,
     "start_time": "2021-12-31T06:04:04.150642",
     "status": "completed"
    },
    "tags": []
   },
   "outputs": [],
   "source": [
    "import json \n",
    "import numpy as np\n",
    "import pandas as pd\n",
    "import re, nltk, spacy, string\n",
    "import en_core_web_sm\n",
    "nlp = en_core_web_sm.load()\n",
    "import seaborn as sns\n",
    "import matplotlib.pyplot as plt\n",
    "%matplotlib inline\n",
    "\n",
    "from plotly.offline import plot\n",
    "import plotly.graph_objects as go\n",
    "import plotly.express as px\n",
    "\n",
    "from sklearn.feature_extraction.text import CountVectorizer, TfidfVectorizer\n",
    "from pprint import pprint"
   ]
  },
  {
   "cell_type": "markdown",
   "id": "7f070df6",
   "metadata": {
    "id": "KtRLCsNVJrFt",
    "papermill": {
     "duration": 0.031186,
     "end_time": "2021-12-31T06:04:15.746078",
     "exception": false,
     "start_time": "2021-12-31T06:04:15.714892",
     "status": "completed"
    },
    "tags": []
   },
   "source": [
    "## Loading the data\n",
    "\n",
    "The data is in JSON format and we need to convert it to a dataframe."
   ]
  },
  {
   "cell_type": "code",
   "execution_count": 2,
   "id": "15476343",
   "metadata": {
    "execution": {
     "iopub.execute_input": "2021-12-31T06:04:15.828374Z",
     "iopub.status.busy": "2021-12-31T06:04:15.827428Z",
     "iopub.status.idle": "2021-12-31T06:04:19.587734Z",
     "shell.execute_reply": "2021-12-31T06:04:19.587030Z",
     "shell.execute_reply.started": "2021-12-31T06:03:23.225896Z"
    },
    "id": "puVzIf_iJrFt",
    "papermill": {
     "duration": 3.806007,
     "end_time": "2021-12-31T06:04:19.587905",
     "exception": false,
     "start_time": "2021-12-31T06:04:15.781898",
     "status": "completed"
    },
    "tags": []
   },
   "outputs": [],
   "source": [
    "# Opening JSON file \n",
    "f = open('../input/automatic-ticket-classification/complaints-2021-05-14_08_16.json')# Write the path to your data file and load it \n",
    "  \n",
    "# returns JSON object as  \n",
    "# a dictionary \n",
    "data = json.load(f)\n",
    "df=pd.json_normalize(data)"
   ]
  },
  {
   "cell_type": "markdown",
   "id": "6ea72b93",
   "metadata": {
    "id": "_xYpH-sAJrFu",
    "papermill": {
     "duration": 0.031574,
     "end_time": "2021-12-31T06:04:19.651223",
     "exception": false,
     "start_time": "2021-12-31T06:04:19.619649",
     "status": "completed"
    },
    "tags": []
   },
   "source": [
    "## Data preparation"
   ]
  },
  {
   "cell_type": "code",
   "execution_count": 3,
   "id": "e984f5d0",
   "metadata": {
    "execution": {
     "iopub.execute_input": "2021-12-31T06:04:19.718771Z",
     "iopub.status.busy": "2021-12-31T06:04:19.718031Z",
     "iopub.status.idle": "2021-12-31T06:04:19.720373Z",
     "shell.execute_reply": "2021-12-31T06:04:19.720764Z",
     "shell.execute_reply.started": "2021-12-31T06:03:26.990919Z"
    },
    "id": "Lf8ufHH5JrFu",
    "papermill": {
     "duration": 0.038107,
     "end_time": "2021-12-31T06:04:19.720921",
     "exception": false,
     "start_time": "2021-12-31T06:04:19.682814",
     "status": "completed"
    },
    "tags": []
   },
   "outputs": [],
   "source": [
    "# Inspect the dataframe to understand the given data.\n",
    "\n"
   ]
  },
  {
   "cell_type": "code",
   "execution_count": 4,
   "id": "a0bd7114",
   "metadata": {
    "execution": {
     "iopub.execute_input": "2021-12-31T06:04:19.788616Z",
     "iopub.status.busy": "2021-12-31T06:04:19.787678Z",
     "iopub.status.idle": "2021-12-31T06:04:19.790085Z",
     "shell.execute_reply": "2021-12-31T06:04:19.789541Z",
     "shell.execute_reply.started": "2021-12-31T06:03:26.997016Z"
    },
    "id": "Dwcty-wmJrFw",
    "papermill": {
     "duration": 0.037639,
     "end_time": "2021-12-31T06:04:19.790229",
     "exception": false,
     "start_time": "2021-12-31T06:04:19.752590",
     "status": "completed"
    },
    "tags": []
   },
   "outputs": [],
   "source": [
    "#print the column names\n"
   ]
  },
  {
   "cell_type": "code",
   "execution_count": 5,
   "id": "7a8184e2",
   "metadata": {
    "execution": {
     "iopub.execute_input": "2021-12-31T06:04:19.857376Z",
     "iopub.status.busy": "2021-12-31T06:04:19.856734Z",
     "iopub.status.idle": "2021-12-31T06:04:19.859299Z",
     "shell.execute_reply": "2021-12-31T06:04:19.858857Z",
     "shell.execute_reply.started": "2021-12-31T06:03:27.011449Z"
    },
    "id": "FYCtKXD1JrFw",
    "papermill": {
     "duration": 0.03753,
     "end_time": "2021-12-31T06:04:19.859426",
     "exception": false,
     "start_time": "2021-12-31T06:04:19.821896",
     "status": "completed"
    },
    "tags": []
   },
   "outputs": [],
   "source": [
    "#Assign new column names\n"
   ]
  },
  {
   "cell_type": "code",
   "execution_count": 6,
   "id": "5bfccd56",
   "metadata": {
    "execution": {
     "iopub.execute_input": "2021-12-31T06:04:19.927172Z",
     "iopub.status.busy": "2021-12-31T06:04:19.926549Z",
     "iopub.status.idle": "2021-12-31T06:04:19.929206Z",
     "shell.execute_reply": "2021-12-31T06:04:19.928764Z",
     "shell.execute_reply.started": "2021-12-31T06:03:27.026155Z"
    },
    "id": "grQUPFL5JrFx",
    "papermill": {
     "duration": 0.038143,
     "end_time": "2021-12-31T06:04:19.929334",
     "exception": false,
     "start_time": "2021-12-31T06:04:19.891191",
     "status": "completed"
    },
    "tags": []
   },
   "outputs": [],
   "source": [
    "#Assign nan in place of blanks in the complaints column\n"
   ]
  },
  {
   "cell_type": "code",
   "execution_count": 7,
   "id": "7396fd9f",
   "metadata": {
    "execution": {
     "iopub.execute_input": "2021-12-31T06:04:19.996593Z",
     "iopub.status.busy": "2021-12-31T06:04:19.996014Z",
     "iopub.status.idle": "2021-12-31T06:04:19.998633Z",
     "shell.execute_reply": "2021-12-31T06:04:19.999074Z",
     "shell.execute_reply.started": "2021-12-31T06:03:27.040348Z"
    },
    "id": "Jfxd8VSmJrFy",
    "papermill": {
     "duration": 0.037792,
     "end_time": "2021-12-31T06:04:19.999239",
     "exception": false,
     "start_time": "2021-12-31T06:04:19.961447",
     "status": "completed"
    },
    "tags": []
   },
   "outputs": [],
   "source": [
    "#Remove all rows where complaints column is nan\n"
   ]
  },
  {
   "cell_type": "markdown",
   "id": "2fa17859",
   "metadata": {
    "id": "L944HZpsJrFy",
    "papermill": {
     "duration": 0.031124,
     "end_time": "2021-12-31T06:04:20.061875",
     "exception": false,
     "start_time": "2021-12-31T06:04:20.030751",
     "status": "completed"
    },
    "tags": []
   },
   "source": [
    "## Prepare the text for topic modeling\n",
    "\n",
    "Once you have removed all the blank complaints, you need to:\n",
    "\n",
    "* Make the text lowercase\n",
    "* Remove text in square brackets\n",
    "* Remove punctuation\n",
    "* Remove words containing numbers\n",
    "\n",
    "\n",
    "Once you have done these cleaning operations you need to perform the following:\n",
    "* Lemmatize the texts\n",
    "* Use POS tags to get relevant words from the texts.\n"
   ]
  },
  {
   "cell_type": "code",
   "execution_count": 8,
   "id": "ac84ad27",
   "metadata": {
    "execution": {
     "iopub.execute_input": "2021-12-31T06:04:20.129008Z",
     "iopub.status.busy": "2021-12-31T06:04:20.128440Z",
     "iopub.status.idle": "2021-12-31T06:04:20.131015Z",
     "shell.execute_reply": "2021-12-31T06:04:20.131501Z",
     "shell.execute_reply.started": "2021-12-31T06:03:27.055315Z"
    },
    "id": "qm7SjjSkJrFz",
    "papermill": {
     "duration": 0.038371,
     "end_time": "2021-12-31T06:04:20.131655",
     "exception": false,
     "start_time": "2021-12-31T06:04:20.093284",
     "status": "completed"
    },
    "tags": []
   },
   "outputs": [],
   "source": [
    "# Write your function here to clean the text and remove all the unnecessary elements.\n"
   ]
  },
  {
   "cell_type": "code",
   "execution_count": 9,
   "id": "2bc9193b",
   "metadata": {
    "execution": {
     "iopub.execute_input": "2021-12-31T06:04:20.197702Z",
     "iopub.status.busy": "2021-12-31T06:04:20.197160Z",
     "iopub.status.idle": "2021-12-31T06:04:20.199797Z",
     "shell.execute_reply": "2021-12-31T06:04:20.200334Z",
     "shell.execute_reply.started": "2021-12-31T06:03:27.069713Z"
    },
    "id": "zgOu8t8HJrFz",
    "papermill": {
     "duration": 0.037187,
     "end_time": "2021-12-31T06:04:20.200488",
     "exception": false,
     "start_time": "2021-12-31T06:04:20.163301",
     "status": "completed"
    },
    "tags": []
   },
   "outputs": [],
   "source": [
    "#Write your function to Lemmatize the texts\n"
   ]
  },
  {
   "cell_type": "code",
   "execution_count": 10,
   "id": "5b43f12c",
   "metadata": {
    "execution": {
     "iopub.execute_input": "2021-12-31T06:04:20.267105Z",
     "iopub.status.busy": "2021-12-31T06:04:20.266544Z",
     "iopub.status.idle": "2021-12-31T06:04:20.268868Z",
     "shell.execute_reply": "2021-12-31T06:04:20.268423Z",
     "shell.execute_reply.started": "2021-12-31T06:03:27.086094Z"
    },
    "id": "uXnN7aa_JrF0",
    "papermill": {
     "duration": 0.037231,
     "end_time": "2021-12-31T06:04:20.268992",
     "exception": false,
     "start_time": "2021-12-31T06:04:20.231761",
     "status": "completed"
    },
    "tags": []
   },
   "outputs": [],
   "source": [
    "#Create a dataframe('df_clean') that will have only the complaints and the lemmatized complaints \n"
   ]
  },
  {
   "cell_type": "code",
   "execution_count": 11,
   "id": "e2a58c94",
   "metadata": {
    "execution": {
     "iopub.execute_input": "2021-12-31T06:04:20.334913Z",
     "iopub.status.busy": "2021-12-31T06:04:20.334371Z",
     "iopub.status.idle": "2021-12-31T06:04:20.337059Z",
     "shell.execute_reply": "2021-12-31T06:04:20.337492Z",
     "shell.execute_reply.started": "2021-12-31T06:03:27.098965Z"
    },
    "id": "nOiDVvEIJrF0",
    "papermill": {
     "duration": 0.037097,
     "end_time": "2021-12-31T06:04:20.337637",
     "exception": false,
     "start_time": "2021-12-31T06:04:20.300540",
     "status": "completed"
    },
    "tags": []
   },
   "outputs": [],
   "source": [
    "# Uncomment df_clean"
   ]
  },
  {
   "cell_type": "code",
   "execution_count": 12,
   "id": "4e21deb4",
   "metadata": {
    "execution": {
     "iopub.execute_input": "2021-12-31T06:04:20.403820Z",
     "iopub.status.busy": "2021-12-31T06:04:20.403051Z",
     "iopub.status.idle": "2021-12-31T06:04:20.406157Z",
     "shell.execute_reply": "2021-12-31T06:04:20.406574Z",
     "shell.execute_reply.started": "2021-12-31T06:03:27.113323Z"
    },
    "id": "Kk7fc4DuJrF1",
    "papermill": {
     "duration": 0.037336,
     "end_time": "2021-12-31T06:04:20.406725",
     "exception": false,
     "start_time": "2021-12-31T06:04:20.369389",
     "status": "completed"
    },
    "tags": []
   },
   "outputs": [],
   "source": [
    "#Write your function to extract the POS tags \n",
    "\n"
   ]
  },
  {
   "cell_type": "code",
   "execution_count": 13,
   "id": "8864faaf",
   "metadata": {
    "execution": {
     "iopub.execute_input": "2021-12-31T06:04:20.472755Z",
     "iopub.status.busy": "2021-12-31T06:04:20.472173Z",
     "iopub.status.idle": "2021-12-31T06:04:20.474495Z",
     "shell.execute_reply": "2021-12-31T06:04:20.474904Z",
     "shell.execute_reply.started": "2021-12-31T06:03:27.126033Z"
    },
    "id": "AjxfchvFJrF2",
    "papermill": {
     "duration": 0.036743,
     "end_time": "2021-12-31T06:04:20.475048",
     "exception": false,
     "start_time": "2021-12-31T06:04:20.438305",
     "status": "completed"
    },
    "tags": []
   },
   "outputs": [],
   "source": [
    "#The clean dataframe should now contain the raw complaint, lemmatized complaint and the complaint after removing POS tags.\n",
    "# Uncomment df_clean"
   ]
  },
  {
   "cell_type": "markdown",
   "id": "4473d0ad",
   "metadata": {
    "id": "_7Un1AElJrF2",
    "papermill": {
     "duration": 0.030794,
     "end_time": "2021-12-31T06:04:20.537003",
     "exception": false,
     "start_time": "2021-12-31T06:04:20.506209",
     "status": "completed"
    },
    "tags": []
   },
   "source": [
    "## Exploratory data analysis to get familiar with the data.\n",
    "\n",
    "Write the code in this task to perform the following:\n",
    "\n",
    "*   Visualise the data according to the 'Complaint' character length\n",
    "*   Using a word cloud find the top 40 words by frequency among all the articles after processing the text\n",
    "*   Find the top unigrams,bigrams and trigrams by frequency among all the complaints after processing the text. ‘\n",
    "\n",
    "\n"
   ]
  },
  {
   "cell_type": "code",
   "execution_count": 14,
   "id": "fd48c7f7",
   "metadata": {
    "execution": {
     "iopub.execute_input": "2021-12-31T06:04:20.602451Z",
     "iopub.status.busy": "2021-12-31T06:04:20.601907Z",
     "iopub.status.idle": "2021-12-31T06:04:20.604963Z",
     "shell.execute_reply": "2021-12-31T06:04:20.605399Z",
     "shell.execute_reply.started": "2021-12-31T06:03:27.141698Z"
    },
    "id": "q-zaqJF6JrF2",
    "papermill": {
     "duration": 0.037297,
     "end_time": "2021-12-31T06:04:20.605550",
     "exception": false,
     "start_time": "2021-12-31T06:04:20.568253",
     "status": "completed"
    },
    "tags": []
   },
   "outputs": [],
   "source": [
    "# Write your code here to visualise the data according to the 'Complaint' character length"
   ]
  },
  {
   "cell_type": "markdown",
   "id": "c3efc675",
   "metadata": {
    "id": "T9jD_6SeJrF3",
    "papermill": {
     "duration": 0.031109,
     "end_time": "2021-12-31T06:04:20.667984",
     "exception": false,
     "start_time": "2021-12-31T06:04:20.636875",
     "status": "completed"
    },
    "tags": []
   },
   "source": [
    "#### Find the top 40 words by frequency among all the articles after processing the text."
   ]
  },
  {
   "cell_type": "code",
   "execution_count": 15,
   "id": "35a8f92c",
   "metadata": {
    "execution": {
     "iopub.execute_input": "2021-12-31T06:04:20.733841Z",
     "iopub.status.busy": "2021-12-31T06:04:20.733294Z",
     "iopub.status.idle": "2021-12-31T06:04:20.736385Z",
     "shell.execute_reply": "2021-12-31T06:04:20.736874Z",
     "shell.execute_reply.started": "2021-12-31T06:03:27.154372Z"
    },
    "id": "QcfdvtfZJrF3",
    "papermill": {
     "duration": 0.037729,
     "end_time": "2021-12-31T06:04:20.737026",
     "exception": false,
     "start_time": "2021-12-31T06:04:20.699297",
     "status": "completed"
    },
    "tags": []
   },
   "outputs": [],
   "source": [
    "#Using a word cloud find the top 40 words by frequency among all the articles after processing the text\n"
   ]
  },
  {
   "cell_type": "code",
   "execution_count": 16,
   "id": "c6e74bdc",
   "metadata": {
    "execution": {
     "iopub.execute_input": "2021-12-31T06:04:20.802577Z",
     "iopub.status.busy": "2021-12-31T06:04:20.802034Z",
     "iopub.status.idle": "2021-12-31T06:04:20.804519Z",
     "shell.execute_reply": "2021-12-31T06:04:20.805024Z",
     "shell.execute_reply.started": "2021-12-31T06:03:27.169369Z"
    },
    "id": "OkSmc3UaJrF4",
    "papermill": {
     "duration": 0.036762,
     "end_time": "2021-12-31T06:04:20.805194",
     "exception": false,
     "start_time": "2021-12-31T06:04:20.768432",
     "status": "completed"
    },
    "tags": []
   },
   "outputs": [],
   "source": [
    "#Removing -PRON- from the text corpus\n",
    "#df_clean['Complaint_clean'] = df_clean['complaint_POS_removed'].str.replace('-PRON-', '')"
   ]
  },
  {
   "cell_type": "markdown",
   "id": "6bc96d1b",
   "metadata": {
    "id": "5DfCSbbmJrF4",
    "papermill": {
     "duration": 0.031149,
     "end_time": "2021-12-31T06:04:20.868227",
     "exception": false,
     "start_time": "2021-12-31T06:04:20.837078",
     "status": "completed"
    },
    "tags": []
   },
   "source": [
    "#### Find the top unigrams,bigrams and trigrams by frequency among all the complaints after processing the text."
   ]
  },
  {
   "cell_type": "code",
   "execution_count": 17,
   "id": "1d25b1c4",
   "metadata": {
    "execution": {
     "iopub.execute_input": "2021-12-31T06:04:20.933317Z",
     "iopub.status.busy": "2021-12-31T06:04:20.932762Z",
     "iopub.status.idle": "2021-12-31T06:04:20.935435Z",
     "shell.execute_reply": "2021-12-31T06:04:20.935944Z",
     "shell.execute_reply.started": "2021-12-31T06:03:27.182013Z"
    },
    "id": "5mbk5DS5JrF4",
    "papermill": {
     "duration": 0.036654,
     "end_time": "2021-12-31T06:04:20.936091",
     "exception": false,
     "start_time": "2021-12-31T06:04:20.899437",
     "status": "completed"
    },
    "tags": []
   },
   "outputs": [],
   "source": [
    "#Write your code here to find the top 30 unigram frequency among the complaints in the cleaned datafram(df_clean). \n"
   ]
  },
  {
   "cell_type": "code",
   "execution_count": 18,
   "id": "ebff39f3",
   "metadata": {
    "execution": {
     "iopub.execute_input": "2021-12-31T06:04:21.001545Z",
     "iopub.status.busy": "2021-12-31T06:04:21.000989Z",
     "iopub.status.idle": "2021-12-31T06:04:21.003652Z",
     "shell.execute_reply": "2021-12-31T06:04:21.004183Z",
     "shell.execute_reply.started": "2021-12-31T06:03:27.197434Z"
    },
    "id": "YX7fedm1JrF8",
    "papermill": {
     "duration": 0.036654,
     "end_time": "2021-12-31T06:04:21.004335",
     "exception": false,
     "start_time": "2021-12-31T06:04:20.967681",
     "status": "completed"
    },
    "tags": []
   },
   "outputs": [],
   "source": [
    "#Print the top 10 words in the unigram frequency\n"
   ]
  },
  {
   "cell_type": "code",
   "execution_count": 19,
   "id": "29cb57cd",
   "metadata": {
    "execution": {
     "iopub.execute_input": "2021-12-31T06:04:21.069754Z",
     "iopub.status.busy": "2021-12-31T06:04:21.069216Z",
     "iopub.status.idle": "2021-12-31T06:04:21.071794Z",
     "shell.execute_reply": "2021-12-31T06:04:21.072270Z",
     "shell.execute_reply.started": "2021-12-31T06:03:27.210036Z"
    },
    "id": "aV7kD7w8JrF8",
    "papermill": {
     "duration": 0.036897,
     "end_time": "2021-12-31T06:04:21.072426",
     "exception": false,
     "start_time": "2021-12-31T06:04:21.035529",
     "status": "completed"
    },
    "tags": []
   },
   "outputs": [],
   "source": [
    "#Write your code here to find the top 30 bigram frequency among the complaints in the cleaned datafram(df_clean). \n"
   ]
  },
  {
   "cell_type": "code",
   "execution_count": 20,
   "id": "34395a24",
   "metadata": {
    "execution": {
     "iopub.execute_input": "2021-12-31T06:04:21.138911Z",
     "iopub.status.busy": "2021-12-31T06:04:21.138356Z",
     "iopub.status.idle": "2021-12-31T06:04:21.141338Z",
     "shell.execute_reply": "2021-12-31T06:04:21.141762Z",
     "shell.execute_reply.started": "2021-12-31T06:03:27.223172Z"
    },
    "id": "NPnMNIpyJrF9",
    "papermill": {
     "duration": 0.037461,
     "end_time": "2021-12-31T06:04:21.141928",
     "exception": false,
     "start_time": "2021-12-31T06:04:21.104467",
     "status": "completed"
    },
    "tags": []
   },
   "outputs": [],
   "source": [
    "#Print the top 10 words in the bigram frequency"
   ]
  },
  {
   "cell_type": "code",
   "execution_count": 21,
   "id": "59c79777",
   "metadata": {
    "execution": {
     "iopub.execute_input": "2021-12-31T06:04:21.208394Z",
     "iopub.status.busy": "2021-12-31T06:04:21.207697Z",
     "iopub.status.idle": "2021-12-31T06:04:21.210377Z",
     "shell.execute_reply": "2021-12-31T06:04:21.210788Z",
     "shell.execute_reply.started": "2021-12-31T06:03:27.239060Z"
    },
    "id": "Xkh7vtbtJrF-",
    "papermill": {
     "duration": 0.037551,
     "end_time": "2021-12-31T06:04:21.210969",
     "exception": false,
     "start_time": "2021-12-31T06:04:21.173418",
     "status": "completed"
    },
    "tags": []
   },
   "outputs": [],
   "source": [
    "#Write your code here to find the top 30 trigram frequency among the complaints in the cleaned datafram(df_clean). \n"
   ]
  },
  {
   "cell_type": "code",
   "execution_count": 22,
   "id": "7ba2b5eb",
   "metadata": {
    "execution": {
     "iopub.execute_input": "2021-12-31T06:04:21.277358Z",
     "iopub.status.busy": "2021-12-31T06:04:21.276718Z",
     "iopub.status.idle": "2021-12-31T06:04:21.279123Z",
     "shell.execute_reply": "2021-12-31T06:04:21.279539Z",
     "shell.execute_reply.started": "2021-12-31T06:03:27.251717Z"
    },
    "id": "REcVxNfvJrF-",
    "papermill": {
     "duration": 0.037007,
     "end_time": "2021-12-31T06:04:21.279701",
     "exception": false,
     "start_time": "2021-12-31T06:04:21.242694",
     "status": "completed"
    },
    "tags": []
   },
   "outputs": [],
   "source": [
    "#Print the top 10 words in the trigram frequency"
   ]
  },
  {
   "cell_type": "markdown",
   "id": "d50c0d13",
   "metadata": {
    "id": "yUXzFji0JrF_",
    "papermill": {
     "duration": 0.031438,
     "end_time": "2021-12-31T06:04:21.343496",
     "exception": false,
     "start_time": "2021-12-31T06:04:21.312058",
     "status": "completed"
    },
    "tags": []
   },
   "source": [
    "## The personal details of customer has been masked in the dataset with xxxx. Let's remove the masked text as this will be of no use for our analysis"
   ]
  },
  {
   "cell_type": "code",
   "execution_count": 23,
   "id": "f6c4bf63",
   "metadata": {
    "execution": {
     "iopub.execute_input": "2021-12-31T06:04:21.410697Z",
     "iopub.status.busy": "2021-12-31T06:04:21.409585Z",
     "iopub.status.idle": "2021-12-31T06:04:21.413511Z",
     "shell.execute_reply": "2021-12-31T06:04:21.413948Z",
     "shell.execute_reply.started": "2021-12-31T06:03:27.263212Z"
    },
    "id": "wKda-a_IJrF_",
    "papermill": {
     "duration": 0.038898,
     "end_time": "2021-12-31T06:04:21.414100",
     "exception": false,
     "start_time": "2021-12-31T06:04:21.375202",
     "status": "completed"
    },
    "tags": []
   },
   "outputs": [],
   "source": [
    "#df_clean['Complaint_clean'] = df_clean['Complaint_clean'].str.replace('xxxx','')"
   ]
  },
  {
   "cell_type": "code",
   "execution_count": 24,
   "id": "0a9d7bba",
   "metadata": {
    "execution": {
     "iopub.execute_input": "2021-12-31T06:04:21.481536Z",
     "iopub.status.busy": "2021-12-31T06:04:21.480948Z",
     "iopub.status.idle": "2021-12-31T06:04:21.483194Z",
     "shell.execute_reply": "2021-12-31T06:04:21.483669Z",
     "shell.execute_reply.started": "2021-12-31T06:03:27.276879Z"
    },
    "id": "9UIFk8fQJrF_",
    "papermill": {
     "duration": 0.037998,
     "end_time": "2021-12-31T06:04:21.483832",
     "exception": false,
     "start_time": "2021-12-31T06:04:21.445834",
     "status": "completed"
    },
    "tags": []
   },
   "outputs": [],
   "source": [
    "#All masked texts has been removed\n",
    "#df_clean"
   ]
  },
  {
   "cell_type": "markdown",
   "id": "fe5a5ed1",
   "metadata": {
    "id": "k-I0k0QtJrGA",
    "papermill": {
     "duration": 0.031384,
     "end_time": "2021-12-31T06:04:21.546733",
     "exception": false,
     "start_time": "2021-12-31T06:04:21.515349",
     "status": "completed"
    },
    "tags": []
   },
   "source": [
    "## Feature Extraction\n",
    "Convert the raw texts to a matrix of TF-IDF features\n",
    "\n",
    "**max_df** is used for removing terms that appear too frequently, also known as \"corpus-specific stop words\"\n",
    "max_df = 0.95 means \"ignore terms that appear in more than 95% of the complaints\"\n",
    "\n",
    "**min_df** is used for removing terms that appear too infrequently\n",
    "min_df = 2 means \"ignore terms that appear in less than 2 complaints\""
   ]
  },
  {
   "cell_type": "code",
   "execution_count": 25,
   "id": "f89f6a68",
   "metadata": {
    "execution": {
     "iopub.execute_input": "2021-12-31T06:04:21.614391Z",
     "iopub.status.busy": "2021-12-31T06:04:21.613737Z",
     "iopub.status.idle": "2021-12-31T06:04:21.615992Z",
     "shell.execute_reply": "2021-12-31T06:04:21.616439Z",
     "shell.execute_reply.started": "2021-12-31T06:03:27.288942Z"
    },
    "id": "Y8fGwaCPJrGA",
    "papermill": {
     "duration": 0.037485,
     "end_time": "2021-12-31T06:04:21.616594",
     "exception": false,
     "start_time": "2021-12-31T06:04:21.579109",
     "status": "completed"
    },
    "tags": []
   },
   "outputs": [],
   "source": [
    "#Write your code here to initialise the TfidfVectorizer \n",
    "\n"
   ]
  },
  {
   "cell_type": "markdown",
   "id": "3bfa9f38",
   "metadata": {
    "id": "yYzD85nTJrGA",
    "papermill": {
     "duration": 0.031446,
     "end_time": "2021-12-31T06:04:21.679565",
     "exception": false,
     "start_time": "2021-12-31T06:04:21.648119",
     "status": "completed"
    },
    "tags": []
   },
   "source": [
    "#### Create a document term matrix using fit_transform\n",
    "\n",
    "The contents of a document term matrix are tuples of (complaint_id,token_id) tf-idf score:\n",
    "The tuples that are not there have a tf-idf score of 0"
   ]
  },
  {
   "cell_type": "code",
   "execution_count": 26,
   "id": "2230c024",
   "metadata": {
    "execution": {
     "iopub.execute_input": "2021-12-31T06:04:21.745704Z",
     "iopub.status.busy": "2021-12-31T06:04:21.745153Z",
     "iopub.status.idle": "2021-12-31T06:04:21.747531Z",
     "shell.execute_reply": "2021-12-31T06:04:21.747962Z",
     "shell.execute_reply.started": "2021-12-31T06:03:27.300590Z"
    },
    "id": "ffzdDpp_JrGB",
    "papermill": {
     "duration": 0.037144,
     "end_time": "2021-12-31T06:04:21.748112",
     "exception": false,
     "start_time": "2021-12-31T06:04:21.710968",
     "status": "completed"
    },
    "tags": []
   },
   "outputs": [],
   "source": [
    "#Write your code here to create the Document Term Matrix by transforming the complaints column present in df_clean.\n"
   ]
  },
  {
   "cell_type": "markdown",
   "id": "02e2964d",
   "metadata": {
    "id": "7Q9lwvNEJrGB",
    "papermill": {
     "duration": 0.031361,
     "end_time": "2021-12-31T06:04:21.812197",
     "exception": false,
     "start_time": "2021-12-31T06:04:21.780836",
     "status": "completed"
    },
    "tags": []
   },
   "source": [
    "## Topic Modelling using NMF\n",
    "\n",
    "Non-Negative Matrix Factorization (NMF) is an unsupervised technique so there are no labeling of topics that the model will be trained on. The way it works is that, NMF decomposes (or factorizes) high-dimensional vectors into a lower-dimensional representation. These lower-dimensional vectors are non-negative which also means their coefficients are non-negative.\n",
    "\n",
    "In this task you have to perform the following:\n",
    "\n",
    "* Find the best number of clusters \n",
    "* Apply the best number to create word clusters\n",
    "* Inspect & validate the correction of each cluster wrt the complaints \n",
    "* Correct the labels if needed \n",
    "* Map the clusters to topics/cluster names"
   ]
  },
  {
   "cell_type": "code",
   "execution_count": 27,
   "id": "3ecb89ef",
   "metadata": {
    "execution": {
     "iopub.execute_input": "2021-12-31T06:04:21.879366Z",
     "iopub.status.busy": "2021-12-31T06:04:21.877388Z",
     "iopub.status.idle": "2021-12-31T06:04:21.904999Z",
     "shell.execute_reply": "2021-12-31T06:04:21.905496Z",
     "shell.execute_reply.started": "2021-12-31T06:03:27.313055Z"
    },
    "id": "amLT4omWJrGB",
    "papermill": {
     "duration": 0.061911,
     "end_time": "2021-12-31T06:04:21.905675",
     "exception": false,
     "start_time": "2021-12-31T06:04:21.843764",
     "status": "completed"
    },
    "tags": []
   },
   "outputs": [],
   "source": [
    "from sklearn.decomposition import NMF"
   ]
  },
  {
   "cell_type": "markdown",
   "id": "e8a96232",
   "metadata": {
    "id": "0wYR1xUTJrGD",
    "papermill": {
     "duration": 0.03227,
     "end_time": "2021-12-31T06:04:21.971287",
     "exception": false,
     "start_time": "2021-12-31T06:04:21.939017",
     "status": "completed"
    },
    "tags": []
   },
   "source": [
    "## Manual Topic Modeling\n",
    "You need to do take the trial & error approach to find the best num of topics for your NMF model.\n",
    "\n",
    "The only parameter that is required is the number of components i.e. the number of topics we want. This is the most crucial step in the whole topic modeling process and will greatly affect how good your final topics are."
   ]
  },
  {
   "cell_type": "code",
   "execution_count": 28,
   "id": "883ae01b",
   "metadata": {
    "execution": {
     "iopub.execute_input": "2021-12-31T06:04:22.037578Z",
     "iopub.status.busy": "2021-12-31T06:04:22.036965Z",
     "iopub.status.idle": "2021-12-31T06:04:22.039732Z",
     "shell.execute_reply": "2021-12-31T06:04:22.040270Z",
     "shell.execute_reply.started": "2021-12-31T06:03:27.359692Z"
    },
    "id": "sgd2A6bhJrGD",
    "papermill": {
     "duration": 0.037282,
     "end_time": "2021-12-31T06:04:22.040430",
     "exception": false,
     "start_time": "2021-12-31T06:04:22.003148",
     "status": "completed"
    },
    "tags": []
   },
   "outputs": [],
   "source": [
    "#Load your nmf_model with the n_components i.e 5\n",
    "#num_topics = #write the value you want to test out\n",
    "\n",
    "#keep the random_state =40\n",
    "#nmf_model = #write your code here"
   ]
  },
  {
   "cell_type": "code",
   "execution_count": 29,
   "id": "48ddc44e",
   "metadata": {
    "execution": {
     "iopub.execute_input": "2021-12-31T06:04:22.108187Z",
     "iopub.status.busy": "2021-12-31T06:04:22.107623Z",
     "iopub.status.idle": "2021-12-31T06:04:22.110523Z",
     "shell.execute_reply": "2021-12-31T06:04:22.110996Z",
     "shell.execute_reply.started": "2021-12-31T06:03:27.365638Z"
    },
    "id": "VPMDYbt_JrGE",
    "papermill": {
     "duration": 0.03756,
     "end_time": "2021-12-31T06:04:22.111177",
     "exception": false,
     "start_time": "2021-12-31T06:04:22.073617",
     "status": "completed"
    },
    "tags": []
   },
   "outputs": [],
   "source": [
    "#nmf_model.fit(dtm)\n",
    "#len(tfidf.get_feature_names())"
   ]
  },
  {
   "cell_type": "code",
   "execution_count": 30,
   "id": "20e9dc9e",
   "metadata": {
    "execution": {
     "iopub.execute_input": "2021-12-31T06:04:22.176884Z",
     "iopub.status.busy": "2021-12-31T06:04:22.176344Z",
     "iopub.status.idle": "2021-12-31T06:04:22.179243Z",
     "shell.execute_reply": "2021-12-31T06:04:22.179738Z",
     "shell.execute_reply.started": "2021-12-31T06:03:27.378624Z"
    },
    "id": "16kRfat5JrGE",
    "papermill": {
     "duration": 0.037179,
     "end_time": "2021-12-31T06:04:22.179888",
     "exception": false,
     "start_time": "2021-12-31T06:04:22.142709",
     "status": "completed"
    },
    "tags": []
   },
   "outputs": [],
   "source": [
    "#Print the Top15 words for each of the topics\n"
   ]
  },
  {
   "cell_type": "code",
   "execution_count": 31,
   "id": "f8d8678e",
   "metadata": {
    "execution": {
     "iopub.execute_input": "2021-12-31T06:04:22.248466Z",
     "iopub.status.busy": "2021-12-31T06:04:22.247921Z",
     "iopub.status.idle": "2021-12-31T06:04:22.250325Z",
     "shell.execute_reply": "2021-12-31T06:04:22.250831Z",
     "shell.execute_reply.started": "2021-12-31T06:03:27.392884Z"
    },
    "id": "0OIT7LmFJrGF",
    "papermill": {
     "duration": 0.038756,
     "end_time": "2021-12-31T06:04:22.250980",
     "exception": false,
     "start_time": "2021-12-31T06:04:22.212224",
     "status": "completed"
    },
    "tags": []
   },
   "outputs": [],
   "source": [
    "#Create the best topic for each complaint in terms of integer value 0,1,2,3 & 4\n",
    "\n"
   ]
  },
  {
   "cell_type": "code",
   "execution_count": 32,
   "id": "ecc52d47",
   "metadata": {
    "execution": {
     "iopub.execute_input": "2021-12-31T06:04:22.316546Z",
     "iopub.status.busy": "2021-12-31T06:04:22.315992Z",
     "iopub.status.idle": "2021-12-31T06:04:22.318387Z",
     "shell.execute_reply": "2021-12-31T06:04:22.318883Z",
     "shell.execute_reply.started": "2021-12-31T06:03:27.406359Z"
    },
    "id": "peyYv-ORJrGF",
    "papermill": {
     "duration": 0.036465,
     "end_time": "2021-12-31T06:04:22.319031",
     "exception": false,
     "start_time": "2021-12-31T06:04:22.282566",
     "status": "completed"
    },
    "tags": []
   },
   "outputs": [],
   "source": [
    "#Assign the best topic to each of the cmplaints in Topic Column\n",
    "\n",
    "#df_clean['Topic'] = #write your code to assign topics to each rows."
   ]
  },
  {
   "cell_type": "code",
   "execution_count": 33,
   "id": "b77ec064",
   "metadata": {
    "execution": {
     "iopub.execute_input": "2021-12-31T06:04:22.384560Z",
     "iopub.status.busy": "2021-12-31T06:04:22.384011Z",
     "iopub.status.idle": "2021-12-31T06:04:22.386366Z",
     "shell.execute_reply": "2021-12-31T06:04:22.386773Z",
     "shell.execute_reply.started": "2021-12-31T06:03:27.421716Z"
    },
    "id": "fLh_Gf3nJrGF",
    "papermill": {
     "duration": 0.036559,
     "end_time": "2021-12-31T06:04:22.386940",
     "exception": false,
     "start_time": "2021-12-31T06:04:22.350381",
     "status": "completed"
    },
    "tags": []
   },
   "outputs": [],
   "source": [
    "#df_clean.head()"
   ]
  },
  {
   "cell_type": "code",
   "execution_count": 34,
   "id": "63579d36",
   "metadata": {
    "execution": {
     "iopub.execute_input": "2021-12-31T06:04:22.453196Z",
     "iopub.status.busy": "2021-12-31T06:04:22.452279Z",
     "iopub.status.idle": "2021-12-31T06:04:22.455350Z",
     "shell.execute_reply": "2021-12-31T06:04:22.455850Z",
     "shell.execute_reply.started": "2021-12-31T06:03:27.435009Z"
    },
    "id": "aQKpufSPJrGG",
    "papermill": {
     "duration": 0.037584,
     "end_time": "2021-12-31T06:04:22.455999",
     "exception": false,
     "start_time": "2021-12-31T06:04:22.418415",
     "status": "completed"
    },
    "tags": []
   },
   "outputs": [],
   "source": [
    "#Print the first 5 Complaint for each of the Topics\n",
    "#df_clean=df_clean.groupby('Topic').head(5)\n",
    "#df_clean.sort_values('Topic')"
   ]
  },
  {
   "cell_type": "markdown",
   "id": "6af6c19f",
   "metadata": {
    "id": "piyLxzj6v07j",
    "papermill": {
     "duration": 0.031177,
     "end_time": "2021-12-31T06:04:22.518651",
     "exception": false,
     "start_time": "2021-12-31T06:04:22.487474",
     "status": "completed"
    },
    "tags": []
   },
   "source": [
    "#### After evaluating the mapping, if the topics assigned are correct then assign these names to the relevant topic:\n",
    "* Bank Account services\n",
    "* Credit card or prepaid card\n",
    "* Theft/Dispute Reporting\n",
    "* Mortgage/Loan\n",
    "* Others"
   ]
  },
  {
   "cell_type": "code",
   "execution_count": 35,
   "id": "ccd00bb5",
   "metadata": {
    "execution": {
     "iopub.execute_input": "2021-12-31T06:04:22.586042Z",
     "iopub.status.busy": "2021-12-31T06:04:22.585061Z",
     "iopub.status.idle": "2021-12-31T06:04:22.586931Z",
     "shell.execute_reply": "2021-12-31T06:04:22.587474Z",
     "shell.execute_reply.started": "2021-12-31T06:03:27.447671Z"
    },
    "id": "TWpwDG4RJrGG",
    "papermill": {
     "duration": 0.037432,
     "end_time": "2021-12-31T06:04:22.587630",
     "exception": false,
     "start_time": "2021-12-31T06:04:22.550198",
     "status": "completed"
    },
    "tags": []
   },
   "outputs": [],
   "source": [
    "#Create the dictionary of Topic names and Topics\n",
    "\n",
    "#Topic_names = {   }\n",
    "#Replace Topics with Topic Names\n",
    "#df_clean['Topic'] = df_clean['Topic'].map(Topic_names)"
   ]
  },
  {
   "cell_type": "code",
   "execution_count": 36,
   "id": "5eac40b3",
   "metadata": {
    "execution": {
     "iopub.execute_input": "2021-12-31T06:04:22.654057Z",
     "iopub.status.busy": "2021-12-31T06:04:22.653115Z",
     "iopub.status.idle": "2021-12-31T06:04:22.656236Z",
     "shell.execute_reply": "2021-12-31T06:04:22.656746Z",
     "shell.execute_reply.started": "2021-12-31T06:03:27.458419Z"
    },
    "id": "-2ULY5K6JrGG",
    "papermill": {
     "duration": 0.037971,
     "end_time": "2021-12-31T06:04:22.656912",
     "exception": false,
     "start_time": "2021-12-31T06:04:22.618941",
     "status": "completed"
    },
    "tags": []
   },
   "outputs": [],
   "source": [
    "#df_clean"
   ]
  },
  {
   "cell_type": "markdown",
   "id": "1b6047d8",
   "metadata": {
    "id": "7Mu0QBOcJrGH",
    "papermill": {
     "duration": 0.031174,
     "end_time": "2021-12-31T06:04:22.719433",
     "exception": false,
     "start_time": "2021-12-31T06:04:22.688259",
     "status": "completed"
    },
    "tags": []
   },
   "source": [
    "## Supervised model to predict any new complaints to the relevant Topics.\n",
    "\n",
    "You have now build the model to create the topics for each complaints.Now in the below section you will use them to classify any new complaints.\n",
    "\n",
    "Since you will be using supervised learning technique we have to convert the topic names to numbers(numpy arrays only understand numbers)"
   ]
  },
  {
   "cell_type": "code",
   "execution_count": 37,
   "id": "31554858",
   "metadata": {
    "execution": {
     "iopub.execute_input": "2021-12-31T06:04:22.790998Z",
     "iopub.status.busy": "2021-12-31T06:04:22.790042Z",
     "iopub.status.idle": "2021-12-31T06:04:22.792041Z",
     "shell.execute_reply": "2021-12-31T06:04:22.792474Z",
     "shell.execute_reply.started": "2021-12-31T06:03:27.471280Z"
    },
    "id": "_U8J3J8wJrGH",
    "papermill": {
     "duration": 0.041793,
     "end_time": "2021-12-31T06:04:22.792634",
     "exception": false,
     "start_time": "2021-12-31T06:04:22.750841",
     "status": "completed"
    },
    "tags": []
   },
   "outputs": [],
   "source": [
    "#Create the dictionary again of Topic names and Topics\n",
    "\n",
    "#Topic_names = {   }\n",
    "#Replace Topics with Topic Names\n",
    "#df_clean['Topic'] = df_clean['Topic'].map(Topic_names)"
   ]
  },
  {
   "cell_type": "code",
   "execution_count": 38,
   "id": "99324981",
   "metadata": {
    "execution": {
     "iopub.execute_input": "2021-12-31T06:04:22.860989Z",
     "iopub.status.busy": "2021-12-31T06:04:22.860425Z",
     "iopub.status.idle": "2021-12-31T06:04:22.862564Z",
     "shell.execute_reply": "2021-12-31T06:04:22.861989Z",
     "shell.execute_reply.started": "2021-12-31T06:03:27.483564Z"
    },
    "id": "BWIgJUkQJrGH",
    "papermill": {
     "duration": 0.037478,
     "end_time": "2021-12-31T06:04:22.862693",
     "exception": false,
     "start_time": "2021-12-31T06:04:22.825215",
     "status": "completed"
    },
    "tags": []
   },
   "outputs": [],
   "source": [
    "#df_clean"
   ]
  },
  {
   "cell_type": "code",
   "execution_count": 39,
   "id": "be2b9bee",
   "metadata": {
    "execution": {
     "iopub.execute_input": "2021-12-31T06:04:22.930214Z",
     "iopub.status.busy": "2021-12-31T06:04:22.929491Z",
     "iopub.status.idle": "2021-12-31T06:04:22.932255Z",
     "shell.execute_reply": "2021-12-31T06:04:22.931768Z",
     "shell.execute_reply.started": "2021-12-31T06:03:27.496419Z"
    },
    "id": "Xx-FrbkWJrGH",
    "papermill": {
     "duration": 0.037955,
     "end_time": "2021-12-31T06:04:22.932386",
     "exception": false,
     "start_time": "2021-12-31T06:04:22.894431",
     "status": "completed"
    },
    "tags": []
   },
   "outputs": [],
   "source": [
    "#Keep the columns\"complaint_what_happened\" & \"Topic\" only in the new dataframe --> training_data\n",
    "#training_data="
   ]
  },
  {
   "cell_type": "code",
   "execution_count": 40,
   "id": "37273dd7",
   "metadata": {
    "execution": {
     "iopub.execute_input": "2021-12-31T06:04:23.003713Z",
     "iopub.status.busy": "2021-12-31T06:04:23.003006Z",
     "iopub.status.idle": "2021-12-31T06:04:23.005716Z",
     "shell.execute_reply": "2021-12-31T06:04:23.006168Z",
     "shell.execute_reply.started": "2021-12-31T06:03:27.509010Z"
    },
    "id": "lVg2pa12JrGI",
    "papermill": {
     "duration": 0.040779,
     "end_time": "2021-12-31T06:04:23.006328",
     "exception": false,
     "start_time": "2021-12-31T06:04:22.965549",
     "status": "completed"
    },
    "tags": []
   },
   "outputs": [],
   "source": [
    "#training_data"
   ]
  },
  {
   "cell_type": "markdown",
   "id": "b116bd01",
   "metadata": {
    "id": "280Vbqk-7a8M",
    "papermill": {
     "duration": 0.032338,
     "end_time": "2021-12-31T06:04:23.071368",
     "exception": false,
     "start_time": "2021-12-31T06:04:23.039030",
     "status": "completed"
    },
    "tags": []
   },
   "source": [
    "#### Apply the supervised models on the training data created. In this process, you have to do the following:\n",
    "* Create the vector counts using Count Vectoriser\n",
    "* Transform the word vecotr to tf-idf\n",
    "* Create the train & test data using the train_test_split on the tf-idf & topics\n"
   ]
  },
  {
   "cell_type": "code",
   "execution_count": 41,
   "id": "89c7aeab",
   "metadata": {
    "execution": {
     "iopub.execute_input": "2021-12-31T06:04:23.140623Z",
     "iopub.status.busy": "2021-12-31T06:04:23.139965Z",
     "iopub.status.idle": "2021-12-31T06:04:23.141616Z",
     "shell.execute_reply": "2021-12-31T06:04:23.142071Z",
     "shell.execute_reply.started": "2021-12-31T06:03:27.522326Z"
    },
    "id": "oUlQpgkzJrGI",
    "papermill": {
     "duration": 0.038979,
     "end_time": "2021-12-31T06:04:23.142251",
     "exception": false,
     "start_time": "2021-12-31T06:04:23.103272",
     "status": "completed"
    },
    "tags": []
   },
   "outputs": [],
   "source": [
    "\n",
    "#Write your code to get the Vector count\n",
    "\n",
    "\n",
    "#Write your code here to transform the word vector to tf-idf"
   ]
  },
  {
   "cell_type": "markdown",
   "id": "a50e0f2a",
   "metadata": {
    "id": "uMU3vj6w-wqL",
    "papermill": {
     "duration": 0.032832,
     "end_time": "2021-12-31T06:04:23.208845",
     "exception": false,
     "start_time": "2021-12-31T06:04:23.176013",
     "status": "completed"
    },
    "tags": []
   },
   "source": [
    "You have to try atleast 3 models on the train & test data from these options:\n",
    "* Logistic regression\n",
    "* Decision Tree\n",
    "* Random Forest\n",
    "* Naive Bayes (optional)\n",
    "\n",
    "**Using the required evaluation metrics judge the tried models and select the ones performing the best**"
   ]
  },
  {
   "cell_type": "code",
   "execution_count": 42,
   "id": "797165ac",
   "metadata": {
    "execution": {
     "iopub.execute_input": "2021-12-31T06:04:23.276631Z",
     "iopub.status.busy": "2021-12-31T06:04:23.275972Z",
     "iopub.status.idle": "2021-12-31T06:04:23.278227Z",
     "shell.execute_reply": "2021-12-31T06:04:23.278659Z",
     "shell.execute_reply.started": "2021-12-31T06:03:27.534327Z"
    },
    "id": "udLHpPsZJrGI",
    "papermill": {
     "duration": 0.038105,
     "end_time": "2021-12-31T06:04:23.278819",
     "exception": false,
     "start_time": "2021-12-31T06:04:23.240714",
     "status": "completed"
    },
    "tags": []
   },
   "outputs": [],
   "source": [
    "# Write your code here to build any 3 models and evaluate them using the required metrics\n",
    "\n",
    "\n",
    "\n"
   ]
  },
  {
   "cell_type": "code",
   "execution_count": null,
   "id": "72eea950",
   "metadata": {
    "id": "N2OznsObJrGP",
    "papermill": {
     "duration": 0.031713,
     "end_time": "2021-12-31T06:04:23.342281",
     "exception": false,
     "start_time": "2021-12-31T06:04:23.310568",
     "status": "completed"
    },
    "tags": []
   },
   "outputs": [],
   "source": []
  }
 ],
 "metadata": {
  "kernelspec": {
   "display_name": "Python 3",
   "language": "python",
   "name": "python3"
  },
  "language_info": {
   "codemirror_mode": {
    "name": "ipython",
    "version": 3
   },
   "file_extension": ".py",
   "mimetype": "text/x-python",
   "name": "python",
   "nbconvert_exporter": "python",
   "pygments_lexer": "ipython3",
   "version": "3.7.12"
  },
  "papermill": {
   "default_parameters": {},
   "duration": 30.552795,
   "end_time": "2021-12-31T06:04:25.987439",
   "environment_variables": {},
   "exception": null,
   "input_path": "__notebook__.ipynb",
   "output_path": "__notebook__.ipynb",
   "parameters": {},
   "start_time": "2021-12-31T06:03:55.434644",
   "version": "2.3.3"
  }
 },
 "nbformat": 4,
 "nbformat_minor": 5
}
