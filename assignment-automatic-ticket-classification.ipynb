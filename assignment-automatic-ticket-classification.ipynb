{
 "cells": [
  {
   "cell_type": "markdown",
   "id": "41f9ac24",
   "metadata": {
    "id": "rhR-ZUkwJrFn",
    "papermill": {
     "duration": 0.043725,
     "end_time": "2022-01-06T14:33:10.095753",
     "exception": false,
     "start_time": "2022-01-06T14:33:10.052028",
     "status": "completed"
    },
    "tags": []
   },
   "source": [
    "## Problem Statement \n",
    "\n",
    "You need to build a model that is able to classify customer complaints based on the products/services. By doing so, you can segregate these tickets into their relevant categories and, therefore, help in the quick resolution of the issue.\n",
    "\n",
    "You will be doing topic modelling on the <b>.json</b> data provided by the company. Since this data is not labelled, you need to apply NMF to analyse patterns and classify tickets into the following five clusters based on their products/services:\n",
    "\n",
    "* Credit card / Prepaid card\n",
    "\n",
    "* Bank account services\n",
    "\n",
    "* Theft/Dispute reporting\n",
    "\n",
    "* Mortgages/loans\n",
    "\n",
    "* Others \n",
    "\n",
    "\n",
    "With the help of topic modelling, you will be able to map each ticket onto its respective department/category. You can then use this data to train any supervised model such as logistic regression, decision tree or random forest. Using this trained model, you can classify any new customer complaint support ticket into its relevant department."
   ]
  },
  {
   "cell_type": "markdown",
   "id": "a8750d9f",
   "metadata": {
    "id": "mcgXVNyaLUFS",
    "papermill": {
     "duration": 0.04202,
     "end_time": "2022-01-06T14:33:10.181941",
     "exception": false,
     "start_time": "2022-01-06T14:33:10.139921",
     "status": "completed"
    },
    "tags": []
   },
   "source": [
    "## Pipelines that needs to be performed:\n",
    "\n",
    "You need to perform the following eight major tasks to complete the assignment:\n",
    "\n",
    "1.  Data loading\n",
    "\n",
    "2. Text preprocessing\n",
    "\n",
    "3. Exploratory data analysis (EDA)\n",
    "\n",
    "4. Feature extraction\n",
    "\n",
    "5. Topic modelling \n",
    "\n",
    "6. Model building using supervised learning\n",
    "\n",
    "7. Model training and evaluation\n",
    "\n",
    "8. Model inference"
   ]
  },
  {
   "cell_type": "markdown",
   "id": "3f0dc60a",
   "metadata": {
    "id": "JuLFIymAL58u",
    "papermill": {
     "duration": 0.043585,
     "end_time": "2022-01-06T14:33:10.267549",
     "exception": false,
     "start_time": "2022-01-06T14:33:10.223964",
     "status": "completed"
    },
    "tags": []
   },
   "source": [
    "## Importing the necessary libraries"
   ]
  },
  {
   "cell_type": "code",
   "execution_count": 1,
   "id": "02696a0b",
   "metadata": {
    "execution": {
     "iopub.execute_input": "2022-01-06T14:33:10.360941Z",
     "iopub.status.busy": "2022-01-06T14:33:10.360301Z",
     "iopub.status.idle": "2022-01-06T14:33:22.673941Z",
     "shell.execute_reply": "2022-01-06T14:33:22.673171Z",
     "shell.execute_reply.started": "2022-01-06T13:44:03.248406Z"
    },
    "id": "O-Q9pqrcJrFr",
    "papermill": {
     "duration": 12.364767,
     "end_time": "2022-01-06T14:33:22.674111",
     "exception": false,
     "start_time": "2022-01-06T14:33:10.309344",
     "status": "completed"
    },
    "tags": []
   },
   "outputs": [],
   "source": [
    "import json \n",
    "import numpy as np\n",
    "import pandas as pd\n",
    "import re, nltk, spacy, string\n",
    "import en_core_web_sm\n",
    "\n",
    "import seaborn as sns\n",
    "import matplotlib.pyplot as plt\n",
    "\n",
    "\n",
    "from plotly.offline import plot\n",
    "import plotly.graph_objects as go\n",
    "import plotly.express as px\n",
    "\n",
    "from sklearn.feature_extraction.text import CountVectorizer, TfidfVectorizer\n",
    "from pprint import pprint\n",
    "\n",
    "%matplotlib inline\n",
    "\n",
    "nlp = en_core_web_sm.load()"
   ]
  },
  {
   "cell_type": "markdown",
   "id": "d3fb1fda",
   "metadata": {
    "id": "KtRLCsNVJrFt",
    "papermill": {
     "duration": 0.042649,
     "end_time": "2022-01-06T14:33:22.759372",
     "exception": false,
     "start_time": "2022-01-06T14:33:22.716723",
     "status": "completed"
    },
    "tags": []
   },
   "source": [
    "## Loading the data\n",
    "\n",
    "The data is in JSON format and we need to convert it to a dataframe."
   ]
  },
  {
   "cell_type": "code",
   "execution_count": 2,
   "id": "3919d631",
   "metadata": {
    "execution": {
     "iopub.execute_input": "2022-01-06T14:33:22.847258Z",
     "iopub.status.busy": "2022-01-06T14:33:22.846646Z",
     "iopub.status.idle": "2022-01-06T14:33:27.211678Z",
     "shell.execute_reply": "2022-01-06T14:33:27.210921Z",
     "shell.execute_reply.started": "2022-01-06T13:44:03.782842Z"
    },
    "id": "puVzIf_iJrFt",
    "papermill": {
     "duration": 4.410014,
     "end_time": "2022-01-06T14:33:27.211842",
     "exception": false,
     "start_time": "2022-01-06T14:33:22.801828",
     "status": "completed"
    },
    "tags": []
   },
   "outputs": [],
   "source": [
    "# Opening JSON file \n",
    "file_path = open('../input/automatic-ticket-classification/complaints-2021-05-14_08_16.json')# Write the path to your data file and load it \n",
    "  \n",
    "# returns JSON object as  \n",
    "# a dictionary \n",
    "data = json.load(file_path)\n",
    "df = pd.json_normalize(data)"
   ]
  },
  {
   "cell_type": "markdown",
   "id": "8674e85d",
   "metadata": {
    "id": "_xYpH-sAJrFu",
    "papermill": {
     "duration": 0.04228,
     "end_time": "2022-01-06T14:33:27.297350",
     "exception": false,
     "start_time": "2022-01-06T14:33:27.255070",
     "status": "completed"
    },
    "tags": []
   },
   "source": [
    "## Data preparation"
   ]
  },
  {
   "cell_type": "code",
   "execution_count": 3,
   "id": "4e3e0cef",
   "metadata": {
    "execution": {
     "iopub.execute_input": "2022-01-06T14:33:27.394884Z",
     "iopub.status.busy": "2022-01-06T14:33:27.394194Z",
     "iopub.status.idle": "2022-01-06T14:33:27.419771Z",
     "shell.execute_reply": "2022-01-06T14:33:27.420256Z",
     "shell.execute_reply.started": "2022-01-06T13:44:07.139530Z"
    },
    "id": "Lf8ufHH5JrFu",
    "papermill": {
     "duration": 0.080687,
     "end_time": "2022-01-06T14:33:27.420433",
     "exception": false,
     "start_time": "2022-01-06T14:33:27.339746",
     "status": "completed"
    },
    "tags": []
   },
   "outputs": [
    {
     "data": {
      "text/html": [
       "<div>\n",
       "<style scoped>\n",
       "    .dataframe tbody tr th:only-of-type {\n",
       "        vertical-align: middle;\n",
       "    }\n",
       "\n",
       "    .dataframe tbody tr th {\n",
       "        vertical-align: top;\n",
       "    }\n",
       "\n",
       "    .dataframe thead th {\n",
       "        text-align: right;\n",
       "    }\n",
       "</style>\n",
       "<table border=\"1\" class=\"dataframe\">\n",
       "  <thead>\n",
       "    <tr style=\"text-align: right;\">\n",
       "      <th></th>\n",
       "      <th>_index</th>\n",
       "      <th>_type</th>\n",
       "      <th>_id</th>\n",
       "      <th>_score</th>\n",
       "      <th>_source.tags</th>\n",
       "      <th>_source.zip_code</th>\n",
       "      <th>_source.complaint_id</th>\n",
       "      <th>_source.issue</th>\n",
       "      <th>_source.date_received</th>\n",
       "      <th>_source.state</th>\n",
       "      <th>...</th>\n",
       "      <th>_source.company_response</th>\n",
       "      <th>_source.company</th>\n",
       "      <th>_source.submitted_via</th>\n",
       "      <th>_source.date_sent_to_company</th>\n",
       "      <th>_source.company_public_response</th>\n",
       "      <th>_source.sub_product</th>\n",
       "      <th>_source.timely</th>\n",
       "      <th>_source.complaint_what_happened</th>\n",
       "      <th>_source.sub_issue</th>\n",
       "      <th>_source.consumer_consent_provided</th>\n",
       "    </tr>\n",
       "  </thead>\n",
       "  <tbody>\n",
       "    <tr>\n",
       "      <th>0</th>\n",
       "      <td>complaint-public-v2</td>\n",
       "      <td>complaint</td>\n",
       "      <td>3211475</td>\n",
       "      <td>0.0</td>\n",
       "      <td>None</td>\n",
       "      <td>90301</td>\n",
       "      <td>3211475</td>\n",
       "      <td>Attempts to collect debt not owed</td>\n",
       "      <td>2019-04-13T12:00:00-05:00</td>\n",
       "      <td>CA</td>\n",
       "      <td>...</td>\n",
       "      <td>Closed with explanation</td>\n",
       "      <td>JPMORGAN CHASE &amp; CO.</td>\n",
       "      <td>Web</td>\n",
       "      <td>2019-04-13T12:00:00-05:00</td>\n",
       "      <td>None</td>\n",
       "      <td>Credit card debt</td>\n",
       "      <td>Yes</td>\n",
       "      <td></td>\n",
       "      <td>Debt is not yours</td>\n",
       "      <td>Consent not provided</td>\n",
       "    </tr>\n",
       "    <tr>\n",
       "      <th>1</th>\n",
       "      <td>complaint-public-v2</td>\n",
       "      <td>complaint</td>\n",
       "      <td>3229299</td>\n",
       "      <td>0.0</td>\n",
       "      <td>Servicemember</td>\n",
       "      <td>319XX</td>\n",
       "      <td>3229299</td>\n",
       "      <td>Written notification about debt</td>\n",
       "      <td>2019-05-01T12:00:00-05:00</td>\n",
       "      <td>GA</td>\n",
       "      <td>...</td>\n",
       "      <td>Closed with explanation</td>\n",
       "      <td>JPMORGAN CHASE &amp; CO.</td>\n",
       "      <td>Web</td>\n",
       "      <td>2019-05-01T12:00:00-05:00</td>\n",
       "      <td>None</td>\n",
       "      <td>Credit card debt</td>\n",
       "      <td>Yes</td>\n",
       "      <td>Good morning my name is XXXX XXXX and I apprec...</td>\n",
       "      <td>Didn't receive enough information to verify debt</td>\n",
       "      <td>Consent provided</td>\n",
       "    </tr>\n",
       "    <tr>\n",
       "      <th>2</th>\n",
       "      <td>complaint-public-v2</td>\n",
       "      <td>complaint</td>\n",
       "      <td>3199379</td>\n",
       "      <td>0.0</td>\n",
       "      <td>None</td>\n",
       "      <td>77069</td>\n",
       "      <td>3199379</td>\n",
       "      <td>Other features, terms, or problems</td>\n",
       "      <td>2019-04-02T12:00:00-05:00</td>\n",
       "      <td>TX</td>\n",
       "      <td>...</td>\n",
       "      <td>Closed with explanation</td>\n",
       "      <td>JPMORGAN CHASE &amp; CO.</td>\n",
       "      <td>Web</td>\n",
       "      <td>2019-04-02T12:00:00-05:00</td>\n",
       "      <td>None</td>\n",
       "      <td>General-purpose credit card or charge card</td>\n",
       "      <td>Yes</td>\n",
       "      <td>I upgraded my XXXX XXXX card in XX/XX/2018 and...</td>\n",
       "      <td>Problem with rewards from credit card</td>\n",
       "      <td>Consent provided</td>\n",
       "    </tr>\n",
       "    <tr>\n",
       "      <th>3</th>\n",
       "      <td>complaint-public-v2</td>\n",
       "      <td>complaint</td>\n",
       "      <td>2673060</td>\n",
       "      <td>0.0</td>\n",
       "      <td>None</td>\n",
       "      <td>48066</td>\n",
       "      <td>2673060</td>\n",
       "      <td>Trouble during payment process</td>\n",
       "      <td>2017-09-13T12:00:00-05:00</td>\n",
       "      <td>MI</td>\n",
       "      <td>...</td>\n",
       "      <td>Closed with explanation</td>\n",
       "      <td>JPMORGAN CHASE &amp; CO.</td>\n",
       "      <td>Web</td>\n",
       "      <td>2017-09-14T12:00:00-05:00</td>\n",
       "      <td>None</td>\n",
       "      <td>Conventional home mortgage</td>\n",
       "      <td>Yes</td>\n",
       "      <td></td>\n",
       "      <td>None</td>\n",
       "      <td>Consent not provided</td>\n",
       "    </tr>\n",
       "    <tr>\n",
       "      <th>4</th>\n",
       "      <td>complaint-public-v2</td>\n",
       "      <td>complaint</td>\n",
       "      <td>3203545</td>\n",
       "      <td>0.0</td>\n",
       "      <td>None</td>\n",
       "      <td>10473</td>\n",
       "      <td>3203545</td>\n",
       "      <td>Fees or interest</td>\n",
       "      <td>2019-04-05T12:00:00-05:00</td>\n",
       "      <td>NY</td>\n",
       "      <td>...</td>\n",
       "      <td>Closed with explanation</td>\n",
       "      <td>JPMORGAN CHASE &amp; CO.</td>\n",
       "      <td>Referral</td>\n",
       "      <td>2019-04-05T12:00:00-05:00</td>\n",
       "      <td>None</td>\n",
       "      <td>General-purpose credit card or charge card</td>\n",
       "      <td>Yes</td>\n",
       "      <td></td>\n",
       "      <td>Charged too much interest</td>\n",
       "      <td>N/A</td>\n",
       "    </tr>\n",
       "  </tbody>\n",
       "</table>\n",
       "<p>5 rows × 22 columns</p>\n",
       "</div>"
      ],
      "text/plain": [
       "                _index      _type      _id  _score   _source.tags  \\\n",
       "0  complaint-public-v2  complaint  3211475     0.0           None   \n",
       "1  complaint-public-v2  complaint  3229299     0.0  Servicemember   \n",
       "2  complaint-public-v2  complaint  3199379     0.0           None   \n",
       "3  complaint-public-v2  complaint  2673060     0.0           None   \n",
       "4  complaint-public-v2  complaint  3203545     0.0           None   \n",
       "\n",
       "  _source.zip_code _source.complaint_id                       _source.issue  \\\n",
       "0            90301              3211475   Attempts to collect debt not owed   \n",
       "1            319XX              3229299     Written notification about debt   \n",
       "2            77069              3199379  Other features, terms, or problems   \n",
       "3            48066              2673060      Trouble during payment process   \n",
       "4            10473              3203545                    Fees or interest   \n",
       "\n",
       "       _source.date_received _source.state  ... _source.company_response  \\\n",
       "0  2019-04-13T12:00:00-05:00            CA  ...  Closed with explanation   \n",
       "1  2019-05-01T12:00:00-05:00            GA  ...  Closed with explanation   \n",
       "2  2019-04-02T12:00:00-05:00            TX  ...  Closed with explanation   \n",
       "3  2017-09-13T12:00:00-05:00            MI  ...  Closed with explanation   \n",
       "4  2019-04-05T12:00:00-05:00            NY  ...  Closed with explanation   \n",
       "\n",
       "        _source.company _source.submitted_via _source.date_sent_to_company  \\\n",
       "0  JPMORGAN CHASE & CO.                   Web    2019-04-13T12:00:00-05:00   \n",
       "1  JPMORGAN CHASE & CO.                   Web    2019-05-01T12:00:00-05:00   \n",
       "2  JPMORGAN CHASE & CO.                   Web    2019-04-02T12:00:00-05:00   \n",
       "3  JPMORGAN CHASE & CO.                   Web    2017-09-14T12:00:00-05:00   \n",
       "4  JPMORGAN CHASE & CO.              Referral    2019-04-05T12:00:00-05:00   \n",
       "\n",
       "  _source.company_public_response                         _source.sub_product  \\\n",
       "0                            None                            Credit card debt   \n",
       "1                            None                            Credit card debt   \n",
       "2                            None  General-purpose credit card or charge card   \n",
       "3                            None                  Conventional home mortgage   \n",
       "4                            None  General-purpose credit card or charge card   \n",
       "\n",
       "  _source.timely                    _source.complaint_what_happened  \\\n",
       "0            Yes                                                      \n",
       "1            Yes  Good morning my name is XXXX XXXX and I apprec...   \n",
       "2            Yes  I upgraded my XXXX XXXX card in XX/XX/2018 and...   \n",
       "3            Yes                                                      \n",
       "4            Yes                                                      \n",
       "\n",
       "                                  _source.sub_issue  \\\n",
       "0                                 Debt is not yours   \n",
       "1  Didn't receive enough information to verify debt   \n",
       "2             Problem with rewards from credit card   \n",
       "3                                              None   \n",
       "4                         Charged too much interest   \n",
       "\n",
       "  _source.consumer_consent_provided  \n",
       "0              Consent not provided  \n",
       "1                  Consent provided  \n",
       "2                  Consent provided  \n",
       "3              Consent not provided  \n",
       "4                               N/A  \n",
       "\n",
       "[5 rows x 22 columns]"
      ]
     },
     "execution_count": 3,
     "metadata": {},
     "output_type": "execute_result"
    }
   ],
   "source": [
    "# Inspect the dataframe to understand the given data.\n",
    "df.head()"
   ]
  },
  {
   "cell_type": "code",
   "execution_count": 4,
   "id": "91467e92",
   "metadata": {
    "execution": {
     "iopub.execute_input": "2022-01-06T14:33:27.513647Z",
     "iopub.status.busy": "2022-01-06T14:33:27.512639Z",
     "iopub.status.idle": "2022-01-06T14:33:27.521564Z",
     "shell.execute_reply": "2022-01-06T14:33:27.520946Z",
     "shell.execute_reply.started": "2022-01-06T13:44:07.168252Z"
    },
    "id": "Dwcty-wmJrFw",
    "papermill": {
     "duration": 0.057547,
     "end_time": "2022-01-06T14:33:27.521692",
     "exception": false,
     "start_time": "2022-01-06T14:33:27.464145",
     "status": "completed"
    },
    "tags": []
   },
   "outputs": [
    {
     "name": "stdout",
     "output_type": "stream",
     "text": [
      "01 Column :  _index\n",
      "02 Column :  _type\n",
      "03 Column :  _id\n",
      "04 Column :  _score\n",
      "05 Column :  _source.tags\n",
      "06 Column :  _source.zip_code\n",
      "07 Column :  _source.complaint_id\n",
      "08 Column :  _source.issue\n",
      "09 Column :  _source.date_received\n",
      "10 Column :  _source.state\n",
      "11 Column :  _source.consumer_disputed\n",
      "12 Column :  _source.product\n",
      "13 Column :  _source.company_response\n",
      "14 Column :  _source.company\n",
      "15 Column :  _source.submitted_via\n",
      "16 Column :  _source.date_sent_to_company\n",
      "17 Column :  _source.company_public_response\n",
      "18 Column :  _source.sub_product\n",
      "19 Column :  _source.timely\n",
      "20 Column :  _source.complaint_what_happened\n",
      "21 Column :  _source.sub_issue\n",
      "22 Column :  _source.consumer_consent_provided\n"
     ]
    }
   ],
   "source": [
    "# Print the column names\n",
    "\n",
    "def print_column_names():\n",
    "    i = 1\n",
    "    for col in df.columns:\n",
    "        print(str(\"{:02d}\".format(i)) +\" Column : \", col)\n",
    "        i += 1\n",
    "        \n",
    "print_column_names()"
   ]
  },
  {
   "cell_type": "code",
   "execution_count": 5,
   "id": "cd5c7333",
   "metadata": {
    "execution": {
     "iopub.execute_input": "2022-01-06T14:33:27.618691Z",
     "iopub.status.busy": "2022-01-06T14:33:27.617781Z",
     "iopub.status.idle": "2022-01-06T14:33:27.625278Z",
     "shell.execute_reply": "2022-01-06T14:33:27.625770Z",
     "shell.execute_reply.started": "2022-01-06T13:44:07.182625Z"
    },
    "id": "FYCtKXD1JrFw",
    "papermill": {
     "duration": 0.060558,
     "end_time": "2022-01-06T14:33:27.625968",
     "exception": false,
     "start_time": "2022-01-06T14:33:27.565410",
     "status": "completed"
    },
    "tags": []
   },
   "outputs": [
    {
     "name": "stdout",
     "output_type": "stream",
     "text": [
      "01 Column :  index\n",
      "02 Column :  type\n",
      "03 Column :  id\n",
      "04 Column :  score\n",
      "05 Column :  tags\n",
      "06 Column :  zipcode\n",
      "07 Column :  complaintid\n",
      "08 Column :  issue\n",
      "09 Column :  datereceived\n",
      "10 Column :  state\n",
      "11 Column :  consumerdisputed\n",
      "12 Column :  product\n",
      "13 Column :  companyresponse\n",
      "14 Column :  company\n",
      "15 Column :  submittedvia\n",
      "16 Column :  datesenttocompany\n",
      "17 Column :  companypublicresponse\n",
      "18 Column :  subproduct\n",
      "19 Column :  timely\n",
      "20 Column :  complaintwhathappened\n",
      "21 Column :  subissue\n",
      "22 Column :  consumerconsentprovided\n"
     ]
    }
   ],
   "source": [
    "# Assign new column names\n",
    "new_columns = {}\n",
    "for col in df.columns:\n",
    "    new_columns[col] = col.replace(\"_\", \"\").replace(\"source.\", \"\")\n",
    "\n",
    "df.rename(columns = new_columns, inplace = True)\n",
    "\n",
    "print_column_names()"
   ]
  },
  {
   "cell_type": "code",
   "execution_count": 6,
   "id": "5e93572a",
   "metadata": {
    "execution": {
     "iopub.execute_input": "2022-01-06T14:33:27.811861Z",
     "iopub.status.busy": "2022-01-06T14:33:27.774644Z",
     "iopub.status.idle": "2022-01-06T14:33:27.816049Z",
     "shell.execute_reply": "2022-01-06T14:33:27.816794Z",
     "shell.execute_reply.started": "2022-01-06T13:59:23.165772Z"
    },
    "id": "grQUPFL5JrFx",
    "papermill": {
     "duration": 0.147375,
     "end_time": "2022-01-06T14:33:27.817014",
     "exception": false,
     "start_time": "2022-01-06T14:33:27.669639",
     "status": "completed"
    },
    "tags": []
   },
   "outputs": [
    {
     "name": "stdout",
     "output_type": "stream",
     "text": [
      "78313\n",
      "78313\n",
      "0\n"
     ]
    }
   ],
   "source": [
    "# Assign nan in place of blanks in the complaints column\n",
    "print(len(df))\n",
    "print(len(df[df.complaintid != \" \"]))\n",
    "print(len(df[df.complaintid == \" \"]))"
   ]
  },
  {
   "cell_type": "code",
   "execution_count": 7,
   "id": "c8126ca8",
   "metadata": {
    "execution": {
     "iopub.execute_input": "2022-01-06T14:33:27.911924Z",
     "iopub.status.busy": "2022-01-06T14:33:27.911252Z",
     "iopub.status.idle": "2022-01-06T14:33:27.913714Z",
     "shell.execute_reply": "2022-01-06T14:33:27.913101Z",
     "shell.execute_reply.started": "2022-01-06T13:44:07.205283Z"
    },
    "id": "Jfxd8VSmJrFy",
    "papermill": {
     "duration": 0.05186,
     "end_time": "2022-01-06T14:33:27.913849",
     "exception": false,
     "start_time": "2022-01-06T14:33:27.861989",
     "status": "completed"
    },
    "tags": []
   },
   "outputs": [],
   "source": [
    "# Remove all rows where complaints column is nan\n"
   ]
  },
  {
   "cell_type": "markdown",
   "id": "01829b14",
   "metadata": {
    "id": "L944HZpsJrFy",
    "papermill": {
     "duration": 0.043764,
     "end_time": "2022-01-06T14:33:28.002170",
     "exception": false,
     "start_time": "2022-01-06T14:33:27.958406",
     "status": "completed"
    },
    "tags": []
   },
   "source": [
    "## Prepare the text for topic modeling\n",
    "\n",
    "Once you have removed all the blank complaints, you need to:\n",
    "\n",
    "* Make the text lowercase\n",
    "* Remove text in square brackets\n",
    "* Remove punctuation\n",
    "* Remove words containing numbers\n",
    "\n",
    "\n",
    "Once you have done these cleaning operations you need to perform the following:\n",
    "* Lemmatize the texts\n",
    "* Use POS tags to get relevant words from the texts.\n"
   ]
  },
  {
   "cell_type": "code",
   "execution_count": 8,
   "id": "ab8671ea",
   "metadata": {
    "execution": {
     "iopub.execute_input": "2022-01-06T14:33:28.094679Z",
     "iopub.status.busy": "2022-01-06T14:33:28.094059Z",
     "iopub.status.idle": "2022-01-06T14:33:28.095886Z",
     "shell.execute_reply": "2022-01-06T14:33:28.096499Z",
     "shell.execute_reply.started": "2022-01-06T13:44:07.218740Z"
    },
    "id": "qm7SjjSkJrFz",
    "papermill": {
     "duration": 0.049714,
     "end_time": "2022-01-06T14:33:28.096659",
     "exception": false,
     "start_time": "2022-01-06T14:33:28.046945",
     "status": "completed"
    },
    "tags": []
   },
   "outputs": [],
   "source": [
    "# Write your function here to clean the text and remove all the unnecessary elements.\n"
   ]
  },
  {
   "cell_type": "code",
   "execution_count": 9,
   "id": "29795026",
   "metadata": {
    "execution": {
     "iopub.execute_input": "2022-01-06T14:33:28.190629Z",
     "iopub.status.busy": "2022-01-06T14:33:28.189811Z",
     "iopub.status.idle": "2022-01-06T14:33:28.192164Z",
     "shell.execute_reply": "2022-01-06T14:33:28.192656Z",
     "shell.execute_reply.started": "2022-01-06T13:44:07.231475Z"
    },
    "id": "zgOu8t8HJrFz",
    "papermill": {
     "duration": 0.050624,
     "end_time": "2022-01-06T14:33:28.192818",
     "exception": false,
     "start_time": "2022-01-06T14:33:28.142194",
     "status": "completed"
    },
    "tags": []
   },
   "outputs": [],
   "source": [
    "#Write your function to Lemmatize the texts\n"
   ]
  },
  {
   "cell_type": "code",
   "execution_count": 10,
   "id": "48db9940",
   "metadata": {
    "execution": {
     "iopub.execute_input": "2022-01-06T14:33:28.285542Z",
     "iopub.status.busy": "2022-01-06T14:33:28.284637Z",
     "iopub.status.idle": "2022-01-06T14:33:28.287539Z",
     "shell.execute_reply": "2022-01-06T14:33:28.286983Z",
     "shell.execute_reply.started": "2022-01-06T13:44:07.244899Z"
    },
    "id": "uXnN7aa_JrF0",
    "papermill": {
     "duration": 0.050846,
     "end_time": "2022-01-06T14:33:28.287680",
     "exception": false,
     "start_time": "2022-01-06T14:33:28.236834",
     "status": "completed"
    },
    "tags": []
   },
   "outputs": [],
   "source": [
    "#Create a dataframe('df_clean') that will have only the complaints and the lemmatized complaints \n"
   ]
  },
  {
   "cell_type": "code",
   "execution_count": 11,
   "id": "3e1db637",
   "metadata": {
    "execution": {
     "iopub.execute_input": "2022-01-06T14:33:28.379986Z",
     "iopub.status.busy": "2022-01-06T14:33:28.379390Z",
     "iopub.status.idle": "2022-01-06T14:33:28.381562Z",
     "shell.execute_reply": "2022-01-06T14:33:28.380941Z",
     "shell.execute_reply.started": "2022-01-06T13:44:07.255111Z"
    },
    "id": "nOiDVvEIJrF0",
    "papermill": {
     "duration": 0.049936,
     "end_time": "2022-01-06T14:33:28.381700",
     "exception": false,
     "start_time": "2022-01-06T14:33:28.331764",
     "status": "completed"
    },
    "tags": []
   },
   "outputs": [],
   "source": [
    "# Uncomment df_clean"
   ]
  },
  {
   "cell_type": "code",
   "execution_count": 12,
   "id": "31b45e05",
   "metadata": {
    "execution": {
     "iopub.execute_input": "2022-01-06T14:33:28.473859Z",
     "iopub.status.busy": "2022-01-06T14:33:28.473219Z",
     "iopub.status.idle": "2022-01-06T14:33:28.475623Z",
     "shell.execute_reply": "2022-01-06T14:33:28.475007Z",
     "shell.execute_reply.started": "2022-01-06T13:44:07.268931Z"
    },
    "id": "Kk7fc4DuJrF1",
    "papermill": {
     "duration": 0.049846,
     "end_time": "2022-01-06T14:33:28.475756",
     "exception": false,
     "start_time": "2022-01-06T14:33:28.425910",
     "status": "completed"
    },
    "tags": []
   },
   "outputs": [],
   "source": [
    "#Write your function to extract the POS tags \n",
    "\n"
   ]
  },
  {
   "cell_type": "code",
   "execution_count": 13,
   "id": "ebd3dad6",
   "metadata": {
    "execution": {
     "iopub.execute_input": "2022-01-06T14:33:28.569217Z",
     "iopub.status.busy": "2022-01-06T14:33:28.568335Z",
     "iopub.status.idle": "2022-01-06T14:33:28.571134Z",
     "shell.execute_reply": "2022-01-06T14:33:28.570626Z",
     "shell.execute_reply.started": "2022-01-06T13:44:07.281220Z"
    },
    "id": "AjxfchvFJrF2",
    "papermill": {
     "duration": 0.051059,
     "end_time": "2022-01-06T14:33:28.571273",
     "exception": false,
     "start_time": "2022-01-06T14:33:28.520214",
     "status": "completed"
    },
    "tags": []
   },
   "outputs": [],
   "source": [
    "#The clean dataframe should now contain the raw complaint, lemmatized complaint and the complaint after removing POS tags.\n",
    "# Uncomment df_clean"
   ]
  },
  {
   "cell_type": "markdown",
   "id": "df571cd9",
   "metadata": {
    "id": "_7Un1AElJrF2",
    "papermill": {
     "duration": 0.045552,
     "end_time": "2022-01-06T14:33:28.661588",
     "exception": false,
     "start_time": "2022-01-06T14:33:28.616036",
     "status": "completed"
    },
    "tags": []
   },
   "source": [
    "## Exploratory data analysis to get familiar with the data.\n",
    "\n",
    "Write the code in this task to perform the following:\n",
    "\n",
    "*   Visualise the data according to the 'Complaint' character length\n",
    "*   Using a word cloud find the top 40 words by frequency among all the articles after processing the text\n",
    "*   Find the top unigrams,bigrams and trigrams by frequency among all the complaints after processing the text. ‘\n",
    "\n",
    "\n"
   ]
  },
  {
   "cell_type": "code",
   "execution_count": 14,
   "id": "1208d311",
   "metadata": {
    "execution": {
     "iopub.execute_input": "2022-01-06T14:33:28.757321Z",
     "iopub.status.busy": "2022-01-06T14:33:28.756309Z",
     "iopub.status.idle": "2022-01-06T14:33:28.759198Z",
     "shell.execute_reply": "2022-01-06T14:33:28.758593Z",
     "shell.execute_reply.started": "2022-01-06T13:44:07.294097Z"
    },
    "id": "q-zaqJF6JrF2",
    "papermill": {
     "duration": 0.051162,
     "end_time": "2022-01-06T14:33:28.759361",
     "exception": false,
     "start_time": "2022-01-06T14:33:28.708199",
     "status": "completed"
    },
    "tags": []
   },
   "outputs": [],
   "source": [
    "# Write your code here to visualise the data according to the 'Complaint' character length"
   ]
  },
  {
   "cell_type": "markdown",
   "id": "71cd2b5a",
   "metadata": {
    "id": "T9jD_6SeJrF3",
    "papermill": {
     "duration": 0.043526,
     "end_time": "2022-01-06T14:33:28.847119",
     "exception": false,
     "start_time": "2022-01-06T14:33:28.803593",
     "status": "completed"
    },
    "tags": []
   },
   "source": [
    "#### Find the top 40 words by frequency among all the articles after processing the text."
   ]
  },
  {
   "cell_type": "code",
   "execution_count": 15,
   "id": "471c5676",
   "metadata": {
    "execution": {
     "iopub.execute_input": "2022-01-06T14:33:28.941187Z",
     "iopub.status.busy": "2022-01-06T14:33:28.940021Z",
     "iopub.status.idle": "2022-01-06T14:33:28.942607Z",
     "shell.execute_reply": "2022-01-06T14:33:28.941993Z",
     "shell.execute_reply.started": "2022-01-06T13:44:07.310475Z"
    },
    "id": "QcfdvtfZJrF3",
    "papermill": {
     "duration": 0.050894,
     "end_time": "2022-01-06T14:33:28.942750",
     "exception": false,
     "start_time": "2022-01-06T14:33:28.891856",
     "status": "completed"
    },
    "tags": []
   },
   "outputs": [],
   "source": [
    "#Using a word cloud find the top 40 words by frequency among all the articles after processing the text\n"
   ]
  },
  {
   "cell_type": "code",
   "execution_count": 16,
   "id": "9e60396d",
   "metadata": {
    "execution": {
     "iopub.execute_input": "2022-01-06T14:33:29.037531Z",
     "iopub.status.busy": "2022-01-06T14:33:29.036444Z",
     "iopub.status.idle": "2022-01-06T14:33:29.038361Z",
     "shell.execute_reply": "2022-01-06T14:33:29.038876Z",
     "shell.execute_reply.started": "2022-01-06T13:44:07.324751Z"
    },
    "id": "OkSmc3UaJrF4",
    "papermill": {
     "duration": 0.05155,
     "end_time": "2022-01-06T14:33:29.039032",
     "exception": false,
     "start_time": "2022-01-06T14:33:28.987482",
     "status": "completed"
    },
    "tags": []
   },
   "outputs": [],
   "source": [
    "#Removing -PRON- from the text corpus\n",
    "#df_clean['Complaint_clean'] = df_clean['complaint_POS_removed'].str.replace('-PRON-', '')"
   ]
  },
  {
   "cell_type": "markdown",
   "id": "63a4b290",
   "metadata": {
    "id": "5DfCSbbmJrF4",
    "papermill": {
     "duration": 0.044643,
     "end_time": "2022-01-06T14:33:29.127765",
     "exception": false,
     "start_time": "2022-01-06T14:33:29.083122",
     "status": "completed"
    },
    "tags": []
   },
   "source": [
    "#### Find the top unigrams,bigrams and trigrams by frequency among all the complaints after processing the text."
   ]
  },
  {
   "cell_type": "code",
   "execution_count": 17,
   "id": "ff0ea6a9",
   "metadata": {
    "execution": {
     "iopub.execute_input": "2022-01-06T14:33:29.221524Z",
     "iopub.status.busy": "2022-01-06T14:33:29.220073Z",
     "iopub.status.idle": "2022-01-06T14:33:29.223646Z",
     "shell.execute_reply": "2022-01-06T14:33:29.224226Z",
     "shell.execute_reply.started": "2022-01-06T13:44:07.338027Z"
    },
    "id": "5mbk5DS5JrF4",
    "papermill": {
     "duration": 0.051089,
     "end_time": "2022-01-06T14:33:29.224412",
     "exception": false,
     "start_time": "2022-01-06T14:33:29.173323",
     "status": "completed"
    },
    "tags": []
   },
   "outputs": [],
   "source": [
    "#Write your code here to find the top 30 unigram frequency among the complaints in the cleaned datafram(df_clean). \n"
   ]
  },
  {
   "cell_type": "code",
   "execution_count": 18,
   "id": "da5c4b2b",
   "metadata": {
    "execution": {
     "iopub.execute_input": "2022-01-06T14:33:29.316980Z",
     "iopub.status.busy": "2022-01-06T14:33:29.315998Z",
     "iopub.status.idle": "2022-01-06T14:33:29.320163Z",
     "shell.execute_reply": "2022-01-06T14:33:29.319644Z",
     "shell.execute_reply.started": "2022-01-06T13:44:07.351262Z"
    },
    "id": "YX7fedm1JrF8",
    "papermill": {
     "duration": 0.051645,
     "end_time": "2022-01-06T14:33:29.320339",
     "exception": false,
     "start_time": "2022-01-06T14:33:29.268694",
     "status": "completed"
    },
    "tags": []
   },
   "outputs": [],
   "source": [
    "#Print the top 10 words in the unigram frequency\n"
   ]
  },
  {
   "cell_type": "code",
   "execution_count": 19,
   "id": "b0d58398",
   "metadata": {
    "execution": {
     "iopub.execute_input": "2022-01-06T14:33:29.413576Z",
     "iopub.status.busy": "2022-01-06T14:33:29.412670Z",
     "iopub.status.idle": "2022-01-06T14:33:29.415053Z",
     "shell.execute_reply": "2022-01-06T14:33:29.415580Z",
     "shell.execute_reply.started": "2022-01-06T13:44:07.362743Z"
    },
    "id": "aV7kD7w8JrF8",
    "papermill": {
     "duration": 0.050969,
     "end_time": "2022-01-06T14:33:29.415748",
     "exception": false,
     "start_time": "2022-01-06T14:33:29.364779",
     "status": "completed"
    },
    "tags": []
   },
   "outputs": [],
   "source": [
    "#Write your code here to find the top 30 bigram frequency among the complaints in the cleaned datafram(df_clean). \n"
   ]
  },
  {
   "cell_type": "code",
   "execution_count": 20,
   "id": "a3c82eae",
   "metadata": {
    "execution": {
     "iopub.execute_input": "2022-01-06T14:33:29.507918Z",
     "iopub.status.busy": "2022-01-06T14:33:29.507041Z",
     "iopub.status.idle": "2022-01-06T14:33:29.509860Z",
     "shell.execute_reply": "2022-01-06T14:33:29.510360Z",
     "shell.execute_reply.started": "2022-01-06T13:44:07.375174Z"
    },
    "id": "NPnMNIpyJrF9",
    "papermill": {
     "duration": 0.050611,
     "end_time": "2022-01-06T14:33:29.510522",
     "exception": false,
     "start_time": "2022-01-06T14:33:29.459911",
     "status": "completed"
    },
    "tags": []
   },
   "outputs": [],
   "source": [
    "#Print the top 10 words in the bigram frequency"
   ]
  },
  {
   "cell_type": "code",
   "execution_count": 21,
   "id": "a4b6e0b3",
   "metadata": {
    "execution": {
     "iopub.execute_input": "2022-01-06T14:33:29.602735Z",
     "iopub.status.busy": "2022-01-06T14:33:29.601800Z",
     "iopub.status.idle": "2022-01-06T14:33:29.604858Z",
     "shell.execute_reply": "2022-01-06T14:33:29.605293Z",
     "shell.execute_reply.started": "2022-01-06T13:44:07.386893Z"
    },
    "id": "Xkh7vtbtJrF-",
    "papermill": {
     "duration": 0.049985,
     "end_time": "2022-01-06T14:33:29.605489",
     "exception": false,
     "start_time": "2022-01-06T14:33:29.555504",
     "status": "completed"
    },
    "tags": []
   },
   "outputs": [],
   "source": [
    "#Write your code here to find the top 30 trigram frequency among the complaints in the cleaned datafram(df_clean). \n"
   ]
  },
  {
   "cell_type": "code",
   "execution_count": 22,
   "id": "fb1db1e7",
   "metadata": {
    "execution": {
     "iopub.execute_input": "2022-01-06T14:33:29.696757Z",
     "iopub.status.busy": "2022-01-06T14:33:29.695793Z",
     "iopub.status.idle": "2022-01-06T14:33:29.698837Z",
     "shell.execute_reply": "2022-01-06T14:33:29.699312Z",
     "shell.execute_reply.started": "2022-01-06T13:44:07.397361Z"
    },
    "id": "REcVxNfvJrF-",
    "papermill": {
     "duration": 0.050172,
     "end_time": "2022-01-06T14:33:29.699474",
     "exception": false,
     "start_time": "2022-01-06T14:33:29.649302",
     "status": "completed"
    },
    "tags": []
   },
   "outputs": [],
   "source": [
    "#Print the top 10 words in the trigram frequency"
   ]
  },
  {
   "cell_type": "markdown",
   "id": "0a62ccdd",
   "metadata": {
    "id": "yUXzFji0JrF_",
    "papermill": {
     "duration": 0.043685,
     "end_time": "2022-01-06T14:33:29.786830",
     "exception": false,
     "start_time": "2022-01-06T14:33:29.743145",
     "status": "completed"
    },
    "tags": []
   },
   "source": [
    "## The personal details of customer has been masked in the dataset with xxxx. Let's remove the masked text as this will be of no use for our analysis"
   ]
  },
  {
   "cell_type": "code",
   "execution_count": 23,
   "id": "ac4245a3",
   "metadata": {
    "execution": {
     "iopub.execute_input": "2022-01-06T14:33:29.879201Z",
     "iopub.status.busy": "2022-01-06T14:33:29.878260Z",
     "iopub.status.idle": "2022-01-06T14:33:29.881236Z",
     "shell.execute_reply": "2022-01-06T14:33:29.881720Z",
     "shell.execute_reply.started": "2022-01-06T13:44:07.408231Z"
    },
    "id": "wKda-a_IJrF_",
    "papermill": {
     "duration": 0.051401,
     "end_time": "2022-01-06T14:33:29.881883",
     "exception": false,
     "start_time": "2022-01-06T14:33:29.830482",
     "status": "completed"
    },
    "tags": []
   },
   "outputs": [],
   "source": [
    "#df_clean['Complaint_clean'] = df_clean['Complaint_clean'].str.replace('xxxx','')"
   ]
  },
  {
   "cell_type": "code",
   "execution_count": 24,
   "id": "6ea19751",
   "metadata": {
    "execution": {
     "iopub.execute_input": "2022-01-06T14:33:29.972936Z",
     "iopub.status.busy": "2022-01-06T14:33:29.972004Z",
     "iopub.status.idle": "2022-01-06T14:33:29.974912Z",
     "shell.execute_reply": "2022-01-06T14:33:29.975513Z",
     "shell.execute_reply.started": "2022-01-06T13:44:07.419424Z"
    },
    "id": "9UIFk8fQJrF_",
    "papermill": {
     "duration": 0.050143,
     "end_time": "2022-01-06T14:33:29.975669",
     "exception": false,
     "start_time": "2022-01-06T14:33:29.925526",
     "status": "completed"
    },
    "tags": []
   },
   "outputs": [],
   "source": [
    "#All masked texts has been removed\n",
    "#df_clean"
   ]
  },
  {
   "cell_type": "markdown",
   "id": "679251b1",
   "metadata": {
    "id": "k-I0k0QtJrGA",
    "papermill": {
     "duration": 0.044284,
     "end_time": "2022-01-06T14:33:30.063541",
     "exception": false,
     "start_time": "2022-01-06T14:33:30.019257",
     "status": "completed"
    },
    "tags": []
   },
   "source": [
    "## Feature Extraction\n",
    "Convert the raw texts to a matrix of TF-IDF features\n",
    "\n",
    "**max_df** is used for removing terms that appear too frequently, also known as \"corpus-specific stop words\"\n",
    "max_df = 0.95 means \"ignore terms that appear in more than 95% of the complaints\"\n",
    "\n",
    "**min_df** is used for removing terms that appear too infrequently\n",
    "min_df = 2 means \"ignore terms that appear in less than 2 complaints\""
   ]
  },
  {
   "cell_type": "code",
   "execution_count": 25,
   "id": "e0637263",
   "metadata": {
    "execution": {
     "iopub.execute_input": "2022-01-06T14:33:30.156203Z",
     "iopub.status.busy": "2022-01-06T14:33:30.155547Z",
     "iopub.status.idle": "2022-01-06T14:33:30.157863Z",
     "shell.execute_reply": "2022-01-06T14:33:30.157230Z",
     "shell.execute_reply.started": "2022-01-06T13:44:07.431772Z"
    },
    "id": "Y8fGwaCPJrGA",
    "papermill": {
     "duration": 0.050794,
     "end_time": "2022-01-06T14:33:30.157998",
     "exception": false,
     "start_time": "2022-01-06T14:33:30.107204",
     "status": "completed"
    },
    "tags": []
   },
   "outputs": [],
   "source": [
    "#Write your code here to initialise the TfidfVectorizer \n",
    "\n"
   ]
  },
  {
   "cell_type": "markdown",
   "id": "e7527e86",
   "metadata": {
    "id": "yYzD85nTJrGA",
    "papermill": {
     "duration": 0.043715,
     "end_time": "2022-01-06T14:33:30.245982",
     "exception": false,
     "start_time": "2022-01-06T14:33:30.202267",
     "status": "completed"
    },
    "tags": []
   },
   "source": [
    "#### Create a document term matrix using fit_transform\n",
    "\n",
    "The contents of a document term matrix are tuples of (complaint_id,token_id) tf-idf score:\n",
    "The tuples that are not there have a tf-idf score of 0"
   ]
  },
  {
   "cell_type": "code",
   "execution_count": 26,
   "id": "fd268791",
   "metadata": {
    "execution": {
     "iopub.execute_input": "2022-01-06T14:33:30.337704Z",
     "iopub.status.busy": "2022-01-06T14:33:30.337071Z",
     "iopub.status.idle": "2022-01-06T14:33:30.338880Z",
     "shell.execute_reply": "2022-01-06T14:33:30.339466Z",
     "shell.execute_reply.started": "2022-01-06T13:44:07.443146Z"
    },
    "id": "ffzdDpp_JrGB",
    "papermill": {
     "duration": 0.049984,
     "end_time": "2022-01-06T14:33:30.339624",
     "exception": false,
     "start_time": "2022-01-06T14:33:30.289640",
     "status": "completed"
    },
    "tags": []
   },
   "outputs": [],
   "source": [
    "#Write your code here to create the Document Term Matrix by transforming the complaints column present in df_clean.\n"
   ]
  },
  {
   "cell_type": "markdown",
   "id": "badffb16",
   "metadata": {
    "id": "7Q9lwvNEJrGB",
    "papermill": {
     "duration": 0.043505,
     "end_time": "2022-01-06T14:33:30.427004",
     "exception": false,
     "start_time": "2022-01-06T14:33:30.383499",
     "status": "completed"
    },
    "tags": []
   },
   "source": [
    "## Topic Modelling using NMF\n",
    "\n",
    "Non-Negative Matrix Factorization (NMF) is an unsupervised technique so there are no labeling of topics that the model will be trained on. The way it works is that, NMF decomposes (or factorizes) high-dimensional vectors into a lower-dimensional representation. These lower-dimensional vectors are non-negative which also means their coefficients are non-negative.\n",
    "\n",
    "In this task you have to perform the following:\n",
    "\n",
    "* Find the best number of clusters \n",
    "* Apply the best number to create word clusters\n",
    "* Inspect & validate the correction of each cluster wrt the complaints \n",
    "* Correct the labels if needed \n",
    "* Map the clusters to topics/cluster names"
   ]
  },
  {
   "cell_type": "code",
   "execution_count": 27,
   "id": "32c31863",
   "metadata": {
    "execution": {
     "iopub.execute_input": "2022-01-06T14:33:30.518467Z",
     "iopub.status.busy": "2022-01-06T14:33:30.517826Z",
     "iopub.status.idle": "2022-01-06T14:33:30.546934Z",
     "shell.execute_reply": "2022-01-06T14:33:30.547438Z",
     "shell.execute_reply.started": "2022-01-06T13:44:07.455887Z"
    },
    "id": "amLT4omWJrGB",
    "papermill": {
     "duration": 0.076284,
     "end_time": "2022-01-06T14:33:30.547621",
     "exception": false,
     "start_time": "2022-01-06T14:33:30.471337",
     "status": "completed"
    },
    "tags": []
   },
   "outputs": [],
   "source": [
    "from sklearn.decomposition import NMF"
   ]
  },
  {
   "cell_type": "markdown",
   "id": "95deaa65",
   "metadata": {
    "id": "0wYR1xUTJrGD",
    "papermill": {
     "duration": 0.043661,
     "end_time": "2022-01-06T14:33:30.635843",
     "exception": false,
     "start_time": "2022-01-06T14:33:30.592182",
     "status": "completed"
    },
    "tags": []
   },
   "source": [
    "## Manual Topic Modeling\n",
    "You need to do take the trial & error approach to find the best num of topics for your NMF model.\n",
    "\n",
    "The only parameter that is required is the number of components i.e. the number of topics we want. This is the most crucial step in the whole topic modeling process and will greatly affect how good your final topics are."
   ]
  },
  {
   "cell_type": "code",
   "execution_count": 28,
   "id": "090071e4",
   "metadata": {
    "execution": {
     "iopub.execute_input": "2022-01-06T14:33:30.728782Z",
     "iopub.status.busy": "2022-01-06T14:33:30.727897Z",
     "iopub.status.idle": "2022-01-06T14:33:30.731005Z",
     "shell.execute_reply": "2022-01-06T14:33:30.730472Z",
     "shell.execute_reply.started": "2022-01-06T13:44:07.470756Z"
    },
    "id": "sgd2A6bhJrGD",
    "papermill": {
     "duration": 0.051406,
     "end_time": "2022-01-06T14:33:30.731139",
     "exception": false,
     "start_time": "2022-01-06T14:33:30.679733",
     "status": "completed"
    },
    "tags": []
   },
   "outputs": [],
   "source": [
    "#Load your nmf_model with the n_components i.e 5\n",
    "#num_topics = #write the value you want to test out\n",
    "\n",
    "#keep the random_state =40\n",
    "#nmf_model = #write your code here"
   ]
  },
  {
   "cell_type": "code",
   "execution_count": 29,
   "id": "a07134e4",
   "metadata": {
    "execution": {
     "iopub.execute_input": "2022-01-06T14:33:30.822472Z",
     "iopub.status.busy": "2022-01-06T14:33:30.821578Z",
     "iopub.status.idle": "2022-01-06T14:33:30.824438Z",
     "shell.execute_reply": "2022-01-06T14:33:30.824914Z",
     "shell.execute_reply.started": "2022-01-06T13:44:07.479527Z"
    },
    "id": "VPMDYbt_JrGE",
    "papermill": {
     "duration": 0.049938,
     "end_time": "2022-01-06T14:33:30.825070",
     "exception": false,
     "start_time": "2022-01-06T14:33:30.775132",
     "status": "completed"
    },
    "tags": []
   },
   "outputs": [],
   "source": [
    "#nmf_model.fit(dtm)\n",
    "#len(tfidf.get_feature_names())"
   ]
  },
  {
   "cell_type": "code",
   "execution_count": 30,
   "id": "806c2286",
   "metadata": {
    "execution": {
     "iopub.execute_input": "2022-01-06T14:33:30.915523Z",
     "iopub.status.busy": "2022-01-06T14:33:30.914922Z",
     "iopub.status.idle": "2022-01-06T14:33:30.917585Z",
     "shell.execute_reply": "2022-01-06T14:33:30.918179Z",
     "shell.execute_reply.started": "2022-01-06T13:44:07.490368Z"
    },
    "id": "16kRfat5JrGE",
    "papermill": {
     "duration": 0.049635,
     "end_time": "2022-01-06T14:33:30.918357",
     "exception": false,
     "start_time": "2022-01-06T14:33:30.868722",
     "status": "completed"
    },
    "tags": []
   },
   "outputs": [],
   "source": [
    "#Print the Top15 words for each of the topics\n"
   ]
  },
  {
   "cell_type": "code",
   "execution_count": 31,
   "id": "48585a76",
   "metadata": {
    "execution": {
     "iopub.execute_input": "2022-01-06T14:33:31.011327Z",
     "iopub.status.busy": "2022-01-06T14:33:31.010481Z",
     "iopub.status.idle": "2022-01-06T14:33:31.012277Z",
     "shell.execute_reply": "2022-01-06T14:33:31.012823Z",
     "shell.execute_reply.started": "2022-01-06T13:44:07.502439Z"
    },
    "id": "0OIT7LmFJrGF",
    "papermill": {
     "duration": 0.050833,
     "end_time": "2022-01-06T14:33:31.012974",
     "exception": false,
     "start_time": "2022-01-06T14:33:30.962141",
     "status": "completed"
    },
    "tags": []
   },
   "outputs": [],
   "source": [
    "#Create the best topic for each complaint in terms of integer value 0,1,2,3 & 4\n",
    "\n"
   ]
  },
  {
   "cell_type": "code",
   "execution_count": 32,
   "id": "e7883ddf",
   "metadata": {
    "execution": {
     "iopub.execute_input": "2022-01-06T14:33:31.105673Z",
     "iopub.status.busy": "2022-01-06T14:33:31.104960Z",
     "iopub.status.idle": "2022-01-06T14:33:31.107493Z",
     "shell.execute_reply": "2022-01-06T14:33:31.107967Z",
     "shell.execute_reply.started": "2022-01-06T13:44:07.514538Z"
    },
    "id": "peyYv-ORJrGF",
    "papermill": {
     "duration": 0.050536,
     "end_time": "2022-01-06T14:33:31.108116",
     "exception": false,
     "start_time": "2022-01-06T14:33:31.057580",
     "status": "completed"
    },
    "tags": []
   },
   "outputs": [],
   "source": [
    "#Assign the best topic to each of the cmplaints in Topic Column\n",
    "\n",
    "#df_clean['Topic'] = #write your code to assign topics to each rows."
   ]
  },
  {
   "cell_type": "code",
   "execution_count": 33,
   "id": "35034bb7",
   "metadata": {
    "execution": {
     "iopub.execute_input": "2022-01-06T14:33:31.200905Z",
     "iopub.status.busy": "2022-01-06T14:33:31.199984Z",
     "iopub.status.idle": "2022-01-06T14:33:31.203127Z",
     "shell.execute_reply": "2022-01-06T14:33:31.203722Z",
     "shell.execute_reply.started": "2022-01-06T13:44:07.526111Z"
    },
    "id": "fLh_Gf3nJrGF",
    "papermill": {
     "duration": 0.051724,
     "end_time": "2022-01-06T14:33:31.203891",
     "exception": false,
     "start_time": "2022-01-06T14:33:31.152167",
     "status": "completed"
    },
    "tags": []
   },
   "outputs": [],
   "source": [
    "#df_clean.head()"
   ]
  },
  {
   "cell_type": "code",
   "execution_count": 34,
   "id": "c547a658",
   "metadata": {
    "execution": {
     "iopub.execute_input": "2022-01-06T14:33:31.295752Z",
     "iopub.status.busy": "2022-01-06T14:33:31.294791Z",
     "iopub.status.idle": "2022-01-06T14:33:31.297918Z",
     "shell.execute_reply": "2022-01-06T14:33:31.298506Z",
     "shell.execute_reply.started": "2022-01-06T13:44:07.535138Z"
    },
    "id": "aQKpufSPJrGG",
    "papermill": {
     "duration": 0.0505,
     "end_time": "2022-01-06T14:33:31.298669",
     "exception": false,
     "start_time": "2022-01-06T14:33:31.248169",
     "status": "completed"
    },
    "tags": []
   },
   "outputs": [],
   "source": [
    "#Print the first 5 Complaint for each of the Topics\n",
    "#df_clean=df_clean.groupby('Topic').head(5)\n",
    "#df_clean.sort_values('Topic')"
   ]
  },
  {
   "cell_type": "markdown",
   "id": "add628f2",
   "metadata": {
    "id": "piyLxzj6v07j",
    "papermill": {
     "duration": 0.043451,
     "end_time": "2022-01-06T14:33:31.385879",
     "exception": false,
     "start_time": "2022-01-06T14:33:31.342428",
     "status": "completed"
    },
    "tags": []
   },
   "source": [
    "#### After evaluating the mapping, if the topics assigned are correct then assign these names to the relevant topic:\n",
    "* Bank Account services\n",
    "* Credit card or prepaid card\n",
    "* Theft/Dispute Reporting\n",
    "* Mortgage/Loan\n",
    "* Others"
   ]
  },
  {
   "cell_type": "code",
   "execution_count": 35,
   "id": "ce000fe7",
   "metadata": {
    "execution": {
     "iopub.execute_input": "2022-01-06T14:33:31.477741Z",
     "iopub.status.busy": "2022-01-06T14:33:31.476880Z",
     "iopub.status.idle": "2022-01-06T14:33:31.480675Z",
     "shell.execute_reply": "2022-01-06T14:33:31.480103Z",
     "shell.execute_reply.started": "2022-01-06T13:44:07.547541Z"
    },
    "id": "TWpwDG4RJrGG",
    "papermill": {
     "duration": 0.050855,
     "end_time": "2022-01-06T14:33:31.480813",
     "exception": false,
     "start_time": "2022-01-06T14:33:31.429958",
     "status": "completed"
    },
    "tags": []
   },
   "outputs": [],
   "source": [
    "#Create the dictionary of Topic names and Topics\n",
    "\n",
    "#Topic_names = {   }\n",
    "#Replace Topics with Topic Names\n",
    "#df_clean['Topic'] = df_clean['Topic'].map(Topic_names)"
   ]
  },
  {
   "cell_type": "code",
   "execution_count": 36,
   "id": "7054bc88",
   "metadata": {
    "execution": {
     "iopub.execute_input": "2022-01-06T14:33:31.572968Z",
     "iopub.status.busy": "2022-01-06T14:33:31.572358Z",
     "iopub.status.idle": "2022-01-06T14:33:31.574167Z",
     "shell.execute_reply": "2022-01-06T14:33:31.574631Z",
     "shell.execute_reply.started": "2022-01-06T13:44:07.559427Z"
    },
    "id": "-2ULY5K6JrGG",
    "papermill": {
     "duration": 0.049731,
     "end_time": "2022-01-06T14:33:31.574835",
     "exception": false,
     "start_time": "2022-01-06T14:33:31.525104",
     "status": "completed"
    },
    "tags": []
   },
   "outputs": [],
   "source": [
    "#df_clean"
   ]
  },
  {
   "cell_type": "markdown",
   "id": "73a1c6a1",
   "metadata": {
    "id": "7Mu0QBOcJrGH",
    "papermill": {
     "duration": 0.043756,
     "end_time": "2022-01-06T14:33:31.662729",
     "exception": false,
     "start_time": "2022-01-06T14:33:31.618973",
     "status": "completed"
    },
    "tags": []
   },
   "source": [
    "## Supervised model to predict any new complaints to the relevant Topics.\n",
    "\n",
    "You have now build the model to create the topics for each complaints.Now in the below section you will use them to classify any new complaints.\n",
    "\n",
    "Since you will be using supervised learning technique we have to convert the topic names to numbers(numpy arrays only understand numbers)"
   ]
  },
  {
   "cell_type": "code",
   "execution_count": 37,
   "id": "d0b2dbea",
   "metadata": {
    "execution": {
     "iopub.execute_input": "2022-01-06T14:33:31.754798Z",
     "iopub.status.busy": "2022-01-06T14:33:31.754143Z",
     "iopub.status.idle": "2022-01-06T14:33:31.756669Z",
     "shell.execute_reply": "2022-01-06T14:33:31.757156Z",
     "shell.execute_reply.started": "2022-01-06T13:44:07.574780Z"
    },
    "id": "_U8J3J8wJrGH",
    "papermill": {
     "duration": 0.050054,
     "end_time": "2022-01-06T14:33:31.757334",
     "exception": false,
     "start_time": "2022-01-06T14:33:31.707280",
     "status": "completed"
    },
    "tags": []
   },
   "outputs": [],
   "source": [
    "#Create the dictionary again of Topic names and Topics\n",
    "\n",
    "#Topic_names = {   }\n",
    "#Replace Topics with Topic Names\n",
    "#df_clean['Topic'] = df_clean['Topic'].map(Topic_names)"
   ]
  },
  {
   "cell_type": "code",
   "execution_count": 38,
   "id": "ea529a03",
   "metadata": {
    "execution": {
     "iopub.execute_input": "2022-01-06T14:33:31.850615Z",
     "iopub.status.busy": "2022-01-06T14:33:31.849656Z",
     "iopub.status.idle": "2022-01-06T14:33:31.852520Z",
     "shell.execute_reply": "2022-01-06T14:33:31.852008Z",
     "shell.execute_reply.started": "2022-01-06T13:44:07.586454Z"
    },
    "id": "BWIgJUkQJrGH",
    "papermill": {
     "duration": 0.050992,
     "end_time": "2022-01-06T14:33:31.852664",
     "exception": false,
     "start_time": "2022-01-06T14:33:31.801672",
     "status": "completed"
    },
    "tags": []
   },
   "outputs": [],
   "source": [
    "#df_clean"
   ]
  },
  {
   "cell_type": "code",
   "execution_count": 39,
   "id": "d9deaad5",
   "metadata": {
    "execution": {
     "iopub.execute_input": "2022-01-06T14:33:31.946769Z",
     "iopub.status.busy": "2022-01-06T14:33:31.945824Z",
     "iopub.status.idle": "2022-01-06T14:33:31.948800Z",
     "shell.execute_reply": "2022-01-06T14:33:31.948136Z",
     "shell.execute_reply.started": "2022-01-06T13:44:07.597908Z"
    },
    "id": "Xx-FrbkWJrGH",
    "papermill": {
     "duration": 0.05223,
     "end_time": "2022-01-06T14:33:31.948938",
     "exception": false,
     "start_time": "2022-01-06T14:33:31.896708",
     "status": "completed"
    },
    "tags": []
   },
   "outputs": [],
   "source": [
    "#Keep the columns\"complaint_what_happened\" & \"Topic\" only in the new dataframe --> training_data\n",
    "#training_data="
   ]
  },
  {
   "cell_type": "code",
   "execution_count": 40,
   "id": "aaa8d8b0",
   "metadata": {
    "execution": {
     "iopub.execute_input": "2022-01-06T14:33:32.041822Z",
     "iopub.status.busy": "2022-01-06T14:33:32.041128Z",
     "iopub.status.idle": "2022-01-06T14:33:32.042654Z",
     "shell.execute_reply": "2022-01-06T14:33:32.043107Z",
     "shell.execute_reply.started": "2022-01-06T13:44:07.610168Z"
    },
    "id": "lVg2pa12JrGI",
    "papermill": {
     "duration": 0.050141,
     "end_time": "2022-01-06T14:33:32.043275",
     "exception": false,
     "start_time": "2022-01-06T14:33:31.993134",
     "status": "completed"
    },
    "tags": []
   },
   "outputs": [],
   "source": [
    "#training_data"
   ]
  },
  {
   "cell_type": "markdown",
   "id": "10f75607",
   "metadata": {
    "id": "280Vbqk-7a8M",
    "papermill": {
     "duration": 0.043767,
     "end_time": "2022-01-06T14:33:32.132526",
     "exception": false,
     "start_time": "2022-01-06T14:33:32.088759",
     "status": "completed"
    },
    "tags": []
   },
   "source": [
    "#### Apply the supervised models on the training data created. In this process, you have to do the following:\n",
    "* Create the vector counts using Count Vectoriser\n",
    "* Transform the word vecotr to tf-idf\n",
    "* Create the train & test data using the train_test_split on the tf-idf & topics\n"
   ]
  },
  {
   "cell_type": "code",
   "execution_count": 41,
   "id": "66c05a36",
   "metadata": {
    "execution": {
     "iopub.execute_input": "2022-01-06T14:33:32.225637Z",
     "iopub.status.busy": "2022-01-06T14:33:32.224674Z",
     "iopub.status.idle": "2022-01-06T14:33:32.227802Z",
     "shell.execute_reply": "2022-01-06T14:33:32.228389Z",
     "shell.execute_reply.started": "2022-01-06T13:44:07.622611Z"
    },
    "id": "oUlQpgkzJrGI",
    "papermill": {
     "duration": 0.05089,
     "end_time": "2022-01-06T14:33:32.228551",
     "exception": false,
     "start_time": "2022-01-06T14:33:32.177661",
     "status": "completed"
    },
    "tags": []
   },
   "outputs": [],
   "source": [
    "\n",
    "#Write your code to get the Vector count\n",
    "\n",
    "\n",
    "#Write your code here to transform the word vector to tf-idf"
   ]
  },
  {
   "cell_type": "markdown",
   "id": "6534825c",
   "metadata": {
    "id": "uMU3vj6w-wqL",
    "papermill": {
     "duration": 0.04359,
     "end_time": "2022-01-06T14:33:32.316255",
     "exception": false,
     "start_time": "2022-01-06T14:33:32.272665",
     "status": "completed"
    },
    "tags": []
   },
   "source": [
    "You have to try atleast 3 models on the train & test data from these options:\n",
    "* Logistic regression\n",
    "* Decision Tree\n",
    "* Random Forest\n",
    "* Naive Bayes (optional)\n",
    "\n",
    "**Using the required evaluation metrics judge the tried models and select the ones performing the best**"
   ]
  },
  {
   "cell_type": "code",
   "execution_count": 42,
   "id": "cfa1377b",
   "metadata": {
    "execution": {
     "iopub.execute_input": "2022-01-06T14:33:32.408632Z",
     "iopub.status.busy": "2022-01-06T14:33:32.407664Z",
     "iopub.status.idle": "2022-01-06T14:33:32.410714Z",
     "shell.execute_reply": "2022-01-06T14:33:32.411315Z",
     "shell.execute_reply.started": "2022-01-06T13:44:07.634681Z"
    },
    "id": "udLHpPsZJrGI",
    "papermill": {
     "duration": 0.050631,
     "end_time": "2022-01-06T14:33:32.411475",
     "exception": false,
     "start_time": "2022-01-06T14:33:32.360844",
     "status": "completed"
    },
    "tags": []
   },
   "outputs": [],
   "source": [
    "# Write your code here to build any 3 models and evaluate them using the required metrics\n",
    "\n",
    "\n",
    "\n"
   ]
  },
  {
   "cell_type": "code",
   "execution_count": null,
   "id": "9711ad9c",
   "metadata": {
    "id": "N2OznsObJrGP",
    "papermill": {
     "duration": 0.04408,
     "end_time": "2022-01-06T14:33:32.499866",
     "exception": false,
     "start_time": "2022-01-06T14:33:32.455786",
     "status": "completed"
    },
    "tags": []
   },
   "outputs": [],
   "source": []
  }
 ],
 "metadata": {
  "kernelspec": {
   "display_name": "Python 3",
   "language": "python",
   "name": "python3"
  },
  "language_info": {
   "codemirror_mode": {
    "name": "ipython",
    "version": 3
   },
   "file_extension": ".py",
   "mimetype": "text/x-python",
   "name": "python",
   "nbconvert_exporter": "python",
   "pygments_lexer": "ipython3",
   "version": "3.7.12"
  },
  "papermill": {
   "default_parameters": {},
   "duration": 35.742312,
   "end_time": "2022-01-06T14:33:36.074477",
   "environment_variables": {},
   "exception": null,
   "input_path": "__notebook__.ipynb",
   "output_path": "__notebook__.ipynb",
   "parameters": {},
   "start_time": "2022-01-06T14:33:00.332165",
   "version": "2.3.3"
  }
 },
 "nbformat": 4,
 "nbformat_minor": 5
}
