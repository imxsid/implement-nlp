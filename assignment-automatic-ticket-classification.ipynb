{
 "cells": [
  {
   "cell_type": "markdown",
   "id": "1125fc3e",
   "metadata": {
    "id": "rhR-ZUkwJrFn",
    "papermill": {
     "duration": 0.047463,
     "end_time": "2022-01-09T13:10:22.987617",
     "exception": false,
     "start_time": "2022-01-09T13:10:22.940154",
     "status": "completed"
    },
    "tags": []
   },
   "source": [
    "## Problem Statement \n",
    "\n",
    "You need to build a model that is able to classify customer complaints based on the products/services. By doing so, you can segregate these tickets into their relevant categories and, therefore, help in the quick resolution of the issue.\n",
    "\n",
    "You will be doing topic modelling on the <b>.json</b> data provided by the company. Since this data is not labelled, you need to apply NMF to analyse patterns and classify tickets into the following five clusters based on their products/services:\n",
    "\n",
    "* Credit card / Prepaid card\n",
    "\n",
    "* Bank account services\n",
    "\n",
    "* Theft/Dispute reporting\n",
    "\n",
    "* Mortgages/loans\n",
    "\n",
    "* Others \n",
    "\n",
    "\n",
    "With the help of topic modelling, you will be able to map each ticket onto its respective department/category. You can then use this data to train any supervised model such as logistic regression, decision tree or random forest. Using this trained model, you can classify any new customer complaint support ticket into its relevant department."
   ]
  },
  {
   "cell_type": "markdown",
   "id": "440e4824",
   "metadata": {
    "id": "mcgXVNyaLUFS",
    "papermill": {
     "duration": 0.044116,
     "end_time": "2022-01-09T13:10:23.076870",
     "exception": false,
     "start_time": "2022-01-09T13:10:23.032754",
     "status": "completed"
    },
    "tags": []
   },
   "source": [
    "## Pipelines that needs to be performed:\n",
    "\n",
    "You need to perform the following eight major tasks to complete the assignment:\n",
    "\n",
    "1.  Data loading\n",
    "\n",
    "2. Text preprocessing\n",
    "\n",
    "3. Exploratory data analysis (EDA)\n",
    "\n",
    "4. Feature extraction\n",
    "\n",
    "5. Topic modelling \n",
    "\n",
    "6. Model building using supervised learning\n",
    "\n",
    "7. Model training and evaluation\n",
    "\n",
    "8. Model inference"
   ]
  },
  {
   "cell_type": "markdown",
   "id": "3fcd07d9",
   "metadata": {
    "id": "JuLFIymAL58u",
    "papermill": {
     "duration": 0.046075,
     "end_time": "2022-01-09T13:10:23.169828",
     "exception": false,
     "start_time": "2022-01-09T13:10:23.123753",
     "status": "completed"
    },
    "tags": []
   },
   "source": [
    "## Importing the necessary libraries"
   ]
  },
  {
   "cell_type": "code",
   "execution_count": 1,
   "id": "ecf77b1c",
   "metadata": {
    "execution": {
     "iopub.execute_input": "2022-01-09T13:10:23.264183Z",
     "iopub.status.busy": "2022-01-09T13:10:23.263040Z",
     "iopub.status.idle": "2022-01-09T13:10:36.622138Z",
     "shell.execute_reply": "2022-01-09T13:10:36.622760Z",
     "shell.execute_reply.started": "2022-01-09T13:09:44.063946Z"
    },
    "id": "O-Q9pqrcJrFr",
    "papermill": {
     "duration": 13.408914,
     "end_time": "2022-01-09T13:10:36.623181",
     "exception": false,
     "start_time": "2022-01-09T13:10:23.214267",
     "status": "completed"
    },
    "tags": []
   },
   "outputs": [],
   "source": [
    "import json \n",
    "import numpy as np\n",
    "import pandas as pd\n",
    "import re, nltk, spacy, string\n",
    "import en_core_web_sm\n",
    "\n",
    "import seaborn as sns\n",
    "import matplotlib.pyplot as plt\n",
    "\n",
    "\n",
    "from plotly.offline import plot\n",
    "import plotly.graph_objects as go\n",
    "import plotly.express as px\n",
    "\n",
    "from sklearn.feature_extraction.text import CountVectorizer, TfidfVectorizer\n",
    "from pprint import pprint\n",
    "\n",
    "%matplotlib inline\n",
    "\n",
    "nlp = en_core_web_sm.load()"
   ]
  },
  {
   "cell_type": "markdown",
   "id": "f0cda173",
   "metadata": {
    "id": "KtRLCsNVJrFt",
    "papermill": {
     "duration": 0.044518,
     "end_time": "2022-01-09T13:10:36.712357",
     "exception": false,
     "start_time": "2022-01-09T13:10:36.667839",
     "status": "completed"
    },
    "tags": []
   },
   "source": [
    "## Loading the data\n",
    "\n",
    "The data is in JSON format and we need to convert it to a dataframe."
   ]
  },
  {
   "cell_type": "code",
   "execution_count": 2,
   "id": "2d28dab9",
   "metadata": {
    "execution": {
     "iopub.execute_input": "2022-01-09T13:10:36.805147Z",
     "iopub.status.busy": "2022-01-09T13:10:36.804497Z",
     "iopub.status.idle": "2022-01-09T13:10:42.042243Z",
     "shell.execute_reply": "2022-01-09T13:10:42.042771Z",
     "shell.execute_reply.started": "2022-01-09T13:09:44.743513Z"
    },
    "id": "puVzIf_iJrFt",
    "papermill": {
     "duration": 5.286024,
     "end_time": "2022-01-09T13:10:42.042982",
     "exception": false,
     "start_time": "2022-01-09T13:10:36.756958",
     "status": "completed"
    },
    "tags": []
   },
   "outputs": [],
   "source": [
    "# Opening JSON file \n",
    "file_path = open('../input/automatic-ticket-classification/complaints-2021-05-14_08_16.json') # Write the path to your data file and load it \n",
    "  \n",
    "# returns JSON object as  \n",
    "# a dictionary \n",
    "data = json.load(file_path)\n",
    "df = pd.json_normalize(data)"
   ]
  },
  {
   "cell_type": "markdown",
   "id": "f61e3e16",
   "metadata": {
    "id": "_xYpH-sAJrFu",
    "papermill": {
     "duration": 0.044203,
     "end_time": "2022-01-09T13:10:42.133372",
     "exception": false,
     "start_time": "2022-01-09T13:10:42.089169",
     "status": "completed"
    },
    "tags": []
   },
   "source": [
    "## Data preparation"
   ]
  },
  {
   "cell_type": "code",
   "execution_count": 3,
   "id": "b92dccff",
   "metadata": {
    "execution": {
     "iopub.execute_input": "2022-01-09T13:10:42.232102Z",
     "iopub.status.busy": "2022-01-09T13:10:42.231368Z",
     "iopub.status.idle": "2022-01-09T13:10:42.259974Z",
     "shell.execute_reply": "2022-01-09T13:10:42.260520Z",
     "shell.execute_reply.started": "2022-01-09T13:09:48.209402Z"
    },
    "id": "Lf8ufHH5JrFu",
    "papermill": {
     "duration": 0.081921,
     "end_time": "2022-01-09T13:10:42.260700",
     "exception": false,
     "start_time": "2022-01-09T13:10:42.178779",
     "status": "completed"
    },
    "tags": []
   },
   "outputs": [
    {
     "data": {
      "text/html": [
       "<div>\n",
       "<style scoped>\n",
       "    .dataframe tbody tr th:only-of-type {\n",
       "        vertical-align: middle;\n",
       "    }\n",
       "\n",
       "    .dataframe tbody tr th {\n",
       "        vertical-align: top;\n",
       "    }\n",
       "\n",
       "    .dataframe thead th {\n",
       "        text-align: right;\n",
       "    }\n",
       "</style>\n",
       "<table border=\"1\" class=\"dataframe\">\n",
       "  <thead>\n",
       "    <tr style=\"text-align: right;\">\n",
       "      <th></th>\n",
       "      <th>_index</th>\n",
       "      <th>_type</th>\n",
       "      <th>_id</th>\n",
       "      <th>_score</th>\n",
       "      <th>_source.tags</th>\n",
       "      <th>_source.zip_code</th>\n",
       "      <th>_source.complaint_id</th>\n",
       "      <th>_source.issue</th>\n",
       "      <th>_source.date_received</th>\n",
       "      <th>_source.state</th>\n",
       "      <th>_source.consumer_disputed</th>\n",
       "      <th>_source.product</th>\n",
       "      <th>_source.company_response</th>\n",
       "      <th>_source.company</th>\n",
       "      <th>_source.submitted_via</th>\n",
       "      <th>_source.date_sent_to_company</th>\n",
       "      <th>_source.company_public_response</th>\n",
       "      <th>_source.sub_product</th>\n",
       "      <th>_source.timely</th>\n",
       "      <th>_source.complaint_what_happened</th>\n",
       "      <th>_source.sub_issue</th>\n",
       "      <th>_source.consumer_consent_provided</th>\n",
       "    </tr>\n",
       "  </thead>\n",
       "  <tbody>\n",
       "    <tr>\n",
       "      <th>0</th>\n",
       "      <td>complaint-public-v2</td>\n",
       "      <td>complaint</td>\n",
       "      <td>3211475</td>\n",
       "      <td>0.0</td>\n",
       "      <td>None</td>\n",
       "      <td>90301</td>\n",
       "      <td>3211475</td>\n",
       "      <td>Attempts to collect debt not owed</td>\n",
       "      <td>2019-04-13T12:00:00-05:00</td>\n",
       "      <td>CA</td>\n",
       "      <td>N/A</td>\n",
       "      <td>Debt collection</td>\n",
       "      <td>Closed with explanation</td>\n",
       "      <td>JPMORGAN CHASE &amp; CO.</td>\n",
       "      <td>Web</td>\n",
       "      <td>2019-04-13T12:00:00-05:00</td>\n",
       "      <td>None</td>\n",
       "      <td>Credit card debt</td>\n",
       "      <td>Yes</td>\n",
       "      <td></td>\n",
       "      <td>Debt is not yours</td>\n",
       "      <td>Consent not provided</td>\n",
       "    </tr>\n",
       "    <tr>\n",
       "      <th>1</th>\n",
       "      <td>complaint-public-v2</td>\n",
       "      <td>complaint</td>\n",
       "      <td>3229299</td>\n",
       "      <td>0.0</td>\n",
       "      <td>Servicemember</td>\n",
       "      <td>319XX</td>\n",
       "      <td>3229299</td>\n",
       "      <td>Written notification about debt</td>\n",
       "      <td>2019-05-01T12:00:00-05:00</td>\n",
       "      <td>GA</td>\n",
       "      <td>N/A</td>\n",
       "      <td>Debt collection</td>\n",
       "      <td>Closed with explanation</td>\n",
       "      <td>JPMORGAN CHASE &amp; CO.</td>\n",
       "      <td>Web</td>\n",
       "      <td>2019-05-01T12:00:00-05:00</td>\n",
       "      <td>None</td>\n",
       "      <td>Credit card debt</td>\n",
       "      <td>Yes</td>\n",
       "      <td>Good morning my name is XXXX XXXX and I apprec...</td>\n",
       "      <td>Didn't receive enough information to verify debt</td>\n",
       "      <td>Consent provided</td>\n",
       "    </tr>\n",
       "    <tr>\n",
       "      <th>2</th>\n",
       "      <td>complaint-public-v2</td>\n",
       "      <td>complaint</td>\n",
       "      <td>3199379</td>\n",
       "      <td>0.0</td>\n",
       "      <td>None</td>\n",
       "      <td>77069</td>\n",
       "      <td>3199379</td>\n",
       "      <td>Other features, terms, or problems</td>\n",
       "      <td>2019-04-02T12:00:00-05:00</td>\n",
       "      <td>TX</td>\n",
       "      <td>N/A</td>\n",
       "      <td>Credit card or prepaid card</td>\n",
       "      <td>Closed with explanation</td>\n",
       "      <td>JPMORGAN CHASE &amp; CO.</td>\n",
       "      <td>Web</td>\n",
       "      <td>2019-04-02T12:00:00-05:00</td>\n",
       "      <td>None</td>\n",
       "      <td>General-purpose credit card or charge card</td>\n",
       "      <td>Yes</td>\n",
       "      <td>I upgraded my XXXX XXXX card in XX/XX/2018 and...</td>\n",
       "      <td>Problem with rewards from credit card</td>\n",
       "      <td>Consent provided</td>\n",
       "    </tr>\n",
       "    <tr>\n",
       "      <th>3</th>\n",
       "      <td>complaint-public-v2</td>\n",
       "      <td>complaint</td>\n",
       "      <td>2673060</td>\n",
       "      <td>0.0</td>\n",
       "      <td>None</td>\n",
       "      <td>48066</td>\n",
       "      <td>2673060</td>\n",
       "      <td>Trouble during payment process</td>\n",
       "      <td>2017-09-13T12:00:00-05:00</td>\n",
       "      <td>MI</td>\n",
       "      <td>N/A</td>\n",
       "      <td>Mortgage</td>\n",
       "      <td>Closed with explanation</td>\n",
       "      <td>JPMORGAN CHASE &amp; CO.</td>\n",
       "      <td>Web</td>\n",
       "      <td>2017-09-14T12:00:00-05:00</td>\n",
       "      <td>None</td>\n",
       "      <td>Conventional home mortgage</td>\n",
       "      <td>Yes</td>\n",
       "      <td></td>\n",
       "      <td>None</td>\n",
       "      <td>Consent not provided</td>\n",
       "    </tr>\n",
       "    <tr>\n",
       "      <th>4</th>\n",
       "      <td>complaint-public-v2</td>\n",
       "      <td>complaint</td>\n",
       "      <td>3203545</td>\n",
       "      <td>0.0</td>\n",
       "      <td>None</td>\n",
       "      <td>10473</td>\n",
       "      <td>3203545</td>\n",
       "      <td>Fees or interest</td>\n",
       "      <td>2019-04-05T12:00:00-05:00</td>\n",
       "      <td>NY</td>\n",
       "      <td>N/A</td>\n",
       "      <td>Credit card or prepaid card</td>\n",
       "      <td>Closed with explanation</td>\n",
       "      <td>JPMORGAN CHASE &amp; CO.</td>\n",
       "      <td>Referral</td>\n",
       "      <td>2019-04-05T12:00:00-05:00</td>\n",
       "      <td>None</td>\n",
       "      <td>General-purpose credit card or charge card</td>\n",
       "      <td>Yes</td>\n",
       "      <td></td>\n",
       "      <td>Charged too much interest</td>\n",
       "      <td>N/A</td>\n",
       "    </tr>\n",
       "  </tbody>\n",
       "</table>\n",
       "</div>"
      ],
      "text/plain": [
       "                _index      _type      _id  _score   _source.tags  \\\n",
       "0  complaint-public-v2  complaint  3211475     0.0           None   \n",
       "1  complaint-public-v2  complaint  3229299     0.0  Servicemember   \n",
       "2  complaint-public-v2  complaint  3199379     0.0           None   \n",
       "3  complaint-public-v2  complaint  2673060     0.0           None   \n",
       "4  complaint-public-v2  complaint  3203545     0.0           None   \n",
       "\n",
       "  _source.zip_code _source.complaint_id                       _source.issue  \\\n",
       "0            90301              3211475   Attempts to collect debt not owed   \n",
       "1            319XX              3229299     Written notification about debt   \n",
       "2            77069              3199379  Other features, terms, or problems   \n",
       "3            48066              2673060      Trouble during payment process   \n",
       "4            10473              3203545                    Fees or interest   \n",
       "\n",
       "       _source.date_received _source.state _source.consumer_disputed  \\\n",
       "0  2019-04-13T12:00:00-05:00            CA                       N/A   \n",
       "1  2019-05-01T12:00:00-05:00            GA                       N/A   \n",
       "2  2019-04-02T12:00:00-05:00            TX                       N/A   \n",
       "3  2017-09-13T12:00:00-05:00            MI                       N/A   \n",
       "4  2019-04-05T12:00:00-05:00            NY                       N/A   \n",
       "\n",
       "               _source.product _source.company_response       _source.company  \\\n",
       "0              Debt collection  Closed with explanation  JPMORGAN CHASE & CO.   \n",
       "1              Debt collection  Closed with explanation  JPMORGAN CHASE & CO.   \n",
       "2  Credit card or prepaid card  Closed with explanation  JPMORGAN CHASE & CO.   \n",
       "3                     Mortgage  Closed with explanation  JPMORGAN CHASE & CO.   \n",
       "4  Credit card or prepaid card  Closed with explanation  JPMORGAN CHASE & CO.   \n",
       "\n",
       "  _source.submitted_via _source.date_sent_to_company  \\\n",
       "0                   Web    2019-04-13T12:00:00-05:00   \n",
       "1                   Web    2019-05-01T12:00:00-05:00   \n",
       "2                   Web    2019-04-02T12:00:00-05:00   \n",
       "3                   Web    2017-09-14T12:00:00-05:00   \n",
       "4              Referral    2019-04-05T12:00:00-05:00   \n",
       "\n",
       "  _source.company_public_response                         _source.sub_product  \\\n",
       "0                            None                            Credit card debt   \n",
       "1                            None                            Credit card debt   \n",
       "2                            None  General-purpose credit card or charge card   \n",
       "3                            None                  Conventional home mortgage   \n",
       "4                            None  General-purpose credit card or charge card   \n",
       "\n",
       "  _source.timely                    _source.complaint_what_happened  \\\n",
       "0            Yes                                                      \n",
       "1            Yes  Good morning my name is XXXX XXXX and I apprec...   \n",
       "2            Yes  I upgraded my XXXX XXXX card in XX/XX/2018 and...   \n",
       "3            Yes                                                      \n",
       "4            Yes                                                      \n",
       "\n",
       "                                  _source.sub_issue  \\\n",
       "0                                 Debt is not yours   \n",
       "1  Didn't receive enough information to verify debt   \n",
       "2             Problem with rewards from credit card   \n",
       "3                                              None   \n",
       "4                         Charged too much interest   \n",
       "\n",
       "  _source.consumer_consent_provided  \n",
       "0              Consent not provided  \n",
       "1                  Consent provided  \n",
       "2                  Consent provided  \n",
       "3              Consent not provided  \n",
       "4                               N/A  "
      ]
     },
     "execution_count": 3,
     "metadata": {},
     "output_type": "execute_result"
    }
   ],
   "source": [
    "# Inspect the dataframe to understand the given data.\n",
    "pd.set_option('max_columns', None)\n",
    "df.head()"
   ]
  },
  {
   "cell_type": "code",
   "execution_count": 4,
   "id": "556394a8",
   "metadata": {
    "execution": {
     "iopub.execute_input": "2022-01-09T13:10:42.356347Z",
     "iopub.status.busy": "2022-01-09T13:10:42.355670Z",
     "iopub.status.idle": "2022-01-09T13:10:42.676900Z",
     "shell.execute_reply": "2022-01-09T13:10:42.675783Z",
     "shell.execute_reply.started": "2022-01-09T13:09:48.241294Z"
    },
    "papermill": {
     "duration": 0.371006,
     "end_time": "2022-01-09T13:10:42.677159",
     "exception": false,
     "start_time": "2022-01-09T13:10:42.306153",
     "status": "completed"
    },
    "tags": []
   },
   "outputs": [
    {
     "name": "stdout",
     "output_type": "stream",
     "text": [
      "<class 'pandas.core.frame.DataFrame'>\n",
      "RangeIndex: 78313 entries, 0 to 78312\n",
      "Data columns (total 22 columns):\n",
      " #   Column                             Non-Null Count  Dtype  \n",
      "---  ------                             --------------  -----  \n",
      " 0   _index                             78313 non-null  object \n",
      " 1   _type                              78313 non-null  object \n",
      " 2   _id                                78313 non-null  object \n",
      " 3   _score                             78313 non-null  float64\n",
      " 4   _source.tags                       10900 non-null  object \n",
      " 5   _source.zip_code                   71556 non-null  object \n",
      " 6   _source.complaint_id               78313 non-null  object \n",
      " 7   _source.issue                      78313 non-null  object \n",
      " 8   _source.date_received              78313 non-null  object \n",
      " 9   _source.state                      76322 non-null  object \n",
      " 10  _source.consumer_disputed          78313 non-null  object \n",
      " 11  _source.product                    78313 non-null  object \n",
      " 12  _source.company_response           78313 non-null  object \n",
      " 13  _source.company                    78313 non-null  object \n",
      " 14  _source.submitted_via              78313 non-null  object \n",
      " 15  _source.date_sent_to_company       78313 non-null  object \n",
      " 16  _source.company_public_response    4 non-null      object \n",
      " 17  _source.sub_product                67742 non-null  object \n",
      " 18  _source.timely                     78313 non-null  object \n",
      " 19  _source.complaint_what_happened    78313 non-null  object \n",
      " 20  _source.sub_issue                  32016 non-null  object \n",
      " 21  _source.consumer_consent_provided  77305 non-null  object \n",
      "dtypes: float64(1), object(21)\n",
      "memory usage: 13.1+ MB\n"
     ]
    }
   ],
   "source": [
    "df.info()"
   ]
  },
  {
   "cell_type": "code",
   "execution_count": 5,
   "id": "6e0e07fb",
   "metadata": {
    "execution": {
     "iopub.execute_input": "2022-01-09T13:10:42.776752Z",
     "iopub.status.busy": "2022-01-09T13:10:42.775997Z",
     "iopub.status.idle": "2022-01-09T13:10:42.787813Z",
     "shell.execute_reply": "2022-01-09T13:10:42.787147Z",
     "shell.execute_reply.started": "2022-01-09T13:09:48.504166Z"
    },
    "id": "Dwcty-wmJrFw",
    "papermill": {
     "duration": 0.063999,
     "end_time": "2022-01-09T13:10:42.787952",
     "exception": false,
     "start_time": "2022-01-09T13:10:42.723953",
     "status": "completed"
    },
    "tags": []
   },
   "outputs": [
    {
     "name": "stdout",
     "output_type": "stream",
     "text": [
      "01 Column :  _index\n",
      "02 Column :  _type\n",
      "03 Column :  _id\n",
      "04 Column :  _score\n",
      "05 Column :  _source.tags\n",
      "06 Column :  _source.zip_code\n",
      "07 Column :  _source.complaint_id\n",
      "08 Column :  _source.issue\n",
      "09 Column :  _source.date_received\n",
      "10 Column :  _source.state\n",
      "11 Column :  _source.consumer_disputed\n",
      "12 Column :  _source.product\n",
      "13 Column :  _source.company_response\n",
      "14 Column :  _source.company\n",
      "15 Column :  _source.submitted_via\n",
      "16 Column :  _source.date_sent_to_company\n",
      "17 Column :  _source.company_public_response\n",
      "18 Column :  _source.sub_product\n",
      "19 Column :  _source.timely\n",
      "20 Column :  _source.complaint_what_happened\n",
      "21 Column :  _source.sub_issue\n",
      "22 Column :  _source.consumer_consent_provided\n"
     ]
    }
   ],
   "source": [
    "# Print the column names\n",
    "def print_column_names():\n",
    "    i = 1\n",
    "    for col in df.columns:\n",
    "        print(str(\"{:02d}\".format(i)) +\" Column : \", col)\n",
    "        i += 1\n",
    "        \n",
    "print_column_names()"
   ]
  },
  {
   "cell_type": "code",
   "execution_count": 6,
   "id": "1966b5a6",
   "metadata": {
    "execution": {
     "iopub.execute_input": "2022-01-09T13:10:42.889473Z",
     "iopub.status.busy": "2022-01-09T13:10:42.888756Z",
     "iopub.status.idle": "2022-01-09T13:10:42.897602Z",
     "shell.execute_reply": "2022-01-09T13:10:42.897050Z",
     "shell.execute_reply.started": "2022-01-09T13:09:48.518293Z"
    },
    "id": "FYCtKXD1JrFw",
    "papermill": {
     "duration": 0.063257,
     "end_time": "2022-01-09T13:10:42.897747",
     "exception": false,
     "start_time": "2022-01-09T13:10:42.834490",
     "status": "completed"
    },
    "tags": []
   },
   "outputs": [
    {
     "name": "stdout",
     "output_type": "stream",
     "text": [
      "01 Column :  index\n",
      "02 Column :  type\n",
      "03 Column :  id\n",
      "04 Column :  score\n",
      "05 Column :  tags\n",
      "06 Column :  zipcode\n",
      "07 Column :  complaintid\n",
      "08 Column :  issue\n",
      "09 Column :  datereceived\n",
      "10 Column :  state\n",
      "11 Column :  consumerdisputed\n",
      "12 Column :  product\n",
      "13 Column :  companyresponse\n",
      "14 Column :  company\n",
      "15 Column :  submittedvia\n",
      "16 Column :  datesenttocompany\n",
      "17 Column :  companypublicresponse\n",
      "18 Column :  subproduct\n",
      "19 Column :  timely\n",
      "20 Column :  complaintwhathappened\n",
      "21 Column :  subissue\n",
      "22 Column :  consumerconsentprovided\n"
     ]
    }
   ],
   "source": [
    "# Assign new column names\n",
    "new_columns = {}\n",
    "for col in df.columns:\n",
    "    new_columns[col] = col.replace(\"_\", \"\").replace(\"source.\", \"\")\n",
    "\n",
    "df.rename(columns = new_columns, inplace = True)\n",
    "\n",
    "print_column_names()"
   ]
  },
  {
   "cell_type": "code",
   "execution_count": 7,
   "id": "293ad391",
   "metadata": {
    "execution": {
     "iopub.execute_input": "2022-01-09T13:10:42.997082Z",
     "iopub.status.busy": "2022-01-09T13:10:42.996394Z",
     "iopub.status.idle": "2022-01-09T13:10:42.999489Z",
     "shell.execute_reply": "2022-01-09T13:10:42.998839Z",
     "shell.execute_reply.started": "2022-01-09T13:09:48.537494Z"
    },
    "papermill": {
     "duration": 0.055278,
     "end_time": "2022-01-09T13:10:42.999628",
     "exception": false,
     "start_time": "2022-01-09T13:10:42.944350",
     "status": "completed"
    },
    "tags": []
   },
   "outputs": [
    {
     "name": "stdout",
     "output_type": "stream",
     "text": [
      "No of rows:\u001b[1m 78313 \u001b[0m\n",
      "No of cols:\u001b[1m 22 \u001b[0m\n"
     ]
    }
   ],
   "source": [
    "# Get the shape and size of the dataset\n",
    "print('No of rows:\\033[1m', df.shape[0], '\\033[0m')\n",
    "print('No of cols:\\033[1m', df.shape[1], '\\033[0m')"
   ]
  },
  {
   "cell_type": "code",
   "execution_count": 8,
   "id": "b0760bb5",
   "metadata": {
    "execution": {
     "iopub.execute_input": "2022-01-09T13:10:43.108032Z",
     "iopub.status.busy": "2022-01-09T13:10:43.104722Z",
     "iopub.status.idle": "2022-01-09T13:10:43.111067Z",
     "shell.execute_reply": "2022-01-09T13:10:43.110454Z",
     "shell.execute_reply.started": "2022-01-09T13:09:48.560583Z"
    },
    "id": "grQUPFL5JrFx",
    "papermill": {
     "duration": 0.064178,
     "end_time": "2022-01-09T13:10:43.111221",
     "exception": false,
     "start_time": "2022-01-09T13:10:43.047043",
     "status": "completed"
    },
    "tags": []
   },
   "outputs": [],
   "source": [
    "# Assign nan in place of blanks in the complaints column\n",
    "df.complaintwhathappened.replace(r'', np.nan, regex=True, inplace=True)"
   ]
  },
  {
   "cell_type": "code",
   "execution_count": 9,
   "id": "959f9706",
   "metadata": {
    "execution": {
     "iopub.execute_input": "2022-01-09T13:10:43.219638Z",
     "iopub.status.busy": "2022-01-09T13:10:43.218983Z",
     "iopub.status.idle": "2022-01-09T13:10:43.245330Z",
     "shell.execute_reply": "2022-01-09T13:10:43.244802Z",
     "shell.execute_reply.started": "2022-01-09T13:09:48.582331Z"
    },
    "id": "Jfxd8VSmJrFy",
    "papermill": {
     "duration": 0.087388,
     "end_time": "2022-01-09T13:10:43.245487",
     "exception": false,
     "start_time": "2022-01-09T13:10:43.158099",
     "status": "completed"
    },
    "tags": []
   },
   "outputs": [
    {
     "name": "stdout",
     "output_type": "stream",
     "text": [
      "Remaining Rows :  21072\n"
     ]
    }
   ],
   "source": [
    "# Remove all rows where complaints column is nan\n",
    "df = df[df.complaintwhathappened.notna()]\n",
    "print(\"Remaining Rows : \", len(df))"
   ]
  },
  {
   "cell_type": "markdown",
   "id": "350ae1fa",
   "metadata": {
    "id": "L944HZpsJrFy",
    "papermill": {
     "duration": 0.060747,
     "end_time": "2022-01-09T13:10:43.363037",
     "exception": false,
     "start_time": "2022-01-09T13:10:43.302290",
     "status": "completed"
    },
    "tags": []
   },
   "source": [
    "## Prepare the text for topic modeling\n",
    "\n",
    "Once you have removed all the blank complaints, you need to:\n",
    "\n",
    "* Make the text lowercase\n",
    "* Remove text in square brackets\n",
    "* Remove punctuation\n",
    "* Remove words containing numbers\n",
    "\n",
    "\n",
    "Once you have done these cleaning operations you need to perform the following:\n",
    "* Lemmatize the texts\n",
    "* Use POS tags to get relevant words from the texts.\n"
   ]
  },
  {
   "cell_type": "code",
   "execution_count": 10,
   "id": "4c76f2ea",
   "metadata": {
    "execution": {
     "iopub.execute_input": "2022-01-09T13:10:43.465095Z",
     "iopub.status.busy": "2022-01-09T13:10:43.464329Z",
     "iopub.status.idle": "2022-01-09T13:10:43.466952Z",
     "shell.execute_reply": "2022-01-09T13:10:43.466368Z",
     "shell.execute_reply.started": "2022-01-09T13:09:48.616140Z"
    },
    "id": "qm7SjjSkJrFz",
    "papermill": {
     "duration": 0.053746,
     "end_time": "2022-01-09T13:10:43.467100",
     "exception": false,
     "start_time": "2022-01-09T13:10:43.413354",
     "status": "completed"
    },
    "tags": []
   },
   "outputs": [],
   "source": [
    "# Write your function here to clean the text and remove all the unnecessary elements.\n"
   ]
  },
  {
   "cell_type": "code",
   "execution_count": 11,
   "id": "cd96294b",
   "metadata": {
    "execution": {
     "iopub.execute_input": "2022-01-09T13:10:43.564977Z",
     "iopub.status.busy": "2022-01-09T13:10:43.564337Z",
     "iopub.status.idle": "2022-01-09T13:10:43.567659Z",
     "shell.execute_reply": "2022-01-09T13:10:43.568237Z",
     "shell.execute_reply.started": "2022-01-09T13:09:48.623157Z"
    },
    "id": "zgOu8t8HJrFz",
    "papermill": {
     "duration": 0.054193,
     "end_time": "2022-01-09T13:10:43.568397",
     "exception": false,
     "start_time": "2022-01-09T13:10:43.514204",
     "status": "completed"
    },
    "tags": []
   },
   "outputs": [],
   "source": [
    "#Write your function to Lemmatize the texts\n"
   ]
  },
  {
   "cell_type": "code",
   "execution_count": 12,
   "id": "a0c8ad9d",
   "metadata": {
    "execution": {
     "iopub.execute_input": "2022-01-09T13:10:43.665891Z",
     "iopub.status.busy": "2022-01-09T13:10:43.665235Z",
     "iopub.status.idle": "2022-01-09T13:10:43.668423Z",
     "shell.execute_reply": "2022-01-09T13:10:43.668960Z",
     "shell.execute_reply.started": "2022-01-09T13:09:48.637769Z"
    },
    "id": "uXnN7aa_JrF0",
    "papermill": {
     "duration": 0.053805,
     "end_time": "2022-01-09T13:10:43.669134",
     "exception": false,
     "start_time": "2022-01-09T13:10:43.615329",
     "status": "completed"
    },
    "tags": []
   },
   "outputs": [],
   "source": [
    "#Create a dataframe('df_clean') that will have only the complaints and the lemmatized complaints \n"
   ]
  },
  {
   "cell_type": "code",
   "execution_count": 13,
   "id": "2aa149cc",
   "metadata": {
    "execution": {
     "iopub.execute_input": "2022-01-09T13:10:43.766976Z",
     "iopub.status.busy": "2022-01-09T13:10:43.766330Z",
     "iopub.status.idle": "2022-01-09T13:10:43.769480Z",
     "shell.execute_reply": "2022-01-09T13:10:43.770061Z",
     "shell.execute_reply.started": "2022-01-09T13:09:48.650881Z"
    },
    "id": "nOiDVvEIJrF0",
    "papermill": {
     "duration": 0.053429,
     "end_time": "2022-01-09T13:10:43.770228",
     "exception": false,
     "start_time": "2022-01-09T13:10:43.716799",
     "status": "completed"
    },
    "tags": []
   },
   "outputs": [],
   "source": [
    "# Uncomment df_clean"
   ]
  },
  {
   "cell_type": "code",
   "execution_count": 14,
   "id": "483c3a25",
   "metadata": {
    "execution": {
     "iopub.execute_input": "2022-01-09T13:10:43.869198Z",
     "iopub.status.busy": "2022-01-09T13:10:43.868609Z",
     "iopub.status.idle": "2022-01-09T13:10:43.872128Z",
     "shell.execute_reply": "2022-01-09T13:10:43.872755Z",
     "shell.execute_reply.started": "2022-01-09T13:09:48.668643Z"
    },
    "id": "Kk7fc4DuJrF1",
    "papermill": {
     "duration": 0.054976,
     "end_time": "2022-01-09T13:10:43.872915",
     "exception": false,
     "start_time": "2022-01-09T13:10:43.817939",
     "status": "completed"
    },
    "tags": []
   },
   "outputs": [],
   "source": [
    "#Write your function to extract the POS tags \n",
    "\n"
   ]
  },
  {
   "cell_type": "code",
   "execution_count": 15,
   "id": "9e7a82f1",
   "metadata": {
    "execution": {
     "iopub.execute_input": "2022-01-09T13:10:43.969946Z",
     "iopub.status.busy": "2022-01-09T13:10:43.969299Z",
     "iopub.status.idle": "2022-01-09T13:10:43.972281Z",
     "shell.execute_reply": "2022-01-09T13:10:43.972847Z",
     "shell.execute_reply.started": "2022-01-09T13:09:48.677693Z"
    },
    "id": "AjxfchvFJrF2",
    "papermill": {
     "duration": 0.053519,
     "end_time": "2022-01-09T13:10:43.973028",
     "exception": false,
     "start_time": "2022-01-09T13:10:43.919509",
     "status": "completed"
    },
    "tags": []
   },
   "outputs": [],
   "source": [
    "#The clean dataframe should now contain the raw complaint, lemmatized complaint and the complaint after removing POS tags.\n",
    "# Uncomment df_clean"
   ]
  },
  {
   "cell_type": "markdown",
   "id": "6073a74f",
   "metadata": {
    "id": "_7Un1AElJrF2",
    "papermill": {
     "duration": 0.047023,
     "end_time": "2022-01-09T13:10:44.067214",
     "exception": false,
     "start_time": "2022-01-09T13:10:44.020191",
     "status": "completed"
    },
    "tags": []
   },
   "source": [
    "## Exploratory data analysis to get familiar with the data.\n",
    "\n",
    "Write the code in this task to perform the following:\n",
    "\n",
    "*   Visualise the data according to the 'Complaint' character length\n",
    "*   Using a word cloud find the top 40 words by frequency among all the articles after processing the text\n",
    "*   Find the top unigrams,bigrams and trigrams by frequency among all the complaints after processing the text. ‘\n",
    "\n",
    "\n"
   ]
  },
  {
   "cell_type": "code",
   "execution_count": 16,
   "id": "a02d1022",
   "metadata": {
    "execution": {
     "iopub.execute_input": "2022-01-09T13:10:44.165541Z",
     "iopub.status.busy": "2022-01-09T13:10:44.164873Z",
     "iopub.status.idle": "2022-01-09T13:10:44.168925Z",
     "shell.execute_reply": "2022-01-09T13:10:44.169488Z",
     "shell.execute_reply.started": "2022-01-09T13:09:48.692302Z"
    },
    "id": "q-zaqJF6JrF2",
    "papermill": {
     "duration": 0.055572,
     "end_time": "2022-01-09T13:10:44.169672",
     "exception": false,
     "start_time": "2022-01-09T13:10:44.114100",
     "status": "completed"
    },
    "tags": []
   },
   "outputs": [],
   "source": [
    "# Write your code here to visualise the data according to the 'Complaint' character length"
   ]
  },
  {
   "cell_type": "markdown",
   "id": "f73b5265",
   "metadata": {
    "id": "T9jD_6SeJrF3",
    "papermill": {
     "duration": 0.047837,
     "end_time": "2022-01-09T13:10:44.265153",
     "exception": false,
     "start_time": "2022-01-09T13:10:44.217316",
     "status": "completed"
    },
    "tags": []
   },
   "source": [
    "#### Find the top 40 words by frequency among all the articles after processing the text."
   ]
  },
  {
   "cell_type": "code",
   "execution_count": 17,
   "id": "b37e547e",
   "metadata": {
    "execution": {
     "iopub.execute_input": "2022-01-09T13:10:44.362318Z",
     "iopub.status.busy": "2022-01-09T13:10:44.361661Z",
     "iopub.status.idle": "2022-01-09T13:10:44.364915Z",
     "shell.execute_reply": "2022-01-09T13:10:44.365500Z",
     "shell.execute_reply.started": "2022-01-09T13:09:48.705344Z"
    },
    "id": "QcfdvtfZJrF3",
    "papermill": {
     "duration": 0.053732,
     "end_time": "2022-01-09T13:10:44.365732",
     "exception": false,
     "start_time": "2022-01-09T13:10:44.312000",
     "status": "completed"
    },
    "tags": []
   },
   "outputs": [],
   "source": [
    "#Using a word cloud find the top 40 words by frequency among all the articles after processing the text\n"
   ]
  },
  {
   "cell_type": "code",
   "execution_count": 18,
   "id": "de704b0b",
   "metadata": {
    "execution": {
     "iopub.execute_input": "2022-01-09T13:10:44.463420Z",
     "iopub.status.busy": "2022-01-09T13:10:44.462790Z",
     "iopub.status.idle": "2022-01-09T13:10:44.466330Z",
     "shell.execute_reply": "2022-01-09T13:10:44.466828Z",
     "shell.execute_reply.started": "2022-01-09T13:09:48.718819Z"
    },
    "id": "OkSmc3UaJrF4",
    "papermill": {
     "duration": 0.053989,
     "end_time": "2022-01-09T13:10:44.466989",
     "exception": false,
     "start_time": "2022-01-09T13:10:44.413000",
     "status": "completed"
    },
    "tags": []
   },
   "outputs": [],
   "source": [
    "#Removing -PRON- from the text corpus\n",
    "#df_clean['Complaint_clean'] = df_clean['complaint_POS_removed'].str.replace('-PRON-', '')"
   ]
  },
  {
   "cell_type": "markdown",
   "id": "19793ed9",
   "metadata": {
    "id": "5DfCSbbmJrF4",
    "papermill": {
     "duration": 0.046514,
     "end_time": "2022-01-09T13:10:44.559910",
     "exception": false,
     "start_time": "2022-01-09T13:10:44.513396",
     "status": "completed"
    },
    "tags": []
   },
   "source": [
    "#### Find the top unigrams,bigrams and trigrams by frequency among all the complaints after processing the text."
   ]
  },
  {
   "cell_type": "code",
   "execution_count": 19,
   "id": "1781f4bf",
   "metadata": {
    "execution": {
     "iopub.execute_input": "2022-01-09T13:10:44.657074Z",
     "iopub.status.busy": "2022-01-09T13:10:44.656449Z",
     "iopub.status.idle": "2022-01-09T13:10:44.659965Z",
     "shell.execute_reply": "2022-01-09T13:10:44.660578Z",
     "shell.execute_reply.started": "2022-01-09T13:09:48.733814Z"
    },
    "id": "5mbk5DS5JrF4",
    "papermill": {
     "duration": 0.054001,
     "end_time": "2022-01-09T13:10:44.660755",
     "exception": false,
     "start_time": "2022-01-09T13:10:44.606754",
     "status": "completed"
    },
    "tags": []
   },
   "outputs": [],
   "source": [
    "#Write your code here to find the top 30 unigram frequency among the complaints in the cleaned datafram(df_clean). \n"
   ]
  },
  {
   "cell_type": "code",
   "execution_count": 20,
   "id": "91780ffc",
   "metadata": {
    "execution": {
     "iopub.execute_input": "2022-01-09T13:10:44.757865Z",
     "iopub.status.busy": "2022-01-09T13:10:44.757241Z",
     "iopub.status.idle": "2022-01-09T13:10:44.760875Z",
     "shell.execute_reply": "2022-01-09T13:10:44.761443Z",
     "shell.execute_reply.started": "2022-01-09T13:09:48.744783Z"
    },
    "id": "YX7fedm1JrF8",
    "papermill": {
     "duration": 0.053939,
     "end_time": "2022-01-09T13:10:44.761605",
     "exception": false,
     "start_time": "2022-01-09T13:10:44.707666",
     "status": "completed"
    },
    "tags": []
   },
   "outputs": [],
   "source": [
    "#Print the top 10 words in the unigram frequency\n"
   ]
  },
  {
   "cell_type": "code",
   "execution_count": 21,
   "id": "4a69527d",
   "metadata": {
    "execution": {
     "iopub.execute_input": "2022-01-09T13:10:44.861073Z",
     "iopub.status.busy": "2022-01-09T13:10:44.860428Z",
     "iopub.status.idle": "2022-01-09T13:10:44.863542Z",
     "shell.execute_reply": "2022-01-09T13:10:44.864088Z",
     "shell.execute_reply.started": "2022-01-09T13:09:48.757810Z"
    },
    "id": "aV7kD7w8JrF8",
    "papermill": {
     "duration": 0.054574,
     "end_time": "2022-01-09T13:10:44.864251",
     "exception": false,
     "start_time": "2022-01-09T13:10:44.809677",
     "status": "completed"
    },
    "tags": []
   },
   "outputs": [],
   "source": [
    "#Write your code here to find the top 30 bigram frequency among the complaints in the cleaned datafram(df_clean). \n"
   ]
  },
  {
   "cell_type": "code",
   "execution_count": 22,
   "id": "ca901dd2",
   "metadata": {
    "execution": {
     "iopub.execute_input": "2022-01-09T13:10:44.962822Z",
     "iopub.status.busy": "2022-01-09T13:10:44.962178Z",
     "iopub.status.idle": "2022-01-09T13:10:44.965510Z",
     "shell.execute_reply": "2022-01-09T13:10:44.966077Z",
     "shell.execute_reply.started": "2022-01-09T13:09:48.771921Z"
    },
    "id": "NPnMNIpyJrF9",
    "papermill": {
     "duration": 0.054486,
     "end_time": "2022-01-09T13:10:44.966242",
     "exception": false,
     "start_time": "2022-01-09T13:10:44.911756",
     "status": "completed"
    },
    "tags": []
   },
   "outputs": [],
   "source": [
    "#Print the top 10 words in the bigram frequency"
   ]
  },
  {
   "cell_type": "code",
   "execution_count": 23,
   "id": "ba153b84",
   "metadata": {
    "execution": {
     "iopub.execute_input": "2022-01-09T13:10:45.063343Z",
     "iopub.status.busy": "2022-01-09T13:10:45.062722Z",
     "iopub.status.idle": "2022-01-09T13:10:45.066501Z",
     "shell.execute_reply": "2022-01-09T13:10:45.067059Z",
     "shell.execute_reply.started": "2022-01-09T13:09:48.783900Z"
    },
    "id": "Xkh7vtbtJrF-",
    "papermill": {
     "duration": 0.054346,
     "end_time": "2022-01-09T13:10:45.067223",
     "exception": false,
     "start_time": "2022-01-09T13:10:45.012877",
     "status": "completed"
    },
    "tags": []
   },
   "outputs": [],
   "source": [
    "#Write your code here to find the top 30 trigram frequency among the complaints in the cleaned datafram(df_clean). \n"
   ]
  },
  {
   "cell_type": "code",
   "execution_count": 24,
   "id": "5075fe07",
   "metadata": {
    "execution": {
     "iopub.execute_input": "2022-01-09T13:10:45.164765Z",
     "iopub.status.busy": "2022-01-09T13:10:45.164112Z",
     "iopub.status.idle": "2022-01-09T13:10:45.167378Z",
     "shell.execute_reply": "2022-01-09T13:10:45.167925Z",
     "shell.execute_reply.started": "2022-01-09T13:09:48.796500Z"
    },
    "id": "REcVxNfvJrF-",
    "papermill": {
     "duration": 0.054485,
     "end_time": "2022-01-09T13:10:45.168136",
     "exception": false,
     "start_time": "2022-01-09T13:10:45.113651",
     "status": "completed"
    },
    "tags": []
   },
   "outputs": [],
   "source": [
    "#Print the top 10 words in the trigram frequency"
   ]
  },
  {
   "cell_type": "markdown",
   "id": "cda238b8",
   "metadata": {
    "id": "yUXzFji0JrF_",
    "papermill": {
     "duration": 0.046403,
     "end_time": "2022-01-09T13:10:45.261396",
     "exception": false,
     "start_time": "2022-01-09T13:10:45.214993",
     "status": "completed"
    },
    "tags": []
   },
   "source": [
    "## The personal details of customer has been masked in the dataset with xxxx. Let's remove the masked text as this will be of no use for our analysis"
   ]
  },
  {
   "cell_type": "code",
   "execution_count": 25,
   "id": "b7290e1f",
   "metadata": {
    "execution": {
     "iopub.execute_input": "2022-01-09T13:10:45.358024Z",
     "iopub.status.busy": "2022-01-09T13:10:45.357381Z",
     "iopub.status.idle": "2022-01-09T13:10:45.360681Z",
     "shell.execute_reply": "2022-01-09T13:10:45.361159Z",
     "shell.execute_reply.started": "2022-01-09T13:09:48.808206Z"
    },
    "id": "wKda-a_IJrF_",
    "papermill": {
     "duration": 0.053388,
     "end_time": "2022-01-09T13:10:45.361318",
     "exception": false,
     "start_time": "2022-01-09T13:10:45.307930",
     "status": "completed"
    },
    "tags": []
   },
   "outputs": [],
   "source": [
    "#df_clean['Complaint_clean'] = df_clean['Complaint_clean'].str.replace('xxxx','')"
   ]
  },
  {
   "cell_type": "code",
   "execution_count": 26,
   "id": "fc3218f3",
   "metadata": {
    "execution": {
     "iopub.execute_input": "2022-01-09T13:10:45.460751Z",
     "iopub.status.busy": "2022-01-09T13:10:45.459850Z",
     "iopub.status.idle": "2022-01-09T13:10:45.463520Z",
     "shell.execute_reply": "2022-01-09T13:10:45.464030Z",
     "shell.execute_reply.started": "2022-01-09T13:09:48.819732Z"
    },
    "id": "9UIFk8fQJrF_",
    "papermill": {
     "duration": 0.056336,
     "end_time": "2022-01-09T13:10:45.464196",
     "exception": false,
     "start_time": "2022-01-09T13:10:45.407860",
     "status": "completed"
    },
    "tags": []
   },
   "outputs": [],
   "source": [
    "#All masked texts has been removed\n",
    "#df_clean"
   ]
  },
  {
   "cell_type": "markdown",
   "id": "79d11aa5",
   "metadata": {
    "id": "k-I0k0QtJrGA",
    "papermill": {
     "duration": 0.046049,
     "end_time": "2022-01-09T13:10:45.556821",
     "exception": false,
     "start_time": "2022-01-09T13:10:45.510772",
     "status": "completed"
    },
    "tags": []
   },
   "source": [
    "## Feature Extraction\n",
    "Convert the raw texts to a matrix of TF-IDF features\n",
    "\n",
    "**max_df** is used for removing terms that appear too frequently, also known as \"corpus-specific stop words\"\n",
    "max_df = 0.95 means \"ignore terms that appear in more than 95% of the complaints\"\n",
    "\n",
    "**min_df** is used for removing terms that appear too infrequently\n",
    "min_df = 2 means \"ignore terms that appear in less than 2 complaints\""
   ]
  },
  {
   "cell_type": "code",
   "execution_count": 27,
   "id": "348108e3",
   "metadata": {
    "execution": {
     "iopub.execute_input": "2022-01-09T13:10:45.653317Z",
     "iopub.status.busy": "2022-01-09T13:10:45.652661Z",
     "iopub.status.idle": "2022-01-09T13:10:45.655308Z",
     "shell.execute_reply": "2022-01-09T13:10:45.655796Z",
     "shell.execute_reply.started": "2022-01-09T13:09:48.834426Z"
    },
    "id": "Y8fGwaCPJrGA",
    "papermill": {
     "duration": 0.052757,
     "end_time": "2022-01-09T13:10:45.655956",
     "exception": false,
     "start_time": "2022-01-09T13:10:45.603199",
     "status": "completed"
    },
    "tags": []
   },
   "outputs": [],
   "source": [
    "#Write your code here to initialise the TfidfVectorizer \n",
    "\n"
   ]
  },
  {
   "cell_type": "markdown",
   "id": "19c6b0ad",
   "metadata": {
    "id": "yYzD85nTJrGA",
    "papermill": {
     "duration": 0.045978,
     "end_time": "2022-01-09T13:10:45.748348",
     "exception": false,
     "start_time": "2022-01-09T13:10:45.702370",
     "status": "completed"
    },
    "tags": []
   },
   "source": [
    "#### Create a document term matrix using fit_transform\n",
    "\n",
    "The contents of a document term matrix are tuples of (complaint_id,token_id) tf-idf score:\n",
    "The tuples that are not there have a tf-idf score of 0"
   ]
  },
  {
   "cell_type": "code",
   "execution_count": 28,
   "id": "6d61f9cf",
   "metadata": {
    "execution": {
     "iopub.execute_input": "2022-01-09T13:10:45.845350Z",
     "iopub.status.busy": "2022-01-09T13:10:45.844041Z",
     "iopub.status.idle": "2022-01-09T13:10:45.846996Z",
     "shell.execute_reply": "2022-01-09T13:10:45.847478Z",
     "shell.execute_reply.started": "2022-01-09T13:09:48.846362Z"
    },
    "id": "ffzdDpp_JrGB",
    "papermill": {
     "duration": 0.052964,
     "end_time": "2022-01-09T13:10:45.847638",
     "exception": false,
     "start_time": "2022-01-09T13:10:45.794674",
     "status": "completed"
    },
    "tags": []
   },
   "outputs": [],
   "source": [
    "#Write your code here to create the Document Term Matrix by transforming the complaints column present in df_clean.\n"
   ]
  },
  {
   "cell_type": "markdown",
   "id": "1a714f09",
   "metadata": {
    "id": "7Q9lwvNEJrGB",
    "papermill": {
     "duration": 0.046364,
     "end_time": "2022-01-09T13:10:45.940635",
     "exception": false,
     "start_time": "2022-01-09T13:10:45.894271",
     "status": "completed"
    },
    "tags": []
   },
   "source": [
    "## Topic Modelling using NMF\n",
    "\n",
    "Non-Negative Matrix Factorization (NMF) is an unsupervised technique so there are no labeling of topics that the model will be trained on. The way it works is that, NMF decomposes (or factorizes) high-dimensional vectors into a lower-dimensional representation. These lower-dimensional vectors are non-negative which also means their coefficients are non-negative.\n",
    "\n",
    "In this task you have to perform the following:\n",
    "\n",
    "* Find the best number of clusters \n",
    "* Apply the best number to create word clusters\n",
    "* Inspect & validate the correction of each cluster wrt the complaints \n",
    "* Correct the labels if needed \n",
    "* Map the clusters to topics/cluster names"
   ]
  },
  {
   "cell_type": "code",
   "execution_count": 29,
   "id": "63136cfa",
   "metadata": {
    "execution": {
     "iopub.execute_input": "2022-01-09T13:10:46.039504Z",
     "iopub.status.busy": "2022-01-09T13:10:46.038858Z",
     "iopub.status.idle": "2022-01-09T13:10:46.071215Z",
     "shell.execute_reply": "2022-01-09T13:10:46.071708Z",
     "shell.execute_reply.started": "2022-01-09T13:09:48.858346Z"
    },
    "id": "amLT4omWJrGB",
    "papermill": {
     "duration": 0.083305,
     "end_time": "2022-01-09T13:10:46.071896",
     "exception": false,
     "start_time": "2022-01-09T13:10:45.988591",
     "status": "completed"
    },
    "tags": []
   },
   "outputs": [],
   "source": [
    "from sklearn.decomposition import NMF"
   ]
  },
  {
   "cell_type": "markdown",
   "id": "99abc4b8",
   "metadata": {
    "id": "0wYR1xUTJrGD",
    "papermill": {
     "duration": 0.046812,
     "end_time": "2022-01-09T13:10:46.165620",
     "exception": false,
     "start_time": "2022-01-09T13:10:46.118808",
     "status": "completed"
    },
    "tags": []
   },
   "source": [
    "## Manual Topic Modeling\n",
    "You need to do take the trial & error approach to find the best num of topics for your NMF model.\n",
    "\n",
    "The only parameter that is required is the number of components i.e. the number of topics we want. This is the most crucial step in the whole topic modeling process and will greatly affect how good your final topics are."
   ]
  },
  {
   "cell_type": "code",
   "execution_count": 30,
   "id": "f5f78491",
   "metadata": {
    "execution": {
     "iopub.execute_input": "2022-01-09T13:10:46.262613Z",
     "iopub.status.busy": "2022-01-09T13:10:46.261916Z",
     "iopub.status.idle": "2022-01-09T13:10:46.265352Z",
     "shell.execute_reply": "2022-01-09T13:10:46.265926Z",
     "shell.execute_reply.started": "2022-01-09T13:09:48.869207Z"
    },
    "id": "sgd2A6bhJrGD",
    "papermill": {
     "duration": 0.053668,
     "end_time": "2022-01-09T13:10:46.266110",
     "exception": false,
     "start_time": "2022-01-09T13:10:46.212442",
     "status": "completed"
    },
    "tags": []
   },
   "outputs": [],
   "source": [
    "#Load your nmf_model with the n_components i.e 5\n",
    "#num_topics = #write the value you want to test out\n",
    "\n",
    "#keep the random_state =40\n",
    "#nmf_model = #write your code here"
   ]
  },
  {
   "cell_type": "code",
   "execution_count": 31,
   "id": "eedfed6a",
   "metadata": {
    "execution": {
     "iopub.execute_input": "2022-01-09T13:10:46.364856Z",
     "iopub.status.busy": "2022-01-09T13:10:46.363942Z",
     "iopub.status.idle": "2022-01-09T13:10:46.367729Z",
     "shell.execute_reply": "2022-01-09T13:10:46.367007Z",
     "shell.execute_reply.started": "2022-01-09T13:09:48.881217Z"
    },
    "id": "VPMDYbt_JrGE",
    "papermill": {
     "duration": 0.054928,
     "end_time": "2022-01-09T13:10:46.367877",
     "exception": false,
     "start_time": "2022-01-09T13:10:46.312949",
     "status": "completed"
    },
    "tags": []
   },
   "outputs": [],
   "source": [
    "#nmf_model.fit(dtm)\n",
    "#len(tfidf.get_feature_names())"
   ]
  },
  {
   "cell_type": "code",
   "execution_count": 32,
   "id": "913dc68a",
   "metadata": {
    "execution": {
     "iopub.execute_input": "2022-01-09T13:10:46.466963Z",
     "iopub.status.busy": "2022-01-09T13:10:46.466030Z",
     "iopub.status.idle": "2022-01-09T13:10:46.468860Z",
     "shell.execute_reply": "2022-01-09T13:10:46.468363Z",
     "shell.execute_reply.started": "2022-01-09T13:09:48.893035Z"
    },
    "id": "16kRfat5JrGE",
    "papermill": {
     "duration": 0.054051,
     "end_time": "2022-01-09T13:10:46.468993",
     "exception": false,
     "start_time": "2022-01-09T13:10:46.414942",
     "status": "completed"
    },
    "tags": []
   },
   "outputs": [],
   "source": [
    "#Print the Top15 words for each of the topics\n"
   ]
  },
  {
   "cell_type": "code",
   "execution_count": 33,
   "id": "ee20daff",
   "metadata": {
    "execution": {
     "iopub.execute_input": "2022-01-09T13:10:46.566722Z",
     "iopub.status.busy": "2022-01-09T13:10:46.566092Z",
     "iopub.status.idle": "2022-01-09T13:10:46.567960Z",
     "shell.execute_reply": "2022-01-09T13:10:46.568385Z",
     "shell.execute_reply.started": "2022-01-09T13:09:48.905381Z"
    },
    "id": "0OIT7LmFJrGF",
    "papermill": {
     "duration": 0.052842,
     "end_time": "2022-01-09T13:10:46.568567",
     "exception": false,
     "start_time": "2022-01-09T13:10:46.515725",
     "status": "completed"
    },
    "tags": []
   },
   "outputs": [],
   "source": [
    "#Create the best topic for each complaint in terms of integer value 0,1,2,3 & 4\n",
    "\n"
   ]
  },
  {
   "cell_type": "code",
   "execution_count": 34,
   "id": "546469bb",
   "metadata": {
    "execution": {
     "iopub.execute_input": "2022-01-09T13:10:46.666221Z",
     "iopub.status.busy": "2022-01-09T13:10:46.665569Z",
     "iopub.status.idle": "2022-01-09T13:10:46.668625Z",
     "shell.execute_reply": "2022-01-09T13:10:46.669130Z",
     "shell.execute_reply.started": "2022-01-09T13:09:48.918252Z"
    },
    "id": "peyYv-ORJrGF",
    "papermill": {
     "duration": 0.053628,
     "end_time": "2022-01-09T13:10:46.669309",
     "exception": false,
     "start_time": "2022-01-09T13:10:46.615681",
     "status": "completed"
    },
    "tags": []
   },
   "outputs": [],
   "source": [
    "#Assign the best topic to each of the cmplaints in Topic Column\n",
    "\n",
    "#df_clean['Topic'] = #write your code to assign topics to each rows."
   ]
  },
  {
   "cell_type": "code",
   "execution_count": 35,
   "id": "4c3865e0",
   "metadata": {
    "execution": {
     "iopub.execute_input": "2022-01-09T13:10:46.767213Z",
     "iopub.status.busy": "2022-01-09T13:10:46.766451Z",
     "iopub.status.idle": "2022-01-09T13:10:46.769509Z",
     "shell.execute_reply": "2022-01-09T13:10:46.770004Z",
     "shell.execute_reply.started": "2022-01-09T13:09:48.930697Z"
    },
    "id": "fLh_Gf3nJrGF",
    "papermill": {
     "duration": 0.054087,
     "end_time": "2022-01-09T13:10:46.770185",
     "exception": false,
     "start_time": "2022-01-09T13:10:46.716098",
     "status": "completed"
    },
    "tags": []
   },
   "outputs": [],
   "source": [
    "#df_clean.head()"
   ]
  },
  {
   "cell_type": "code",
   "execution_count": 36,
   "id": "87210996",
   "metadata": {
    "execution": {
     "iopub.execute_input": "2022-01-09T13:10:46.869922Z",
     "iopub.status.busy": "2022-01-09T13:10:46.869224Z",
     "iopub.status.idle": "2022-01-09T13:10:46.872555Z",
     "shell.execute_reply": "2022-01-09T13:10:46.871911Z",
     "shell.execute_reply.started": "2022-01-09T13:09:48.943627Z"
    },
    "id": "aQKpufSPJrGG",
    "papermill": {
     "duration": 0.05553,
     "end_time": "2022-01-09T13:10:46.872721",
     "exception": false,
     "start_time": "2022-01-09T13:10:46.817191",
     "status": "completed"
    },
    "tags": []
   },
   "outputs": [],
   "source": [
    "#Print the first 5 Complaint for each of the Topics\n",
    "#df_clean=df_clean.groupby('Topic').head(5)\n",
    "#df_clean.sort_values('Topic')"
   ]
  },
  {
   "cell_type": "markdown",
   "id": "54b74536",
   "metadata": {
    "id": "piyLxzj6v07j",
    "papermill": {
     "duration": 0.046218,
     "end_time": "2022-01-09T13:10:46.965735",
     "exception": false,
     "start_time": "2022-01-09T13:10:46.919517",
     "status": "completed"
    },
    "tags": []
   },
   "source": [
    "#### After evaluating the mapping, if the topics assigned are correct then assign these names to the relevant topic:\n",
    "* Bank Account services\n",
    "* Credit card or prepaid card\n",
    "* Theft/Dispute Reporting\n",
    "* Mortgage/Loan\n",
    "* Others"
   ]
  },
  {
   "cell_type": "code",
   "execution_count": 37,
   "id": "e6232986",
   "metadata": {
    "execution": {
     "iopub.execute_input": "2022-01-09T13:10:47.065974Z",
     "iopub.status.busy": "2022-01-09T13:10:47.065155Z",
     "iopub.status.idle": "2022-01-09T13:10:47.068277Z",
     "shell.execute_reply": "2022-01-09T13:10:47.068866Z",
     "shell.execute_reply.started": "2022-01-09T13:09:48.959653Z"
    },
    "id": "TWpwDG4RJrGG",
    "papermill": {
     "duration": 0.056685,
     "end_time": "2022-01-09T13:10:47.069064",
     "exception": false,
     "start_time": "2022-01-09T13:10:47.012379",
     "status": "completed"
    },
    "tags": []
   },
   "outputs": [],
   "source": [
    "#Create the dictionary of Topic names and Topics\n",
    "\n",
    "#Topic_names = {   }\n",
    "#Replace Topics with Topic Names\n",
    "#df_clean['Topic'] = df_clean['Topic'].map(Topic_names)"
   ]
  },
  {
   "cell_type": "code",
   "execution_count": 38,
   "id": "298ab31e",
   "metadata": {
    "execution": {
     "iopub.execute_input": "2022-01-09T13:10:47.169659Z",
     "iopub.status.busy": "2022-01-09T13:10:47.168640Z",
     "iopub.status.idle": "2022-01-09T13:10:47.172076Z",
     "shell.execute_reply": "2022-01-09T13:10:47.172703Z",
     "shell.execute_reply.started": "2022-01-09T13:09:48.972044Z"
    },
    "id": "-2ULY5K6JrGG",
    "papermill": {
     "duration": 0.055915,
     "end_time": "2022-01-09T13:10:47.172904",
     "exception": false,
     "start_time": "2022-01-09T13:10:47.116989",
     "status": "completed"
    },
    "tags": []
   },
   "outputs": [],
   "source": [
    "#df_clean"
   ]
  },
  {
   "cell_type": "markdown",
   "id": "dbb84577",
   "metadata": {
    "id": "7Mu0QBOcJrGH",
    "papermill": {
     "duration": 0.049288,
     "end_time": "2022-01-09T13:10:47.271001",
     "exception": false,
     "start_time": "2022-01-09T13:10:47.221713",
     "status": "completed"
    },
    "tags": []
   },
   "source": [
    "## Supervised model to predict any new complaints to the relevant Topics.\n",
    "\n",
    "You have now build the model to create the topics for each complaints.Now in the below section you will use them to classify any new complaints.\n",
    "\n",
    "Since you will be using supervised learning technique we have to convert the topic names to numbers(numpy arrays only understand numbers)"
   ]
  },
  {
   "cell_type": "code",
   "execution_count": 39,
   "id": "b5b4f19b",
   "metadata": {
    "execution": {
     "iopub.execute_input": "2022-01-09T13:10:47.369016Z",
     "iopub.status.busy": "2022-01-09T13:10:47.367999Z",
     "iopub.status.idle": "2022-01-09T13:10:47.371365Z",
     "shell.execute_reply": "2022-01-09T13:10:47.371870Z",
     "shell.execute_reply.started": "2022-01-09T13:09:48.987610Z"
    },
    "id": "_U8J3J8wJrGH",
    "papermill": {
     "duration": 0.054177,
     "end_time": "2022-01-09T13:10:47.372032",
     "exception": false,
     "start_time": "2022-01-09T13:10:47.317855",
     "status": "completed"
    },
    "tags": []
   },
   "outputs": [],
   "source": [
    "#Create the dictionary again of Topic names and Topics\n",
    "\n",
    "#Topic_names = {   }\n",
    "#Replace Topics with Topic Names\n",
    "#df_clean['Topic'] = df_clean['Topic'].map(Topic_names)"
   ]
  },
  {
   "cell_type": "code",
   "execution_count": 40,
   "id": "208ec4a0",
   "metadata": {
    "execution": {
     "iopub.execute_input": "2022-01-09T13:10:47.470005Z",
     "iopub.status.busy": "2022-01-09T13:10:47.469036Z",
     "iopub.status.idle": "2022-01-09T13:10:47.472162Z",
     "shell.execute_reply": "2022-01-09T13:10:47.472661Z",
     "shell.execute_reply.started": "2022-01-09T13:09:49.001059Z"
    },
    "id": "BWIgJUkQJrGH",
    "papermill": {
     "duration": 0.054045,
     "end_time": "2022-01-09T13:10:47.472831",
     "exception": false,
     "start_time": "2022-01-09T13:10:47.418786",
     "status": "completed"
    },
    "tags": []
   },
   "outputs": [],
   "source": [
    "#df_clean"
   ]
  },
  {
   "cell_type": "code",
   "execution_count": 41,
   "id": "170aa229",
   "metadata": {
    "execution": {
     "iopub.execute_input": "2022-01-09T13:10:47.570720Z",
     "iopub.status.busy": "2022-01-09T13:10:47.569781Z",
     "iopub.status.idle": "2022-01-09T13:10:47.573139Z",
     "shell.execute_reply": "2022-01-09T13:10:47.573658Z",
     "shell.execute_reply.started": "2022-01-09T13:09:49.017077Z"
    },
    "id": "Xx-FrbkWJrGH",
    "papermill": {
     "duration": 0.054108,
     "end_time": "2022-01-09T13:10:47.573826",
     "exception": false,
     "start_time": "2022-01-09T13:10:47.519718",
     "status": "completed"
    },
    "tags": []
   },
   "outputs": [],
   "source": [
    "#Keep the columns\"complaint_what_happened\" & \"Topic\" only in the new dataframe --> training_data\n",
    "#training_data="
   ]
  },
  {
   "cell_type": "code",
   "execution_count": 42,
   "id": "9454a0d9",
   "metadata": {
    "execution": {
     "iopub.execute_input": "2022-01-09T13:10:47.672342Z",
     "iopub.status.busy": "2022-01-09T13:10:47.671435Z",
     "iopub.status.idle": "2022-01-09T13:10:47.674641Z",
     "shell.execute_reply": "2022-01-09T13:10:47.675122Z",
     "shell.execute_reply.started": "2022-01-09T13:09:49.026982Z"
    },
    "id": "lVg2pa12JrGI",
    "papermill": {
     "duration": 0.054079,
     "end_time": "2022-01-09T13:10:47.675280",
     "exception": false,
     "start_time": "2022-01-09T13:10:47.621201",
     "status": "completed"
    },
    "tags": []
   },
   "outputs": [],
   "source": [
    "#training_data"
   ]
  },
  {
   "cell_type": "markdown",
   "id": "69ab91d1",
   "metadata": {
    "id": "280Vbqk-7a8M",
    "papermill": {
     "duration": 0.046678,
     "end_time": "2022-01-09T13:10:47.768801",
     "exception": false,
     "start_time": "2022-01-09T13:10:47.722123",
     "status": "completed"
    },
    "tags": []
   },
   "source": [
    "#### Apply the supervised models on the training data created. In this process, you have to do the following:\n",
    "* Create the vector counts using Count Vectoriser\n",
    "* Transform the word vecotr to tf-idf\n",
    "* Create the train & test data using the train_test_split on the tf-idf & topics\n"
   ]
  },
  {
   "cell_type": "code",
   "execution_count": 43,
   "id": "eb093d50",
   "metadata": {
    "execution": {
     "iopub.execute_input": "2022-01-09T13:10:47.867966Z",
     "iopub.status.busy": "2022-01-09T13:10:47.867285Z",
     "iopub.status.idle": "2022-01-09T13:10:47.870229Z",
     "shell.execute_reply": "2022-01-09T13:10:47.870904Z",
     "shell.execute_reply.started": "2022-01-09T13:09:49.040863Z"
    },
    "id": "oUlQpgkzJrGI",
    "papermill": {
     "duration": 0.054404,
     "end_time": "2022-01-09T13:10:47.871080",
     "exception": false,
     "start_time": "2022-01-09T13:10:47.816676",
     "status": "completed"
    },
    "tags": []
   },
   "outputs": [],
   "source": [
    "\n",
    "#Write your code to get the Vector count\n",
    "\n",
    "\n",
    "#Write your code here to transform the word vector to tf-idf"
   ]
  },
  {
   "cell_type": "markdown",
   "id": "edcce1f7",
   "metadata": {
    "id": "uMU3vj6w-wqL",
    "papermill": {
     "duration": 0.047117,
     "end_time": "2022-01-09T13:10:47.966612",
     "exception": false,
     "start_time": "2022-01-09T13:10:47.919495",
     "status": "completed"
    },
    "tags": []
   },
   "source": [
    "You have to try atleast 3 models on the train & test data from these options:\n",
    "* Logistic regression\n",
    "* Decision Tree\n",
    "* Random Forest\n",
    "* Naive Bayes (optional)\n",
    "\n",
    "**Using the required evaluation metrics judge the tried models and select the ones performing the best**"
   ]
  },
  {
   "cell_type": "code",
   "execution_count": 44,
   "id": "b4406480",
   "metadata": {
    "execution": {
     "iopub.execute_input": "2022-01-09T13:10:48.064946Z",
     "iopub.status.busy": "2022-01-09T13:10:48.064248Z",
     "iopub.status.idle": "2022-01-09T13:10:48.067072Z",
     "shell.execute_reply": "2022-01-09T13:10:48.067568Z",
     "shell.execute_reply.started": "2022-01-09T13:09:49.056025Z"
    },
    "id": "udLHpPsZJrGI",
    "papermill": {
     "duration": 0.053629,
     "end_time": "2022-01-09T13:10:48.067737",
     "exception": false,
     "start_time": "2022-01-09T13:10:48.014108",
     "status": "completed"
    },
    "tags": []
   },
   "outputs": [],
   "source": [
    "# Write your code here to build any 3 models and evaluate them using the required metrics\n",
    "\n",
    "\n",
    "\n"
   ]
  },
  {
   "cell_type": "code",
   "execution_count": null,
   "id": "d1e5841f",
   "metadata": {
    "id": "N2OznsObJrGP",
    "papermill": {
     "duration": 0.055258,
     "end_time": "2022-01-09T13:10:48.170838",
     "exception": false,
     "start_time": "2022-01-09T13:10:48.115580",
     "status": "completed"
    },
    "tags": []
   },
   "outputs": [],
   "source": []
  }
 ],
 "metadata": {
  "kernelspec": {
   "display_name": "Python 3",
   "language": "python",
   "name": "python3"
  },
  "language_info": {
   "codemirror_mode": {
    "name": "ipython",
    "version": 3
   },
   "file_extension": ".py",
   "mimetype": "text/x-python",
   "name": "python",
   "nbconvert_exporter": "python",
   "pygments_lexer": "ipython3",
   "version": "3.7.12"
  },
  "papermill": {
   "default_parameters": {},
   "duration": 38.824631,
   "end_time": "2022-01-09T13:10:51.179216",
   "environment_variables": {},
   "exception": null,
   "input_path": "__notebook__.ipynb",
   "output_path": "__notebook__.ipynb",
   "parameters": {},
   "start_time": "2022-01-09T13:10:12.354585",
   "version": "2.3.3"
  }
 },
 "nbformat": 4,
 "nbformat_minor": 5
}
